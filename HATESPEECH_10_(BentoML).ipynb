{
  "nbformat": 4,
  "nbformat_minor": 0,
  "metadata": {
    "colab": {
      "name": "HATESPEECH_10_(BentoML).ipynb",
      "provenance": [],
      "collapsed_sections": []
    },
    "kernelspec": {
      "display_name": "Python 3",
      "name": "python3"
    },
    "language_info": {
      "name": "python"
    },
    "widgets": {
      "application/vnd.jupyter.widget-state+json": {
        "1cb00437b00b48e390902a4b061871d1": {
          "model_module": "@jupyter-widgets/controls",
          "model_name": "HBoxModel",
          "state": {
            "_dom_classes": [],
            "_model_module": "@jupyter-widgets/controls",
            "_model_module_version": "1.5.0",
            "_model_name": "HBoxModel",
            "_view_count": null,
            "_view_module": "@jupyter-widgets/controls",
            "_view_module_version": "1.5.0",
            "_view_name": "HBoxView",
            "box_style": "",
            "children": [
              "IPY_MODEL_2197e58b27cf487b8184238d91fd7310",
              "IPY_MODEL_24979400a1c240cf99d53e746bf1c61b"
            ],
            "layout": "IPY_MODEL_df41fc9a22324ba09154918958bc5594"
          }
        },
        "2197e58b27cf487b8184238d91fd7310": {
          "model_module": "@jupyter-widgets/controls",
          "model_name": "FloatProgressModel",
          "state": {
            "_dom_classes": [],
            "_model_module": "@jupyter-widgets/controls",
            "_model_module_version": "1.5.0",
            "_model_name": "FloatProgressModel",
            "_view_count": null,
            "_view_module": "@jupyter-widgets/controls",
            "_view_module_version": "1.5.0",
            "_view_name": "ProgressView",
            "bar_style": "success",
            "description": "Downloading: 100%",
            "description_tooltip": null,
            "layout": "IPY_MODEL_6843ab1b7f67430896a414181165b4b3",
            "max": 231508,
            "min": 0,
            "orientation": "horizontal",
            "style": "IPY_MODEL_f889277a9fad4067a8050acc799a454a",
            "value": 231508
          }
        },
        "24979400a1c240cf99d53e746bf1c61b": {
          "model_module": "@jupyter-widgets/controls",
          "model_name": "HTMLModel",
          "state": {
            "_dom_classes": [],
            "_model_module": "@jupyter-widgets/controls",
            "_model_module_version": "1.5.0",
            "_model_name": "HTMLModel",
            "_view_count": null,
            "_view_module": "@jupyter-widgets/controls",
            "_view_module_version": "1.5.0",
            "_view_name": "HTMLView",
            "description": "",
            "description_tooltip": null,
            "layout": "IPY_MODEL_2f26bf5fcc404cd9a6dd72091d14eca4",
            "placeholder": "​",
            "style": "IPY_MODEL_3b183c256ebf4c6b8280a06bcf5b13ae",
            "value": " 232k/232k [00:00&lt;00:00, 561kB/s]"
          }
        },
        "df41fc9a22324ba09154918958bc5594": {
          "model_module": "@jupyter-widgets/base",
          "model_name": "LayoutModel",
          "state": {
            "_model_module": "@jupyter-widgets/base",
            "_model_module_version": "1.2.0",
            "_model_name": "LayoutModel",
            "_view_count": null,
            "_view_module": "@jupyter-widgets/base",
            "_view_module_version": "1.2.0",
            "_view_name": "LayoutView",
            "align_content": null,
            "align_items": null,
            "align_self": null,
            "border": null,
            "bottom": null,
            "display": null,
            "flex": null,
            "flex_flow": null,
            "grid_area": null,
            "grid_auto_columns": null,
            "grid_auto_flow": null,
            "grid_auto_rows": null,
            "grid_column": null,
            "grid_gap": null,
            "grid_row": null,
            "grid_template_areas": null,
            "grid_template_columns": null,
            "grid_template_rows": null,
            "height": null,
            "justify_content": null,
            "justify_items": null,
            "left": null,
            "margin": null,
            "max_height": null,
            "max_width": null,
            "min_height": null,
            "min_width": null,
            "object_fit": null,
            "object_position": null,
            "order": null,
            "overflow": null,
            "overflow_x": null,
            "overflow_y": null,
            "padding": null,
            "right": null,
            "top": null,
            "visibility": null,
            "width": null
          }
        },
        "6843ab1b7f67430896a414181165b4b3": {
          "model_module": "@jupyter-widgets/base",
          "model_name": "LayoutModel",
          "state": {
            "_model_module": "@jupyter-widgets/base",
            "_model_module_version": "1.2.0",
            "_model_name": "LayoutModel",
            "_view_count": null,
            "_view_module": "@jupyter-widgets/base",
            "_view_module_version": "1.2.0",
            "_view_name": "LayoutView",
            "align_content": null,
            "align_items": null,
            "align_self": null,
            "border": null,
            "bottom": null,
            "display": null,
            "flex": null,
            "flex_flow": null,
            "grid_area": null,
            "grid_auto_columns": null,
            "grid_auto_flow": null,
            "grid_auto_rows": null,
            "grid_column": null,
            "grid_gap": null,
            "grid_row": null,
            "grid_template_areas": null,
            "grid_template_columns": null,
            "grid_template_rows": null,
            "height": null,
            "justify_content": null,
            "justify_items": null,
            "left": null,
            "margin": null,
            "max_height": null,
            "max_width": null,
            "min_height": null,
            "min_width": null,
            "object_fit": null,
            "object_position": null,
            "order": null,
            "overflow": null,
            "overflow_x": null,
            "overflow_y": null,
            "padding": null,
            "right": null,
            "top": null,
            "visibility": null,
            "width": null
          }
        },
        "f889277a9fad4067a8050acc799a454a": {
          "model_module": "@jupyter-widgets/controls",
          "model_name": "ProgressStyleModel",
          "state": {
            "_model_module": "@jupyter-widgets/controls",
            "_model_module_version": "1.5.0",
            "_model_name": "ProgressStyleModel",
            "_view_count": null,
            "_view_module": "@jupyter-widgets/base",
            "_view_module_version": "1.2.0",
            "_view_name": "StyleView",
            "bar_color": null,
            "description_width": "initial"
          }
        },
        "2f26bf5fcc404cd9a6dd72091d14eca4": {
          "model_module": "@jupyter-widgets/base",
          "model_name": "LayoutModel",
          "state": {
            "_model_module": "@jupyter-widgets/base",
            "_model_module_version": "1.2.0",
            "_model_name": "LayoutModel",
            "_view_count": null,
            "_view_module": "@jupyter-widgets/base",
            "_view_module_version": "1.2.0",
            "_view_name": "LayoutView",
            "align_content": null,
            "align_items": null,
            "align_self": null,
            "border": null,
            "bottom": null,
            "display": null,
            "flex": null,
            "flex_flow": null,
            "grid_area": null,
            "grid_auto_columns": null,
            "grid_auto_flow": null,
            "grid_auto_rows": null,
            "grid_column": null,
            "grid_gap": null,
            "grid_row": null,
            "grid_template_areas": null,
            "grid_template_columns": null,
            "grid_template_rows": null,
            "height": null,
            "justify_content": null,
            "justify_items": null,
            "left": null,
            "margin": null,
            "max_height": null,
            "max_width": null,
            "min_height": null,
            "min_width": null,
            "object_fit": null,
            "object_position": null,
            "order": null,
            "overflow": null,
            "overflow_x": null,
            "overflow_y": null,
            "padding": null,
            "right": null,
            "top": null,
            "visibility": null,
            "width": null
          }
        },
        "3b183c256ebf4c6b8280a06bcf5b13ae": {
          "model_module": "@jupyter-widgets/controls",
          "model_name": "DescriptionStyleModel",
          "state": {
            "_model_module": "@jupyter-widgets/controls",
            "_model_module_version": "1.5.0",
            "_model_name": "DescriptionStyleModel",
            "_view_count": null,
            "_view_module": "@jupyter-widgets/base",
            "_view_module_version": "1.2.0",
            "_view_name": "StyleView",
            "description_width": ""
          }
        },
        "6be7ffec3fcc4575bb2865e280e9e3aa": {
          "model_module": "@jupyter-widgets/controls",
          "model_name": "HBoxModel",
          "state": {
            "_dom_classes": [],
            "_model_module": "@jupyter-widgets/controls",
            "_model_module_version": "1.5.0",
            "_model_name": "HBoxModel",
            "_view_count": null,
            "_view_module": "@jupyter-widgets/controls",
            "_view_module_version": "1.5.0",
            "_view_name": "HBoxView",
            "box_style": "",
            "children": [
              "IPY_MODEL_5a001f2e8b424d969af279a589a65a30",
              "IPY_MODEL_9dba829cba3d45b69d1f974c89ebc312"
            ],
            "layout": "IPY_MODEL_4f364809232c41f5a004cc05e10b468c"
          }
        },
        "5a001f2e8b424d969af279a589a65a30": {
          "model_module": "@jupyter-widgets/controls",
          "model_name": "FloatProgressModel",
          "state": {
            "_dom_classes": [],
            "_model_module": "@jupyter-widgets/controls",
            "_model_module_version": "1.5.0",
            "_model_name": "FloatProgressModel",
            "_view_count": null,
            "_view_module": "@jupyter-widgets/controls",
            "_view_module_version": "1.5.0",
            "_view_name": "ProgressView",
            "bar_style": "success",
            "description": "Downloading: 100%",
            "description_tooltip": null,
            "layout": "IPY_MODEL_83668e7d252c49678fc738a4b0f7f2b4",
            "max": 29,
            "min": 0,
            "orientation": "horizontal",
            "style": "IPY_MODEL_5c21d5bbd351431d9d952599cc5616f5",
            "value": 29
          }
        },
        "9dba829cba3d45b69d1f974c89ebc312": {
          "model_module": "@jupyter-widgets/controls",
          "model_name": "HTMLModel",
          "state": {
            "_dom_classes": [],
            "_model_module": "@jupyter-widgets/controls",
            "_model_module_version": "1.5.0",
            "_model_name": "HTMLModel",
            "_view_count": null,
            "_view_module": "@jupyter-widgets/controls",
            "_view_module_version": "1.5.0",
            "_view_name": "HTMLView",
            "description": "",
            "description_tooltip": null,
            "layout": "IPY_MODEL_dedfe64935704e5c8d1f582b2b5fce3c",
            "placeholder": "​",
            "style": "IPY_MODEL_904d7690e0844f878f92a53c6ecc7cd0",
            "value": " 29.0/29.0 [00:00&lt;00:00, 224B/s]"
          }
        },
        "4f364809232c41f5a004cc05e10b468c": {
          "model_module": "@jupyter-widgets/base",
          "model_name": "LayoutModel",
          "state": {
            "_model_module": "@jupyter-widgets/base",
            "_model_module_version": "1.2.0",
            "_model_name": "LayoutModel",
            "_view_count": null,
            "_view_module": "@jupyter-widgets/base",
            "_view_module_version": "1.2.0",
            "_view_name": "LayoutView",
            "align_content": null,
            "align_items": null,
            "align_self": null,
            "border": null,
            "bottom": null,
            "display": null,
            "flex": null,
            "flex_flow": null,
            "grid_area": null,
            "grid_auto_columns": null,
            "grid_auto_flow": null,
            "grid_auto_rows": null,
            "grid_column": null,
            "grid_gap": null,
            "grid_row": null,
            "grid_template_areas": null,
            "grid_template_columns": null,
            "grid_template_rows": null,
            "height": null,
            "justify_content": null,
            "justify_items": null,
            "left": null,
            "margin": null,
            "max_height": null,
            "max_width": null,
            "min_height": null,
            "min_width": null,
            "object_fit": null,
            "object_position": null,
            "order": null,
            "overflow": null,
            "overflow_x": null,
            "overflow_y": null,
            "padding": null,
            "right": null,
            "top": null,
            "visibility": null,
            "width": null
          }
        },
        "83668e7d252c49678fc738a4b0f7f2b4": {
          "model_module": "@jupyter-widgets/base",
          "model_name": "LayoutModel",
          "state": {
            "_model_module": "@jupyter-widgets/base",
            "_model_module_version": "1.2.0",
            "_model_name": "LayoutModel",
            "_view_count": null,
            "_view_module": "@jupyter-widgets/base",
            "_view_module_version": "1.2.0",
            "_view_name": "LayoutView",
            "align_content": null,
            "align_items": null,
            "align_self": null,
            "border": null,
            "bottom": null,
            "display": null,
            "flex": null,
            "flex_flow": null,
            "grid_area": null,
            "grid_auto_columns": null,
            "grid_auto_flow": null,
            "grid_auto_rows": null,
            "grid_column": null,
            "grid_gap": null,
            "grid_row": null,
            "grid_template_areas": null,
            "grid_template_columns": null,
            "grid_template_rows": null,
            "height": null,
            "justify_content": null,
            "justify_items": null,
            "left": null,
            "margin": null,
            "max_height": null,
            "max_width": null,
            "min_height": null,
            "min_width": null,
            "object_fit": null,
            "object_position": null,
            "order": null,
            "overflow": null,
            "overflow_x": null,
            "overflow_y": null,
            "padding": null,
            "right": null,
            "top": null,
            "visibility": null,
            "width": null
          }
        },
        "5c21d5bbd351431d9d952599cc5616f5": {
          "model_module": "@jupyter-widgets/controls",
          "model_name": "ProgressStyleModel",
          "state": {
            "_model_module": "@jupyter-widgets/controls",
            "_model_module_version": "1.5.0",
            "_model_name": "ProgressStyleModel",
            "_view_count": null,
            "_view_module": "@jupyter-widgets/base",
            "_view_module_version": "1.2.0",
            "_view_name": "StyleView",
            "bar_color": null,
            "description_width": "initial"
          }
        },
        "dedfe64935704e5c8d1f582b2b5fce3c": {
          "model_module": "@jupyter-widgets/base",
          "model_name": "LayoutModel",
          "state": {
            "_model_module": "@jupyter-widgets/base",
            "_model_module_version": "1.2.0",
            "_model_name": "LayoutModel",
            "_view_count": null,
            "_view_module": "@jupyter-widgets/base",
            "_view_module_version": "1.2.0",
            "_view_name": "LayoutView",
            "align_content": null,
            "align_items": null,
            "align_self": null,
            "border": null,
            "bottom": null,
            "display": null,
            "flex": null,
            "flex_flow": null,
            "grid_area": null,
            "grid_auto_columns": null,
            "grid_auto_flow": null,
            "grid_auto_rows": null,
            "grid_column": null,
            "grid_gap": null,
            "grid_row": null,
            "grid_template_areas": null,
            "grid_template_columns": null,
            "grid_template_rows": null,
            "height": null,
            "justify_content": null,
            "justify_items": null,
            "left": null,
            "margin": null,
            "max_height": null,
            "max_width": null,
            "min_height": null,
            "min_width": null,
            "object_fit": null,
            "object_position": null,
            "order": null,
            "overflow": null,
            "overflow_x": null,
            "overflow_y": null,
            "padding": null,
            "right": null,
            "top": null,
            "visibility": null,
            "width": null
          }
        },
        "904d7690e0844f878f92a53c6ecc7cd0": {
          "model_module": "@jupyter-widgets/controls",
          "model_name": "DescriptionStyleModel",
          "state": {
            "_model_module": "@jupyter-widgets/controls",
            "_model_module_version": "1.5.0",
            "_model_name": "DescriptionStyleModel",
            "_view_count": null,
            "_view_module": "@jupyter-widgets/base",
            "_view_module_version": "1.2.0",
            "_view_name": "StyleView",
            "description_width": ""
          }
        },
        "b3817a75a10e4a8e841cb929f70aa0a5": {
          "model_module": "@jupyter-widgets/controls",
          "model_name": "HBoxModel",
          "state": {
            "_dom_classes": [],
            "_model_module": "@jupyter-widgets/controls",
            "_model_module_version": "1.5.0",
            "_model_name": "HBoxModel",
            "_view_count": null,
            "_view_module": "@jupyter-widgets/controls",
            "_view_module_version": "1.5.0",
            "_view_name": "HBoxView",
            "box_style": "",
            "children": [
              "IPY_MODEL_a05c6939b2c540d89c2df41c4e8f5ff4",
              "IPY_MODEL_68829652dd27474d84929e626344da4e"
            ],
            "layout": "IPY_MODEL_efb282925e784ac3b66d2cfab85700eb"
          }
        },
        "a05c6939b2c540d89c2df41c4e8f5ff4": {
          "model_module": "@jupyter-widgets/controls",
          "model_name": "FloatProgressModel",
          "state": {
            "_dom_classes": [],
            "_model_module": "@jupyter-widgets/controls",
            "_model_module_version": "1.5.0",
            "_model_name": "FloatProgressModel",
            "_view_count": null,
            "_view_module": "@jupyter-widgets/controls",
            "_view_module_version": "1.5.0",
            "_view_name": "ProgressView",
            "bar_style": "success",
            "description": "Downloading: 100%",
            "description_tooltip": null,
            "layout": "IPY_MODEL_8b591bf379fb4bb1bfefdc916c0b23ae",
            "max": 466062,
            "min": 0,
            "orientation": "horizontal",
            "style": "IPY_MODEL_a214893655bb473193d2612e71538630",
            "value": 466062
          }
        },
        "68829652dd27474d84929e626344da4e": {
          "model_module": "@jupyter-widgets/controls",
          "model_name": "HTMLModel",
          "state": {
            "_dom_classes": [],
            "_model_module": "@jupyter-widgets/controls",
            "_model_module_version": "1.5.0",
            "_model_name": "HTMLModel",
            "_view_count": null,
            "_view_module": "@jupyter-widgets/controls",
            "_view_module_version": "1.5.0",
            "_view_name": "HTMLView",
            "description": "",
            "description_tooltip": null,
            "layout": "IPY_MODEL_4c50d93cea66467192758cfcf995fc46",
            "placeholder": "​",
            "style": "IPY_MODEL_eb1d4157561d42ab8c928bfffbd749ce",
            "value": " 466k/466k [00:00&lt;00:00, 3.87MB/s]"
          }
        },
        "efb282925e784ac3b66d2cfab85700eb": {
          "model_module": "@jupyter-widgets/base",
          "model_name": "LayoutModel",
          "state": {
            "_model_module": "@jupyter-widgets/base",
            "_model_module_version": "1.2.0",
            "_model_name": "LayoutModel",
            "_view_count": null,
            "_view_module": "@jupyter-widgets/base",
            "_view_module_version": "1.2.0",
            "_view_name": "LayoutView",
            "align_content": null,
            "align_items": null,
            "align_self": null,
            "border": null,
            "bottom": null,
            "display": null,
            "flex": null,
            "flex_flow": null,
            "grid_area": null,
            "grid_auto_columns": null,
            "grid_auto_flow": null,
            "grid_auto_rows": null,
            "grid_column": null,
            "grid_gap": null,
            "grid_row": null,
            "grid_template_areas": null,
            "grid_template_columns": null,
            "grid_template_rows": null,
            "height": null,
            "justify_content": null,
            "justify_items": null,
            "left": null,
            "margin": null,
            "max_height": null,
            "max_width": null,
            "min_height": null,
            "min_width": null,
            "object_fit": null,
            "object_position": null,
            "order": null,
            "overflow": null,
            "overflow_x": null,
            "overflow_y": null,
            "padding": null,
            "right": null,
            "top": null,
            "visibility": null,
            "width": null
          }
        },
        "8b591bf379fb4bb1bfefdc916c0b23ae": {
          "model_module": "@jupyter-widgets/base",
          "model_name": "LayoutModel",
          "state": {
            "_model_module": "@jupyter-widgets/base",
            "_model_module_version": "1.2.0",
            "_model_name": "LayoutModel",
            "_view_count": null,
            "_view_module": "@jupyter-widgets/base",
            "_view_module_version": "1.2.0",
            "_view_name": "LayoutView",
            "align_content": null,
            "align_items": null,
            "align_self": null,
            "border": null,
            "bottom": null,
            "display": null,
            "flex": null,
            "flex_flow": null,
            "grid_area": null,
            "grid_auto_columns": null,
            "grid_auto_flow": null,
            "grid_auto_rows": null,
            "grid_column": null,
            "grid_gap": null,
            "grid_row": null,
            "grid_template_areas": null,
            "grid_template_columns": null,
            "grid_template_rows": null,
            "height": null,
            "justify_content": null,
            "justify_items": null,
            "left": null,
            "margin": null,
            "max_height": null,
            "max_width": null,
            "min_height": null,
            "min_width": null,
            "object_fit": null,
            "object_position": null,
            "order": null,
            "overflow": null,
            "overflow_x": null,
            "overflow_y": null,
            "padding": null,
            "right": null,
            "top": null,
            "visibility": null,
            "width": null
          }
        },
        "a214893655bb473193d2612e71538630": {
          "model_module": "@jupyter-widgets/controls",
          "model_name": "ProgressStyleModel",
          "state": {
            "_model_module": "@jupyter-widgets/controls",
            "_model_module_version": "1.5.0",
            "_model_name": "ProgressStyleModel",
            "_view_count": null,
            "_view_module": "@jupyter-widgets/base",
            "_view_module_version": "1.2.0",
            "_view_name": "StyleView",
            "bar_color": null,
            "description_width": "initial"
          }
        },
        "4c50d93cea66467192758cfcf995fc46": {
          "model_module": "@jupyter-widgets/base",
          "model_name": "LayoutModel",
          "state": {
            "_model_module": "@jupyter-widgets/base",
            "_model_module_version": "1.2.0",
            "_model_name": "LayoutModel",
            "_view_count": null,
            "_view_module": "@jupyter-widgets/base",
            "_view_module_version": "1.2.0",
            "_view_name": "LayoutView",
            "align_content": null,
            "align_items": null,
            "align_self": null,
            "border": null,
            "bottom": null,
            "display": null,
            "flex": null,
            "flex_flow": null,
            "grid_area": null,
            "grid_auto_columns": null,
            "grid_auto_flow": null,
            "grid_auto_rows": null,
            "grid_column": null,
            "grid_gap": null,
            "grid_row": null,
            "grid_template_areas": null,
            "grid_template_columns": null,
            "grid_template_rows": null,
            "height": null,
            "justify_content": null,
            "justify_items": null,
            "left": null,
            "margin": null,
            "max_height": null,
            "max_width": null,
            "min_height": null,
            "min_width": null,
            "object_fit": null,
            "object_position": null,
            "order": null,
            "overflow": null,
            "overflow_x": null,
            "overflow_y": null,
            "padding": null,
            "right": null,
            "top": null,
            "visibility": null,
            "width": null
          }
        },
        "eb1d4157561d42ab8c928bfffbd749ce": {
          "model_module": "@jupyter-widgets/controls",
          "model_name": "DescriptionStyleModel",
          "state": {
            "_model_module": "@jupyter-widgets/controls",
            "_model_module_version": "1.5.0",
            "_model_name": "DescriptionStyleModel",
            "_view_count": null,
            "_view_module": "@jupyter-widgets/base",
            "_view_module_version": "1.2.0",
            "_view_name": "StyleView",
            "description_width": ""
          }
        },
        "013354c738e44873b9fd6485a38c383b": {
          "model_module": "@jupyter-widgets/controls",
          "model_name": "HBoxModel",
          "state": {
            "_dom_classes": [],
            "_model_module": "@jupyter-widgets/controls",
            "_model_module_version": "1.5.0",
            "_model_name": "HBoxModel",
            "_view_count": null,
            "_view_module": "@jupyter-widgets/controls",
            "_view_module_version": "1.5.0",
            "_view_name": "HBoxView",
            "box_style": "",
            "children": [
              "IPY_MODEL_157c57f30de8413cb375a48b3f015019",
              "IPY_MODEL_6655a648c145484d86b7fbd4c77952af"
            ],
            "layout": "IPY_MODEL_94ebeab35a8d4a7dbef32b183ffc2881"
          }
        },
        "157c57f30de8413cb375a48b3f015019": {
          "model_module": "@jupyter-widgets/controls",
          "model_name": "FloatProgressModel",
          "state": {
            "_dom_classes": [],
            "_model_module": "@jupyter-widgets/controls",
            "_model_module_version": "1.5.0",
            "_model_name": "FloatProgressModel",
            "_view_count": null,
            "_view_module": "@jupyter-widgets/controls",
            "_view_module_version": "1.5.0",
            "_view_name": "ProgressView",
            "bar_style": "success",
            "description": "Downloading: 100%",
            "description_tooltip": null,
            "layout": "IPY_MODEL_96eca5d08fe1424d994ca6ebece048a3",
            "max": 665,
            "min": 0,
            "orientation": "horizontal",
            "style": "IPY_MODEL_308bc5e5336942088c2d3c03e9145c33",
            "value": 665
          }
        },
        "6655a648c145484d86b7fbd4c77952af": {
          "model_module": "@jupyter-widgets/controls",
          "model_name": "HTMLModel",
          "state": {
            "_dom_classes": [],
            "_model_module": "@jupyter-widgets/controls",
            "_model_module_version": "1.5.0",
            "_model_name": "HTMLModel",
            "_view_count": null,
            "_view_module": "@jupyter-widgets/controls",
            "_view_module_version": "1.5.0",
            "_view_name": "HTMLView",
            "description": "",
            "description_tooltip": null,
            "layout": "IPY_MODEL_2f95ffdb02ab4ea7b29b091cf7f752f5",
            "placeholder": "​",
            "style": "IPY_MODEL_6650f46642c14a149f9b5f0043625770",
            "value": " 665/665 [00:00&lt;00:00, 1.98kB/s]"
          }
        },
        "94ebeab35a8d4a7dbef32b183ffc2881": {
          "model_module": "@jupyter-widgets/base",
          "model_name": "LayoutModel",
          "state": {
            "_model_module": "@jupyter-widgets/base",
            "_model_module_version": "1.2.0",
            "_model_name": "LayoutModel",
            "_view_count": null,
            "_view_module": "@jupyter-widgets/base",
            "_view_module_version": "1.2.0",
            "_view_name": "LayoutView",
            "align_content": null,
            "align_items": null,
            "align_self": null,
            "border": null,
            "bottom": null,
            "display": null,
            "flex": null,
            "flex_flow": null,
            "grid_area": null,
            "grid_auto_columns": null,
            "grid_auto_flow": null,
            "grid_auto_rows": null,
            "grid_column": null,
            "grid_gap": null,
            "grid_row": null,
            "grid_template_areas": null,
            "grid_template_columns": null,
            "grid_template_rows": null,
            "height": null,
            "justify_content": null,
            "justify_items": null,
            "left": null,
            "margin": null,
            "max_height": null,
            "max_width": null,
            "min_height": null,
            "min_width": null,
            "object_fit": null,
            "object_position": null,
            "order": null,
            "overflow": null,
            "overflow_x": null,
            "overflow_y": null,
            "padding": null,
            "right": null,
            "top": null,
            "visibility": null,
            "width": null
          }
        },
        "96eca5d08fe1424d994ca6ebece048a3": {
          "model_module": "@jupyter-widgets/base",
          "model_name": "LayoutModel",
          "state": {
            "_model_module": "@jupyter-widgets/base",
            "_model_module_version": "1.2.0",
            "_model_name": "LayoutModel",
            "_view_count": null,
            "_view_module": "@jupyter-widgets/base",
            "_view_module_version": "1.2.0",
            "_view_name": "LayoutView",
            "align_content": null,
            "align_items": null,
            "align_self": null,
            "border": null,
            "bottom": null,
            "display": null,
            "flex": null,
            "flex_flow": null,
            "grid_area": null,
            "grid_auto_columns": null,
            "grid_auto_flow": null,
            "grid_auto_rows": null,
            "grid_column": null,
            "grid_gap": null,
            "grid_row": null,
            "grid_template_areas": null,
            "grid_template_columns": null,
            "grid_template_rows": null,
            "height": null,
            "justify_content": null,
            "justify_items": null,
            "left": null,
            "margin": null,
            "max_height": null,
            "max_width": null,
            "min_height": null,
            "min_width": null,
            "object_fit": null,
            "object_position": null,
            "order": null,
            "overflow": null,
            "overflow_x": null,
            "overflow_y": null,
            "padding": null,
            "right": null,
            "top": null,
            "visibility": null,
            "width": null
          }
        },
        "308bc5e5336942088c2d3c03e9145c33": {
          "model_module": "@jupyter-widgets/controls",
          "model_name": "ProgressStyleModel",
          "state": {
            "_model_module": "@jupyter-widgets/controls",
            "_model_module_version": "1.5.0",
            "_model_name": "ProgressStyleModel",
            "_view_count": null,
            "_view_module": "@jupyter-widgets/base",
            "_view_module_version": "1.2.0",
            "_view_name": "StyleView",
            "bar_color": null,
            "description_width": "initial"
          }
        },
        "2f95ffdb02ab4ea7b29b091cf7f752f5": {
          "model_module": "@jupyter-widgets/base",
          "model_name": "LayoutModel",
          "state": {
            "_model_module": "@jupyter-widgets/base",
            "_model_module_version": "1.2.0",
            "_model_name": "LayoutModel",
            "_view_count": null,
            "_view_module": "@jupyter-widgets/base",
            "_view_module_version": "1.2.0",
            "_view_name": "LayoutView",
            "align_content": null,
            "align_items": null,
            "align_self": null,
            "border": null,
            "bottom": null,
            "display": null,
            "flex": null,
            "flex_flow": null,
            "grid_area": null,
            "grid_auto_columns": null,
            "grid_auto_flow": null,
            "grid_auto_rows": null,
            "grid_column": null,
            "grid_gap": null,
            "grid_row": null,
            "grid_template_areas": null,
            "grid_template_columns": null,
            "grid_template_rows": null,
            "height": null,
            "justify_content": null,
            "justify_items": null,
            "left": null,
            "margin": null,
            "max_height": null,
            "max_width": null,
            "min_height": null,
            "min_width": null,
            "object_fit": null,
            "object_position": null,
            "order": null,
            "overflow": null,
            "overflow_x": null,
            "overflow_y": null,
            "padding": null,
            "right": null,
            "top": null,
            "visibility": null,
            "width": null
          }
        },
        "6650f46642c14a149f9b5f0043625770": {
          "model_module": "@jupyter-widgets/controls",
          "model_name": "DescriptionStyleModel",
          "state": {
            "_model_module": "@jupyter-widgets/controls",
            "_model_module_version": "1.5.0",
            "_model_name": "DescriptionStyleModel",
            "_view_count": null,
            "_view_module": "@jupyter-widgets/base",
            "_view_module_version": "1.2.0",
            "_view_name": "StyleView",
            "description_width": ""
          }
        },
        "4178164c7fd94499908fd581dc99b29f": {
          "model_module": "@jupyter-widgets/controls",
          "model_name": "HBoxModel",
          "state": {
            "_dom_classes": [],
            "_model_module": "@jupyter-widgets/controls",
            "_model_module_version": "1.5.0",
            "_model_name": "HBoxModel",
            "_view_count": null,
            "_view_module": "@jupyter-widgets/controls",
            "_view_module_version": "1.5.0",
            "_view_name": "HBoxView",
            "box_style": "",
            "children": [
              "IPY_MODEL_3d77f224fa744563997d084792893b6a",
              "IPY_MODEL_fe714242476f475d970f219875e73a52"
            ],
            "layout": "IPY_MODEL_caaa101c24f94cf08275e2224116ab1d"
          }
        },
        "3d77f224fa744563997d084792893b6a": {
          "model_module": "@jupyter-widgets/controls",
          "model_name": "FloatProgressModel",
          "state": {
            "_dom_classes": [],
            "_model_module": "@jupyter-widgets/controls",
            "_model_module_version": "1.5.0",
            "_model_name": "FloatProgressModel",
            "_view_count": null,
            "_view_module": "@jupyter-widgets/controls",
            "_view_module_version": "1.5.0",
            "_view_name": "ProgressView",
            "bar_style": "success",
            "description": "Downloading: 100%",
            "description_tooltip": null,
            "layout": "IPY_MODEL_447674d10aa54791b77cf087a181861d",
            "max": 54466044,
            "min": 0,
            "orientation": "horizontal",
            "style": "IPY_MODEL_65713da483514f1b8b7c4e6d1c498683",
            "value": 54466044
          }
        },
        "fe714242476f475d970f219875e73a52": {
          "model_module": "@jupyter-widgets/controls",
          "model_name": "HTMLModel",
          "state": {
            "_dom_classes": [],
            "_model_module": "@jupyter-widgets/controls",
            "_model_module_version": "1.5.0",
            "_model_name": "HTMLModel",
            "_view_count": null,
            "_view_module": "@jupyter-widgets/controls",
            "_view_module_version": "1.5.0",
            "_view_name": "HTMLView",
            "description": "",
            "description_tooltip": null,
            "layout": "IPY_MODEL_25358483948d42b4af7370626883e3f2",
            "placeholder": "​",
            "style": "IPY_MODEL_f6364e240d0640258c73dc021073b15c",
            "value": " 54.5M/54.5M [00:01&lt;00:00, 32.8MB/s]"
          }
        },
        "caaa101c24f94cf08275e2224116ab1d": {
          "model_module": "@jupyter-widgets/base",
          "model_name": "LayoutModel",
          "state": {
            "_model_module": "@jupyter-widgets/base",
            "_model_module_version": "1.2.0",
            "_model_name": "LayoutModel",
            "_view_count": null,
            "_view_module": "@jupyter-widgets/base",
            "_view_module_version": "1.2.0",
            "_view_name": "LayoutView",
            "align_content": null,
            "align_items": null,
            "align_self": null,
            "border": null,
            "bottom": null,
            "display": null,
            "flex": null,
            "flex_flow": null,
            "grid_area": null,
            "grid_auto_columns": null,
            "grid_auto_flow": null,
            "grid_auto_rows": null,
            "grid_column": null,
            "grid_gap": null,
            "grid_row": null,
            "grid_template_areas": null,
            "grid_template_columns": null,
            "grid_template_rows": null,
            "height": null,
            "justify_content": null,
            "justify_items": null,
            "left": null,
            "margin": null,
            "max_height": null,
            "max_width": null,
            "min_height": null,
            "min_width": null,
            "object_fit": null,
            "object_position": null,
            "order": null,
            "overflow": null,
            "overflow_x": null,
            "overflow_y": null,
            "padding": null,
            "right": null,
            "top": null,
            "visibility": null,
            "width": null
          }
        },
        "447674d10aa54791b77cf087a181861d": {
          "model_module": "@jupyter-widgets/base",
          "model_name": "LayoutModel",
          "state": {
            "_model_module": "@jupyter-widgets/base",
            "_model_module_version": "1.2.0",
            "_model_name": "LayoutModel",
            "_view_count": null,
            "_view_module": "@jupyter-widgets/base",
            "_view_module_version": "1.2.0",
            "_view_name": "LayoutView",
            "align_content": null,
            "align_items": null,
            "align_self": null,
            "border": null,
            "bottom": null,
            "display": null,
            "flex": null,
            "flex_flow": null,
            "grid_area": null,
            "grid_auto_columns": null,
            "grid_auto_flow": null,
            "grid_auto_rows": null,
            "grid_column": null,
            "grid_gap": null,
            "grid_row": null,
            "grid_template_areas": null,
            "grid_template_columns": null,
            "grid_template_rows": null,
            "height": null,
            "justify_content": null,
            "justify_items": null,
            "left": null,
            "margin": null,
            "max_height": null,
            "max_width": null,
            "min_height": null,
            "min_width": null,
            "object_fit": null,
            "object_position": null,
            "order": null,
            "overflow": null,
            "overflow_x": null,
            "overflow_y": null,
            "padding": null,
            "right": null,
            "top": null,
            "visibility": null,
            "width": null
          }
        },
        "65713da483514f1b8b7c4e6d1c498683": {
          "model_module": "@jupyter-widgets/controls",
          "model_name": "ProgressStyleModel",
          "state": {
            "_model_module": "@jupyter-widgets/controls",
            "_model_module_version": "1.5.0",
            "_model_name": "ProgressStyleModel",
            "_view_count": null,
            "_view_module": "@jupyter-widgets/base",
            "_view_module_version": "1.2.0",
            "_view_name": "StyleView",
            "bar_color": null,
            "description_width": "initial"
          }
        },
        "25358483948d42b4af7370626883e3f2": {
          "model_module": "@jupyter-widgets/base",
          "model_name": "LayoutModel",
          "state": {
            "_model_module": "@jupyter-widgets/base",
            "_model_module_version": "1.2.0",
            "_model_name": "LayoutModel",
            "_view_count": null,
            "_view_module": "@jupyter-widgets/base",
            "_view_module_version": "1.2.0",
            "_view_name": "LayoutView",
            "align_content": null,
            "align_items": null,
            "align_self": null,
            "border": null,
            "bottom": null,
            "display": null,
            "flex": null,
            "flex_flow": null,
            "grid_area": null,
            "grid_auto_columns": null,
            "grid_auto_flow": null,
            "grid_auto_rows": null,
            "grid_column": null,
            "grid_gap": null,
            "grid_row": null,
            "grid_template_areas": null,
            "grid_template_columns": null,
            "grid_template_rows": null,
            "height": null,
            "justify_content": null,
            "justify_items": null,
            "left": null,
            "margin": null,
            "max_height": null,
            "max_width": null,
            "min_height": null,
            "min_width": null,
            "object_fit": null,
            "object_position": null,
            "order": null,
            "overflow": null,
            "overflow_x": null,
            "overflow_y": null,
            "padding": null,
            "right": null,
            "top": null,
            "visibility": null,
            "width": null
          }
        },
        "f6364e240d0640258c73dc021073b15c": {
          "model_module": "@jupyter-widgets/controls",
          "model_name": "DescriptionStyleModel",
          "state": {
            "_model_module": "@jupyter-widgets/controls",
            "_model_module_version": "1.5.0",
            "_model_name": "DescriptionStyleModel",
            "_view_count": null,
            "_view_module": "@jupyter-widgets/base",
            "_view_module_version": "1.2.0",
            "_view_name": "StyleView",
            "description_width": ""
          }
        }
      }
    }
  },
  "cells": [
    {
      "cell_type": "markdown",
      "metadata": {
        "id": "dBDthDCDayH4"
      },
      "source": [
        "# Intsall "
      ]
    },
    {
      "cell_type": "code",
      "metadata": {
        "colab": {
          "base_uri": "https://localhost:8080/"
        },
        "id": "OPUYHdw2c3pd",
        "outputId": "10e6fe19-2898-4dfb-8250-e14c1f220864"
      },
      "source": [
        "# Install PyPI packages required in this guide, including BentoML\n",
        "!pip install -q --pre bentoml  # install preview version of BentoML for this guide\n",
        "!pip install transformers"
      ],
      "execution_count": null,
      "outputs": [
        {
          "output_type": "stream",
          "text": [
            "\u001b[K     |████████████████████████████████| 5.0MB 30.3MB/s \n",
            "\u001b[K     |████████████████████████████████| 133kB 54.6MB/s \n",
            "\u001b[K     |████████████████████████████████| 112kB 45.1MB/s \n",
            "\u001b[K     |████████████████████████████████| 174kB 58.2MB/s \n",
            "\u001b[K     |████████████████████████████████| 71kB 10.0MB/s \n",
            "\u001b[?25h  Installing build dependencies ... \u001b[?25l\u001b[?25hdone\n",
            "  Getting requirements to build wheel ... \u001b[?25l\u001b[?25hdone\n",
            "    Preparing wheel metadata ... \u001b[?25l\u001b[?25hdone\n",
            "\u001b[K     |████████████████████████████████| 1.3MB 42.3MB/s \n",
            "\u001b[K     |████████████████████████████████| 81kB 9.7MB/s \n",
            "\u001b[K     |████████████████████████████████| 1.2MB 38.0MB/s \n",
            "\u001b[K     |████████████████████████████████| 153kB 37.0MB/s \n",
            "\u001b[K     |████████████████████████████████| 92kB 11.5MB/s \n",
            "\u001b[K     |████████████████████████████████| 3.2MB 39.8MB/s \n",
            "\u001b[K     |████████████████████████████████| 133kB 49.2MB/s \n",
            "\u001b[K     |████████████████████████████████| 7.7MB 42.7MB/s \n",
            "\u001b[K     |████████████████████████████████| 81kB 9.4MB/s \n",
            "\u001b[K     |████████████████████████████████| 552kB 44.8MB/s \n",
            "\u001b[K     |████████████████████████████████| 81kB 8.5MB/s \n",
            "\u001b[K     |████████████████████████████████| 153kB 49.3MB/s \n",
            "\u001b[K     |████████████████████████████████| 296kB 45.5MB/s \n",
            "\u001b[K     |████████████████████████████████| 71kB 9.2MB/s \n",
            "\u001b[?25h  Building wheel for cerberus (PEP 517) ... \u001b[?25l\u001b[?25hdone\n",
            "  Building wheel for python-json-logger (setup.py) ... \u001b[?25l\u001b[?25hdone\n",
            "  Building wheel for sqlalchemy-utils (setup.py) ... \u001b[?25l\u001b[?25hdone\n",
            "\u001b[31mERROR: botocore 1.20.107 has requirement urllib3<1.27,>=1.25.4, but you'll have urllib3 1.24.3 which is incompatible.\u001b[0m\n",
            "Collecting transformers\n",
            "\u001b[?25l  Downloading https://files.pythonhosted.org/packages/fd/1a/41c644c963249fd7f3836d926afa1e3f1cc234a1c40d80c5f03ad8f6f1b2/transformers-4.8.2-py3-none-any.whl (2.5MB)\n",
            "\u001b[K     |████████████████████████████████| 2.5MB 17.0MB/s \n",
            "\u001b[?25hRequirement already satisfied: importlib-metadata; python_version < \"3.8\" in /usr/local/lib/python3.7/dist-packages (from transformers) (4.5.0)\n",
            "Requirement already satisfied: pyyaml in /usr/local/lib/python3.7/dist-packages (from transformers) (3.13)\n",
            "Requirement already satisfied: packaging in /usr/local/lib/python3.7/dist-packages (from transformers) (20.9)\n",
            "Collecting sacremoses\n",
            "\u001b[?25l  Downloading https://files.pythonhosted.org/packages/75/ee/67241dc87f266093c533a2d4d3d69438e57d7a90abb216fa076e7d475d4a/sacremoses-0.0.45-py3-none-any.whl (895kB)\n",
            "\u001b[K     |████████████████████████████████| 901kB 39.6MB/s \n",
            "\u001b[?25hCollecting huggingface-hub==0.0.12\n",
            "  Downloading https://files.pythonhosted.org/packages/2f/ee/97e253668fda9b17e968b3f97b2f8e53aa0127e8807d24a547687423fe0b/huggingface_hub-0.0.12-py3-none-any.whl\n",
            "Requirement already satisfied: regex!=2019.12.17 in /usr/local/lib/python3.7/dist-packages (from transformers) (2019.12.20)\n",
            "Requirement already satisfied: numpy>=1.17 in /usr/local/lib/python3.7/dist-packages (from transformers) (1.19.5)\n",
            "Collecting tokenizers<0.11,>=0.10.1\n",
            "\u001b[?25l  Downloading https://files.pythonhosted.org/packages/d4/e2/df3543e8ffdab68f5acc73f613de9c2b155ac47f162e725dcac87c521c11/tokenizers-0.10.3-cp37-cp37m-manylinux_2_5_x86_64.manylinux1_x86_64.manylinux_2_12_x86_64.manylinux2010_x86_64.whl (3.3MB)\n",
            "\u001b[K     |████████████████████████████████| 3.3MB 46.5MB/s \n",
            "\u001b[?25hRequirement already satisfied: filelock in /usr/local/lib/python3.7/dist-packages (from transformers) (3.0.12)\n",
            "Requirement already satisfied: tqdm>=4.27 in /usr/local/lib/python3.7/dist-packages (from transformers) (4.41.1)\n",
            "Requirement already satisfied: requests in /usr/local/lib/python3.7/dist-packages (from transformers) (2.23.0)\n",
            "Requirement already satisfied: zipp>=0.5 in /usr/local/lib/python3.7/dist-packages (from importlib-metadata; python_version < \"3.8\"->transformers) (3.4.1)\n",
            "Requirement already satisfied: typing-extensions>=3.6.4; python_version < \"3.8\" in /usr/local/lib/python3.7/dist-packages (from importlib-metadata; python_version < \"3.8\"->transformers) (3.7.4.3)\n",
            "Requirement already satisfied: pyparsing>=2.0.2 in /usr/local/lib/python3.7/dist-packages (from packaging->transformers) (2.4.7)\n",
            "Requirement already satisfied: click in /usr/local/lib/python3.7/dist-packages (from sacremoses->transformers) (7.1.2)\n",
            "Requirement already satisfied: joblib in /usr/local/lib/python3.7/dist-packages (from sacremoses->transformers) (1.0.1)\n",
            "Requirement already satisfied: six in /usr/local/lib/python3.7/dist-packages (from sacremoses->transformers) (1.15.0)\n",
            "Requirement already satisfied: certifi>=2017.4.17 in /usr/local/lib/python3.7/dist-packages (from requests->transformers) (2021.5.30)\n",
            "Requirement already satisfied: idna<3,>=2.5 in /usr/local/lib/python3.7/dist-packages (from requests->transformers) (2.10)\n",
            "Requirement already satisfied: urllib3!=1.25.0,!=1.25.1,<1.26,>=1.21.1 in /usr/local/lib/python3.7/dist-packages (from requests->transformers) (1.24.3)\n",
            "Requirement already satisfied: chardet<4,>=3.0.2 in /usr/local/lib/python3.7/dist-packages (from requests->transformers) (3.0.4)\n",
            "Installing collected packages: sacremoses, huggingface-hub, tokenizers, transformers\n",
            "Successfully installed huggingface-hub-0.0.12 sacremoses-0.0.45 tokenizers-0.10.3 transformers-4.8.2\n"
          ],
          "name": "stdout"
        }
      ]
    },
    {
      "cell_type": "markdown",
      "metadata": {
        "id": "JItSIiko48Vn"
      },
      "source": [
        "# BentoML script"
      ]
    },
    {
      "cell_type": "markdown",
      "metadata": {
        "id": "MWxo2LNRW8Gr"
      },
      "source": [
        ""
      ]
    },
    {
      "cell_type": "code",
      "metadata": {
        "colab": {
          "base_uri": "https://localhost:8080/"
        },
        "id": "7yFztVRVax55",
        "outputId": "577ed9f1-c2ec-4ab7-8e75-40fefa97e6e6"
      },
      "source": [
        "%%writefile bento_service.py\n",
        "import bentoml\n",
        "from bentoml.adapters import StringInput\n",
        "from bentoml.frameworks.transformers import TransformersModelArtifact\n",
        "from bentoml.frameworks.sklearn import SklearnModelArtifact\n",
        "import re\n",
        "import tensorflow as tf\n",
        "import numpy as np\n",
        "@bentoml.env(infer_pip_packages=True)\n",
        "@bentoml.artifacts([TransformersModelArtifact('model'),SklearnModelArtifact('classifier')])\n",
        "class HatespeechDetector(bentoml.BentoService):\n",
        "  def __init__(self,maximum_len=1000,maximum_sentence=2):\n",
        "    super(HatespeechDetector, self).__init__()\n",
        "    self.maximum_len = maximum_len\n",
        "    self.maximum_sentence = maximum_sentence\n",
        "    self.chat_list = []\n",
        "    self.model = 0\n",
        "    self.classifier = 0\n",
        "    self.tokenizer = 0\n",
        "\n",
        "  def chat_stack(self,last_chat):\n",
        "    self.chat_list.append(last_chat)\n",
        "    if sum([len(chat) for chat in self.chat_list])>self.maximum_len:\n",
        "      while sum([len(chat) for chat in self.chat_list])>self.maximum_len:\n",
        "        self.chat_list.pop(0)\n",
        "    if len(self.chat_list)>self.maximum_sentence:\n",
        "      while len(self.chat_list)>self.maximum_sentence:\n",
        "        self.chat_list.pop(0)\n",
        "\n",
        "  def chat_sum(self):\n",
        "    text = ''\n",
        "    for t in self.chat_list[:-1]:\n",
        "      text += t\n",
        "      text += ' [SEP] '\n",
        "    text += self.chat_list[-1]\n",
        "    return text\n",
        "\n",
        "  def detecting(self):\n",
        "    input_text = self.tokenizer([self.chat_sum()], truncation=True, padding=True)\n",
        "    print(\"1\",input_text)\n",
        "    input_text = tf.data.Dataset.from_tensor_slices((dict(input_text)))\n",
        "    print(\"2\",input_text)\n",
        "    input_text = self.model.predict(input_text.batch(1)).last_hidden_state[:,0,:]\n",
        "    print(\"3\",input_text.shape)\n",
        "    result = self.classifier.predict(input_text)\n",
        "    print(\"4\",result)\n",
        "    return f\"{result} {[self.chat_sum()]}\"\n",
        "\n",
        "  def preprocess(self, text):\n",
        "    text = re.sub('http\\S+', '', text).strip()\n",
        "    text = re.sub('^!!+', '', text).strip()\n",
        "    text = re.sub('^(rt)', '', text).strip()\n",
        "    text = re.sub('@\\S+', '', text).strip()\n",
        "    delete_e = re.compile(\"[^a-zA-Z\\!\\?\\$\\%\\' ]\")\n",
        "    text = delete_e.sub(\"\",text).strip()\n",
        "    text = text.lower()\n",
        "    return text\n",
        "\n",
        "  @bentoml.api(input=StringInput(), batch=False)\n",
        "  def chat(self,text):\n",
        "    if self.model == 0 :\n",
        "      self.model = tf.keras.Sequential(self.artifacts.model.get(\"model\").layers[:-1])\n",
        "    if self.classifier == 0 :\n",
        "      self.classifier = self.artifacts.classifier\n",
        "    if self.tokenizer == 0 :\n",
        "      self.tokenizer = self.artifacts.model.get(\"tokenizer\")\n",
        "    text = text\n",
        "    text = self.preprocess(text)\n",
        "    self.chat_stack(text)\n",
        "    result = self.detecting()\n",
        "    return result"
      ],
      "execution_count": null,
      "outputs": [
        {
          "output_type": "stream",
          "text": [
            "Writing bento_service.py\n"
          ],
          "name": "stdout"
        }
      ]
    },
    {
      "cell_type": "markdown",
      "metadata": {
        "id": "PnbJV-4a4_Kf"
      },
      "source": [
        "# Load weights"
      ]
    },
    {
      "cell_type": "code",
      "metadata": {
        "colab": {
          "base_uri": "https://localhost:8080/",
          "height": 351,
          "referenced_widgets": [
            "1cb00437b00b48e390902a4b061871d1",
            "2197e58b27cf487b8184238d91fd7310",
            "24979400a1c240cf99d53e746bf1c61b",
            "df41fc9a22324ba09154918958bc5594",
            "6843ab1b7f67430896a414181165b4b3",
            "f889277a9fad4067a8050acc799a454a",
            "2f26bf5fcc404cd9a6dd72091d14eca4",
            "3b183c256ebf4c6b8280a06bcf5b13ae",
            "6be7ffec3fcc4575bb2865e280e9e3aa",
            "5a001f2e8b424d969af279a589a65a30",
            "9dba829cba3d45b69d1f974c89ebc312",
            "4f364809232c41f5a004cc05e10b468c",
            "83668e7d252c49678fc738a4b0f7f2b4",
            "5c21d5bbd351431d9d952599cc5616f5",
            "dedfe64935704e5c8d1f582b2b5fce3c",
            "904d7690e0844f878f92a53c6ecc7cd0",
            "b3817a75a10e4a8e841cb929f70aa0a5",
            "a05c6939b2c540d89c2df41c4e8f5ff4",
            "68829652dd27474d84929e626344da4e",
            "efb282925e784ac3b66d2cfab85700eb",
            "8b591bf379fb4bb1bfefdc916c0b23ae",
            "a214893655bb473193d2612e71538630",
            "4c50d93cea66467192758cfcf995fc46",
            "eb1d4157561d42ab8c928bfffbd749ce",
            "013354c738e44873b9fd6485a38c383b",
            "157c57f30de8413cb375a48b3f015019",
            "6655a648c145484d86b7fbd4c77952af",
            "94ebeab35a8d4a7dbef32b183ffc2881",
            "96eca5d08fe1424d994ca6ebece048a3",
            "308bc5e5336942088c2d3c03e9145c33",
            "2f95ffdb02ab4ea7b29b091cf7f752f5",
            "6650f46642c14a149f9b5f0043625770",
            "4178164c7fd94499908fd581dc99b29f",
            "3d77f224fa744563997d084792893b6a",
            "fe714242476f475d970f219875e73a52",
            "caaa101c24f94cf08275e2224116ab1d",
            "447674d10aa54791b77cf087a181861d",
            "65713da483514f1b8b7c4e6d1c498683",
            "25358483948d42b4af7370626883e3f2",
            "f6364e240d0640258c73dc021073b15c"
          ]
        },
        "id": "NCtcnV3x1cbw",
        "outputId": "5893eb97-6faf-491f-c86b-c95357273642"
      },
      "source": [
        "from transformers import TFElectraForSequenceClassification\n",
        "from transformers import ElectraTokenizer\n",
        "import tensorflow as tf\n",
        "import pickle\n",
        "\n",
        "tokenizer = ElectraTokenizer.from_pretrained('google/electra-small-discriminator')\n",
        "model_electra = TFElectraForSequenceClassification.from_pretrained(\"google/electra-small-discriminator\")\n",
        "model_electra.load_weights(\"/content/drive/MyDrive/HateSpeech/Weight/ELECTRA\")\n",
        "classifier = pickle.load(open(\"/content/drive/MyDrive/HateSpeech/Weight/ML/LogisticRegression_electra.sav\", 'rb'))"
      ],
      "execution_count": null,
      "outputs": [
        {
          "output_type": "display_data",
          "data": {
            "application/vnd.jupyter.widget-view+json": {
              "model_id": "1cb00437b00b48e390902a4b061871d1",
              "version_major": 2,
              "version_minor": 0
            },
            "text/plain": [
              "HBox(children=(FloatProgress(value=0.0, description='Downloading', max=231508.0, style=ProgressStyle(descripti…"
            ]
          },
          "metadata": {
            "tags": []
          }
        },
        {
          "output_type": "stream",
          "text": [
            "\n"
          ],
          "name": "stdout"
        },
        {
          "output_type": "display_data",
          "data": {
            "application/vnd.jupyter.widget-view+json": {
              "model_id": "6be7ffec3fcc4575bb2865e280e9e3aa",
              "version_major": 2,
              "version_minor": 0
            },
            "text/plain": [
              "HBox(children=(FloatProgress(value=0.0, description='Downloading', max=29.0, style=ProgressStyle(description_w…"
            ]
          },
          "metadata": {
            "tags": []
          }
        },
        {
          "output_type": "stream",
          "text": [
            "\n"
          ],
          "name": "stdout"
        },
        {
          "output_type": "display_data",
          "data": {
            "application/vnd.jupyter.widget-view+json": {
              "model_id": "b3817a75a10e4a8e841cb929f70aa0a5",
              "version_major": 2,
              "version_minor": 0
            },
            "text/plain": [
              "HBox(children=(FloatProgress(value=0.0, description='Downloading', max=466062.0, style=ProgressStyle(descripti…"
            ]
          },
          "metadata": {
            "tags": []
          }
        },
        {
          "output_type": "stream",
          "text": [
            "\n"
          ],
          "name": "stdout"
        },
        {
          "output_type": "display_data",
          "data": {
            "application/vnd.jupyter.widget-view+json": {
              "model_id": "013354c738e44873b9fd6485a38c383b",
              "version_major": 2,
              "version_minor": 0
            },
            "text/plain": [
              "HBox(children=(FloatProgress(value=0.0, description='Downloading', max=665.0, style=ProgressStyle(description_…"
            ]
          },
          "metadata": {
            "tags": []
          }
        },
        {
          "output_type": "stream",
          "text": [
            "\n"
          ],
          "name": "stdout"
        },
        {
          "output_type": "display_data",
          "data": {
            "application/vnd.jupyter.widget-view+json": {
              "model_id": "4178164c7fd94499908fd581dc99b29f",
              "version_major": 2,
              "version_minor": 0
            },
            "text/plain": [
              "HBox(children=(FloatProgress(value=0.0, description='Downloading', max=54466044.0, style=ProgressStyle(descrip…"
            ]
          },
          "metadata": {
            "tags": []
          }
        },
        {
          "output_type": "stream",
          "text": [
            "\n"
          ],
          "name": "stdout"
        },
        {
          "output_type": "stream",
          "text": [
            "Some layers from the model checkpoint at google/electra-small-discriminator were not used when initializing TFElectraForSequenceClassification: ['discriminator_predictions']\n",
            "- This IS expected if you are initializing TFElectraForSequenceClassification from the checkpoint of a model trained on another task or with another architecture (e.g. initializing a BertForSequenceClassification model from a BertForPreTraining model).\n",
            "- This IS NOT expected if you are initializing TFElectraForSequenceClassification from the checkpoint of a model that you expect to be exactly identical (initializing a BertForSequenceClassification model from a BertForSequenceClassification model).\n",
            "Some layers of TFElectraForSequenceClassification were not initialized from the model checkpoint at google/electra-small-discriminator and are newly initialized: ['classifier']\n",
            "You should probably TRAIN this model on a down-stream task to be able to use it for predictions and inference.\n"
          ],
          "name": "stderr"
        }
      ]
    },
    {
      "cell_type": "code",
      "metadata": {
        "colab": {
          "base_uri": "https://localhost:8080/"
        },
        "id": "aQH6u_bteC-J",
        "outputId": "da780c6c-5d72-4b5d-ea00-a8acbdf4f7fe"
      },
      "source": [
        "model_electra.summary()"
      ],
      "execution_count": null,
      "outputs": [
        {
          "output_type": "stream",
          "text": [
            "Model: \"tf_electra_for_sequence_classification\"\n",
            "_________________________________________________________________\n",
            "Layer (type)                 Output Shape              Param #   \n",
            "=================================================================\n",
            "electra (TFElectraMainLayer) multiple                  13483008  \n",
            "_________________________________________________________________\n",
            "classifier (TFElectraClassif multiple                  66306     \n",
            "=================================================================\n",
            "Total params: 13,549,314\n",
            "Trainable params: 13,549,314\n",
            "Non-trainable params: 0\n",
            "_________________________________________________________________\n"
          ],
          "name": "stdout"
        }
      ]
    },
    {
      "cell_type": "code",
      "metadata": {
        "colab": {
          "base_uri": "https://localhost:8080/"
        },
        "id": "J8J3wPMVj99w",
        "outputId": "a09c814c-9421-48bb-a245-755289ede659"
      },
      "source": [
        "input_text = \"mother fucker\"\n",
        "input_text = tokenizer([input_text], truncation=True, padding=True)\n",
        "print(\"1\",input_text)\n",
        "input_text = tf.data.Dataset.from_tensor_slices((dict(input_text)))\n",
        "print(\"2\",input_text)\n",
        "print()\n",
        "input_text = tf.keras.Sequential(model_electra.layers[:-1]).predict(input_text.batch(1)).last_hidden_state[:,0,:]\n",
        "print(\"3\",input_text.shape)\n",
        "result = classifier.predict(input_text)\n",
        "result"
      ],
      "execution_count": null,
      "outputs": [
        {
          "output_type": "stream",
          "text": [
            "1 {'input_ids': [[101, 2388, 6616, 2121, 102]], 'token_type_ids': [[0, 0, 0, 0, 0]], 'attention_mask': [[1, 1, 1, 1, 1]]}\n",
            "2 <TensorSliceDataset shapes: {input_ids: (5,), token_type_ids: (5,), attention_mask: (5,)}, types: {input_ids: tf.int32, token_type_ids: tf.int32, attention_mask: tf.int32}>\n",
            "\n",
            "WARNING:tensorflow:Layers in a Sequential model should only have a single input tensor, but we receive a <class 'dict'> input: {'input_ids': <tf.Tensor 'IteratorGetNext:1' shape=(None, 5) dtype=int32>, 'token_type_ids': <tf.Tensor 'IteratorGetNext:2' shape=(None, 5) dtype=int32>, 'attention_mask': <tf.Tensor 'IteratorGetNext:0' shape=(None, 5) dtype=int32>}\n",
            "Consider rewriting this model with the Functional API.\n",
            "WARNING:tensorflow:From /usr/local/lib/python3.7/dist-packages/tensorflow/python/ops/array_ops.py:5049: calling gather (from tensorflow.python.ops.array_ops) with validate_indices is deprecated and will be removed in a future version.\n",
            "Instructions for updating:\n",
            "The `validate_indices` argument has no effect. Indices are always validated on CPU and never validated on GPU.\n",
            "3 (1, 256)\n"
          ],
          "name": "stdout"
        },
        {
          "output_type": "execute_result",
          "data": {
            "text/plain": [
              "array([1], dtype=int32)"
            ]
          },
          "metadata": {
            "tags": []
          },
          "execution_count": 5
        }
      ]
    },
    {
      "cell_type": "markdown",
      "metadata": {
        "id": "8U-cp-s_5Cf3"
      },
      "source": [
        "# Packing"
      ]
    },
    {
      "cell_type": "code",
      "metadata": {
        "id": "hRxU9p06YbYM"
      },
      "source": [
        "# input_text = tokenizer([\"hello\"], truncation=True, padding=True)\n",
        "# input_text = tf.data.Dataset.from_tensor_slices((dict(input_text)))\n",
        "# input_text = model_electra.predict(input_text).last_hidden_state[:,0,:]"
      ],
      "execution_count": null,
      "outputs": []
    },
    {
      "cell_type": "code",
      "metadata": {
        "colab": {
          "base_uri": "https://localhost:8080/"
        },
        "id": "QXECocPibt1y",
        "outputId": "c21a5c38-81eb-4de0-df25-64af39af9b83"
      },
      "source": [
        "from bento_service import HatespeechDetector\n",
        "artifact = {\"model\": model_electra, \"tokenizer\": tokenizer}\n",
        "chatting = HatespeechDetector()\n",
        "chatting.pack('model',artifact)\n",
        "chatting.pack('classifier',classifier)\n",
        "saved_path = chatting.save()"
      ],
      "execution_count": null,
      "outputs": [
        {
          "output_type": "stream",
          "text": [
            "[2021-07-08 11:04:53,640] WARNING - pip package requirement `bentoml==0.13.0` not found in current python environment\n"
          ],
          "name": "stdout"
        },
        {
          "output_type": "stream",
          "text": [
            "/usr/local/lib/python3.7/dist-packages/psycopg2/__init__.py:144: UserWarning: The psycopg2 wheel package will be renamed from release 2.8; in order to keep installing from binary please use \"pip install psycopg2-binary\" instead. For details see: <http://initd.org/psycopg/docs/install.html#binary-install-from-pypi>.\n",
            "  \"\"\")\n"
          ],
          "name": "stderr"
        },
        {
          "output_type": "stream",
          "text": [
            "[2021-07-08 11:04:55,394] INFO - BentoService bundle 'HatespeechDetector:20210708110453_4FD7EB' saved to: /root/bentoml/repository/HatespeechDetector/20210708110453_4FD7EB\n"
          ],
          "name": "stdout"
        }
      ]
    },
    {
      "cell_type": "markdown",
      "metadata": {
        "id": "YLVpDNd95Fkf"
      },
      "source": [
        "# Distribution"
      ]
    },
    {
      "cell_type": "code",
      "metadata": {
        "colab": {
          "background_save": true,
          "base_uri": "https://localhost:8080/"
        },
        "id": "9rSUPaPses0d",
        "outputId": "734a7f31-13b4-44b7-9673-1daf168442c4"
      },
      "source": [
        "!bentoml serve HatespeechDetector:latest --run-with-ngrok"
      ],
      "execution_count": null,
      "outputs": [
        {
          "output_type": "stream",
          "text": [
            "/usr/local/lib/python3.7/dist-packages/psycopg2/__init__.py:144: UserWarning: The psycopg2 wheel package will be renamed from release 2.8; in order to keep installing from binary please use \"pip install psycopg2-binary\" instead. For details see: <http://initd.org/psycopg/docs/install.html#binary-install-from-pypi>.\n",
            "  \"\"\")\n",
            "[2021-07-08 11:08:46,192] INFO - Getting latest version HatespeechDetector:20210708110453_4FD7EB\n",
            "[2021-07-08 11:08:46,206] INFO - Starting BentoML API proxy in development mode..\n",
            "[2021-07-08 11:08:46,208] INFO - Starting BentoML API server in development mode..\n",
            "[2021-07-08 11:08:46,418] INFO - Your system nofile limit is 1048576, which means each instance of microbatch service is able to hold this number of connections at same time. You can increase the number of file descriptors for the server process, or launch more microbatch instances to accept more concurrent connection.\n",
            "======== Running on http://0.0.0.0:5000 ========\n",
            "(Press CTRL+C to quit)\n",
            "2021-07-08 11:08:47.192037: I tensorflow/stream_executor/platform/default/dso_loader.cc:53] Successfully opened dynamic library libcudart.so.11.0\n",
            "[2021-07-08 11:08:48,216] INFO -  * Running on http://1edb94f3956c.ngrok.io\n",
            "[2021-07-08 11:08:48,217] INFO -  * Traffic stats available on http://127.0.0.1:4040\n",
            "2021-07-08 11:08:48.885872: I tensorflow/stream_executor/platform/default/dso_loader.cc:53] Successfully opened dynamic library libcuda.so.1\n",
            "2021-07-08 11:08:48.897480: E tensorflow/stream_executor/cuda/cuda_driver.cc:328] failed call to cuInit: CUDA_ERROR_NO_DEVICE: no CUDA-capable device is detected\n",
            "2021-07-08 11:08:48.897533: I tensorflow/stream_executor/cuda/cuda_diagnostics.cc:156] kernel driver does not appear to be running on this host (d8b75634ef9b): /proc/driver/nvidia/version does not exist\n",
            "All model checkpoint layers were used when initializing TFElectraForSequenceClassification.\n",
            "\n",
            "All the layers of TFElectraForSequenceClassification were initialized from the model checkpoint at /root/bentoml/repository/HatespeechDetector/20210708110453_4FD7EB/HatespeechDetector/artifacts/model.\n",
            "If your task is similar to the task the model of the checkpoint was trained on, you can already use TFElectraForSequenceClassification for predictions without further training.\n",
            " * Serving Flask app \"HatespeechDetector\" (lazy loading)\n",
            " * Environment: production\n",
            "\u001b[31m   WARNING: This is a development server. Do not use it in a production deployment.\u001b[0m\n",
            "\u001b[2m   Use a production WSGI server instead.\u001b[0m\n",
            " * Debug mode: off\n",
            " * Running on http://127.0.0.1:38123/ (Press CTRL+C to quit)\n",
            "127.0.0.1 - - [08/Jul/2021 11:08:52] \"\u001b[37mGET / HTTP/1.1\u001b[0m\" 200 -\n",
            "/usr/local/lib/python3.7/dist-packages/aiohttp/client.py:977: RuntimeWarning: coroutine 'noop' was never awaited\n",
            "  self._resp.release()\n",
            "RuntimeWarning: Enable tracemalloc to get the object allocation traceback\n",
            "127.0.0.1 - - [08/Jul/2021 11:08:53] \"\u001b[37mGET /static_content/main.css HTTP/1.1\u001b[0m\" 200 -\n",
            "127.0.0.1 - - [08/Jul/2021 11:08:53] \"\u001b[37mGET /static_content/readme.css HTTP/1.1\u001b[0m\" 200 -\n",
            "127.0.0.1 - - [08/Jul/2021 11:08:53] \"\u001b[37mGET /static_content/marked.min.js HTTP/1.1\u001b[0m\" 200 -\n",
            "127.0.0.1 - - [08/Jul/2021 11:08:53] \"\u001b[37mGET /static_content/swagger-ui.css HTTP/1.1\u001b[0m\" 200 -\n",
            "127.0.0.1 - - [08/Jul/2021 11:08:53] \"\u001b[37mGET /static_content/swagger-ui-bundle.js HTTP/1.1\u001b[0m\" 200 -\n",
            "127.0.0.1 - - [08/Jul/2021 11:08:54] \"\u001b[37mGET /docs.json HTTP/1.1\u001b[0m\" 200 -\n",
            "127.0.0.1 - - [08/Jul/2021 11:08:54] \"\u001b[33mGET /favicon.ico HTTP/1.1\u001b[0m\" 404 -\n",
            "1 {'input_ids': [[101, 4931, 2304, 6007, 102]], 'token_type_ids': [[0, 0, 0, 0, 0]], 'attention_mask': [[1, 1, 1, 1, 1]]}\n",
            "2 <TensorSliceDataset shapes: {input_ids: (5,), token_type_ids: (5,), attention_mask: (5,)}, types: {input_ids: tf.int32, token_type_ids: tf.int32, attention_mask: tf.int32}>\n",
            "WARNING:tensorflow:Layers in a Sequential model should only have a single input tensor, but we receive a <class 'dict'> input: {'input_ids': <tf.Tensor 'IteratorGetNext:1' shape=(None, 5) dtype=int32>, 'token_type_ids': <tf.Tensor 'IteratorGetNext:2' shape=(None, 5) dtype=int32>, 'attention_mask': <tf.Tensor 'IteratorGetNext:0' shape=(None, 5) dtype=int32>}\n",
            "Consider rewriting this model with the Functional API.\n",
            "WARNING:tensorflow:From /usr/local/lib/python3.7/dist-packages/tensorflow/python/ops/array_ops.py:5049: calling gather (from tensorflow.python.ops.array_ops) with validate_indices is deprecated and will be removed in a future version.\n",
            "Instructions for updating:\n",
            "The `validate_indices` argument has no effect. Indices are always validated on CPU and never validated on GPU.\n",
            "2021-07-08 11:09:45.344891: I tensorflow/compiler/mlir/mlir_graph_optimization_pass.cc:176] None of the MLIR Optimization Passes are enabled (registered 2)\n",
            "2021-07-08 11:09:45.362371: I tensorflow/core/platform/profile_utils/cpu_utils.cc:114] CPU Frequency: 2200145000 Hz\n",
            "3 (1, 256)\n",
            "4 [0]\n",
            "[2021-07-08 11:09:45,988] INFO - {'service_name': 'HatespeechDetector', 'service_version': '20210708110453_4FD7EB', 'api': 'chat', 'task': {'data': 'hey black shoes', 'task_id': 'facda459-b9d0-4194-9fb0-9120a4b84374', 'http_headers': (('Host', '1edb94f3956c.ngrok.io'), ('User-Agent', 'Mozilla/5.0 (Windows NT 10.0; Win64; x64) AppleWebKit/537.36 (KHTML, like Gecko) Chrome/91.0.4472.124 Safari/537.36'), ('Content-Length', '15'), ('Accept', '*/*'), ('Accept-Encoding', 'gzip, deflate'), ('Accept-Language', 'ko-KR,ko;q=0.9,en-US;q=0.8,en;q=0.7'), ('Content-Type', 'application/json'), ('Origin', 'http://1edb94f3956c.ngrok.io'), ('Referer', 'http://1edb94f3956c.ngrok.io/'), ('X-Forwarded-For', '121.136.235.190'), ('X-Forwarded-Proto', 'http'))}, 'result': {'data': '\"[0] [\\'hey black shoes\\']\"', 'http_status': 200, 'http_headers': (('Content-Type', 'application/json'),)}, 'request_id': 'facda459-b9d0-4194-9fb0-9120a4b84374'}\n",
            "127.0.0.1 - - [08/Jul/2021 11:09:45] \"\u001b[37mPOST /chat HTTP/1.1\u001b[0m\" 200 -\n",
            "1 {'input_ids': [[101, 4931, 2304, 6007, 102, 1045, 2123, 2102, 2066, 2304, 3609, 102]], 'token_type_ids': [[0, 0, 0, 0, 0, 0, 0, 0, 0, 0, 0, 0]], 'attention_mask': [[1, 1, 1, 1, 1, 1, 1, 1, 1, 1, 1, 1]]}\n",
            "2 <TensorSliceDataset shapes: {input_ids: (12,), token_type_ids: (12,), attention_mask: (12,)}, types: {input_ids: tf.int32, token_type_ids: tf.int32, attention_mask: tf.int32}>\n",
            "WARNING:tensorflow:Layers in a Sequential model should only have a single input tensor, but we receive a <class 'dict'> input: {'input_ids': <tf.Tensor 'IteratorGetNext:1' shape=(None, 12) dtype=int32>, 'token_type_ids': <tf.Tensor 'IteratorGetNext:2' shape=(None, 12) dtype=int32>, 'attention_mask': <tf.Tensor 'IteratorGetNext:0' shape=(None, 12) dtype=int32>}\n",
            "Consider rewriting this model with the Functional API.\n",
            "3 (1, 256)\n",
            "4 [0]\n",
            "[2021-07-08 11:10:14,075] INFO - {'service_name': 'HatespeechDetector', 'service_version': '20210708110453_4FD7EB', 'api': 'chat', 'task': {'data': 'i dont like black color', 'task_id': '4c4e685c-1a4a-43a6-b12a-3fd6b6c3667e', 'http_headers': (('Host', '1edb94f3956c.ngrok.io'), ('User-Agent', 'Mozilla/5.0 (Windows NT 10.0; Win64; x64) AppleWebKit/537.36 (KHTML, like Gecko) Chrome/91.0.4472.124 Safari/537.36'), ('Content-Length', '23'), ('Accept', '*/*'), ('Accept-Encoding', 'gzip, deflate'), ('Accept-Language', 'ko-KR,ko;q=0.9,en-US;q=0.8,en;q=0.7'), ('Content-Type', 'application/json'), ('Origin', 'http://1edb94f3956c.ngrok.io'), ('Referer', 'http://1edb94f3956c.ngrok.io/'), ('X-Forwarded-For', '121.136.235.190'), ('X-Forwarded-Proto', 'http'))}, 'result': {'data': '\"[0] [\\'hey black shoes [SEP] i dont like black color\\']\"', 'http_status': 200, 'http_headers': (('Content-Type', 'application/json'),)}, 'request_id': '4c4e685c-1a4a-43a6-b12a-3fd6b6c3667e'}\n",
            "127.0.0.1 - - [08/Jul/2021 11:10:14] \"\u001b[37mPOST /chat HTTP/1.1\u001b[0m\" 200 -\n",
            "1 {'input_ids': [[101, 1045, 2123, 2102, 2066, 2304, 3609, 102, 2079, 2017, 10587, 17781, 2026, 3797, 1029, 102]], 'token_type_ids': [[0, 0, 0, 0, 0, 0, 0, 0, 0, 0, 0, 0, 0, 0, 0, 0]], 'attention_mask': [[1, 1, 1, 1, 1, 1, 1, 1, 1, 1, 1, 1, 1, 1, 1, 1]]}\n",
            "2 <TensorSliceDataset shapes: {input_ids: (16,), token_type_ids: (16,), attention_mask: (16,)}, types: {input_ids: tf.int32, token_type_ids: tf.int32, attention_mask: tf.int32}>\n",
            "WARNING:tensorflow:Layers in a Sequential model should only have a single input tensor, but we receive a <class 'dict'> input: {'attention_mask': <tf.Tensor 'IteratorGetNext:0' shape=(None, None) dtype=int32>, 'input_ids': <tf.Tensor 'IteratorGetNext:1' shape=(None, None) dtype=int32>, 'token_type_ids': <tf.Tensor 'IteratorGetNext:2' shape=(None, None) dtype=int32>}\n",
            "Consider rewriting this model with the Functional API.\n",
            "3 (1, 256)\n",
            "4 [0]\n",
            "[2021-07-08 11:11:24,051] INFO - {'service_name': 'HatespeechDetector', 'service_version': '20210708110453_4FD7EB', 'api': 'chat', 'task': {'data': 'do you wanna borrow my shirt?', 'task_id': '13ac377f-f55f-4a45-ad5d-97f8b36c51c1', 'http_headers': (('Host', '1edb94f3956c.ngrok.io'), ('User-Agent', 'Mozilla/5.0 (Windows NT 10.0; Win64; x64) AppleWebKit/537.36 (KHTML, like Gecko) Chrome/91.0.4472.124 Safari/537.36'), ('Content-Length', '29'), ('Accept', '*/*'), ('Accept-Encoding', 'gzip, deflate'), ('Accept-Language', 'ko-KR,ko;q=0.9,en-US;q=0.8,en;q=0.7'), ('Content-Type', 'application/json'), ('Origin', 'http://1edb94f3956c.ngrok.io'), ('Referer', 'http://1edb94f3956c.ngrok.io/'), ('X-Forwarded-For', '121.136.235.190'), ('X-Forwarded-Proto', 'http'))}, 'result': {'data': '\"[0] [\\'i dont like black color [SEP] do you wanna borrow my shirt?\\']\"', 'http_status': 200, 'http_headers': (('Content-Type', 'application/json'),)}, 'request_id': '13ac377f-f55f-4a45-ad5d-97f8b36c51c1'}\n",
            "127.0.0.1 - - [08/Jul/2021 11:11:24] \"\u001b[37mPOST /chat HTTP/1.1\u001b[0m\" 200 -\n",
            "1 {'input_ids': [[101, 2079, 2017, 10587, 17781, 2026, 3797, 1029, 102, 3374, 1045, 2123, 1005, 1056, 2066, 2304, 102]], 'token_type_ids': [[0, 0, 0, 0, 0, 0, 0, 0, 0, 0, 0, 0, 0, 0, 0, 0, 0]], 'attention_mask': [[1, 1, 1, 1, 1, 1, 1, 1, 1, 1, 1, 1, 1, 1, 1, 1, 1]]}\n",
            "2 <TensorSliceDataset shapes: {input_ids: (17,), token_type_ids: (17,), attention_mask: (17,)}, types: {input_ids: tf.int32, token_type_ids: tf.int32, attention_mask: tf.int32}>\n",
            "3 (1, 256)\n",
            "4 [0]\n",
            "[2021-07-08 11:11:34,643] INFO - {'service_name': 'HatespeechDetector', 'service_version': '20210708110453_4FD7EB', 'api': 'chat', 'task': {'data': \"sorry I don't like black\", 'task_id': '22c2d41f-3e4e-46bf-b30c-5b8295b44f90', 'http_headers': (('Host', '1edb94f3956c.ngrok.io'), ('User-Agent', 'Mozilla/5.0 (Windows NT 10.0; Win64; x64) AppleWebKit/537.36 (KHTML, like Gecko) Chrome/91.0.4472.124 Safari/537.36'), ('Content-Length', '24'), ('Accept', '*/*'), ('Accept-Encoding', 'gzip, deflate'), ('Accept-Language', 'ko-KR,ko;q=0.9,en-US;q=0.8,en;q=0.7'), ('Content-Type', 'application/json'), ('Origin', 'http://1edb94f3956c.ngrok.io'), ('Referer', 'http://1edb94f3956c.ngrok.io/'), ('X-Forwarded-For', '121.136.235.190'), ('X-Forwarded-Proto', 'http'))}, 'result': {'data': '\"[0] [\\\\\"do you wanna borrow my shirt? [SEP] sorry i don\\'t like black\\\\\"]\"', 'http_status': 200, 'http_headers': (('Content-Type', 'application/json'),)}, 'request_id': '22c2d41f-3e4e-46bf-b30c-5b8295b44f90'}\n",
            "127.0.0.1 - - [08/Jul/2021 11:11:34] \"\u001b[37mPOST /chat HTTP/1.1\u001b[0m\" 200 -\n",
            "Task was destroyed but it is pending!\n",
            "task: <Task pending coro=<RequestHandler.start() done, defined at /usr/local/lib/python3.7/dist-packages/aiohttp/web_protocol.py:437> wait_for=<Future pending cb=[<TaskWakeupMethWrapper object at 0x7fbfd46bf0d0>()]>>\n",
            "1 {'input_ids': [[101, 3374, 1045, 2123, 1005, 1056, 2066, 2304, 102, 2079, 2017, 10587, 17781, 2026, 3797, 1029, 102]], 'token_type_ids': [[0, 0, 0, 0, 0, 0, 0, 0, 0, 0, 0, 0, 0, 0, 0, 0, 0]], 'attention_mask': [[1, 1, 1, 1, 1, 1, 1, 1, 1, 1, 1, 1, 1, 1, 1, 1, 1]]}\n",
            "2 <TensorSliceDataset shapes: {input_ids: (17,), token_type_ids: (17,), attention_mask: (17,)}, types: {input_ids: tf.int32, token_type_ids: tf.int32, attention_mask: tf.int32}>\n",
            "3 (1, 256)\n",
            "4 [0]\n",
            "[2021-07-08 11:11:42,400] INFO - {'service_name': 'HatespeechDetector', 'service_version': '20210708110453_4FD7EB', 'api': 'chat', 'task': {'data': 'do you wanna borrow my shirt?', 'task_id': '354bf116-59d5-404e-aa4c-01cc7a62caad', 'http_headers': (('Host', '1edb94f3956c.ngrok.io'), ('User-Agent', 'Mozilla/5.0 (Windows NT 10.0; Win64; x64) AppleWebKit/537.36 (KHTML, like Gecko) Chrome/91.0.4472.124 Safari/537.36'), ('Content-Length', '29'), ('Accept', '*/*'), ('Accept-Encoding', 'gzip, deflate'), ('Accept-Language', 'ko-KR,ko;q=0.9,en-US;q=0.8,en;q=0.7'), ('Content-Type', 'application/json'), ('Origin', 'http://1edb94f3956c.ngrok.io'), ('Referer', 'http://1edb94f3956c.ngrok.io/'), ('X-Forwarded-For', '121.136.235.190'), ('X-Forwarded-Proto', 'http'))}, 'result': {'data': '\"[0] [\\\\\"sorry i don\\'t like black [SEP] do you wanna borrow my shirt?\\\\\"]\"', 'http_status': 200, 'http_headers': (('Content-Type', 'application/json'),)}, 'request_id': '354bf116-59d5-404e-aa4c-01cc7a62caad'}\n",
            "127.0.0.1 - - [08/Jul/2021 11:11:42] \"\u001b[37mPOST /chat HTTP/1.1\u001b[0m\" 200 -\n",
            "1 {'input_ids': [[101, 2079, 2017, 10587, 17781, 2026, 3797, 1029, 102, 3374, 1045, 2123, 2102, 2066, 2304, 102]], 'token_type_ids': [[0, 0, 0, 0, 0, 0, 0, 0, 0, 0, 0, 0, 0, 0, 0, 0]], 'attention_mask': [[1, 1, 1, 1, 1, 1, 1, 1, 1, 1, 1, 1, 1, 1, 1, 1]]}\n",
            "2 <TensorSliceDataset shapes: {input_ids: (16,), token_type_ids: (16,), attention_mask: (16,)}, types: {input_ids: tf.int32, token_type_ids: tf.int32, attention_mask: tf.int32}>\n",
            "3 (1, 256)\n",
            "4 [0]\n",
            "[2021-07-08 11:11:51,964] INFO - {'service_name': 'HatespeechDetector', 'service_version': '20210708110453_4FD7EB', 'api': 'chat', 'task': {'data': 'sorry i dont like black ', 'task_id': 'd5b4ebb2-ccf7-45e0-87a0-320f9a18aa8d', 'http_headers': (('Host', '1edb94f3956c.ngrok.io'), ('User-Agent', 'Mozilla/5.0 (Windows NT 10.0; Win64; x64) AppleWebKit/537.36 (KHTML, like Gecko) Chrome/91.0.4472.124 Safari/537.36'), ('Content-Length', '24'), ('Accept', '*/*'), ('Accept-Encoding', 'gzip, deflate'), ('Accept-Language', 'ko-KR,ko;q=0.9,en-US;q=0.8,en;q=0.7'), ('Content-Type', 'application/json'), ('Origin', 'http://1edb94f3956c.ngrok.io'), ('Referer', 'http://1edb94f3956c.ngrok.io/'), ('X-Forwarded-For', '121.136.235.190'), ('X-Forwarded-Proto', 'http'))}, 'result': {'data': '\"[0] [\\'do you wanna borrow my shirt? [SEP] sorry i dont like black\\']\"', 'http_status': 200, 'http_headers': (('Content-Type', 'application/json'),)}, 'request_id': 'd5b4ebb2-ccf7-45e0-87a0-320f9a18aa8d'}\n",
            "127.0.0.1 - - [08/Jul/2021 11:11:51] \"\u001b[37mPOST /chat HTTP/1.1\u001b[0m\" 200 -\n",
            "1 {'input_ids': [[101, 3374, 1045, 2123, 2102, 2066, 2304, 102, 2003, 2002, 2115, 6898, 1029, 102]], 'token_type_ids': [[0, 0, 0, 0, 0, 0, 0, 0, 0, 0, 0, 0, 0, 0]], 'attention_mask': [[1, 1, 1, 1, 1, 1, 1, 1, 1, 1, 1, 1, 1, 1]]}\n",
            "2 <TensorSliceDataset shapes: {input_ids: (14,), token_type_ids: (14,), attention_mask: (14,)}, types: {input_ids: tf.int32, token_type_ids: tf.int32, attention_mask: tf.int32}>\n",
            "3 (1, 256)\n",
            "4 [1]\n",
            "[2021-07-08 11:12:58,022] INFO - {'service_name': 'HatespeechDetector', 'service_version': '20210708110453_4FD7EB', 'api': 'chat', 'task': {'data': 'is he your boyfriend?', 'task_id': '6334cb53-bb33-4472-b31c-4009175c8f66', 'http_headers': (('Host', '1edb94f3956c.ngrok.io'), ('User-Agent', 'Mozilla/5.0 (Windows NT 10.0; Win64; x64) AppleWebKit/537.36 (KHTML, like Gecko) Chrome/91.0.4472.124 Safari/537.36'), ('Content-Length', '21'), ('Accept', '*/*'), ('Accept-Encoding', 'gzip, deflate'), ('Accept-Language', 'ko-KR,ko;q=0.9,en-US;q=0.8,en;q=0.7'), ('Content-Type', 'application/json'), ('Origin', 'http://1edb94f3956c.ngrok.io'), ('Referer', 'http://1edb94f3956c.ngrok.io/'), ('X-Forwarded-For', '121.136.235.190'), ('X-Forwarded-Proto', 'http'))}, 'result': {'data': '\"[1] [\\'sorry i dont like black [SEP] is he your boyfriend?\\']\"', 'http_status': 200, 'http_headers': (('Content-Type', 'application/json'),)}, 'request_id': '6334cb53-bb33-4472-b31c-4009175c8f66'}\n",
            "127.0.0.1 - - [08/Jul/2021 11:12:58] \"\u001b[37mPOST /chat HTTP/1.1\u001b[0m\" 200 -\n",
            "1 {'input_ids': [[101, 2003, 2002, 2115, 6898, 1029, 102, 1045, 2123, 2102, 2066, 2304, 102]], 'token_type_ids': [[0, 0, 0, 0, 0, 0, 0, 0, 0, 0, 0, 0, 0]], 'attention_mask': [[1, 1, 1, 1, 1, 1, 1, 1, 1, 1, 1, 1, 1]]}\n",
            "2 <TensorSliceDataset shapes: {input_ids: (13,), token_type_ids: (13,), attention_mask: (13,)}, types: {input_ids: tf.int32, token_type_ids: tf.int32, attention_mask: tf.int32}>\n",
            "3 (1, 256)\n",
            "4 [1]\n",
            "[2021-07-08 11:13:08,910] INFO - {'service_name': 'HatespeechDetector', 'service_version': '20210708110453_4FD7EB', 'api': 'chat', 'task': {'data': 'I dont like black', 'task_id': 'd37069db-3f48-4c9b-b3b0-dae4843d9fba', 'http_headers': (('Host', '1edb94f3956c.ngrok.io'), ('User-Agent', 'Mozilla/5.0 (Windows NT 10.0; Win64; x64) AppleWebKit/537.36 (KHTML, like Gecko) Chrome/91.0.4472.124 Safari/537.36'), ('Content-Length', '17'), ('Accept', '*/*'), ('Accept-Encoding', 'gzip, deflate'), ('Accept-Language', 'ko-KR,ko;q=0.9,en-US;q=0.8,en;q=0.7'), ('Content-Type', 'application/json'), ('Origin', 'http://1edb94f3956c.ngrok.io'), ('Referer', 'http://1edb94f3956c.ngrok.io/'), ('X-Forwarded-For', '121.136.235.190'), ('X-Forwarded-Proto', 'http'))}, 'result': {'data': '\"[1] [\\'is he your boyfriend? [SEP] i dont like black\\']\"', 'http_status': 200, 'http_headers': (('Content-Type', 'application/json'),)}, 'request_id': 'd37069db-3f48-4c9b-b3b0-dae4843d9fba'}\n",
            "127.0.0.1 - - [08/Jul/2021 11:13:08] \"\u001b[37mPOST /chat HTTP/1.1\u001b[0m\" 200 -\n",
            "1 {'input_ids': [[101, 1045, 2123, 2102, 2066, 2304, 102, 2017, 10587, 6865, 5833, 2007, 2014, 1029, 102]], 'token_type_ids': [[0, 0, 0, 0, 0, 0, 0, 0, 0, 0, 0, 0, 0, 0, 0]], 'attention_mask': [[1, 1, 1, 1, 1, 1, 1, 1, 1, 1, 1, 1, 1, 1, 1]]}\n",
            "2 <TensorSliceDataset shapes: {input_ids: (15,), token_type_ids: (15,), attention_mask: (15,)}, types: {input_ids: tf.int32, token_type_ids: tf.int32, attention_mask: tf.int32}>\n",
            "3 (1, 256)\n",
            "4 [1]\n",
            "[2021-07-08 11:13:31,641] INFO - {'service_name': 'HatespeechDetector', 'service_version': '20210708110453_4FD7EB', 'api': 'chat', 'task': {'data': 'you wanna hangout with her?', 'task_id': '94901b1d-da71-4efc-9b45-671cb315054d', 'http_headers': (('Host', '1edb94f3956c.ngrok.io'), ('User-Agent', 'Mozilla/5.0 (Windows NT 10.0; Win64; x64) AppleWebKit/537.36 (KHTML, like Gecko) Chrome/91.0.4472.124 Safari/537.36'), ('Content-Length', '27'), ('Accept', '*/*'), ('Accept-Encoding', 'gzip, deflate'), ('Accept-Language', 'ko-KR,ko;q=0.9,en-US;q=0.8,en;q=0.7'), ('Content-Type', 'application/json'), ('Origin', 'http://1edb94f3956c.ngrok.io'), ('Referer', 'http://1edb94f3956c.ngrok.io/'), ('X-Forwarded-For', '121.136.235.190'), ('X-Forwarded-Proto', 'http'))}, 'result': {'data': '\"[1] [\\'i dont like black [SEP] you wanna hangout with her?\\']\"', 'http_status': 200, 'http_headers': (('Content-Type', 'application/json'),)}, 'request_id': '94901b1d-da71-4efc-9b45-671cb315054d'}\n",
            "127.0.0.1 - - [08/Jul/2021 11:13:31] \"\u001b[37mPOST /chat HTTP/1.1\u001b[0m\" 200 -\n",
            "1 {'input_ids': [[101, 2017, 10587, 6865, 5833, 2007, 2014, 1029, 102, 2017, 10587, 6865, 5833, 2007, 2014, 1029, 102]], 'token_type_ids': [[0, 0, 0, 0, 0, 0, 0, 0, 0, 0, 0, 0, 0, 0, 0, 0, 0]], 'attention_mask': [[1, 1, 1, 1, 1, 1, 1, 1, 1, 1, 1, 1, 1, 1, 1, 1, 1]]}\n",
            "2 <TensorSliceDataset shapes: {input_ids: (17,), token_type_ids: (17,), attention_mask: (17,)}, types: {input_ids: tf.int32, token_type_ids: tf.int32, attention_mask: tf.int32}>\n",
            "3 (1, 256)\n",
            "4 [0]\n",
            "[2021-07-08 11:13:35,036] INFO - {'service_name': 'HatespeechDetector', 'service_version': '20210708110453_4FD7EB', 'api': 'chat', 'task': {'data': 'you wanna hangout with her?', 'task_id': 'fc9c1bb1-f3fb-46ce-8a8f-c7cb1929ca35', 'http_headers': (('Host', '1edb94f3956c.ngrok.io'), ('User-Agent', 'Mozilla/5.0 (Windows NT 10.0; Win64; x64) AppleWebKit/537.36 (KHTML, like Gecko) Chrome/91.0.4472.124 Safari/537.36'), ('Content-Length', '27'), ('Accept', '*/*'), ('Accept-Encoding', 'gzip, deflate'), ('Accept-Language', 'ko-KR,ko;q=0.9,en-US;q=0.8,en;q=0.7'), ('Content-Type', 'application/json'), ('Origin', 'http://1edb94f3956c.ngrok.io'), ('Referer', 'http://1edb94f3956c.ngrok.io/'), ('X-Forwarded-For', '121.136.235.190'), ('X-Forwarded-Proto', 'http'))}, 'result': {'data': '\"[0] [\\'you wanna hangout with her? [SEP] you wanna hangout with her?\\']\"', 'http_status': 200, 'http_headers': (('Content-Type', 'application/json'),)}, 'request_id': 'fc9c1bb1-f3fb-46ce-8a8f-c7cb1929ca35'}\n",
            "127.0.0.1 - - [08/Jul/2021 11:13:35] \"\u001b[37mPOST /chat HTTP/1.1\u001b[0m\" 200 -\n",
            "1 {'input_ids': [[101, 2017, 10587, 6865, 5833, 2007, 2014, 1029, 102, 2054, 2079, 2017, 2228, 2055, 4759, 102]], 'token_type_ids': [[0, 0, 0, 0, 0, 0, 0, 0, 0, 0, 0, 0, 0, 0, 0, 0]], 'attention_mask': [[1, 1, 1, 1, 1, 1, 1, 1, 1, 1, 1, 1, 1, 1, 1, 1]]}\n",
            "2 <TensorSliceDataset shapes: {input_ids: (16,), token_type_ids: (16,), attention_mask: (16,)}, types: {input_ids: tf.int32, token_type_ids: tf.int32, attention_mask: tf.int32}>\n",
            "3 (1, 256)\n",
            "4 [0]\n",
            "[2021-07-08 11:15:44,283] INFO - {'service_name': 'HatespeechDetector', 'service_version': '20210708110453_4FD7EB', 'api': 'chat', 'task': {'data': 'what do you think about korean', 'task_id': '41dc9a8d-e8fb-4a47-b6ed-5d1de834d9ec', 'http_headers': (('Host', '1edb94f3956c.ngrok.io'), ('User-Agent', 'Mozilla/5.0 (Windows NT 10.0; Win64; x64) AppleWebKit/537.36 (KHTML, like Gecko) Chrome/91.0.4472.124 Safari/537.36'), ('Content-Length', '30'), ('Accept', '*/*'), ('Accept-Encoding', 'gzip, deflate'), ('Accept-Language', 'ko-KR,ko;q=0.9,en-US;q=0.8,en;q=0.7'), ('Content-Type', 'application/json'), ('Origin', 'http://1edb94f3956c.ngrok.io'), ('Referer', 'http://1edb94f3956c.ngrok.io/'), ('X-Forwarded-For', '121.136.235.190'), ('X-Forwarded-Proto', 'http'))}, 'result': {'data': '\"[0] [\\'you wanna hangout with her? [SEP] what do you think about korean\\']\"', 'http_status': 200, 'http_headers': (('Content-Type', 'application/json'),)}, 'request_id': '41dc9a8d-e8fb-4a47-b6ed-5d1de834d9ec'}\n",
            "127.0.0.1 - - [08/Jul/2021 11:15:44] \"\u001b[37mPOST /chat HTTP/1.1\u001b[0m\" 200 -\n",
            "1 {'input_ids': [[101, 2054, 2079, 2017, 2228, 2055, 4759, 102, 2054, 2079, 2017, 2228, 2055, 4759, 102]], 'token_type_ids': [[0, 0, 0, 0, 0, 0, 0, 0, 0, 0, 0, 0, 0, 0, 0]], 'attention_mask': [[1, 1, 1, 1, 1, 1, 1, 1, 1, 1, 1, 1, 1, 1, 1]]}\n",
            "2 <TensorSliceDataset shapes: {input_ids: (15,), token_type_ids: (15,), attention_mask: (15,)}, types: {input_ids: tf.int32, token_type_ids: tf.int32, attention_mask: tf.int32}>\n",
            "3 (1, 256)\n",
            "4 [0]\n",
            "[2021-07-08 11:15:45,050] INFO - {'service_name': 'HatespeechDetector', 'service_version': '20210708110453_4FD7EB', 'api': 'chat', 'task': {'data': 'what do you think about korean', 'task_id': '486ca6b3-bd31-4bb2-9193-8f34a63abeb4', 'http_headers': (('Host', '1edb94f3956c.ngrok.io'), ('User-Agent', 'Mozilla/5.0 (Windows NT 10.0; Win64; x64) AppleWebKit/537.36 (KHTML, like Gecko) Chrome/91.0.4472.124 Safari/537.36'), ('Content-Length', '30'), ('Accept', '*/*'), ('Accept-Encoding', 'gzip, deflate'), ('Accept-Language', 'ko-KR,ko;q=0.9,en-US;q=0.8,en;q=0.7'), ('Content-Type', 'application/json'), ('Origin', 'http://1edb94f3956c.ngrok.io'), ('Referer', 'http://1edb94f3956c.ngrok.io/'), ('X-Forwarded-For', '121.136.235.190'), ('X-Forwarded-Proto', 'http'))}, 'result': {'data': '\"[0] [\\'what do you think about korean [SEP] what do you think about korean\\']\"', 'http_status': 200, 'http_headers': (('Content-Type', 'application/json'),)}, 'request_id': '486ca6b3-bd31-4bb2-9193-8f34a63abeb4'}\n",
            "127.0.0.1 - - [08/Jul/2021 11:15:45] \"\u001b[37mPOST /chat HTTP/1.1\u001b[0m\" 200 -\n",
            "1 {'input_ids': [[101, 2054, 2079, 2017, 2228, 2055, 4759, 102, 2017, 2064, 14315, 2012, 2122, 5622, 5910, 2035, 2154, 2027, 2123, 2102, 4952, 2021, 2065, 2017, 9436, 2594, 9307, 2068, 9582, 2027, 2064, 2102, 2202, 2009, 102]], 'token_type_ids': [[0, 0, 0, 0, 0, 0, 0, 0, 0, 0, 0, 0, 0, 0, 0, 0, 0, 0, 0, 0, 0, 0, 0, 0, 0, 0, 0, 0, 0, 0, 0, 0, 0, 0, 0]], 'attention_mask': [[1, 1, 1, 1, 1, 1, 1, 1, 1, 1, 1, 1, 1, 1, 1, 1, 1, 1, 1, 1, 1, 1, 1, 1, 1, 1, 1, 1, 1, 1, 1, 1, 1, 1, 1]]}\n",
            "2 <TensorSliceDataset shapes: {input_ids: (35,), token_type_ids: (35,), attention_mask: (35,)}, types: {input_ids: tf.int32, token_type_ids: tf.int32, attention_mask: tf.int32}>\n",
            "3 (1, 256)\n",
            "4 [1]\n",
            "[2021-07-08 11:17:11,072] INFO - {'service_name': 'HatespeechDetector', 'service_version': '20210708110453_4FD7EB', 'api': 'chat', 'task': {'data': 'you can yell at these libs all day they dont listen but if you ridicule them nationally they cant take it', 'task_id': '383ccbdb-fdfb-459c-a6e4-c8682fce7c0f', 'http_headers': (('Host', '1edb94f3956c.ngrok.io'), ('User-Agent', 'Mozilla/5.0 (Windows NT 10.0; Win64; x64) AppleWebKit/537.36 (KHTML, like Gecko) Chrome/91.0.4472.124 Safari/537.36'), ('Content-Length', '105'), ('Accept', '*/*'), ('Accept-Encoding', 'gzip, deflate'), ('Accept-Language', 'ko-KR,ko;q=0.9,en-US;q=0.8,en;q=0.7'), ('Content-Type', 'application/json'), ('Origin', 'http://1edb94f3956c.ngrok.io'), ('Referer', 'http://1edb94f3956c.ngrok.io/'), ('X-Forwarded-For', '121.136.235.190'), ('X-Forwarded-Proto', 'http'))}, 'result': {'data': '\"[1] [\\'what do you think about korean [SEP] you can yell at these libs all day they dont listen but if you ridicule them nationally they cant take it\\']\"', 'http_status': 200, 'http_headers': (('Content-Type', 'application/json'),)}, 'request_id': '383ccbdb-fdfb-459c-a6e4-c8682fce7c0f'}\n",
            "127.0.0.1 - - [08/Jul/2021 11:17:11] \"\u001b[37mPOST /chat HTTP/1.1\u001b[0m\" 200 -\n",
            "1 {'input_ids': [[101, 2017, 2064, 14315, 2012, 2122, 5622, 5910, 2035, 2154, 2027, 2123, 2102, 4952, 2021, 2065, 2017, 9436, 2594, 9307, 2068, 9582, 2027, 2064, 2102, 2202, 2009, 102, 2017, 2064, 14315, 2012, 2122, 5622, 5910, 2035, 2154, 2027, 2123, 2102, 4952, 2021, 2065, 2017, 9436, 2594, 9307, 2068, 9582, 2027, 2064, 2102, 2202, 2009, 102]], 'token_type_ids': [[0, 0, 0, 0, 0, 0, 0, 0, 0, 0, 0, 0, 0, 0, 0, 0, 0, 0, 0, 0, 0, 0, 0, 0, 0, 0, 0, 0, 0, 0, 0, 0, 0, 0, 0, 0, 0, 0, 0, 0, 0, 0, 0, 0, 0, 0, 0, 0, 0, 0, 0, 0, 0, 0, 0]], 'attention_mask': [[1, 1, 1, 1, 1, 1, 1, 1, 1, 1, 1, 1, 1, 1, 1, 1, 1, 1, 1, 1, 1, 1, 1, 1, 1, 1, 1, 1, 1, 1, 1, 1, 1, 1, 1, 1, 1, 1, 1, 1, 1, 1, 1, 1, 1, 1, 1, 1, 1, 1, 1, 1, 1, 1, 1]]}\n",
            "2 <TensorSliceDataset shapes: {input_ids: (55,), token_type_ids: (55,), attention_mask: (55,)}, types: {input_ids: tf.int32, token_type_ids: tf.int32, attention_mask: tf.int32}>\n",
            "3 (1, 256)\n",
            "4 [0]\n",
            "[2021-07-08 11:17:11,752] INFO - {'service_name': 'HatespeechDetector', 'service_version': '20210708110453_4FD7EB', 'api': 'chat', 'task': {'data': 'you can yell at these libs all day they dont listen but if you ridicule them nationally they cant take it', 'task_id': '5c99a2b2-71ae-41c2-bd92-05a92cd7bc15', 'http_headers': (('Host', '1edb94f3956c.ngrok.io'), ('User-Agent', 'Mozilla/5.0 (Windows NT 10.0; Win64; x64) AppleWebKit/537.36 (KHTML, like Gecko) Chrome/91.0.4472.124 Safari/537.36'), ('Content-Length', '105'), ('Accept', '*/*'), ('Accept-Encoding', 'gzip, deflate'), ('Accept-Language', 'ko-KR,ko;q=0.9,en-US;q=0.8,en;q=0.7'), ('Content-Type', 'application/json'), ('Origin', 'http://1edb94f3956c.ngrok.io'), ('Referer', 'http://1edb94f3956c.ngrok.io/'), ('X-Forwarded-For', '121.136.235.190'), ('X-Forwarded-Proto', 'http'))}, 'result': {'data': '\"[0] [\\'you can yell at these libs all day they dont listen but if you ridicule them nationally they cant take it [SEP] you can yell at these libs all day they dont listen but if you ridicule them nationally they cant take it\\']\"', 'http_status': 200, 'http_headers': (('Content-Type', 'application/json'),)}, 'request_id': '5c99a2b2-71ae-41c2-bd92-05a92cd7bc15'}\n",
            "127.0.0.1 - - [08/Jul/2021 11:17:11] \"\u001b[37mPOST /chat HTTP/1.1\u001b[0m\" 200 -\n",
            "1 {'input_ids': [[101, 2017, 2064, 14315, 2012, 2122, 5622, 5910, 2035, 2154, 2027, 2123, 2102, 4952, 2021, 2065, 2017, 9436, 2594, 9307, 2068, 9582, 2027, 2064, 2102, 2202, 2009, 102, 2054, 2079, 2017, 2228, 2055, 4759, 102]], 'token_type_ids': [[0, 0, 0, 0, 0, 0, 0, 0, 0, 0, 0, 0, 0, 0, 0, 0, 0, 0, 0, 0, 0, 0, 0, 0, 0, 0, 0, 0, 0, 0, 0, 0, 0, 0, 0]], 'attention_mask': [[1, 1, 1, 1, 1, 1, 1, 1, 1, 1, 1, 1, 1, 1, 1, 1, 1, 1, 1, 1, 1, 1, 1, 1, 1, 1, 1, 1, 1, 1, 1, 1, 1, 1, 1]]}\n",
            "2 <TensorSliceDataset shapes: {input_ids: (35,), token_type_ids: (35,), attention_mask: (35,)}, types: {input_ids: tf.int32, token_type_ids: tf.int32, attention_mask: tf.int32}>\n",
            "3 (1, 256)\n",
            "4 [0]\n",
            "[2021-07-08 11:18:16,439] INFO - {'service_name': 'HatespeechDetector', 'service_version': '20210708110453_4FD7EB', 'api': 'chat', 'task': {'data': 'what do you think about korean', 'task_id': '648e52dd-c12b-4236-81d8-bbd2bfadb97b', 'http_headers': (('Host', '1edb94f3956c.ngrok.io'), ('User-Agent', 'Mozilla/5.0 (Windows NT 10.0; Win64; x64) AppleWebKit/537.36 (KHTML, like Gecko) Chrome/91.0.4472.124 Safari/537.36'), ('Content-Length', '30'), ('Accept', '*/*'), ('Accept-Encoding', 'gzip, deflate'), ('Accept-Language', 'ko-KR,ko;q=0.9,en-US;q=0.8,en;q=0.7'), ('Content-Type', 'application/json'), ('Origin', 'http://1edb94f3956c.ngrok.io'), ('Referer', 'http://1edb94f3956c.ngrok.io/'), ('X-Forwarded-For', '121.136.235.190'), ('X-Forwarded-Proto', 'http'))}, 'result': {'data': '\"[0] [\\'you can yell at these libs all day they dont listen but if you ridicule them nationally they cant take it [SEP] what do you think about korean\\']\"', 'http_status': 200, 'http_headers': (('Content-Type', 'application/json'),)}, 'request_id': '648e52dd-c12b-4236-81d8-bbd2bfadb97b'}\n",
            "127.0.0.1 - - [08/Jul/2021 11:18:16] \"\u001b[37mPOST /chat HTTP/1.1\u001b[0m\" 200 -\n",
            "1 {'input_ids': [[101, 2054, 2079, 2017, 2228, 2055, 4759, 102, 2054, 2079, 2017, 2228, 2055, 4759, 102]], 'token_type_ids': [[0, 0, 0, 0, 0, 0, 0, 0, 0, 0, 0, 0, 0, 0, 0]], 'attention_mask': [[1, 1, 1, 1, 1, 1, 1, 1, 1, 1, 1, 1, 1, 1, 1]]}\n",
            "2 <TensorSliceDataset shapes: {input_ids: (15,), token_type_ids: (15,), attention_mask: (15,)}, types: {input_ids: tf.int32, token_type_ids: tf.int32, attention_mask: tf.int32}>\n",
            "3 (1, 256)\n",
            "4 [0]\n",
            "[2021-07-08 11:18:17,069] INFO - {'service_name': 'HatespeechDetector', 'service_version': '20210708110453_4FD7EB', 'api': 'chat', 'task': {'data': 'what do you think about korean', 'task_id': '4ca0bdb9-fb28-4b99-8b7c-6ff1019793f0', 'http_headers': (('Host', '1edb94f3956c.ngrok.io'), ('User-Agent', 'Mozilla/5.0 (Windows NT 10.0; Win64; x64) AppleWebKit/537.36 (KHTML, like Gecko) Chrome/91.0.4472.124 Safari/537.36'), ('Content-Length', '30'), ('Accept', '*/*'), ('Accept-Encoding', 'gzip, deflate'), ('Accept-Language', 'ko-KR,ko;q=0.9,en-US;q=0.8,en;q=0.7'), ('Content-Type', 'application/json'), ('Origin', 'http://1edb94f3956c.ngrok.io'), ('Referer', 'http://1edb94f3956c.ngrok.io/'), ('X-Forwarded-For', '121.136.235.190'), ('X-Forwarded-Proto', 'http'))}, 'result': {'data': '\"[0] [\\'what do you think about korean [SEP] what do you think about korean\\']\"', 'http_status': 200, 'http_headers': (('Content-Type', 'application/json'),)}, 'request_id': '4ca0bdb9-fb28-4b99-8b7c-6ff1019793f0'}\n",
            "127.0.0.1 - - [08/Jul/2021 11:18:17] \"\u001b[37mPOST /chat HTTP/1.1\u001b[0m\" 200 -\n",
            "1 {'input_ids': [[101, 2054, 2079, 2017, 2228, 2055, 4759, 102, 2017, 2064, 14315, 2012, 2122, 5622, 5910, 2035, 2154, 2027, 2123, 2102, 4952, 2021, 2065, 2017, 9436, 2594, 9307, 2068, 9582, 2027, 2064, 2102, 2202, 2009, 102]], 'token_type_ids': [[0, 0, 0, 0, 0, 0, 0, 0, 0, 0, 0, 0, 0, 0, 0, 0, 0, 0, 0, 0, 0, 0, 0, 0, 0, 0, 0, 0, 0, 0, 0, 0, 0, 0, 0]], 'attention_mask': [[1, 1, 1, 1, 1, 1, 1, 1, 1, 1, 1, 1, 1, 1, 1, 1, 1, 1, 1, 1, 1, 1, 1, 1, 1, 1, 1, 1, 1, 1, 1, 1, 1, 1, 1]]}\n",
            "2 <TensorSliceDataset shapes: {input_ids: (35,), token_type_ids: (35,), attention_mask: (35,)}, types: {input_ids: tf.int32, token_type_ids: tf.int32, attention_mask: tf.int32}>\n",
            "3 (1, 256)\n",
            "4 [1]\n",
            "[2021-07-08 11:18:59,633] INFO - {'service_name': 'HatespeechDetector', 'service_version': '20210708110453_4FD7EB', 'api': 'chat', 'task': {'data': 'you can yell at these libs all day they dont listen but if you ridicule them nationally they cant take it', 'task_id': '063f896f-0430-4de5-ac28-102fb38f0b67', 'http_headers': (('Host', '1edb94f3956c.ngrok.io'), ('User-Agent', 'Mozilla/5.0 (Windows NT 10.0; Win64; x64) AppleWebKit/537.36 (KHTML, like Gecko) Chrome/91.0.4472.124 Safari/537.36'), ('Content-Length', '105'), ('Accept', '*/*'), ('Accept-Encoding', 'gzip, deflate'), ('Accept-Language', 'ko-KR,ko;q=0.9,en-US;q=0.8,en;q=0.7'), ('Content-Type', 'application/json'), ('Origin', 'http://1edb94f3956c.ngrok.io'), ('Referer', 'http://1edb94f3956c.ngrok.io/'), ('X-Forwarded-For', '121.136.235.190'), ('X-Forwarded-Proto', 'http'))}, 'result': {'data': '\"[1] [\\'what do you think about korean [SEP] you can yell at these libs all day they dont listen but if you ridicule them nationally they cant take it\\']\"', 'http_status': 200, 'http_headers': (('Content-Type', 'application/json'),)}, 'request_id': '063f896f-0430-4de5-ac28-102fb38f0b67'}\n",
            "127.0.0.1 - - [08/Jul/2021 11:18:59] \"\u001b[37mPOST /chat HTTP/1.1\u001b[0m\" 200 -\n",
            "1 {'input_ids': [[101, 2017, 2064, 14315, 2012, 2122, 5622, 5910, 2035, 2154, 2027, 2123, 2102, 4952, 2021, 2065, 2017, 9436, 2594, 9307, 2068, 9582, 2027, 2064, 2102, 2202, 2009, 102, 2054, 2079, 2017, 2228, 2055, 4759, 1029, 102]], 'token_type_ids': [[0, 0, 0, 0, 0, 0, 0, 0, 0, 0, 0, 0, 0, 0, 0, 0, 0, 0, 0, 0, 0, 0, 0, 0, 0, 0, 0, 0, 0, 0, 0, 0, 0, 0, 0, 0]], 'attention_mask': [[1, 1, 1, 1, 1, 1, 1, 1, 1, 1, 1, 1, 1, 1, 1, 1, 1, 1, 1, 1, 1, 1, 1, 1, 1, 1, 1, 1, 1, 1, 1, 1, 1, 1, 1, 1]]}\n",
            "2 <TensorSliceDataset shapes: {input_ids: (36,), token_type_ids: (36,), attention_mask: (36,)}, types: {input_ids: tf.int32, token_type_ids: tf.int32, attention_mask: tf.int32}>\n",
            "3 (1, 256)\n",
            "4 [0]\n",
            "[2021-07-08 11:19:23,846] INFO - {'service_name': 'HatespeechDetector', 'service_version': '20210708110453_4FD7EB', 'api': 'chat', 'task': {'data': 'what do you think about korean?', 'task_id': 'b21daf59-7e72-4900-814b-7547fb1b3c65', 'http_headers': (('Host', '1edb94f3956c.ngrok.io'), ('User-Agent', 'Mozilla/5.0 (Windows NT 10.0; Win64; x64) AppleWebKit/537.36 (KHTML, like Gecko) Chrome/91.0.4472.124 Safari/537.36'), ('Content-Length', '31'), ('Accept', '*/*'), ('Accept-Encoding', 'gzip, deflate'), ('Accept-Language', 'ko-KR,ko;q=0.9,en-US;q=0.8,en;q=0.7'), ('Content-Type', 'application/json'), ('Origin', 'http://1edb94f3956c.ngrok.io'), ('Referer', 'http://1edb94f3956c.ngrok.io/'), ('X-Forwarded-For', '121.136.235.190'), ('X-Forwarded-Proto', 'http'))}, 'result': {'data': '\"[0] [\\'you can yell at these libs all day they dont listen but if you ridicule them nationally they cant take it [SEP] what do you think about korean?\\']\"', 'http_status': 200, 'http_headers': (('Content-Type', 'application/json'),)}, 'request_id': 'b21daf59-7e72-4900-814b-7547fb1b3c65'}\n",
            "127.0.0.1 - - [08/Jul/2021 11:19:23] \"\u001b[37mPOST /chat HTTP/1.1\u001b[0m\" 200 -\n",
            "1 {'input_ids': [[101, 2054, 2079, 2017, 2228, 2055, 4759, 1029, 102, 2054, 2079, 2017, 2228, 2055, 4759, 1029, 102]], 'token_type_ids': [[0, 0, 0, 0, 0, 0, 0, 0, 0, 0, 0, 0, 0, 0, 0, 0, 0]], 'attention_mask': [[1, 1, 1, 1, 1, 1, 1, 1, 1, 1, 1, 1, 1, 1, 1, 1, 1]]}\n",
            "2 <TensorSliceDataset shapes: {input_ids: (17,), token_type_ids: (17,), attention_mask: (17,)}, types: {input_ids: tf.int32, token_type_ids: tf.int32, attention_mask: tf.int32}>\n",
            "3 (1, 256)\n",
            "4 [0]\n",
            "[2021-07-08 11:19:28,561] INFO - {'service_name': 'HatespeechDetector', 'service_version': '20210708110453_4FD7EB', 'api': 'chat', 'task': {'data': 'what do you think about korean?', 'task_id': 'f3ab87d0-2623-46ad-b2bc-d5f091ab0fe7', 'http_headers': (('Host', '1edb94f3956c.ngrok.io'), ('User-Agent', 'Mozilla/5.0 (Windows NT 10.0; Win64; x64) AppleWebKit/537.36 (KHTML, like Gecko) Chrome/91.0.4472.124 Safari/537.36'), ('Content-Length', '31'), ('Accept', '*/*'), ('Accept-Encoding', 'gzip, deflate'), ('Accept-Language', 'ko-KR,ko;q=0.9,en-US;q=0.8,en;q=0.7'), ('Content-Type', 'application/json'), ('Origin', 'http://1edb94f3956c.ngrok.io'), ('Referer', 'http://1edb94f3956c.ngrok.io/'), ('X-Forwarded-For', '121.136.235.190'), ('X-Forwarded-Proto', 'http'))}, 'result': {'data': '\"[0] [\\'what do you think about korean? [SEP] what do you think about korean?\\']\"', 'http_status': 200, 'http_headers': (('Content-Type', 'application/json'),)}, 'request_id': 'f3ab87d0-2623-46ad-b2bc-d5f091ab0fe7'}\n",
            "127.0.0.1 - - [08/Jul/2021 11:19:28] \"\u001b[37mPOST /chat HTTP/1.1\u001b[0m\" 200 -\n",
            "1 {'input_ids': [[101, 2054, 2079, 2017, 2228, 2055, 4759, 1029, 102, 2017, 2064, 14315, 2012, 2122, 5622, 5910, 2035, 2154, 2027, 2123, 2102, 4952, 2021, 2065, 2017, 9436, 2594, 9307, 2068, 9582, 2027, 2064, 2102, 2202, 2009, 102]], 'token_type_ids': [[0, 0, 0, 0, 0, 0, 0, 0, 0, 0, 0, 0, 0, 0, 0, 0, 0, 0, 0, 0, 0, 0, 0, 0, 0, 0, 0, 0, 0, 0, 0, 0, 0, 0, 0, 0]], 'attention_mask': [[1, 1, 1, 1, 1, 1, 1, 1, 1, 1, 1, 1, 1, 1, 1, 1, 1, 1, 1, 1, 1, 1, 1, 1, 1, 1, 1, 1, 1, 1, 1, 1, 1, 1, 1, 1]]}\n",
            "2 <TensorSliceDataset shapes: {input_ids: (36,), token_type_ids: (36,), attention_mask: (36,)}, types: {input_ids: tf.int32, token_type_ids: tf.int32, attention_mask: tf.int32}>\n",
            "3 (1, 256)\n",
            "4 [0]\n",
            "[2021-07-08 11:19:37,635] INFO - {'service_name': 'HatespeechDetector', 'service_version': '20210708110453_4FD7EB', 'api': 'chat', 'task': {'data': 'you can yell at these libs all day they dont listen but if you ridicule them nationally they cant take it', 'task_id': '9d254a12-5100-4620-8682-30044785c0e9', 'http_headers': (('Host', '1edb94f3956c.ngrok.io'), ('User-Agent', 'Mozilla/5.0 (Windows NT 10.0; Win64; x64) AppleWebKit/537.36 (KHTML, like Gecko) Chrome/91.0.4472.124 Safari/537.36'), ('Content-Length', '105'), ('Accept', '*/*'), ('Accept-Encoding', 'gzip, deflate'), ('Accept-Language', 'ko-KR,ko;q=0.9,en-US;q=0.8,en;q=0.7'), ('Content-Type', 'application/json'), ('Origin', 'http://1edb94f3956c.ngrok.io'), ('Referer', 'http://1edb94f3956c.ngrok.io/'), ('X-Forwarded-For', '121.136.235.190'), ('X-Forwarded-Proto', 'http'))}, 'result': {'data': '\"[0] [\\'what do you think about korean? [SEP] you can yell at these libs all day they dont listen but if you ridicule them nationally they cant take it\\']\"', 'http_status': 200, 'http_headers': (('Content-Type', 'application/json'),)}, 'request_id': '9d254a12-5100-4620-8682-30044785c0e9'}\n",
            "127.0.0.1 - - [08/Jul/2021 11:19:37] \"\u001b[37mPOST /chat HTTP/1.1\u001b[0m\" 200 -\n",
            "1 {'input_ids': [[101, 2017, 2064, 14315, 2012, 2122, 5622, 5910, 2035, 2154, 2027, 2123, 2102, 4952, 2021, 2065, 2017, 9436, 2594, 9307, 2068, 9582, 2027, 2064, 2102, 2202, 2009, 102, 2129, 2079, 2017, 2228, 2055, 2032, 1029, 102]], 'token_type_ids': [[0, 0, 0, 0, 0, 0, 0, 0, 0, 0, 0, 0, 0, 0, 0, 0, 0, 0, 0, 0, 0, 0, 0, 0, 0, 0, 0, 0, 0, 0, 0, 0, 0, 0, 0, 0]], 'attention_mask': [[1, 1, 1, 1, 1, 1, 1, 1, 1, 1, 1, 1, 1, 1, 1, 1, 1, 1, 1, 1, 1, 1, 1, 1, 1, 1, 1, 1, 1, 1, 1, 1, 1, 1, 1, 1]]}\n",
            "2 <TensorSliceDataset shapes: {input_ids: (36,), token_type_ids: (36,), attention_mask: (36,)}, types: {input_ids: tf.int32, token_type_ids: tf.int32, attention_mask: tf.int32}>\n",
            "3 (1, 256)\n",
            "4 [0]\n",
            "[2021-07-08 11:20:59,171] INFO - {'service_name': 'HatespeechDetector', 'service_version': '20210708110453_4FD7EB', 'api': 'chat', 'task': {'data': 'how do you think about him?', 'task_id': 'e50f00a2-0ea0-49e5-9959-7adc5cb8cde7', 'http_headers': (('Host', '1edb94f3956c.ngrok.io'), ('User-Agent', 'Mozilla/5.0 (Windows NT 10.0; Win64; x64) AppleWebKit/537.36 (KHTML, like Gecko) Chrome/91.0.4472.124 Safari/537.36'), ('Content-Length', '27'), ('Accept', '*/*'), ('Accept-Encoding', 'gzip, deflate'), ('Accept-Language', 'ko-KR,ko;q=0.9,en-US;q=0.8,en;q=0.7'), ('Content-Type', 'application/json'), ('Origin', 'http://1edb94f3956c.ngrok.io'), ('Referer', 'http://1edb94f3956c.ngrok.io/'), ('X-Forwarded-For', '121.136.235.190'), ('X-Forwarded-Proto', 'http'))}, 'result': {'data': '\"[0] [\\'you can yell at these libs all day they dont listen but if you ridicule them nationally they cant take it [SEP] how do you think about him?\\']\"', 'http_status': 200, 'http_headers': (('Content-Type', 'application/json'),)}, 'request_id': 'e50f00a2-0ea0-49e5-9959-7adc5cb8cde7'}\n",
            "127.0.0.1 - - [08/Jul/2021 11:20:59] \"\u001b[37mPOST /chat HTTP/1.1\u001b[0m\" 200 -\n",
            "1 {'input_ids': [[101, 2129, 2079, 2017, 2228, 2055, 2032, 1029, 102, 3374, 1045, 2123, 2102, 2066, 2304, 102]], 'token_type_ids': [[0, 0, 0, 0, 0, 0, 0, 0, 0, 0, 0, 0, 0, 0, 0, 0]], 'attention_mask': [[1, 1, 1, 1, 1, 1, 1, 1, 1, 1, 1, 1, 1, 1, 1, 1]]}\n",
            "2 <TensorSliceDataset shapes: {input_ids: (16,), token_type_ids: (16,), attention_mask: (16,)}, types: {input_ids: tf.int32, token_type_ids: tf.int32, attention_mask: tf.int32}>\n",
            "3 (1, 256)\n",
            "4 [1]\n",
            "[2021-07-08 11:21:08,778] INFO - {'service_name': 'HatespeechDetector', 'service_version': '20210708110453_4FD7EB', 'api': 'chat', 'task': {'data': 'sorry i dont like black', 'task_id': '601cc58d-e427-4abd-a003-9a7ff4d19bd5', 'http_headers': (('Host', '1edb94f3956c.ngrok.io'), ('User-Agent', 'Mozilla/5.0 (Windows NT 10.0; Win64; x64) AppleWebKit/537.36 (KHTML, like Gecko) Chrome/91.0.4472.124 Safari/537.36'), ('Content-Length', '23'), ('Accept', '*/*'), ('Accept-Encoding', 'gzip, deflate'), ('Accept-Language', 'ko-KR,ko;q=0.9,en-US;q=0.8,en;q=0.7'), ('Content-Type', 'application/json'), ('Origin', 'http://1edb94f3956c.ngrok.io'), ('Referer', 'http://1edb94f3956c.ngrok.io/'), ('X-Forwarded-For', '121.136.235.190'), ('X-Forwarded-Proto', 'http'))}, 'result': {'data': '\"[1] [\\'how do you think about him? [SEP] sorry i dont like black\\']\"', 'http_status': 200, 'http_headers': (('Content-Type', 'application/json'),)}, 'request_id': '601cc58d-e427-4abd-a003-9a7ff4d19bd5'}\n",
            "127.0.0.1 - - [08/Jul/2021 11:21:08] \"\u001b[37mPOST /chat HTTP/1.1\u001b[0m\" 200 -\n"
          ],
          "name": "stdout"
        }
      ]
    }
  ]
}