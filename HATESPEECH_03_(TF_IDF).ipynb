{
  "nbformat": 4,
  "nbformat_minor": 0,
  "metadata": {
    "colab": {
      "name": "HATESPEECH_03_(TF-IDF).ipynb",
      "provenance": [],
      "collapsed_sections": [],
      "toc_visible": true,
      "machine_shape": "hm"
    },
    "kernelspec": {
      "display_name": "Python 3",
      "name": "python3"
    },
    "language_info": {
      "name": "python"
    },
    "accelerator": "TPU"
  },
  "cells": [
    {
      "cell_type": "markdown",
      "metadata": {
        "id": "xzFqtDp9eXAM"
      },
      "source": [
        "# Load data"
      ]
    },
    {
      "cell_type": "code",
      "metadata": {
        "id": "B9jItWXeeAK5"
      },
      "source": [
        "import pandas as pd\n",
        "df_cleaned = pd.read_csv(\"/content/drive/MyDrive/HateSpeech/TODA(CLEANED)/BERT/TODA_CLEANED_01.csv\").iloc[:,1:]\n",
        "df_cleaned = df_cleaned.dropna()"
      ],
      "execution_count": null,
      "outputs": []
    },
    {
      "cell_type": "code",
      "metadata": {
        "id": "3bjL0y3gfyAJ"
      },
      "source": [
        "df_typo = pd.read_csv(\"/content/drive/MyDrive/HateSpeech/TODA(CLEANED)/BERT/TODA_TYPO_01.csv\").iloc[:,1:]\n",
        "df_typo = df_typo.dropna()"
      ],
      "execution_count": null,
      "outputs": []
    },
    {
      "cell_type": "code",
      "metadata": {
        "colab": {
          "base_uri": "https://localhost:8080/",
          "height": 506
        },
        "id": "DOmumCm7f5pl",
        "outputId": "6655047a-351d-4ebb-ec38-d057c51847e2"
      },
      "source": [
        "print(df_cleaned.shape, df_typo.shape)\n",
        "pd.concat([df_typo.sample(5,random_state=2),df_cleaned.sample(5,random_state=2)]).sort_index()"
      ],
      "execution_count": null,
      "outputs": [
        {
          "output_type": "stream",
          "text": [
            "(321596, 6) (321596, 7)\n"
          ],
          "name": "stdout"
        },
        {
          "output_type": "execute_result",
          "data": {
            "text/html": [
              "<div>\n",
              "<style scoped>\n",
              "    .dataframe tbody tr th:only-of-type {\n",
              "        vertical-align: middle;\n",
              "    }\n",
              "\n",
              "    .dataframe tbody tr th {\n",
              "        vertical-align: top;\n",
              "    }\n",
              "\n",
              "    .dataframe thead th {\n",
              "        text-align: right;\n",
              "    }\n",
              "</style>\n",
              "<table border=\"1\" class=\"dataframe\">\n",
              "  <thead>\n",
              "    <tr style=\"text-align: right;\">\n",
              "      <th></th>\n",
              "      <th>text_raw</th>\n",
              "      <th>text_cleaned</th>\n",
              "      <th>typo_corrected</th>\n",
              "      <th>tokens_raw</th>\n",
              "      <th>tokens_stop</th>\n",
              "      <th>tokens_stems</th>\n",
              "      <th>class</th>\n",
              "    </tr>\n",
              "  </thead>\n",
              "  <tbody>\n",
              "    <tr>\n",
              "      <th>16876</th>\n",
              "      <td>RT @unpccomix: @MT8_9 Thought you might like o...</td>\n",
              "      <td>rt   thought you might like one of my comics f...</td>\n",
              "      <td>rt   thought you might like one of my comics f...</td>\n",
              "      <td>['rt', '  ', 'thought', 'you', 'might', 'like'...</td>\n",
              "      <td>['rt', 'thought', 'like', 'comics', 'unc', 'co...</td>\n",
              "      <td>['rt', 'thought', 'like', 'comic', 'unc', 'com...</td>\n",
              "      <td>1</td>\n",
              "    </tr>\n",
              "    <tr>\n",
              "      <th>16876</th>\n",
              "      <td>RT @unpccomix: @MT8_9 Thought you might like o...</td>\n",
              "      <td>rt   thought you might like one of my comics f...</td>\n",
              "      <td>NaN</td>\n",
              "      <td>['rt', '  ', 'thought', 'you', 'might', 'like'...</td>\n",
              "      <td>['rt', 'thought', 'like', 'comics', 'unpc', 'c...</td>\n",
              "      <td>['rt', 'thought', 'like', 'comic', 'unpc', 'co...</td>\n",
              "      <td>1</td>\n",
              "    </tr>\n",
              "    <tr>\n",
              "      <th>34651</th>\n",
              "      <td>Here's some unoriginal thought, or in other wo...</td>\n",
              "      <td>here's some unoriginal thought or in other wor...</td>\n",
              "      <td>here's some unoriginal thought or in other wor...</td>\n",
              "      <td>[\"here's\", 'some', 'unoriginal', 'thought', 'o...</td>\n",
              "      <td>['unoriginal', 'thought', 'words', 'widely', '...</td>\n",
              "      <td>['unorigin', 'thought', 'word', 'wide', 'known...</td>\n",
              "      <td>1</td>\n",
              "    </tr>\n",
              "    <tr>\n",
              "      <th>34651</th>\n",
              "      <td>Here's some unoriginal thought, or in other wo...</td>\n",
              "      <td>here's some unoriginal thought or in other wor...</td>\n",
              "      <td>NaN</td>\n",
              "      <td>[\"here's\", 'some', 'unoriginal', 'thought', 'o...</td>\n",
              "      <td>['unoriginal', 'thought', 'words', 'widely', '...</td>\n",
              "      <td>['unorigin', 'thought', 'word', 'wide', 'known...</td>\n",
              "      <td>1</td>\n",
              "    </tr>\n",
              "    <tr>\n",
              "      <th>61054</th>\n",
              "      <td>Quack quack.</td>\n",
              "      <td>quack quack</td>\n",
              "      <td>quack quack</td>\n",
              "      <td>['quack', 'quack']</td>\n",
              "      <td>['quack', 'quack']</td>\n",
              "      <td>['quack', 'quack']</td>\n",
              "      <td>0</td>\n",
              "    </tr>\n",
              "    <tr>\n",
              "      <th>61054</th>\n",
              "      <td>Quack quack.</td>\n",
              "      <td>quack quack</td>\n",
              "      <td>NaN</td>\n",
              "      <td>['quack', 'quack']</td>\n",
              "      <td>['quack', 'quack']</td>\n",
              "      <td>['quack', 'quack']</td>\n",
              "      <td>0</td>\n",
              "    </tr>\n",
              "    <tr>\n",
              "      <th>86760</th>\n",
              "      <td>Do you think placing a win cork up one's ass i...</td>\n",
              "      <td>do you think placing a win cork up one's ass i...</td>\n",
              "      <td>do you think placing a win cork up one's ass i...</td>\n",
              "      <td>['do', 'you', 'think', 'placing', 'a', 'win', ...</td>\n",
              "      <td>['think', 'placing', 'win', 'cork', 'ass', 'ef...</td>\n",
              "      <td>['think', 'place', 'win', 'cork', 'ass', 'effe...</td>\n",
              "      <td>0</td>\n",
              "    </tr>\n",
              "    <tr>\n",
              "      <th>86760</th>\n",
              "      <td>Do you think placing a win cork up one's ass i...</td>\n",
              "      <td>do you think placing a win cork up one's ass i...</td>\n",
              "      <td>NaN</td>\n",
              "      <td>['do', 'you', 'think', 'placing', 'a', 'win', ...</td>\n",
              "      <td>['think', 'placing', 'win', 'cork', 'ass', 'ef...</td>\n",
              "      <td>['think', 'place', 'win', 'cork', 'ass', 'effe...</td>\n",
              "      <td>0</td>\n",
              "    </tr>\n",
              "    <tr>\n",
              "      <th>189435</th>\n",
              "      <td>\"\\n\\n Policy references and wiki syntax \\n\\nMy...</td>\n",
              "      <td>policy references and wiki syntax my apologie...</td>\n",
              "      <td>policy references and wiki syntax my apologie...</td>\n",
              "      <td>[' ', 'policy', 'references', 'and', 'wiki', '...</td>\n",
              "      <td>['policy', 'references', 'wiki', 'syntax', 'ap...</td>\n",
              "      <td>['polici', 'refer', 'wiki', 'syntax', 'apolog'...</td>\n",
              "      <td>0</td>\n",
              "    </tr>\n",
              "    <tr>\n",
              "      <th>189435</th>\n",
              "      <td>\"\\n\\n Policy references and wiki syntax \\n\\nMy...</td>\n",
              "      <td>policy references and wiki syntax my apologie...</td>\n",
              "      <td>NaN</td>\n",
              "      <td>[' ', 'policy', 'references', 'and', 'wiki', '...</td>\n",
              "      <td>['policy', 'references', 'wiki', 'syntax', 'ap...</td>\n",
              "      <td>['polici', 'refer', 'wiki', 'syntax', 'apolog'...</td>\n",
              "      <td>0</td>\n",
              "    </tr>\n",
              "  </tbody>\n",
              "</table>\n",
              "</div>"
            ],
            "text/plain": [
              "                                                 text_raw  ... class\n",
              "16876   RT @unpccomix: @MT8_9 Thought you might like o...  ...     1\n",
              "16876   RT @unpccomix: @MT8_9 Thought you might like o...  ...     1\n",
              "34651   Here's some unoriginal thought, or in other wo...  ...     1\n",
              "34651   Here's some unoriginal thought, or in other wo...  ...     1\n",
              "61054                                        Quack quack.  ...     0\n",
              "61054                                        Quack quack.  ...     0\n",
              "86760   Do you think placing a win cork up one's ass i...  ...     0\n",
              "86760   Do you think placing a win cork up one's ass i...  ...     0\n",
              "189435  \"\\n\\n Policy references and wiki syntax \\n\\nMy...  ...     0\n",
              "189435  \"\\n\\n Policy references and wiki syntax \\n\\nMy...  ...     0\n",
              "\n",
              "[10 rows x 7 columns]"
            ]
          },
          "metadata": {
            "tags": []
          },
          "execution_count": 3
        }
      ]
    },
    {
      "cell_type": "markdown",
      "metadata": {
        "id": "f50SKR-aCskD"
      },
      "source": [
        "# TF-IDF"
      ]
    },
    {
      "cell_type": "markdown",
      "metadata": {
        "id": "TSOaLUkqh_Z4"
      },
      "source": [
        "## TfidfVectorizer"
      ]
    },
    {
      "cell_type": "code",
      "metadata": {
        "id": "YhhMLe5dMavK"
      },
      "source": [
        "from sklearn.feature_extraction.text import CountVectorizer, TfidfVectorizer"
      ],
      "execution_count": null,
      "outputs": []
    },
    {
      "cell_type": "code",
      "metadata": {
        "id": "nlofaMvPCtzb"
      },
      "source": [
        "tfidf = TfidfVectorizer(stop_words='english'\n",
        "                        ,ngram_range = (1,2)\n",
        "                        ,max_df = 0.7\n",
        "                        ,min_df = 3\n",
        "                        ,max_features = 10000\n",
        "                        )"
      ],
      "execution_count": null,
      "outputs": []
    },
    {
      "cell_type": "markdown",
      "metadata": {
        "id": "fcKoJX-LCxOf"
      },
      "source": [
        "## Transform"
      ]
    },
    {
      "cell_type": "code",
      "metadata": {
        "colab": {
          "base_uri": "https://localhost:8080/"
        },
        "id": "xBl3f9BciTDD",
        "outputId": "cdd83f16-2084-479c-e5c1-431d73209b76"
      },
      "source": [
        "## CLENAED DATA\n",
        "\n",
        "# RAW\n",
        "df_clean_raw_tfidf = tfidf.fit_transform(df_cleaned['tokens_raw'])\n",
        "print('df_clean_raw_tfidf Done!!!')\n",
        "\n",
        "# STOPWORD\n",
        "df_clean_stopword_tfidf = tfidf.fit_transform(df_cleaned['tokens_stop'])\n",
        "print('df_clean_stopword_tfidf Done!!!')\n",
        "\n",
        "# STOPWORD & STEMMING\n",
        "df_clean_stemming_tfidf = tfidf.fit_transform(df_cleaned['tokens_stems'])\n",
        "print('df_clean_stemming_tfidf Done!!!')"
      ],
      "execution_count": null,
      "outputs": [
        {
          "output_type": "stream",
          "text": [
            "df_clean_raw_tfidf Done!!!\n",
            "df_clean_stopword_tfidf Done!!!\n",
            "df_clean_stemming_tfidf Done!!!\n"
          ],
          "name": "stdout"
        }
      ]
    },
    {
      "cell_type": "code",
      "metadata": {
        "colab": {
          "base_uri": "https://localhost:8080/"
        },
        "id": "XZ1fqjpOgZ15",
        "outputId": "329a6045-7214-449c-fbcd-f12a750f09e3"
      },
      "source": [
        "## TYPO DATA\n",
        "\n",
        "# RAW\n",
        "df_typo_raw_tfidf = tfidf.fit_transform(df_typo['tokens_raw'])\n",
        "print('df_typo_raw_tfidf Done!!!')\n",
        "\n",
        "# STOPWORD\n",
        "df_typo_stopword_tfidf = tfidf.fit_transform(df_typo['tokens_stop'])\n",
        "print('df_typo_stopword_tfidf Done!!!')\n",
        "\n",
        "# STOPWORD & STEMMING\n",
        "df_typo_stemming_tfidf = tfidf.fit_transform(df_typo['tokens_stems'])\n",
        "print('df_typo_stemming_tfidf Done!!!')"
      ],
      "execution_count": null,
      "outputs": [
        {
          "output_type": "stream",
          "text": [
            "df_typo_raw_tfidf Done!!!\n",
            "df_typo_stopword_tfidf Done!!!\n",
            "df_typo_stemming_tfidf Done!!!\n"
          ],
          "name": "stdout"
        }
      ]
    },
    {
      "cell_type": "markdown",
      "metadata": {
        "id": "HBgj3UzHiCus"
      },
      "source": [
        "##  TF-IDF DF"
      ]
    },
    {
      "cell_type": "markdown",
      "metadata": {
        "id": "YyNIGFYJoDYr"
      },
      "source": [
        "# Modeling"
      ]
    },
    {
      "cell_type": "code",
      "metadata": {
        "colab": {
          "base_uri": "https://localhost:8080/",
          "height": 48
        },
        "id": "V_oKJ-OZpDAa",
        "outputId": "c4cdfa37-85c5-400e-929c-5b8875f9009c"
      },
      "source": [
        "import pandas as pd\n",
        "import numpy as np\n",
        "\n",
        "eval = pd.DataFrame([[np.nan for i in range(11)]])\n",
        "eval.columns = ['Model','Dataset','K_fold','Train_Score(ACC)','Train_Score(ROC_AUC)','Train_Score(F1)','Test_Score(ACC)','Test_Score(ROC_AUC)','Test_Score(F1)','Inference_Time','words_nums']\n",
        "eval = eval.iloc[1:]\n",
        "eval"
      ],
      "execution_count": null,
      "outputs": [
        {
          "output_type": "execute_result",
          "data": {
            "text/html": [
              "<div>\n",
              "<style scoped>\n",
              "    .dataframe tbody tr th:only-of-type {\n",
              "        vertical-align: middle;\n",
              "    }\n",
              "\n",
              "    .dataframe tbody tr th {\n",
              "        vertical-align: top;\n",
              "    }\n",
              "\n",
              "    .dataframe thead th {\n",
              "        text-align: right;\n",
              "    }\n",
              "</style>\n",
              "<table border=\"1\" class=\"dataframe\">\n",
              "  <thead>\n",
              "    <tr style=\"text-align: right;\">\n",
              "      <th></th>\n",
              "      <th>Model</th>\n",
              "      <th>Dataset</th>\n",
              "      <th>K_fold</th>\n",
              "      <th>Train_Score(ACC)</th>\n",
              "      <th>Train_Score(ROC_AUC)</th>\n",
              "      <th>Train_Score(F1)</th>\n",
              "      <th>Test_Score(ACC)</th>\n",
              "      <th>Test_Score(ROC_AUC)</th>\n",
              "      <th>Test_Score(F1)</th>\n",
              "      <th>Inference_Time</th>\n",
              "      <th>words_nums</th>\n",
              "    </tr>\n",
              "  </thead>\n",
              "  <tbody>\n",
              "  </tbody>\n",
              "</table>\n",
              "</div>"
            ],
            "text/plain": [
              "Empty DataFrame\n",
              "Columns: [Model, Dataset, K_fold, Train_Score(ACC), Train_Score(ROC_AUC), Train_Score(F1), Test_Score(ACC), Test_Score(ROC_AUC), Test_Score(F1), Inference_Time, words_nums]\n",
              "Index: []"
            ]
          },
          "metadata": {
            "tags": []
          },
          "execution_count": 8
        }
      ]
    },
    {
      "cell_type": "code",
      "metadata": {
        "id": "OQU353hjsZgJ"
      },
      "source": [
        "dataset_list = [df_clean_raw_tfidf\n",
        ",df_clean_stopword_tfidf\n",
        ",df_clean_stemming_tfidf\n",
        ",df_typo_raw_tfidf\n",
        ",df_typo_stopword_tfidf\n",
        ",df_typo_stemming_tfidf]\n",
        "\n",
        "dataset_name = [\"Clean_Raw\"\n",
        ",\"Clean_Stopword\"\n",
        ",\"Clean_Stemming\"\n",
        ",\"Typo_Raw\"\n",
        ",\"Typo_Stopword\"\n",
        ",\"Typo_Stemming\"]\n",
        "\n",
        "dataset = {na:li for na,li in zip(dataset_name,dataset_list)}"
      ],
      "execution_count": null,
      "outputs": []
    },
    {
      "cell_type": "markdown",
      "metadata": {
        "id": "Y4wgZTX-v7Hf"
      },
      "source": [
        "## K_Fold"
      ]
    },
    {
      "cell_type": "code",
      "metadata": {
        "id": "I0FlvV6s1WHi"
      },
      "source": [
        "import ast\n",
        "df_cleaned['tokens_raw'] = df_cleaned['tokens_raw'].apply(lambda x : ast.literal_eval(x))"
      ],
      "execution_count": null,
      "outputs": []
    },
    {
      "cell_type": "code",
      "metadata": {
        "colab": {
          "base_uri": "https://localhost:8080/"
        },
        "id": "dIkucNLlwAJS",
        "outputId": "ebdf32a0-62ab-4dc4-d50f-3c7a1530799a"
      },
      "source": [
        "from sklearn.model_selection import KFold\n",
        "# K_Fold Cross Validation\n",
        "kf = KFold(n_splits=5,random_state=42)\n",
        "K_FOLD_LIST = []\n",
        "k=1\n",
        "for train_index, test_index in kf.split(df_cleaned):\n",
        "  K_FOLD_LIST.append([train_index, test_index,k,df_cleaned['tokens_raw'].iloc[test_index].apply(len).sum()])\n",
        "  k+=1"
      ],
      "execution_count": null,
      "outputs": [
        {
          "output_type": "stream",
          "text": [
            "/usr/local/lib/python3.7/dist-packages/sklearn/model_selection/_split.py:296: FutureWarning: Setting a random_state has no effect since shuffle is False. This will raise an error in 0.24. You should leave random_state to its default (None), or set shuffle=True.\n",
            "  FutureWarning\n"
          ],
          "name": "stderr"
        }
      ]
    },
    {
      "cell_type": "code",
      "metadata": {
        "colab": {
          "base_uri": "https://localhost:8080/"
        },
        "id": "Df3un2fWxYZc",
        "outputId": "8656eb03-af9f-45a2-e1d3-ef3e880515ef"
      },
      "source": [
        "print(\"train index\\t\\t\\t\\t\\ttest index\\t\\t\\t\\t\\tk   word nums\")\n",
        "print(K_FOLD_LIST[0][0],K_FOLD_LIST[0][1],\"     \",K_FOLD_LIST[0][2],K_FOLD_LIST[0][3])\n",
        "print(K_FOLD_LIST[1][0],K_FOLD_LIST[1][1],K_FOLD_LIST[1][2],K_FOLD_LIST[1][3])\n",
        "print(K_FOLD_LIST[2][0],K_FOLD_LIST[2][1],K_FOLD_LIST[2][2],K_FOLD_LIST[2][3])\n",
        "print(K_FOLD_LIST[3][0],K_FOLD_LIST[3][1],K_FOLD_LIST[3][2],K_FOLD_LIST[3][3])\n",
        "print(K_FOLD_LIST[4][0],K_FOLD_LIST[4][1],K_FOLD_LIST[4][2],K_FOLD_LIST[4][3])"
      ],
      "execution_count": null,
      "outputs": [
        {
          "output_type": "stream",
          "text": [
            "train index\t\t\t\t\ttest index\t\t\t\t\tk   word nums\n",
            "[ 64320  64321  64322 ... 321593 321594 321595] [    0     1     2 ... 64317 64318 64319]       1 1955231\n",
            "[     0      1      2 ... 321593 321594 321595] [ 64320  64321  64322 ... 128636 128637 128638] 2 1939953\n",
            "[     0      1      2 ... 321593 321594 321595] [128639 128640 128641 ... 192955 192956 192957] 3 1951304\n",
            "[     0      1      2 ... 321593 321594 321595] [192958 192959 192960 ... 257274 257275 257276] 4 1941812\n",
            "[     0      1      2 ... 257274 257275 257276] [257277 257278 257279 ... 321593 321594 321595] 5 1935521\n"
          ],
          "name": "stdout"
        }
      ]
    },
    {
      "cell_type": "markdown",
      "metadata": {
        "id": "GD2hrN6loFkB"
      },
      "source": [
        "## Logistic Classification\n",
        "\n"
      ]
    },
    {
      "cell_type": "code",
      "metadata": {
        "id": "k0uhHdSitiTR"
      },
      "source": [
        "import time\n",
        "from sklearn.metrics import accuracy_score, roc_auc_score, f1_score"
      ],
      "execution_count": null,
      "outputs": []
    },
    {
      "cell_type": "code",
      "metadata": {
        "colab": {
          "base_uri": "https://localhost:8080/",
          "height": 1000
        },
        "id": "EMwweVv-oElA",
        "outputId": "0c95ac02-e958-4f14-8f8f-4e13eb926dfe"
      },
      "source": [
        "from sklearn.linear_model import LogisticRegression\n",
        "\n",
        "eval = pd.DataFrame([[np.nan for i in range(11)]])\n",
        "eval.columns = ['Model','Dataset','K_fold','Train_Score(ACC)','Train_Score(ROC_AUC)','Train_Score(F1)','Test_Score(ACC)','Test_Score(ROC_AUC)','Test_Score(F1)','Inference_Time','words_nums']\n",
        "eval = eval.iloc[1:]\n",
        "eval\n",
        "\n",
        "LR = LogisticRegression()\n",
        "\n",
        "for data_name in dataset_name:\n",
        "  # Performance Base DataFrame\n",
        "  LR_list_base = ['LogisticRegression']\n",
        "  LR_list_base.append(data_name)\n",
        "\n",
        "  # Load Data\n",
        "  X = dataset[data_name]\n",
        "  y = df_cleaned['class']\n",
        "\n",
        "  # K_Fold Cross Validation\n",
        "  for train_index, test_index, k, word_nums in K_FOLD_LIST:\n",
        "    # Get Train, Test\n",
        "    X_train, X_test = X[train_index], X[test_index]\n",
        "    y_train, y_test = y.iloc[train_index], y.iloc[test_index]\n",
        "\n",
        "    # Fit and Inference\n",
        "    LR.fit(X_train,y_train)\n",
        "    print(f\"{data_name} - {k} Trained\")\n",
        "    fitted = LR.predict(X_train)\n",
        "    fitted_proba = LR.predict_proba(X_train)\n",
        "    start = time.time()\n",
        "    pred = LR.predict(X_test)\n",
        "    inference_time = time.time()-start\n",
        "    pred_proba = LR.predict_proba(X_test)\n",
        "    print(f\"{data_name} - {k} Inferenced : {inference_time}s\",end='\\t')\n",
        "    # Evaluate\n",
        "    train_acc = accuracy_score(y_train,fitted)\n",
        "    train_auc = roc_auc_score(y_train,fitted_proba[:,1])\n",
        "    train_f1 = f1_score(y_train,fitted)\n",
        "    test_acc = accuracy_score(y_test,pred)\n",
        "    test_auc = roc_auc_score(y_test,pred_proba[:,1])\n",
        "    test_f1 = f1_score(y_test,pred)\n",
        "    print(f\"train ACC : {train_acc} test ACC : {test_acc} test F1 : {test_f1}\")\n",
        "\n",
        "    LR_list = LR_list_base.copy()\n",
        "    LR_list.append(k)\n",
        "    LR_list.append(train_acc)\n",
        "    LR_list.append(train_auc)\n",
        "    LR_list.append(train_f1)\n",
        "    LR_list.append(test_acc)\n",
        "    LR_list.append(test_auc)\n",
        "    LR_list.append(test_f1)\n",
        "    LR_list.append(inference_time)\n",
        "    LR_list.append(word_nums)\n",
        "\n",
        "    eval = eval.append(pd.DataFrame([LR_list],columns=eval.columns))\n",
        "eval"
      ],
      "execution_count": null,
      "outputs": [
        {
          "output_type": "stream",
          "text": [
            "/usr/local/lib/python3.7/dist-packages/sklearn/linear_model/_logistic.py:940: ConvergenceWarning: lbfgs failed to converge (status=1):\n",
            "STOP: TOTAL NO. of ITERATIONS REACHED LIMIT.\n",
            "\n",
            "Increase the number of iterations (max_iter) or scale the data as shown in:\n",
            "    https://scikit-learn.org/stable/modules/preprocessing.html\n",
            "Please also refer to the documentation for alternative solver options:\n",
            "    https://scikit-learn.org/stable/modules/linear_model.html#logistic-regression\n",
            "  extra_warning_msg=_LOGISTIC_SOLVER_CONVERGENCE_MSG)\n"
          ],
          "name": "stderr"
        },
        {
          "output_type": "stream",
          "text": [
            "Clean_Raw - 1 Trained\n",
            "Clean_Raw - 1 Inferenced : 0.004323005676269531s\ttrain ACC : 0.9280111631088792 test ACC : 0.924580223880597 test F1 : 0.7993381592554291\n"
          ],
          "name": "stdout"
        },
        {
          "output_type": "stream",
          "text": [
            "/usr/local/lib/python3.7/dist-packages/sklearn/linear_model/_logistic.py:940: ConvergenceWarning: lbfgs failed to converge (status=1):\n",
            "STOP: TOTAL NO. of ITERATIONS REACHED LIMIT.\n",
            "\n",
            "Increase the number of iterations (max_iter) or scale the data as shown in:\n",
            "    https://scikit-learn.org/stable/modules/preprocessing.html\n",
            "Please also refer to the documentation for alternative solver options:\n",
            "    https://scikit-learn.org/stable/modules/linear_model.html#logistic-regression\n",
            "  extra_warning_msg=_LOGISTIC_SOLVER_CONVERGENCE_MSG)\n"
          ],
          "name": "stderr"
        },
        {
          "output_type": "stream",
          "text": [
            "Clean_Raw - 2 Trained\n",
            "Clean_Raw - 2 Inferenced : 0.003996849060058594s\ttrain ACC : 0.9278209867185951 test ACC : 0.9247345263452479 test F1 : 0.8011828001149945\n"
          ],
          "name": "stdout"
        },
        {
          "output_type": "stream",
          "text": [
            "/usr/local/lib/python3.7/dist-packages/sklearn/linear_model/_logistic.py:940: ConvergenceWarning: lbfgs failed to converge (status=1):\n",
            "STOP: TOTAL NO. of ITERATIONS REACHED LIMIT.\n",
            "\n",
            "Increase the number of iterations (max_iter) or scale the data as shown in:\n",
            "    https://scikit-learn.org/stable/modules/preprocessing.html\n",
            "Please also refer to the documentation for alternative solver options:\n",
            "    https://scikit-learn.org/stable/modules/linear_model.html#logistic-regression\n",
            "  extra_warning_msg=_LOGISTIC_SOLVER_CONVERGENCE_MSG)\n"
          ],
          "name": "stderr"
        },
        {
          "output_type": "stream",
          "text": [
            "Clean_Raw - 3 Trained\n",
            "Clean_Raw - 3 Inferenced : 0.004045963287353516s\ttrain ACC : 0.9280580852544145 test ACC : 0.9234596309022217 test F1 : 0.7980473397054602\n"
          ],
          "name": "stdout"
        },
        {
          "output_type": "stream",
          "text": [
            "/usr/local/lib/python3.7/dist-packages/sklearn/linear_model/_logistic.py:940: ConvergenceWarning: lbfgs failed to converge (status=1):\n",
            "STOP: TOTAL NO. of ITERATIONS REACHED LIMIT.\n",
            "\n",
            "Increase the number of iterations (max_iter) or scale the data as shown in:\n",
            "    https://scikit-learn.org/stable/modules/preprocessing.html\n",
            "Please also refer to the documentation for alternative solver options:\n",
            "    https://scikit-learn.org/stable/modules/linear_model.html#logistic-regression\n",
            "  extra_warning_msg=_LOGISTIC_SOLVER_CONVERGENCE_MSG)\n"
          ],
          "name": "stderr"
        },
        {
          "output_type": "stream",
          "text": [
            "Clean_Raw - 4 Trained\n",
            "Clean_Raw - 4 Inferenced : 0.004014253616333008s\ttrain ACC : 0.9278520816085386 test ACC : 0.9236151059562493 test F1 : 0.7979602747049389\n"
          ],
          "name": "stdout"
        },
        {
          "output_type": "stream",
          "text": [
            "/usr/local/lib/python3.7/dist-packages/sklearn/linear_model/_logistic.py:940: ConvergenceWarning: lbfgs failed to converge (status=1):\n",
            "STOP: TOTAL NO. of ITERATIONS REACHED LIMIT.\n",
            "\n",
            "Increase the number of iterations (max_iter) or scale the data as shown in:\n",
            "    https://scikit-learn.org/stable/modules/preprocessing.html\n",
            "Please also refer to the documentation for alternative solver options:\n",
            "    https://scikit-learn.org/stable/modules/linear_model.html#logistic-regression\n",
            "  extra_warning_msg=_LOGISTIC_SOLVER_CONVERGENCE_MSG)\n"
          ],
          "name": "stderr"
        },
        {
          "output_type": "stream",
          "text": [
            "Clean_Raw - 5 Trained\n",
            "Clean_Raw - 5 Inferenced : 0.003793001174926758s\ttrain ACC : 0.9283651472926068 test ACC : 0.9229465632239308 test F1 : 0.7961668174714156\n"
          ],
          "name": "stdout"
        },
        {
          "output_type": "stream",
          "text": [
            "/usr/local/lib/python3.7/dist-packages/sklearn/linear_model/_logistic.py:940: ConvergenceWarning: lbfgs failed to converge (status=1):\n",
            "STOP: TOTAL NO. of ITERATIONS REACHED LIMIT.\n",
            "\n",
            "Increase the number of iterations (max_iter) or scale the data as shown in:\n",
            "    https://scikit-learn.org/stable/modules/preprocessing.html\n",
            "Please also refer to the documentation for alternative solver options:\n",
            "    https://scikit-learn.org/stable/modules/linear_model.html#logistic-regression\n",
            "  extra_warning_msg=_LOGISTIC_SOLVER_CONVERGENCE_MSG)\n"
          ],
          "name": "stderr"
        },
        {
          "output_type": "stream",
          "text": [
            "Clean_Stopword - 1 Trained\n",
            "Clean_Stopword - 1 Inferenced : 0.003796100616455078s\ttrain ACC : 0.9281472037811533 test ACC : 0.9246268656716418 test F1 : 0.7994871370667549\n"
          ],
          "name": "stdout"
        },
        {
          "output_type": "stream",
          "text": [
            "/usr/local/lib/python3.7/dist-packages/sklearn/linear_model/_logistic.py:940: ConvergenceWarning: lbfgs failed to converge (status=1):\n",
            "STOP: TOTAL NO. of ITERATIONS REACHED LIMIT.\n",
            "\n",
            "Increase the number of iterations (max_iter) or scale the data as shown in:\n",
            "    https://scikit-learn.org/stable/modules/preprocessing.html\n",
            "Please also refer to the documentation for alternative solver options:\n",
            "    https://scikit-learn.org/stable/modules/linear_model.html#logistic-regression\n",
            "  extra_warning_msg=_LOGISTIC_SOLVER_CONVERGENCE_MSG)\n"
          ],
          "name": "stderr"
        },
        {
          "output_type": "stream",
          "text": [
            "Clean_Stopword - 2 Trained\n",
            "Clean_Stopword - 2 Inferenced : 0.003810405731201172s\ttrain ACC : 0.9280969538668439 test ACC : 0.9252320465181362 test F1 : 0.8026429187015226\n"
          ],
          "name": "stdout"
        },
        {
          "output_type": "stream",
          "text": [
            "/usr/local/lib/python3.7/dist-packages/sklearn/linear_model/_logistic.py:940: ConvergenceWarning: lbfgs failed to converge (status=1):\n",
            "STOP: TOTAL NO. of ITERATIONS REACHED LIMIT.\n",
            "\n",
            "Increase the number of iterations (max_iter) or scale the data as shown in:\n",
            "    https://scikit-learn.org/stable/modules/preprocessing.html\n",
            "Please also refer to the documentation for alternative solver options:\n",
            "    https://scikit-learn.org/stable/modules/linear_model.html#logistic-regression\n",
            "  extra_warning_msg=_LOGISTIC_SOLVER_CONVERGENCE_MSG)\n"
          ],
          "name": "stderr"
        },
        {
          "output_type": "stream",
          "text": [
            "Clean_Stopword - 3 Trained\n",
            "Clean_Stopword - 3 Inferenced : 0.003874540328979492s\ttrain ACC : 0.9284351107949798 test ACC : 0.9237861285156796 test F1 : 0.799114826653553\n"
          ],
          "name": "stdout"
        },
        {
          "output_type": "stream",
          "text": [
            "/usr/local/lib/python3.7/dist-packages/sklearn/linear_model/_logistic.py:940: ConvergenceWarning: lbfgs failed to converge (status=1):\n",
            "STOP: TOTAL NO. of ITERATIONS REACHED LIMIT.\n",
            "\n",
            "Increase the number of iterations (max_iter) or scale the data as shown in:\n",
            "    https://scikit-learn.org/stable/modules/preprocessing.html\n",
            "Please also refer to the documentation for alternative solver options:\n",
            "    https://scikit-learn.org/stable/modules/linear_model.html#logistic-regression\n",
            "  extra_warning_msg=_LOGISTIC_SOLVER_CONVERGENCE_MSG)\n"
          ],
          "name": "stderr"
        },
        {
          "output_type": "stream",
          "text": [
            "Clean_Stopword - 4 Trained\n",
            "Clean_Stopword - 4 Inferenced : 0.0039865970611572266s\ttrain ACC : 0.928353486708878 test ACC : 0.9242370061723596 test F1 : 0.79976989768665\n"
          ],
          "name": "stdout"
        },
        {
          "output_type": "stream",
          "text": [
            "/usr/local/lib/python3.7/dist-packages/sklearn/linear_model/_logistic.py:940: ConvergenceWarning: lbfgs failed to converge (status=1):\n",
            "STOP: TOTAL NO. of ITERATIONS REACHED LIMIT.\n",
            "\n",
            "Increase the number of iterations (max_iter) or scale the data as shown in:\n",
            "    https://scikit-learn.org/stable/modules/preprocessing.html\n",
            "Please also refer to the documentation for alternative solver options:\n",
            "    https://scikit-learn.org/stable/modules/linear_model.html#logistic-regression\n",
            "  extra_warning_msg=_LOGISTIC_SOLVER_CONVERGENCE_MSG)\n"
          ],
          "name": "stderr"
        },
        {
          "output_type": "stream",
          "text": [
            "Clean_Stopword - 5 Trained\n",
            "Clean_Stopword - 5 Inferenced : 0.003799915313720703s\ttrain ACC : 0.9285128480198386 test ACC : 0.9236151059562493 test F1 : 0.7983251919050941\n"
          ],
          "name": "stdout"
        },
        {
          "output_type": "stream",
          "text": [
            "/usr/local/lib/python3.7/dist-packages/sklearn/linear_model/_logistic.py:940: ConvergenceWarning: lbfgs failed to converge (status=1):\n",
            "STOP: TOTAL NO. of ITERATIONS REACHED LIMIT.\n",
            "\n",
            "Increase the number of iterations (max_iter) or scale the data as shown in:\n",
            "    https://scikit-learn.org/stable/modules/preprocessing.html\n",
            "Please also refer to the documentation for alternative solver options:\n",
            "    https://scikit-learn.org/stable/modules/linear_model.html#logistic-regression\n",
            "  extra_warning_msg=_LOGISTIC_SOLVER_CONVERGENCE_MSG)\n"
          ],
          "name": "stderr"
        },
        {
          "output_type": "stream",
          "text": [
            "Clean_Stemming - 1 Trained\n",
            "Clean_Stemming - 1 Inferenced : 0.004160165786743164s\ttrain ACC : 0.9287418958628089 test ACC : 0.9250310945273632 test F1 : 0.8010233556160765\n"
          ],
          "name": "stdout"
        },
        {
          "output_type": "stream",
          "text": [
            "/usr/local/lib/python3.7/dist-packages/sklearn/linear_model/_logistic.py:940: ConvergenceWarning: lbfgs failed to converge (status=1):\n",
            "STOP: TOTAL NO. of ITERATIONS REACHED LIMIT.\n",
            "\n",
            "Increase the number of iterations (max_iter) or scale the data as shown in:\n",
            "    https://scikit-learn.org/stable/modules/preprocessing.html\n",
            "Please also refer to the documentation for alternative solver options:\n",
            "    https://scikit-learn.org/stable/modules/linear_model.html#logistic-regression\n",
            "  extra_warning_msg=_LOGISTIC_SOLVER_CONVERGENCE_MSG)\n"
          ],
          "name": "stderr"
        },
        {
          "output_type": "stream",
          "text": [
            "Clean_Stemming - 2 Trained\n",
            "Clean_Stemming - 2 Inferenced : 0.003986358642578125s\ttrain ACC : 0.9282796363452621 test ACC : 0.9259938742828713 test F1 : 0.8054760931753168\n"
          ],
          "name": "stdout"
        },
        {
          "output_type": "stream",
          "text": [
            "/usr/local/lib/python3.7/dist-packages/sklearn/linear_model/_logistic.py:940: ConvergenceWarning: lbfgs failed to converge (status=1):\n",
            "STOP: TOTAL NO. of ITERATIONS REACHED LIMIT.\n",
            "\n",
            "Increase the number of iterations (max_iter) or scale the data as shown in:\n",
            "    https://scikit-learn.org/stable/modules/preprocessing.html\n",
            "Please also refer to the documentation for alternative solver options:\n",
            "    https://scikit-learn.org/stable/modules/linear_model.html#logistic-regression\n",
            "  extra_warning_msg=_LOGISTIC_SOLVER_CONVERGENCE_MSG)\n"
          ],
          "name": "stderr"
        },
        {
          "output_type": "stream",
          "text": [
            "Clean_Stemming - 3 Trained\n",
            "Clean_Stemming - 3 Inferenced : 0.003921985626220703s\ttrain ACC : 0.9289948188139632 test ACC : 0.9245945987966231 test F1 : 0.801798120147119\n"
          ],
          "name": "stdout"
        },
        {
          "output_type": "stream",
          "text": [
            "/usr/local/lib/python3.7/dist-packages/sklearn/linear_model/_logistic.py:940: ConvergenceWarning: lbfgs failed to converge (status=1):\n",
            "STOP: TOTAL NO. of ITERATIONS REACHED LIMIT.\n",
            "\n",
            "Increase the number of iterations (max_iter) or scale the data as shown in:\n",
            "    https://scikit-learn.org/stable/modules/preprocessing.html\n",
            "Please also refer to the documentation for alternative solver options:\n",
            "    https://scikit-learn.org/stable/modules/linear_model.html#logistic-regression\n",
            "  extra_warning_msg=_LOGISTIC_SOLVER_CONVERGENCE_MSG)\n"
          ],
          "name": "stderr"
        },
        {
          "output_type": "stream",
          "text": [
            "Clean_Stemming - 4 Trained\n",
            "Clean_Stemming - 4 Inferenced : 0.00393366813659668s\ttrain ACC : 0.9284973005748668 test ACC : 0.92485890638847 test F1 : 0.8021289662231321\n"
          ],
          "name": "stdout"
        },
        {
          "output_type": "stream",
          "text": [
            "/usr/local/lib/python3.7/dist-packages/sklearn/linear_model/_logistic.py:940: ConvergenceWarning: lbfgs failed to converge (status=1):\n",
            "STOP: TOTAL NO. of ITERATIONS REACHED LIMIT.\n",
            "\n",
            "Increase the number of iterations (max_iter) or scale the data as shown in:\n",
            "    https://scikit-learn.org/stable/modules/preprocessing.html\n",
            "Please also refer to the documentation for alternative solver options:\n",
            "    https://scikit-learn.org/stable/modules/linear_model.html#logistic-regression\n",
            "  extra_warning_msg=_LOGISTIC_SOLVER_CONVERGENCE_MSG)\n"
          ],
          "name": "stderr"
        },
        {
          "output_type": "stream",
          "text": [
            "Clean_Stemming - 5 Trained\n",
            "Clean_Stemming - 5 Inferenced : 0.003804922103881836s\ttrain ACC : 0.9288315706417597 test ACC : 0.9246101463020259 test F1 : 0.8018956571475263\n"
          ],
          "name": "stdout"
        },
        {
          "output_type": "stream",
          "text": [
            "/usr/local/lib/python3.7/dist-packages/sklearn/linear_model/_logistic.py:940: ConvergenceWarning: lbfgs failed to converge (status=1):\n",
            "STOP: TOTAL NO. of ITERATIONS REACHED LIMIT.\n",
            "\n",
            "Increase the number of iterations (max_iter) or scale the data as shown in:\n",
            "    https://scikit-learn.org/stable/modules/preprocessing.html\n",
            "Please also refer to the documentation for alternative solver options:\n",
            "    https://scikit-learn.org/stable/modules/linear_model.html#logistic-regression\n",
            "  extra_warning_msg=_LOGISTIC_SOLVER_CONVERGENCE_MSG)\n"
          ],
          "name": "stderr"
        },
        {
          "output_type": "stream",
          "text": [
            "Typo_Raw - 1 Trained\n",
            "Typo_Raw - 1 Inferenced : 0.004085063934326172s\ttrain ACC : 0.924470218753401 test ACC : 0.9210976368159204 test F1 : 0.789235433365173\n"
          ],
          "name": "stdout"
        },
        {
          "output_type": "stream",
          "text": [
            "/usr/local/lib/python3.7/dist-packages/sklearn/linear_model/_logistic.py:940: ConvergenceWarning: lbfgs failed to converge (status=1):\n",
            "STOP: TOTAL NO. of ITERATIONS REACHED LIMIT.\n",
            "\n",
            "Increase the number of iterations (max_iter) or scale the data as shown in:\n",
            "    https://scikit-learn.org/stable/modules/preprocessing.html\n",
            "Please also refer to the documentation for alternative solver options:\n",
            "    https://scikit-learn.org/stable/modules/linear_model.html#logistic-regression\n",
            "  extra_warning_msg=_LOGISTIC_SOLVER_CONVERGENCE_MSG)\n"
          ],
          "name": "stderr"
        },
        {
          "output_type": "stream",
          "text": [
            "Typo_Raw - 2 Trained\n",
            "Typo_Raw - 2 Inferenced : 0.0038840770721435547s\ttrain ACC : 0.9245676838582539 test ACC : 0.9206610799297252 test F1 : 0.7889316292343963\n"
          ],
          "name": "stdout"
        },
        {
          "output_type": "stream",
          "text": [
            "/usr/local/lib/python3.7/dist-packages/sklearn/linear_model/_logistic.py:940: ConvergenceWarning: lbfgs failed to converge (status=1):\n",
            "STOP: TOTAL NO. of ITERATIONS REACHED LIMIT.\n",
            "\n",
            "Increase the number of iterations (max_iter) or scale the data as shown in:\n",
            "    https://scikit-learn.org/stable/modules/preprocessing.html\n",
            "Please also refer to the documentation for alternative solver options:\n",
            "    https://scikit-learn.org/stable/modules/linear_model.html#logistic-regression\n",
            "  extra_warning_msg=_LOGISTIC_SOLVER_CONVERGENCE_MSG)\n"
          ],
          "name": "stderr"
        },
        {
          "output_type": "stream",
          "text": [
            "Typo_Raw - 3 Trained\n",
            "Typo_Raw - 3 Inferenced : 0.004271745681762695s\ttrain ACC : 0.9244394174372369 test ACC : 0.9198837046595874 test F1 : 0.7874963916037774\n"
          ],
          "name": "stdout"
        },
        {
          "output_type": "stream",
          "text": [
            "/usr/local/lib/python3.7/dist-packages/sklearn/linear_model/_logistic.py:940: ConvergenceWarning: lbfgs failed to converge (status=1):\n",
            "STOP: TOTAL NO. of ITERATIONS REACHED LIMIT.\n",
            "\n",
            "Increase the number of iterations (max_iter) or scale the data as shown in:\n",
            "    https://scikit-learn.org/stable/modules/preprocessing.html\n",
            "Please also refer to the documentation for alternative solver options:\n",
            "    https://scikit-learn.org/stable/modules/linear_model.html#logistic-regression\n",
            "  extra_warning_msg=_LOGISTIC_SOLVER_CONVERGENCE_MSG)\n"
          ],
          "name": "stderr"
        },
        {
          "output_type": "stream",
          "text": [
            "Typo_Raw - 4 Trained\n",
            "Typo_Raw - 4 Inferenced : 0.005074739456176758s\ttrain ACC : 0.9245016072171239 test ACC : 0.9201324647460315 test F1 : 0.7877360439651255\n"
          ],
          "name": "stdout"
        },
        {
          "output_type": "stream",
          "text": [
            "/usr/local/lib/python3.7/dist-packages/sklearn/linear_model/_logistic.py:940: ConvergenceWarning: lbfgs failed to converge (status=1):\n",
            "STOP: TOTAL NO. of ITERATIONS REACHED LIMIT.\n",
            "\n",
            "Increase the number of iterations (max_iter) or scale the data as shown in:\n",
            "    https://scikit-learn.org/stable/modules/preprocessing.html\n",
            "Please also refer to the documentation for alternative solver options:\n",
            "    https://scikit-learn.org/stable/modules/linear_model.html#logistic-regression\n",
            "  extra_warning_msg=_LOGISTIC_SOLVER_CONVERGENCE_MSG)\n"
          ],
          "name": "stderr"
        },
        {
          "output_type": "stream",
          "text": [
            "Typo_Raw - 5 Trained\n",
            "Typo_Raw - 5 Inferenced : 0.003916025161743164s\ttrain ACC : 0.9246609685280845 test ACC : 0.9193239944650881 test F1 : 0.7849653972069123\n"
          ],
          "name": "stdout"
        },
        {
          "output_type": "stream",
          "text": [
            "/usr/local/lib/python3.7/dist-packages/sklearn/linear_model/_logistic.py:940: ConvergenceWarning: lbfgs failed to converge (status=1):\n",
            "STOP: TOTAL NO. of ITERATIONS REACHED LIMIT.\n",
            "\n",
            "Increase the number of iterations (max_iter) or scale the data as shown in:\n",
            "    https://scikit-learn.org/stable/modules/preprocessing.html\n",
            "Please also refer to the documentation for alternative solver options:\n",
            "    https://scikit-learn.org/stable/modules/linear_model.html#logistic-regression\n",
            "  extra_warning_msg=_LOGISTIC_SOLVER_CONVERGENCE_MSG)\n"
          ],
          "name": "stderr"
        },
        {
          "output_type": "stream",
          "text": [
            "Typo_Stopword - 1 Trained\n",
            "Typo_Stopword - 1 Inferenced : 0.0038902759552001953s\ttrain ACC : 0.9247539607270013 test ACC : 0.9214241293532338 test F1 : 0.7899767287234043\n"
          ],
          "name": "stdout"
        },
        {
          "output_type": "stream",
          "text": [
            "/usr/local/lib/python3.7/dist-packages/sklearn/linear_model/_logistic.py:940: ConvergenceWarning: lbfgs failed to converge (status=1):\n",
            "STOP: TOTAL NO. of ITERATIONS REACHED LIMIT.\n",
            "\n",
            "Increase the number of iterations (max_iter) or scale the data as shown in:\n",
            "    https://scikit-learn.org/stable/modules/preprocessing.html\n",
            "Please also refer to the documentation for alternative solver options:\n",
            "    https://scikit-learn.org/stable/modules/linear_model.html#logistic-regression\n",
            "  extra_warning_msg=_LOGISTIC_SOLVER_CONVERGENCE_MSG)\n"
          ],
          "name": "stderr"
        },
        {
          "output_type": "stream",
          "text": [
            "Typo_Stopword - 2 Trained\n",
            "Typo_Stopword - 2 Inferenced : 0.003854513168334961s\ttrain ACC : 0.9249252750926045 test ACC : 0.9215006452214742 test F1 : 0.7914584279872786\n"
          ],
          "name": "stdout"
        },
        {
          "output_type": "stream",
          "text": [
            "/usr/local/lib/python3.7/dist-packages/sklearn/linear_model/_logistic.py:940: ConvergenceWarning: lbfgs failed to converge (status=1):\n",
            "STOP: TOTAL NO. of ITERATIONS REACHED LIMIT.\n",
            "\n",
            "Increase the number of iterations (max_iter) or scale the data as shown in:\n",
            "    https://scikit-learn.org/stable/modules/preprocessing.html\n",
            "Please also refer to the documentation for alternative solver options:\n",
            "    https://scikit-learn.org/stable/modules/linear_model.html#logistic-regression\n",
            "  extra_warning_msg=_LOGISTIC_SOLVER_CONVERGENCE_MSG)\n"
          ],
          "name": "stderr"
        },
        {
          "output_type": "stream",
          "text": [
            "Typo_Stopword - 3 Trained\n",
            "Typo_Stopword - 3 Inferenced : 0.004087209701538086s\ttrain ACC : 0.9249485962600621 test ACC : 0.9200236322082121 test F1 : 0.788033624526125\n"
          ],
          "name": "stdout"
        },
        {
          "output_type": "stream",
          "text": [
            "/usr/local/lib/python3.7/dist-packages/sklearn/linear_model/_logistic.py:940: ConvergenceWarning: lbfgs failed to converge (status=1):\n",
            "STOP: TOTAL NO. of ITERATIONS REACHED LIMIT.\n",
            "\n",
            "Increase the number of iterations (max_iter) or scale the data as shown in:\n",
            "    https://scikit-learn.org/stable/modules/preprocessing.html\n",
            "Please also refer to the documentation for alternative solver options:\n",
            "    https://scikit-learn.org/stable/modules/linear_model.html#logistic-regression\n",
            "  extra_warning_msg=_LOGISTIC_SOLVER_CONVERGENCE_MSG)\n"
          ],
          "name": "stderr"
        },
        {
          "output_type": "stream",
          "text": [
            "Typo_Stopword - 4 Trained\n",
            "Typo_Stopword - 4 Inferenced : 0.003999471664428711s\ttrain ACC : 0.9246765159730562 test ACC : 0.9205056048756977 test F1 : 0.7887451968764202\n"
          ],
          "name": "stdout"
        },
        {
          "output_type": "stream",
          "text": [
            "/usr/local/lib/python3.7/dist-packages/sklearn/linear_model/_logistic.py:940: ConvergenceWarning: lbfgs failed to converge (status=1):\n",
            "STOP: TOTAL NO. of ITERATIONS REACHED LIMIT.\n",
            "\n",
            "Increase the number of iterations (max_iter) or scale the data as shown in:\n",
            "    https://scikit-learn.org/stable/modules/preprocessing.html\n",
            "Please also refer to the documentation for alternative solver options:\n",
            "    https://scikit-learn.org/stable/modules/linear_model.html#logistic-regression\n",
            "  extra_warning_msg=_LOGISTIC_SOLVER_CONVERGENCE_MSG)\n"
          ],
          "name": "stderr"
        },
        {
          "output_type": "stream",
          "text": [
            "Typo_Stopword - 5 Trained\n",
            "Typo_Stopword - 5 Inferenced : 0.0039370059967041016s\ttrain ACC : 0.9250224466236779 test ACC : 0.9196038495623378 test F1 : 0.7857823439247691\n"
          ],
          "name": "stdout"
        },
        {
          "output_type": "stream",
          "text": [
            "/usr/local/lib/python3.7/dist-packages/sklearn/linear_model/_logistic.py:940: ConvergenceWarning: lbfgs failed to converge (status=1):\n",
            "STOP: TOTAL NO. of ITERATIONS REACHED LIMIT.\n",
            "\n",
            "Increase the number of iterations (max_iter) or scale the data as shown in:\n",
            "    https://scikit-learn.org/stable/modules/preprocessing.html\n",
            "Please also refer to the documentation for alternative solver options:\n",
            "    https://scikit-learn.org/stable/modules/linear_model.html#logistic-regression\n",
            "  extra_warning_msg=_LOGISTIC_SOLVER_CONVERGENCE_MSG)\n"
          ],
          "name": "stderr"
        },
        {
          "output_type": "stream",
          "text": [
            "Typo_Stemming - 1 Trained\n",
            "Typo_Stemming - 1 Inferenced : 0.003991603851318359s\ttrain ACC : 0.9248278113776645 test ACC : 0.92119092039801 test F1 : 0.7893971498608169\n"
          ],
          "name": "stdout"
        },
        {
          "output_type": "stream",
          "text": [
            "/usr/local/lib/python3.7/dist-packages/sklearn/linear_model/_logistic.py:940: ConvergenceWarning: lbfgs failed to converge (status=1):\n",
            "STOP: TOTAL NO. of ITERATIONS REACHED LIMIT.\n",
            "\n",
            "Increase the number of iterations (max_iter) or scale the data as shown in:\n",
            "    https://scikit-learn.org/stable/modules/preprocessing.html\n",
            "Please also refer to the documentation for alternative solver options:\n",
            "    https://scikit-learn.org/stable/modules/linear_model.html#logistic-regression\n",
            "  extra_warning_msg=_LOGISTIC_SOLVER_CONVERGENCE_MSG)\n"
          ],
          "name": "stderr"
        },
        {
          "output_type": "stream",
          "text": [
            "Typo_Stemming - 2 Trained\n",
            "Typo_Stemming - 2 Inferenced : 0.003852367401123047s\ttrain ACC : 0.9247775743653728 test ACC : 0.9213607176728494 test F1 : 0.7915258428818729\n"
          ],
          "name": "stdout"
        },
        {
          "output_type": "stream",
          "text": [
            "/usr/local/lib/python3.7/dist-packages/sklearn/linear_model/_logistic.py:940: ConvergenceWarning: lbfgs failed to converge (status=1):\n",
            "STOP: TOTAL NO. of ITERATIONS REACHED LIMIT.\n",
            "\n",
            "Increase the number of iterations (max_iter) or scale the data as shown in:\n",
            "    https://scikit-learn.org/stable/modules/preprocessing.html\n",
            "Please also refer to the documentation for alternative solver options:\n",
            "    https://scikit-learn.org/stable/modules/linear_model.html#logistic-regression\n",
            "  extra_warning_msg=_LOGISTIC_SOLVER_CONVERGENCE_MSG)\n"
          ],
          "name": "stderr"
        },
        {
          "output_type": "stream",
          "text": [
            "Typo_Stemming - 3 Trained\n",
            "Typo_Stemming - 3 Inferenced : 0.00418400764465332s\ttrain ACC : 0.924956369982548 test ACC : 0.9207543649621418 test F1 : 0.7907034040980577\n"
          ],
          "name": "stdout"
        },
        {
          "output_type": "stream",
          "text": [
            "/usr/local/lib/python3.7/dist-packages/sklearn/linear_model/_logistic.py:940: ConvergenceWarning: lbfgs failed to converge (status=1):\n",
            "STOP: TOTAL NO. of ITERATIONS REACHED LIMIT.\n",
            "\n",
            "Increase the number of iterations (max_iter) or scale the data as shown in:\n",
            "    https://scikit-learn.org/stable/modules/preprocessing.html\n",
            "Please also refer to the documentation for alternative solver options:\n",
            "    https://scikit-learn.org/stable/modules/linear_model.html#logistic-regression\n",
            "  extra_warning_msg=_LOGISTIC_SOLVER_CONVERGENCE_MSG)\n"
          ],
          "name": "stderr"
        },
        {
          "output_type": "stream",
          "text": [
            "Typo_Stemming - 4 Trained\n",
            "Typo_Stemming - 4 Inferenced : 0.003911018371582031s\ttrain ACC : 0.9246609685280845 test ACC : 0.9205833424027114 test F1 : 0.7897076986414162\n"
          ],
          "name": "stdout"
        },
        {
          "output_type": "stream",
          "text": [
            "/usr/local/lib/python3.7/dist-packages/sklearn/linear_model/_logistic.py:940: ConvergenceWarning: lbfgs failed to converge (status=1):\n",
            "STOP: TOTAL NO. of ITERATIONS REACHED LIMIT.\n",
            "\n",
            "Increase the number of iterations (max_iter) or scale the data as shown in:\n",
            "    https://scikit-learn.org/stable/modules/preprocessing.html\n",
            "Please also refer to the documentation for alternative solver options:\n",
            "    https://scikit-learn.org/stable/modules/linear_model.html#logistic-regression\n",
            "  extra_warning_msg=_LOGISTIC_SOLVER_CONVERGENCE_MSG)\n"
          ],
          "name": "stderr"
        },
        {
          "output_type": "stream",
          "text": [
            "Typo_Stemming - 5 Trained\n",
            "Typo_Stemming - 5 Inferenced : 0.0040438175201416016s\ttrain ACC : 0.924956369982548 test ACC : 0.9201324647460315 test F1 : 0.7882260790699591\n"
          ],
          "name": "stdout"
        },
        {
          "output_type": "execute_result",
          "data": {
            "text/html": [
              "<div>\n",
              "<style scoped>\n",
              "    .dataframe tbody tr th:only-of-type {\n",
              "        vertical-align: middle;\n",
              "    }\n",
              "\n",
              "    .dataframe tbody tr th {\n",
              "        vertical-align: top;\n",
              "    }\n",
              "\n",
              "    .dataframe thead th {\n",
              "        text-align: right;\n",
              "    }\n",
              "</style>\n",
              "<table border=\"1\" class=\"dataframe\">\n",
              "  <thead>\n",
              "    <tr style=\"text-align: right;\">\n",
              "      <th></th>\n",
              "      <th>Model</th>\n",
              "      <th>Dataset</th>\n",
              "      <th>K_fold</th>\n",
              "      <th>Train_Score(ACC)</th>\n",
              "      <th>Train_Score(ROC_AUC)</th>\n",
              "      <th>Train_Score(F1)</th>\n",
              "      <th>Test_Score(ACC)</th>\n",
              "      <th>Test_Score(ROC_AUC)</th>\n",
              "      <th>Test_Score(F1)</th>\n",
              "      <th>Inference_Time</th>\n",
              "      <th>words_nums</th>\n",
              "    </tr>\n",
              "  </thead>\n",
              "  <tbody>\n",
              "    <tr>\n",
              "      <th>0</th>\n",
              "      <td>LogisticRegression</td>\n",
              "      <td>Clean_Raw</td>\n",
              "      <td>1.0</td>\n",
              "      <td>0.928011</td>\n",
              "      <td>0.962799</td>\n",
              "      <td>0.810358</td>\n",
              "      <td>0.924580</td>\n",
              "      <td>0.952188</td>\n",
              "      <td>0.799338</td>\n",
              "      <td>0.004323</td>\n",
              "      <td>1955231.0</td>\n",
              "    </tr>\n",
              "    <tr>\n",
              "      <th>0</th>\n",
              "      <td>LogisticRegression</td>\n",
              "      <td>Clean_Raw</td>\n",
              "      <td>2.0</td>\n",
              "      <td>0.927821</td>\n",
              "      <td>0.962503</td>\n",
              "      <td>0.809421</td>\n",
              "      <td>0.924735</td>\n",
              "      <td>0.953691</td>\n",
              "      <td>0.801183</td>\n",
              "      <td>0.003997</td>\n",
              "      <td>1939953.0</td>\n",
              "    </tr>\n",
              "    <tr>\n",
              "      <th>0</th>\n",
              "      <td>LogisticRegression</td>\n",
              "      <td>Clean_Raw</td>\n",
              "      <td>3.0</td>\n",
              "      <td>0.928058</td>\n",
              "      <td>0.962937</td>\n",
              "      <td>0.810174</td>\n",
              "      <td>0.923460</td>\n",
              "      <td>0.952043</td>\n",
              "      <td>0.798047</td>\n",
              "      <td>0.004046</td>\n",
              "      <td>1951304.0</td>\n",
              "    </tr>\n",
              "    <tr>\n",
              "      <th>0</th>\n",
              "      <td>LogisticRegression</td>\n",
              "      <td>Clean_Raw</td>\n",
              "      <td>4.0</td>\n",
              "      <td>0.927852</td>\n",
              "      <td>0.962681</td>\n",
              "      <td>0.809932</td>\n",
              "      <td>0.923615</td>\n",
              "      <td>0.952920</td>\n",
              "      <td>0.797960</td>\n",
              "      <td>0.004014</td>\n",
              "      <td>1941812.0</td>\n",
              "    </tr>\n",
              "    <tr>\n",
              "      <th>0</th>\n",
              "      <td>LogisticRegression</td>\n",
              "      <td>Clean_Raw</td>\n",
              "      <td>5.0</td>\n",
              "      <td>0.928365</td>\n",
              "      <td>0.963037</td>\n",
              "      <td>0.811184</td>\n",
              "      <td>0.922947</td>\n",
              "      <td>0.951012</td>\n",
              "      <td>0.796167</td>\n",
              "      <td>0.003793</td>\n",
              "      <td>1935521.0</td>\n",
              "    </tr>\n",
              "    <tr>\n",
              "      <th>0</th>\n",
              "      <td>LogisticRegression</td>\n",
              "      <td>Clean_Stopword</td>\n",
              "      <td>1.0</td>\n",
              "      <td>0.928147</td>\n",
              "      <td>0.962901</td>\n",
              "      <td>0.810792</td>\n",
              "      <td>0.924627</td>\n",
              "      <td>0.952275</td>\n",
              "      <td>0.799487</td>\n",
              "      <td>0.003796</td>\n",
              "      <td>1955231.0</td>\n",
              "    </tr>\n",
              "    <tr>\n",
              "      <th>0</th>\n",
              "      <td>LogisticRegression</td>\n",
              "      <td>Clean_Stopword</td>\n",
              "      <td>2.0</td>\n",
              "      <td>0.928097</td>\n",
              "      <td>0.962638</td>\n",
              "      <td>0.810308</td>\n",
              "      <td>0.925232</td>\n",
              "      <td>0.953987</td>\n",
              "      <td>0.802643</td>\n",
              "      <td>0.003810</td>\n",
              "      <td>1939953.0</td>\n",
              "    </tr>\n",
              "    <tr>\n",
              "      <th>0</th>\n",
              "      <td>LogisticRegression</td>\n",
              "      <td>Clean_Stopword</td>\n",
              "      <td>3.0</td>\n",
              "      <td>0.928435</td>\n",
              "      <td>0.963075</td>\n",
              "      <td>0.811198</td>\n",
              "      <td>0.923786</td>\n",
              "      <td>0.952135</td>\n",
              "      <td>0.799115</td>\n",
              "      <td>0.003875</td>\n",
              "      <td>1951304.0</td>\n",
              "    </tr>\n",
              "    <tr>\n",
              "      <th>0</th>\n",
              "      <td>LogisticRegression</td>\n",
              "      <td>Clean_Stopword</td>\n",
              "      <td>4.0</td>\n",
              "      <td>0.928353</td>\n",
              "      <td>0.962830</td>\n",
              "      <td>0.811371</td>\n",
              "      <td>0.924237</td>\n",
              "      <td>0.953177</td>\n",
              "      <td>0.799770</td>\n",
              "      <td>0.003987</td>\n",
              "      <td>1941812.0</td>\n",
              "    </tr>\n",
              "    <tr>\n",
              "      <th>0</th>\n",
              "      <td>LogisticRegression</td>\n",
              "      <td>Clean_Stopword</td>\n",
              "      <td>5.0</td>\n",
              "      <td>0.928513</td>\n",
              "      <td>0.963231</td>\n",
              "      <td>0.811554</td>\n",
              "      <td>0.923615</td>\n",
              "      <td>0.951333</td>\n",
              "      <td>0.798325</td>\n",
              "      <td>0.003800</td>\n",
              "      <td>1935521.0</td>\n",
              "    </tr>\n",
              "    <tr>\n",
              "      <th>0</th>\n",
              "      <td>LogisticRegression</td>\n",
              "      <td>Clean_Stemming</td>\n",
              "      <td>1.0</td>\n",
              "      <td>0.928742</td>\n",
              "      <td>0.963653</td>\n",
              "      <td>0.813163</td>\n",
              "      <td>0.925031</td>\n",
              "      <td>0.954056</td>\n",
              "      <td>0.801023</td>\n",
              "      <td>0.004160</td>\n",
              "      <td>1955231.0</td>\n",
              "    </tr>\n",
              "    <tr>\n",
              "      <th>0</th>\n",
              "      <td>LogisticRegression</td>\n",
              "      <td>Clean_Stemming</td>\n",
              "      <td>2.0</td>\n",
              "      <td>0.928280</td>\n",
              "      <td>0.963513</td>\n",
              "      <td>0.811430</td>\n",
              "      <td>0.925994</td>\n",
              "      <td>0.955458</td>\n",
              "      <td>0.805476</td>\n",
              "      <td>0.003986</td>\n",
              "      <td>1939953.0</td>\n",
              "    </tr>\n",
              "    <tr>\n",
              "      <th>0</th>\n",
              "      <td>LogisticRegression</td>\n",
              "      <td>Clean_Stemming</td>\n",
              "      <td>3.0</td>\n",
              "      <td>0.928995</td>\n",
              "      <td>0.963774</td>\n",
              "      <td>0.813386</td>\n",
              "      <td>0.924595</td>\n",
              "      <td>0.954302</td>\n",
              "      <td>0.801798</td>\n",
              "      <td>0.003922</td>\n",
              "      <td>1951304.0</td>\n",
              "    </tr>\n",
              "    <tr>\n",
              "      <th>0</th>\n",
              "      <td>LogisticRegression</td>\n",
              "      <td>Clean_Stemming</td>\n",
              "      <td>4.0</td>\n",
              "      <td>0.928497</td>\n",
              "      <td>0.963647</td>\n",
              "      <td>0.812247</td>\n",
              "      <td>0.924859</td>\n",
              "      <td>0.954950</td>\n",
              "      <td>0.802129</td>\n",
              "      <td>0.003934</td>\n",
              "      <td>1941812.0</td>\n",
              "    </tr>\n",
              "    <tr>\n",
              "      <th>0</th>\n",
              "      <td>LogisticRegression</td>\n",
              "      <td>Clean_Stemming</td>\n",
              "      <td>5.0</td>\n",
              "      <td>0.928832</td>\n",
              "      <td>0.963915</td>\n",
              "      <td>0.812988</td>\n",
              "      <td>0.924610</td>\n",
              "      <td>0.953665</td>\n",
              "      <td>0.801896</td>\n",
              "      <td>0.003805</td>\n",
              "      <td>1935521.0</td>\n",
              "    </tr>\n",
              "    <tr>\n",
              "      <th>0</th>\n",
              "      <td>LogisticRegression</td>\n",
              "      <td>Typo_Raw</td>\n",
              "      <td>1.0</td>\n",
              "      <td>0.924470</td>\n",
              "      <td>0.960395</td>\n",
              "      <td>0.799876</td>\n",
              "      <td>0.921098</td>\n",
              "      <td>0.949288</td>\n",
              "      <td>0.789235</td>\n",
              "      <td>0.004085</td>\n",
              "      <td>1955231.0</td>\n",
              "    </tr>\n",
              "    <tr>\n",
              "      <th>0</th>\n",
              "      <td>LogisticRegression</td>\n",
              "      <td>Typo_Raw</td>\n",
              "      <td>2.0</td>\n",
              "      <td>0.924568</td>\n",
              "      <td>0.960191</td>\n",
              "      <td>0.799756</td>\n",
              "      <td>0.920661</td>\n",
              "      <td>0.950684</td>\n",
              "      <td>0.788932</td>\n",
              "      <td>0.003884</td>\n",
              "      <td>1939953.0</td>\n",
              "    </tr>\n",
              "    <tr>\n",
              "      <th>0</th>\n",
              "      <td>LogisticRegression</td>\n",
              "      <td>Typo_Raw</td>\n",
              "      <td>3.0</td>\n",
              "      <td>0.924439</td>\n",
              "      <td>0.960387</td>\n",
              "      <td>0.799430</td>\n",
              "      <td>0.919884</td>\n",
              "      <td>0.949382</td>\n",
              "      <td>0.787496</td>\n",
              "      <td>0.004272</td>\n",
              "      <td>1951304.0</td>\n",
              "    </tr>\n",
              "    <tr>\n",
              "      <th>0</th>\n",
              "      <td>LogisticRegression</td>\n",
              "      <td>Typo_Raw</td>\n",
              "      <td>4.0</td>\n",
              "      <td>0.924502</td>\n",
              "      <td>0.960428</td>\n",
              "      <td>0.799905</td>\n",
              "      <td>0.920132</td>\n",
              "      <td>0.949722</td>\n",
              "      <td>0.787736</td>\n",
              "      <td>0.005075</td>\n",
              "      <td>1941812.0</td>\n",
              "    </tr>\n",
              "    <tr>\n",
              "      <th>0</th>\n",
              "      <td>LogisticRegression</td>\n",
              "      <td>Typo_Raw</td>\n",
              "      <td>5.0</td>\n",
              "      <td>0.924661</td>\n",
              "      <td>0.960684</td>\n",
              "      <td>0.800264</td>\n",
              "      <td>0.919324</td>\n",
              "      <td>0.948306</td>\n",
              "      <td>0.784965</td>\n",
              "      <td>0.003916</td>\n",
              "      <td>1935521.0</td>\n",
              "    </tr>\n",
              "    <tr>\n",
              "      <th>0</th>\n",
              "      <td>LogisticRegression</td>\n",
              "      <td>Typo_Stopword</td>\n",
              "      <td>1.0</td>\n",
              "      <td>0.924754</td>\n",
              "      <td>0.960574</td>\n",
              "      <td>0.800786</td>\n",
              "      <td>0.921424</td>\n",
              "      <td>0.949443</td>\n",
              "      <td>0.789977</td>\n",
              "      <td>0.003890</td>\n",
              "      <td>1955231.0</td>\n",
              "    </tr>\n",
              "    <tr>\n",
              "      <th>0</th>\n",
              "      <td>LogisticRegression</td>\n",
              "      <td>Typo_Stopword</td>\n",
              "      <td>2.0</td>\n",
              "      <td>0.924925</td>\n",
              "      <td>0.960355</td>\n",
              "      <td>0.800796</td>\n",
              "      <td>0.921501</td>\n",
              "      <td>0.950957</td>\n",
              "      <td>0.791458</td>\n",
              "      <td>0.003855</td>\n",
              "      <td>1939953.0</td>\n",
              "    </tr>\n",
              "    <tr>\n",
              "      <th>0</th>\n",
              "      <td>LogisticRegression</td>\n",
              "      <td>Typo_Stopword</td>\n",
              "      <td>3.0</td>\n",
              "      <td>0.924949</td>\n",
              "      <td>0.960580</td>\n",
              "      <td>0.801035</td>\n",
              "      <td>0.920024</td>\n",
              "      <td>0.949561</td>\n",
              "      <td>0.788034</td>\n",
              "      <td>0.004087</td>\n",
              "      <td>1951304.0</td>\n",
              "    </tr>\n",
              "    <tr>\n",
              "      <th>0</th>\n",
              "      <td>LogisticRegression</td>\n",
              "      <td>Typo_Stopword</td>\n",
              "      <td>4.0</td>\n",
              "      <td>0.924677</td>\n",
              "      <td>0.960639</td>\n",
              "      <td>0.800494</td>\n",
              "      <td>0.920506</td>\n",
              "      <td>0.949913</td>\n",
              "      <td>0.788745</td>\n",
              "      <td>0.003999</td>\n",
              "      <td>1941812.0</td>\n",
              "    </tr>\n",
              "    <tr>\n",
              "      <th>0</th>\n",
              "      <td>LogisticRegression</td>\n",
              "      <td>Typo_Stopword</td>\n",
              "      <td>5.0</td>\n",
              "      <td>0.925022</td>\n",
              "      <td>0.960876</td>\n",
              "      <td>0.801228</td>\n",
              "      <td>0.919604</td>\n",
              "      <td>0.948624</td>\n",
              "      <td>0.785782</td>\n",
              "      <td>0.003937</td>\n",
              "      <td>1935521.0</td>\n",
              "    </tr>\n",
              "    <tr>\n",
              "      <th>0</th>\n",
              "      <td>LogisticRegression</td>\n",
              "      <td>Typo_Stemming</td>\n",
              "      <td>1.0</td>\n",
              "      <td>0.924828</td>\n",
              "      <td>0.960532</td>\n",
              "      <td>0.801519</td>\n",
              "      <td>0.921191</td>\n",
              "      <td>0.950194</td>\n",
              "      <td>0.789397</td>\n",
              "      <td>0.003992</td>\n",
              "      <td>1955231.0</td>\n",
              "    </tr>\n",
              "    <tr>\n",
              "      <th>0</th>\n",
              "      <td>LogisticRegression</td>\n",
              "      <td>Typo_Stemming</td>\n",
              "      <td>2.0</td>\n",
              "      <td>0.924778</td>\n",
              "      <td>0.960457</td>\n",
              "      <td>0.800930</td>\n",
              "      <td>0.921361</td>\n",
              "      <td>0.951995</td>\n",
              "      <td>0.791526</td>\n",
              "      <td>0.003852</td>\n",
              "      <td>1939953.0</td>\n",
              "    </tr>\n",
              "    <tr>\n",
              "      <th>0</th>\n",
              "      <td>LogisticRegression</td>\n",
              "      <td>Typo_Stemming</td>\n",
              "      <td>3.0</td>\n",
              "      <td>0.924956</td>\n",
              "      <td>0.960717</td>\n",
              "      <td>0.801284</td>\n",
              "      <td>0.920754</td>\n",
              "      <td>0.950539</td>\n",
              "      <td>0.790703</td>\n",
              "      <td>0.004184</td>\n",
              "      <td>1951304.0</td>\n",
              "    </tr>\n",
              "    <tr>\n",
              "      <th>0</th>\n",
              "      <td>LogisticRegression</td>\n",
              "      <td>Typo_Stemming</td>\n",
              "      <td>4.0</td>\n",
              "      <td>0.924661</td>\n",
              "      <td>0.960656</td>\n",
              "      <td>0.800806</td>\n",
              "      <td>0.920583</td>\n",
              "      <td>0.951161</td>\n",
              "      <td>0.789708</td>\n",
              "      <td>0.003911</td>\n",
              "      <td>1941812.0</td>\n",
              "    </tr>\n",
              "    <tr>\n",
              "      <th>0</th>\n",
              "      <td>LogisticRegression</td>\n",
              "      <td>Typo_Stemming</td>\n",
              "      <td>5.0</td>\n",
              "      <td>0.924956</td>\n",
              "      <td>0.960852</td>\n",
              "      <td>0.801477</td>\n",
              "      <td>0.920132</td>\n",
              "      <td>0.950193</td>\n",
              "      <td>0.788226</td>\n",
              "      <td>0.004044</td>\n",
              "      <td>1935521.0</td>\n",
              "    </tr>\n",
              "  </tbody>\n",
              "</table>\n",
              "</div>"
            ],
            "text/plain": [
              "                Model         Dataset  ...  Inference_Time  words_nums\n",
              "0  LogisticRegression       Clean_Raw  ...        0.004323   1955231.0\n",
              "0  LogisticRegression       Clean_Raw  ...        0.003997   1939953.0\n",
              "0  LogisticRegression       Clean_Raw  ...        0.004046   1951304.0\n",
              "0  LogisticRegression       Clean_Raw  ...        0.004014   1941812.0\n",
              "0  LogisticRegression       Clean_Raw  ...        0.003793   1935521.0\n",
              "0  LogisticRegression  Clean_Stopword  ...        0.003796   1955231.0\n",
              "0  LogisticRegression  Clean_Stopword  ...        0.003810   1939953.0\n",
              "0  LogisticRegression  Clean_Stopword  ...        0.003875   1951304.0\n",
              "0  LogisticRegression  Clean_Stopword  ...        0.003987   1941812.0\n",
              "0  LogisticRegression  Clean_Stopword  ...        0.003800   1935521.0\n",
              "0  LogisticRegression  Clean_Stemming  ...        0.004160   1955231.0\n",
              "0  LogisticRegression  Clean_Stemming  ...        0.003986   1939953.0\n",
              "0  LogisticRegression  Clean_Stemming  ...        0.003922   1951304.0\n",
              "0  LogisticRegression  Clean_Stemming  ...        0.003934   1941812.0\n",
              "0  LogisticRegression  Clean_Stemming  ...        0.003805   1935521.0\n",
              "0  LogisticRegression        Typo_Raw  ...        0.004085   1955231.0\n",
              "0  LogisticRegression        Typo_Raw  ...        0.003884   1939953.0\n",
              "0  LogisticRegression        Typo_Raw  ...        0.004272   1951304.0\n",
              "0  LogisticRegression        Typo_Raw  ...        0.005075   1941812.0\n",
              "0  LogisticRegression        Typo_Raw  ...        0.003916   1935521.0\n",
              "0  LogisticRegression   Typo_Stopword  ...        0.003890   1955231.0\n",
              "0  LogisticRegression   Typo_Stopword  ...        0.003855   1939953.0\n",
              "0  LogisticRegression   Typo_Stopword  ...        0.004087   1951304.0\n",
              "0  LogisticRegression   Typo_Stopword  ...        0.003999   1941812.0\n",
              "0  LogisticRegression   Typo_Stopword  ...        0.003937   1935521.0\n",
              "0  LogisticRegression   Typo_Stemming  ...        0.003992   1955231.0\n",
              "0  LogisticRegression   Typo_Stemming  ...        0.003852   1939953.0\n",
              "0  LogisticRegression   Typo_Stemming  ...        0.004184   1951304.0\n",
              "0  LogisticRegression   Typo_Stemming  ...        0.003911   1941812.0\n",
              "0  LogisticRegression   Typo_Stemming  ...        0.004044   1935521.0\n",
              "\n",
              "[30 rows x 11 columns]"
            ]
          },
          "metadata": {
            "tags": []
          },
          "execution_count": 57
        }
      ]
    },
    {
      "cell_type": "code",
      "metadata": {
        "id": "myAsQufR80q2"
      },
      "source": [
        "eval.to_csv(\"/content/drive/MyDrive/HateSpeech/PERFORMANCE/logistic_performance.csv\")"
      ],
      "execution_count": null,
      "outputs": []
    },
    {
      "cell_type": "markdown",
      "metadata": {
        "id": "zDGFubGBrNXa"
      },
      "source": [
        "## RandomForest Classifier"
      ]
    },
    {
      "cell_type": "code",
      "metadata": {
        "colab": {
          "base_uri": "https://localhost:8080/"
        },
        "id": "RgMxoL7f73r4",
        "outputId": "5e7157db-ded2-4da8-aa0d-b58c6f1c266b"
      },
      "source": [
        "from sklearn.model_selection import RandomizedSearchCV\n",
        "from sklearn.ensemble import RandomForestClassifier\n",
        "distributions = {'max_depth': [None,5,10,15,20],\n",
        "              'n_estimators':[100,200],\n",
        "              'min_samples_split':[2,4,8],\n",
        "              'oob_score':[True,False]\n",
        "              }\n",
        "rf = RandomForestClassifier()\n",
        "clf = RandomizedSearchCV(rf, distributions, n_iter=10, cv=5, random_state=42,n_jobs=-1, verbose=3)\n",
        "X = dataset['Typo_Stemming']\n",
        "y = df_cleaned['class']\n",
        "search = clf.fit(X[:10000], y[:10000])"
      ],
      "execution_count": null,
      "outputs": [
        {
          "output_type": "stream",
          "text": [
            "Fitting 5 folds for each of 10 candidates, totalling 50 fits\n"
          ],
          "name": "stdout"
        },
        {
          "output_type": "stream",
          "text": [
            "[Parallel(n_jobs=-1)]: Using backend LokyBackend with 40 concurrent workers.\n",
            "[Parallel(n_jobs=-1)]: Done   5 out of  50 | elapsed:    2.2s remaining:   19.6s\n",
            "[Parallel(n_jobs=-1)]: Done  22 out of  50 | elapsed:    4.2s remaining:    5.4s\n",
            "[Parallel(n_jobs=-1)]: Done  39 out of  50 | elapsed:    7.6s remaining:    2.1s\n",
            "[Parallel(n_jobs=-1)]: Done  50 out of  50 | elapsed:   50.7s finished\n"
          ],
          "name": "stderr"
        }
      ]
    },
    {
      "cell_type": "code",
      "metadata": {
        "colab": {
          "base_uri": "https://localhost:8080/"
        },
        "id": "UyMpRUvdB5Wp",
        "outputId": "3cc47cf5-1149-407f-e73b-a09c8318603d"
      },
      "source": [
        "search.best_params_"
      ],
      "execution_count": null,
      "outputs": [
        {
          "output_type": "execute_result",
          "data": {
            "text/plain": [
              "{'max_depth': None,\n",
              " 'min_samples_split': 4,\n",
              " 'n_estimators': 100,\n",
              " 'oob_score': False}"
            ]
          },
          "metadata": {
            "tags": []
          },
          "execution_count": 40
        }
      ]
    },
    {
      "cell_type": "code",
      "metadata": {
        "colab": {
          "base_uri": "https://localhost:8080/",
          "height": 1000
        },
        "id": "bshLwhWkrQr-",
        "outputId": "4b4b8e30-b7d3-4e56-b1aa-816ca4eebb7d"
      },
      "source": [
        "from sklearn.ensemble import RandomForestClassifier\n",
        "\n",
        "eval = pd.DataFrame([[np.nan for i in range(11)]])\n",
        "eval.columns = ['Model','Dataset','K_fold','Train_Score(ACC)','Train_Score(ROC_AUC)','Train_Score(F1)','Test_Score(ACC)','Test_Score(ROC_AUC)','Test_Score(F1)','Inference_Time','words_nums']\n",
        "eval = eval.iloc[1:]\n",
        "\n",
        "\n",
        "for data_name in dataset_name:\n",
        "  \n",
        "  LR = RandomForestClassifier(max_depth=None,min_samples_split=4,n_estimators=100,oob_score=False,n_jobs=-1,verbose=10)\n",
        "  \n",
        "  # Performance Base DataFrame\n",
        "  LR_list_base = ['RandomForestClassifier']\n",
        "  LR_list_base.append(data_name)\n",
        "\n",
        "  # Load Data\n",
        "  X = dataset[data_name]\n",
        "  y = df_cleaned['class']\n",
        "\n",
        "  # K_Fold Cross Validation\n",
        "  for train_index, test_index, k, word_nums in K_FOLD_LIST:\n",
        "    # Get Train, Test\n",
        "    X_train, X_test = X[train_index], X[test_index]\n",
        "    y_train, y_test = y.iloc[train_index], y.iloc[test_index]\n",
        "\n",
        "    # Fit and Inference\n",
        "    LR.fit(X_train,y_train)\n",
        "    print(f\"{data_name} - {k} Trained\")\n",
        "    fitted = LR.predict(X_train)\n",
        "    fitted_proba = LR.predict_proba(X_train)\n",
        "    start = time.time()\n",
        "    pred = LR.predict(X_test)\n",
        "    inference_time = time.time()-start\n",
        "    pred_proba = LR.predict_proba(X_test)\n",
        "    print(f\"{data_name} - {k} Inferenced : {inference_time}s\",end='\\t')\n",
        "    # Evaluate\n",
        "    train_acc = accuracy_score(y_train,fitted)\n",
        "    train_auc = roc_auc_score(y_train,fitted_proba[:,1])\n",
        "    train_f1 = f1_score(y_train,fitted)\n",
        "    test_acc = accuracy_score(y_test,pred)\n",
        "    test_auc = roc_auc_score(y_test,pred_proba[:,1])\n",
        "    test_f1 = f1_score(y_test,pred)\n",
        "    print(f\"train ACC : {train_acc} test ACC : {test_acc} test F1 : {test_f1}\")\n",
        "\n",
        "    LR_list = LR_list_base.copy()\n",
        "    LR_list.append(k)\n",
        "    LR_list.append(train_acc)\n",
        "    LR_list.append(train_auc)\n",
        "    LR_list.append(train_f1)\n",
        "    LR_list.append(test_acc)\n",
        "    LR_list.append(test_auc)\n",
        "    LR_list.append(test_f1)\n",
        "    LR_list.append(inference_time)\n",
        "    LR_list.append(word_nums)\n",
        "    eval = eval.append(pd.DataFrame([LR_list],columns=eval.columns))\n",
        "eval"
      ],
      "execution_count": null,
      "outputs": [
        {
          "output_type": "stream",
          "text": [
            "[Parallel(n_jobs=-1)]: Using backend ThreadingBackend with 40 concurrent workers.\n"
          ],
          "name": "stderr"
        },
        {
          "output_type": "stream",
          "text": [
            "building tree 1 of 100\n",
            "building tree 2 of 100\n",
            "building tree 3 of 100\n",
            "building tree 4 of 100building tree 5 of 100\n",
            "building tree 6 of 100\n",
            "\n",
            "building tree 7 of 100\n",
            "building tree 8 of 100\n",
            "building tree 9 of 100\n",
            "building tree 10 of 100\n",
            "building tree 11 of 100\n",
            "building tree 12 of 100\n",
            "building tree 13 of 100\n",
            "building tree 14 of 100building tree 15 of 100\n",
            "building tree 16 of 100\n",
            "building tree 17 of 100\n",
            "\n",
            "building tree 18 of 100building tree 19 of 100\n",
            "building tree 20 of 100\n",
            "\n",
            "building tree 21 of 100\n",
            "building tree 22 of 100\n",
            "building tree 23 of 100\n",
            "building tree 24 of 100\n",
            "building tree 25 of 100\n",
            "building tree 26 of 100\n",
            "building tree 27 of 100\n",
            "building tree 28 of 100\n",
            "building tree 29 of 100\n",
            "building tree 30 of 100building tree 31 of 100\n",
            "\n",
            "building tree 32 of 100\n",
            "building tree 33 of 100\n",
            "building tree 34 of 100\n",
            "building tree 35 of 100\n",
            "building tree 36 of 100\n",
            "building tree 37 of 100building tree 38 of 100\n",
            "\n",
            "building tree 39 of 100\n",
            "building tree 40 of 100\n",
            "building tree 41 of 100\n",
            "building tree 42 of 100\n",
            "building tree 43 of 100\n",
            "building tree 44 of 100\n",
            "building tree 45 of 100\n",
            "building tree 46 of 100\n",
            "building tree 47 of 100\n"
          ],
          "name": "stdout"
        },
        {
          "output_type": "stream",
          "text": [
            "[Parallel(n_jobs=-1)]: Done   5 tasks      | elapsed:   33.7s\n"
          ],
          "name": "stderr"
        },
        {
          "output_type": "stream",
          "text": [
            "building tree 48 of 100\n",
            "building tree 49 of 100\n",
            "building tree 50 of 100\n",
            "building tree 51 of 100\n",
            "building tree 52 of 100\n",
            "building tree 53 of 100\n",
            "building tree 54 of 100\n",
            "building tree 55 of 100\n",
            "building tree 56 of 100\n",
            "building tree 57 of 100\n",
            "building tree 58 of 100\n",
            "building tree 59 of 100\n"
          ],
          "name": "stdout"
        },
        {
          "output_type": "stream",
          "text": [
            "[Parallel(n_jobs=-1)]: Done  18 tasks      | elapsed:   34.9s\n"
          ],
          "name": "stderr"
        },
        {
          "output_type": "stream",
          "text": [
            "building tree 60 of 100\n",
            "building tree 61 of 100\n",
            "building tree 62 of 100\n",
            "building tree 63 of 100\n",
            "building tree 64 of 100\n",
            "building tree 65 of 100\n",
            "building tree 66 of 100\n",
            "building tree 67 of 100\n",
            "building tree 68 of 100\n",
            "building tree 69 of 100\n",
            "building tree 70 of 100\n",
            "building tree 71 of 100\n"
          ],
          "name": "stdout"
        },
        {
          "output_type": "stream",
          "text": [
            "[Parallel(n_jobs=-1)]: Done  32 out of 100 | elapsed:   36.2s remaining:  1.3min\n"
          ],
          "name": "stderr"
        },
        {
          "output_type": "stream",
          "text": [
            "building tree 72 of 100\n",
            "building tree 73 of 100\n",
            "building tree 74 of 100\n",
            "building tree 75 of 100\n",
            "building tree 76 of 100\n",
            "building tree 77 of 100\n",
            "building tree 78 of 100\n",
            "building tree 79 of 100\n",
            "building tree 80 of 100\n",
            "building tree 81 of 100\n",
            "building tree 82 of 100\n"
          ],
          "name": "stdout"
        },
        {
          "output_type": "stream",
          "text": [
            "[Parallel(n_jobs=-1)]: Done  43 out of 100 | elapsed:  1.1min remaining:  1.5min\n"
          ],
          "name": "stderr"
        },
        {
          "output_type": "stream",
          "text": [
            "building tree 83 of 100\n",
            "building tree 84 of 100\n",
            "building tree 85 of 100\n",
            "building tree 86 of 100\n",
            "building tree 87 of 100\n",
            "building tree 88 of 100\n",
            "building tree 89 of 100\n",
            "building tree 90 of 100\n",
            "building tree 91 of 100\n",
            "building tree 92 of 100\n",
            "building tree 93 of 100\n"
          ],
          "name": "stdout"
        },
        {
          "output_type": "stream",
          "text": [
            "[Parallel(n_jobs=-1)]: Done  54 out of 100 | elapsed:  1.2min remaining:   58.9s\n"
          ],
          "name": "stderr"
        },
        {
          "output_type": "stream",
          "text": [
            "building tree 94 of 100\n",
            "building tree 95 of 100\n",
            "building tree 96 of 100\n",
            "building tree 97 of 100\n",
            "building tree 98 of 100\n",
            "building tree 99 of 100\n",
            "building tree 100 of 100\n"
          ],
          "name": "stdout"
        },
        {
          "output_type": "stream",
          "text": [
            "[Parallel(n_jobs=-1)]: Done  65 out of 100 | elapsed:  1.2min remaining:   37.9s\n",
            "[Parallel(n_jobs=-1)]: Done  76 out of 100 | elapsed:  1.2min remaining:   22.5s\n",
            "[Parallel(n_jobs=-1)]: Done  87 out of 100 | elapsed:  1.4min remaining:   12.8s\n",
            "[Parallel(n_jobs=-1)]: Done  98 out of 100 | elapsed:  1.4min remaining:    1.8s\n",
            "[Parallel(n_jobs=-1)]: Done 100 out of 100 | elapsed:  1.4min finished\n",
            "[Parallel(n_jobs=40)]: Using backend ThreadingBackend with 40 concurrent workers.\n"
          ],
          "name": "stderr"
        },
        {
          "output_type": "stream",
          "text": [
            "Clean_Raw - 1 Trained\n"
          ],
          "name": "stdout"
        },
        {
          "output_type": "stream",
          "text": [
            "[Parallel(n_jobs=40)]: Done   5 tasks      | elapsed:    1.2s\n",
            "[Parallel(n_jobs=40)]: Done  18 tasks      | elapsed:    1.2s\n",
            "[Parallel(n_jobs=40)]: Done  32 out of 100 | elapsed:    1.3s remaining:    2.7s\n",
            "[Parallel(n_jobs=40)]: Done  43 out of 100 | elapsed:    2.3s remaining:    3.1s\n",
            "[Parallel(n_jobs=40)]: Done  54 out of 100 | elapsed:    2.4s remaining:    2.0s\n",
            "[Parallel(n_jobs=40)]: Done  65 out of 100 | elapsed:    2.4s remaining:    1.3s\n",
            "[Parallel(n_jobs=40)]: Done  76 out of 100 | elapsed:    2.5s remaining:    0.8s\n",
            "[Parallel(n_jobs=40)]: Done  87 out of 100 | elapsed:    3.4s remaining:    0.5s\n",
            "[Parallel(n_jobs=40)]: Done  98 out of 100 | elapsed:    3.4s remaining:    0.1s\n",
            "[Parallel(n_jobs=40)]: Done 100 out of 100 | elapsed:    3.5s finished\n",
            "[Parallel(n_jobs=40)]: Using backend ThreadingBackend with 40 concurrent workers.\n",
            "[Parallel(n_jobs=40)]: Done   5 tasks      | elapsed:    1.2s\n",
            "[Parallel(n_jobs=40)]: Done  18 tasks      | elapsed:    1.2s\n",
            "[Parallel(n_jobs=40)]: Done  32 out of 100 | elapsed:    1.3s remaining:    2.7s\n",
            "[Parallel(n_jobs=40)]: Done  43 out of 100 | elapsed:    2.3s remaining:    3.1s\n",
            "[Parallel(n_jobs=40)]: Done  54 out of 100 | elapsed:    2.4s remaining:    2.0s\n",
            "[Parallel(n_jobs=40)]: Done  65 out of 100 | elapsed:    2.4s remaining:    1.3s\n",
            "[Parallel(n_jobs=40)]: Done  76 out of 100 | elapsed:    2.5s remaining:    0.8s\n",
            "[Parallel(n_jobs=40)]: Done  87 out of 100 | elapsed:    3.4s remaining:    0.5s\n",
            "[Parallel(n_jobs=40)]: Done  98 out of 100 | elapsed:    3.4s remaining:    0.1s\n",
            "[Parallel(n_jobs=40)]: Done 100 out of 100 | elapsed:    3.4s finished\n",
            "[Parallel(n_jobs=40)]: Using backend ThreadingBackend with 40 concurrent workers.\n",
            "[Parallel(n_jobs=40)]: Done   5 tasks      | elapsed:    0.3s\n",
            "[Parallel(n_jobs=40)]: Done  18 tasks      | elapsed:    0.3s\n",
            "[Parallel(n_jobs=40)]: Done  32 out of 100 | elapsed:    0.4s remaining:    0.8s\n",
            "[Parallel(n_jobs=40)]: Done  43 out of 100 | elapsed:    0.6s remaining:    0.8s\n",
            "[Parallel(n_jobs=40)]: Done  54 out of 100 | elapsed:    0.6s remaining:    0.5s\n",
            "[Parallel(n_jobs=40)]: Done  65 out of 100 | elapsed:    0.7s remaining:    0.4s\n",
            "[Parallel(n_jobs=40)]: Done  76 out of 100 | elapsed:    0.7s remaining:    0.2s\n",
            "[Parallel(n_jobs=40)]: Done  87 out of 100 | elapsed:    0.9s remaining:    0.1s\n",
            "[Parallel(n_jobs=40)]: Done  98 out of 100 | elapsed:    0.9s remaining:    0.0s\n",
            "[Parallel(n_jobs=40)]: Done 100 out of 100 | elapsed:    0.9s finished\n",
            "[Parallel(n_jobs=40)]: Using backend ThreadingBackend with 40 concurrent workers.\n",
            "[Parallel(n_jobs=40)]: Done   5 tasks      | elapsed:    0.3s\n",
            "[Parallel(n_jobs=40)]: Done  18 tasks      | elapsed:    0.3s\n",
            "[Parallel(n_jobs=40)]: Done  32 out of 100 | elapsed:    0.3s remaining:    0.7s\n",
            "[Parallel(n_jobs=40)]: Done  43 out of 100 | elapsed:    0.6s remaining:    0.8s\n",
            "[Parallel(n_jobs=40)]: Done  54 out of 100 | elapsed:    0.6s remaining:    0.5s\n",
            "[Parallel(n_jobs=40)]: Done  65 out of 100 | elapsed:    0.6s remaining:    0.3s\n",
            "[Parallel(n_jobs=40)]: Done  76 out of 100 | elapsed:    0.7s remaining:    0.2s\n",
            "[Parallel(n_jobs=40)]: Done  87 out of 100 | elapsed:    0.9s remaining:    0.1s\n",
            "[Parallel(n_jobs=40)]: Done  98 out of 100 | elapsed:    0.9s remaining:    0.0s\n",
            "[Parallel(n_jobs=40)]: Done 100 out of 100 | elapsed:    0.9s finished\n"
          ],
          "name": "stderr"
        },
        {
          "output_type": "stream",
          "text": [
            "Clean_Raw - 1 Inferenced : 1.0359704494476318s\ttrain ACC : 0.9912312069528444 test ACC : 0.9256840796019901 test F1 : 0.8117813828949442\n",
            "building tree 1 of 100\n",
            "building tree 2 of 100\n",
            "building tree 3 of 100\n",
            "building tree 4 of 100\n",
            "building tree 5 of 100\n",
            "building tree 6 of 100\n",
            "building tree 7 of 100\n",
            "building tree 8 of 100\n",
            "building tree 9 of 100\n",
            "building tree 10 of 100\n",
            "building tree 11 of 100\n",
            "building tree 12 of 100\n",
            "building tree 13 of 100\n",
            "building tree 14 of 100\n",
            "building tree 15 of 100\n",
            "building tree 16 of 100\n",
            "building tree 17 of 100\n"
          ],
          "name": "stdout"
        },
        {
          "output_type": "stream",
          "text": [
            "[Parallel(n_jobs=-1)]: Using backend ThreadingBackend with 40 concurrent workers.\n"
          ],
          "name": "stderr"
        },
        {
          "output_type": "stream",
          "text": [
            "building tree 18 of 100\n",
            "building tree 19 of 100\n",
            "building tree 20 of 100\n",
            "building tree 21 of 100\n",
            "building tree 22 of 100\n",
            "building tree 23 of 100\n",
            "building tree 24 of 100\n",
            "building tree 25 of 100\n",
            "building tree 26 of 100\n",
            "building tree 27 of 100\n",
            "building tree 28 of 100\n",
            "building tree 29 of 100\n",
            "building tree 30 of 100\n",
            "building tree 31 of 100\n",
            "building tree 32 of 100\n",
            "building tree 33 of 100\n",
            "building tree 34 of 100\n",
            "building tree 35 of 100\n",
            "building tree 36 of 100\n",
            "building tree 37 of 100\n",
            "building tree 38 of 100\n",
            "building tree 39 of 100\n",
            "building tree 40 of 100\n",
            "building tree 41 of 100\n",
            "building tree 42 of 100\n",
            "building tree 43 of 100\n",
            "building tree 44 of 100\n",
            "building tree 45 of 100\n"
          ],
          "name": "stdout"
        },
        {
          "output_type": "stream",
          "text": [
            "[Parallel(n_jobs=-1)]: Done   5 tasks      | elapsed:   33.5s\n"
          ],
          "name": "stderr"
        },
        {
          "output_type": "stream",
          "text": [
            "building tree 46 of 100\n",
            "building tree 47 of 100\n",
            "building tree 48 of 100\n",
            "building tree 49 of 100\n",
            "building tree 50 of 100\n",
            "building tree 51 of 100\n",
            "building tree 52 of 100\n",
            "building tree 53 of 100\n",
            "building tree 54 of 100\n",
            "building tree 55 of 100\n",
            "building tree 56 of 100\n",
            "building tree 57 of 100\n",
            "building tree 58 of 100\n",
            "building tree 59 of 100\n",
            "building tree 60 of 100\n",
            "building tree 61 of 100\n"
          ],
          "name": "stdout"
        },
        {
          "output_type": "stream",
          "text": [
            "[Parallel(n_jobs=-1)]: Done  18 tasks      | elapsed:   35.1s\n"
          ],
          "name": "stderr"
        },
        {
          "output_type": "stream",
          "text": [
            "building tree 62 of 100\n",
            "building tree 63 of 100\n",
            "building tree 64 of 100\n",
            "building tree 65 of 100\n",
            "building tree 66 of 100\n",
            "building tree 67 of 100\n",
            "building tree 68 of 100\n",
            "building tree 69 of 100\n",
            "building tree 70 of 100\n",
            "building tree 71 of 100\n"
          ],
          "name": "stdout"
        },
        {
          "output_type": "stream",
          "text": [
            "[Parallel(n_jobs=-1)]: Done  32 out of 100 | elapsed:   36.0s remaining:  1.3min\n"
          ],
          "name": "stderr"
        },
        {
          "output_type": "stream",
          "text": [
            "building tree 72 of 100\n",
            "building tree 73 of 100\n",
            "building tree 74 of 100\n",
            "building tree 75 of 100\n",
            "building tree 76 of 100\n",
            "building tree 77 of 100\n",
            "building tree 78 of 100\n",
            "building tree 79 of 100\n",
            "building tree 80 of 100\n",
            "building tree 81 of 100\n",
            "building tree 82 of 100\n"
          ],
          "name": "stdout"
        },
        {
          "output_type": "stream",
          "text": [
            "[Parallel(n_jobs=-1)]: Done  43 out of 100 | elapsed:  1.1min remaining:  1.5min\n"
          ],
          "name": "stderr"
        },
        {
          "output_type": "stream",
          "text": [
            "building tree 83 of 100\n",
            "building tree 84 of 100\n",
            "building tree 85 of 100\n",
            "building tree 86 of 100\n",
            "building tree 87 of 100\n",
            "building tree 88 of 100\n",
            "building tree 89 of 100\n",
            "building tree 90 of 100\n",
            "building tree 91 of 100\n",
            "building tree 92 of 100\n",
            "building tree 93 of 100\n"
          ],
          "name": "stdout"
        },
        {
          "output_type": "stream",
          "text": [
            "[Parallel(n_jobs=-1)]: Done  54 out of 100 | elapsed:  1.2min remaining:   59.6s\n"
          ],
          "name": "stderr"
        },
        {
          "output_type": "stream",
          "text": [
            "building tree 94 of 100\n",
            "building tree 95 of 100\n",
            "building tree 96 of 100\n",
            "building tree 97 of 100\n",
            "building tree 98 of 100\n",
            "building tree 99 of 100\n",
            "building tree 100 of 100\n"
          ],
          "name": "stdout"
        },
        {
          "output_type": "stream",
          "text": [
            "[Parallel(n_jobs=-1)]: Done  65 out of 100 | elapsed:  1.2min remaining:   38.2s\n",
            "[Parallel(n_jobs=-1)]: Done  76 out of 100 | elapsed:  1.2min remaining:   22.7s\n",
            "[Parallel(n_jobs=-1)]: Done  87 out of 100 | elapsed:  1.4min remaining:   12.9s\n",
            "[Parallel(n_jobs=-1)]: Done  98 out of 100 | elapsed:  1.5min remaining:    1.8s\n",
            "[Parallel(n_jobs=-1)]: Done 100 out of 100 | elapsed:  1.5min finished\n"
          ],
          "name": "stderr"
        },
        {
          "output_type": "stream",
          "text": [
            "Clean_Raw - 2 Trained\n"
          ],
          "name": "stdout"
        },
        {
          "output_type": "stream",
          "text": [
            "[Parallel(n_jobs=40)]: Using backend ThreadingBackend with 40 concurrent workers.\n",
            "[Parallel(n_jobs=40)]: Done   5 tasks      | elapsed:    1.1s\n",
            "[Parallel(n_jobs=40)]: Done  18 tasks      | elapsed:    1.2s\n",
            "[Parallel(n_jobs=40)]: Done  32 out of 100 | elapsed:    1.2s remaining:    2.6s\n",
            "[Parallel(n_jobs=40)]: Done  43 out of 100 | elapsed:    2.3s remaining:    3.0s\n",
            "[Parallel(n_jobs=40)]: Done  54 out of 100 | elapsed:    2.4s remaining:    2.0s\n",
            "[Parallel(n_jobs=40)]: Done  65 out of 100 | elapsed:    2.4s remaining:    1.3s\n",
            "[Parallel(n_jobs=40)]: Done  76 out of 100 | elapsed:    2.5s remaining:    0.8s\n",
            "[Parallel(n_jobs=40)]: Done  87 out of 100 | elapsed:    3.3s remaining:    0.5s\n",
            "[Parallel(n_jobs=40)]: Done  98 out of 100 | elapsed:    3.4s remaining:    0.1s\n",
            "[Parallel(n_jobs=40)]: Done 100 out of 100 | elapsed:    3.4s finished\n",
            "[Parallel(n_jobs=40)]: Using backend ThreadingBackend with 40 concurrent workers.\n",
            "[Parallel(n_jobs=40)]: Done   5 tasks      | elapsed:    1.1s\n",
            "[Parallel(n_jobs=40)]: Done  18 tasks      | elapsed:    1.2s\n",
            "[Parallel(n_jobs=40)]: Done  32 out of 100 | elapsed:    1.2s remaining:    2.6s\n",
            "[Parallel(n_jobs=40)]: Done  43 out of 100 | elapsed:    2.3s remaining:    3.0s\n",
            "[Parallel(n_jobs=40)]: Done  54 out of 100 | elapsed:    2.4s remaining:    2.0s\n",
            "[Parallel(n_jobs=40)]: Done  65 out of 100 | elapsed:    2.4s remaining:    1.3s\n",
            "[Parallel(n_jobs=40)]: Done  76 out of 100 | elapsed:    2.5s remaining:    0.8s\n",
            "[Parallel(n_jobs=40)]: Done  87 out of 100 | elapsed:    3.3s remaining:    0.5s\n",
            "[Parallel(n_jobs=40)]: Done  98 out of 100 | elapsed:    3.4s remaining:    0.1s\n",
            "[Parallel(n_jobs=40)]: Done 100 out of 100 | elapsed:    3.4s finished\n",
            "[Parallel(n_jobs=40)]: Using backend ThreadingBackend with 40 concurrent workers.\n",
            "[Parallel(n_jobs=40)]: Done   5 tasks      | elapsed:    0.3s\n",
            "[Parallel(n_jobs=40)]: Done  18 tasks      | elapsed:    0.3s\n",
            "[Parallel(n_jobs=40)]: Done  32 out of 100 | elapsed:    0.3s remaining:    0.7s\n",
            "[Parallel(n_jobs=40)]: Done  43 out of 100 | elapsed:    0.6s remaining:    0.8s\n",
            "[Parallel(n_jobs=40)]: Done  54 out of 100 | elapsed:    0.6s remaining:    0.5s\n",
            "[Parallel(n_jobs=40)]: Done  65 out of 100 | elapsed:    0.6s remaining:    0.3s\n",
            "[Parallel(n_jobs=40)]: Done  76 out of 100 | elapsed:    0.6s remaining:    0.2s\n",
            "[Parallel(n_jobs=40)]: Done  87 out of 100 | elapsed:    0.9s remaining:    0.1s\n",
            "[Parallel(n_jobs=40)]: Done  98 out of 100 | elapsed:    0.9s remaining:    0.0s\n",
            "[Parallel(n_jobs=40)]: Done 100 out of 100 | elapsed:    0.9s finished\n",
            "[Parallel(n_jobs=40)]: Using backend ThreadingBackend with 40 concurrent workers.\n",
            "[Parallel(n_jobs=40)]: Done   5 tasks      | elapsed:    0.3s\n",
            "[Parallel(n_jobs=40)]: Done  18 tasks      | elapsed:    0.3s\n",
            "[Parallel(n_jobs=40)]: Done  32 out of 100 | elapsed:    0.3s remaining:    0.7s\n",
            "[Parallel(n_jobs=40)]: Done  43 out of 100 | elapsed:    0.6s remaining:    0.8s\n",
            "[Parallel(n_jobs=40)]: Done  54 out of 100 | elapsed:    0.6s remaining:    0.5s\n",
            "[Parallel(n_jobs=40)]: Done  65 out of 100 | elapsed:    0.6s remaining:    0.3s\n",
            "[Parallel(n_jobs=40)]: Done  76 out of 100 | elapsed:    0.7s remaining:    0.2s\n",
            "[Parallel(n_jobs=40)]: Done  87 out of 100 | elapsed:    0.9s remaining:    0.1s\n",
            "[Parallel(n_jobs=40)]: Done  98 out of 100 | elapsed:    0.9s remaining:    0.0s\n",
            "[Parallel(n_jobs=40)]: Done 100 out of 100 | elapsed:    0.9s finished\n"
          ],
          "name": "stderr"
        },
        {
          "output_type": "stream",
          "text": [
            "Clean_Raw - 2 Inferenced : 0.9409823417663574s\ttrain ACC : 0.9913322994282427 test ACC : 0.9265846794881761 test F1 : 0.8146636313682392\n",
            "building tree 1 of 100\n",
            "building tree 2 of 100\n",
            "building tree 3 of 100\n",
            "building tree 4 of 100\n",
            "building tree 5 of 100\n",
            "building tree 6 of 100\n",
            "building tree 7 of 100\n",
            "building tree 8 of 100\n",
            "building tree 9 of 100\n",
            "building tree 10 of 100\n",
            "building tree 11 of 100building tree 12 of 100building tree 13 of 100\n",
            "\n",
            "building tree 14 of 100\n",
            "\n",
            "building tree 15 of 100\n",
            "building tree 16 of 100\n",
            "building tree 17 of 100\n"
          ],
          "name": "stdout"
        },
        {
          "output_type": "stream",
          "text": [
            "[Parallel(n_jobs=-1)]: Using backend ThreadingBackend with 40 concurrent workers.\n"
          ],
          "name": "stderr"
        },
        {
          "output_type": "stream",
          "text": [
            "building tree 18 of 100\n",
            "building tree 19 of 100\n",
            "building tree 20 of 100\n",
            "building tree 21 of 100\n",
            "building tree 22 of 100\n",
            "building tree 23 of 100\n",
            "building tree 24 of 100\n",
            "building tree 25 of 100\n",
            "building tree 26 of 100\n",
            "building tree 27 of 100\n",
            "building tree 28 of 100\n",
            "building tree 29 of 100\n",
            "building tree 30 of 100building tree 31 of 100\n",
            "\n",
            "building tree 32 of 100\n",
            "building tree 33 of 100\n",
            "building tree 34 of 100\n",
            "building tree 35 of 100\n",
            "building tree 36 of 100\n",
            "building tree 37 of 100\n",
            "building tree 38 of 100building tree 39 of 100\n",
            "\n",
            "building tree 40 of 100\n",
            "building tree 41 of 100\n",
            "building tree 42 of 100\n",
            "building tree 43 of 100\n",
            "building tree 44 of 100\n"
          ],
          "name": "stdout"
        },
        {
          "output_type": "stream",
          "text": [
            "[Parallel(n_jobs=-1)]: Done   5 tasks      | elapsed:   33.8s\n"
          ],
          "name": "stderr"
        },
        {
          "output_type": "stream",
          "text": [
            "building tree 45 of 100\n",
            "building tree 46 of 100\n",
            "building tree 47 of 100\n",
            "building tree 48 of 100\n",
            "building tree 49 of 100\n",
            "building tree 50 of 100\n",
            "building tree 51 of 100\n",
            "building tree 52 of 100\n",
            "building tree 53 of 100\n",
            "building tree 54 of 100\n",
            "building tree 55 of 100\n",
            "building tree 56 of 100\n",
            "building tree 57 of 100\n",
            "building tree 58 of 100\n",
            "building tree 59 of 100\n",
            "building tree 60 of 100\n"
          ],
          "name": "stdout"
        },
        {
          "output_type": "stream",
          "text": [
            "[Parallel(n_jobs=-1)]: Done  18 tasks      | elapsed:   34.7s\n"
          ],
          "name": "stderr"
        },
        {
          "output_type": "stream",
          "text": [
            "building tree 61 of 100\n",
            "building tree 62 of 100\n",
            "building tree 63 of 100\n",
            "building tree 64 of 100\n",
            "building tree 65 of 100\n",
            "building tree 66 of 100\n",
            "building tree 67 of 100\n",
            "building tree 68 of 100\n",
            "building tree 69 of 100\n",
            "building tree 70 of 100\n",
            "building tree 71 of 100\n",
            "building tree 72 of 100\n",
            "building tree 73 of 100\n"
          ],
          "name": "stdout"
        },
        {
          "output_type": "stream",
          "text": [
            "[Parallel(n_jobs=-1)]: Done  32 out of 100 | elapsed:   35.7s remaining:  1.3min\n"
          ],
          "name": "stderr"
        },
        {
          "output_type": "stream",
          "text": [
            "building tree 74 of 100\n",
            "building tree 75 of 100\n",
            "building tree 76 of 100\n",
            "building tree 77 of 100\n",
            "building tree 78 of 100\n",
            "building tree 79 of 100\n",
            "building tree 80 of 100\n",
            "building tree 81 of 100\n",
            "building tree 82 of 100\n"
          ],
          "name": "stdout"
        },
        {
          "output_type": "stream",
          "text": [
            "[Parallel(n_jobs=-1)]: Done  43 out of 100 | elapsed:  1.1min remaining:  1.5min\n"
          ],
          "name": "stderr"
        },
        {
          "output_type": "stream",
          "text": [
            "building tree 83 of 100\n",
            "building tree 84 of 100\n",
            "building tree 85 of 100\n",
            "building tree 86 of 100\n",
            "building tree 87 of 100building tree 88 of 100\n",
            "\n",
            "building tree 89 of 100\n",
            "building tree 90 of 100\n",
            "building tree 91 of 100\n",
            "building tree 92 of 100\n",
            "building tree 93 of 100\n"
          ],
          "name": "stdout"
        },
        {
          "output_type": "stream",
          "text": [
            "[Parallel(n_jobs=-1)]: Done  54 out of 100 | elapsed:  1.1min remaining:   58.6s\n"
          ],
          "name": "stderr"
        },
        {
          "output_type": "stream",
          "text": [
            "building tree 94 of 100\n",
            "building tree 95 of 100\n",
            "building tree 96 of 100\n",
            "building tree 97 of 100\n",
            "building tree 98 of 100\n",
            "building tree 99 of 100\n",
            "building tree 100 of 100\n"
          ],
          "name": "stdout"
        },
        {
          "output_type": "stream",
          "text": [
            "[Parallel(n_jobs=-1)]: Done  65 out of 100 | elapsed:  1.2min remaining:   37.6s\n",
            "[Parallel(n_jobs=-1)]: Done  76 out of 100 | elapsed:  1.2min remaining:   22.4s\n",
            "[Parallel(n_jobs=-1)]: Done  87 out of 100 | elapsed:  1.4min remaining:   12.7s\n",
            "[Parallel(n_jobs=-1)]: Done  98 out of 100 | elapsed:  1.4min remaining:    1.8s\n",
            "[Parallel(n_jobs=-1)]: Done 100 out of 100 | elapsed:  1.4min finished\n",
            "[Parallel(n_jobs=40)]: Using backend ThreadingBackend with 40 concurrent workers.\n"
          ],
          "name": "stderr"
        },
        {
          "output_type": "stream",
          "text": [
            "Clean_Raw - 3 Trained\n"
          ],
          "name": "stdout"
        },
        {
          "output_type": "stream",
          "text": [
            "[Parallel(n_jobs=40)]: Done   5 tasks      | elapsed:    1.1s\n",
            "[Parallel(n_jobs=40)]: Done  18 tasks      | elapsed:    1.2s\n",
            "[Parallel(n_jobs=40)]: Done  32 out of 100 | elapsed:    1.2s remaining:    2.6s\n",
            "[Parallel(n_jobs=40)]: Done  43 out of 100 | elapsed:    2.3s remaining:    3.0s\n",
            "[Parallel(n_jobs=40)]: Done  54 out of 100 | elapsed:    2.4s remaining:    2.0s\n",
            "[Parallel(n_jobs=40)]: Done  65 out of 100 | elapsed:    2.4s remaining:    1.3s\n",
            "[Parallel(n_jobs=40)]: Done  76 out of 100 | elapsed:    2.5s remaining:    0.8s\n",
            "[Parallel(n_jobs=40)]: Done  87 out of 100 | elapsed:    3.3s remaining:    0.5s\n",
            "[Parallel(n_jobs=40)]: Done  98 out of 100 | elapsed:    3.4s remaining:    0.1s\n",
            "[Parallel(n_jobs=40)]: Done 100 out of 100 | elapsed:    3.4s finished\n",
            "[Parallel(n_jobs=40)]: Using backend ThreadingBackend with 40 concurrent workers.\n",
            "[Parallel(n_jobs=40)]: Done   5 tasks      | elapsed:    1.1s\n",
            "[Parallel(n_jobs=40)]: Done  18 tasks      | elapsed:    1.2s\n",
            "[Parallel(n_jobs=40)]: Done  32 out of 100 | elapsed:    1.2s remaining:    2.6s\n",
            "[Parallel(n_jobs=40)]: Done  43 out of 100 | elapsed:    2.3s remaining:    3.0s\n",
            "[Parallel(n_jobs=40)]: Done  54 out of 100 | elapsed:    2.4s remaining:    2.0s\n",
            "[Parallel(n_jobs=40)]: Done  65 out of 100 | elapsed:    2.4s remaining:    1.3s\n",
            "[Parallel(n_jobs=40)]: Done  76 out of 100 | elapsed:    2.5s remaining:    0.8s\n",
            "[Parallel(n_jobs=40)]: Done  87 out of 100 | elapsed:    3.3s remaining:    0.5s\n",
            "[Parallel(n_jobs=40)]: Done  98 out of 100 | elapsed:    3.4s remaining:    0.1s\n",
            "[Parallel(n_jobs=40)]: Done 100 out of 100 | elapsed:    3.5s finished\n",
            "[Parallel(n_jobs=40)]: Using backend ThreadingBackend with 40 concurrent workers.\n",
            "[Parallel(n_jobs=40)]: Done   5 tasks      | elapsed:    0.3s\n",
            "[Parallel(n_jobs=40)]: Done  18 tasks      | elapsed:    0.3s\n",
            "[Parallel(n_jobs=40)]: Done  32 out of 100 | elapsed:    0.3s remaining:    0.7s\n",
            "[Parallel(n_jobs=40)]: Done  43 out of 100 | elapsed:    0.6s remaining:    0.8s\n",
            "[Parallel(n_jobs=40)]: Done  54 out of 100 | elapsed:    0.6s remaining:    0.5s\n",
            "[Parallel(n_jobs=40)]: Done  65 out of 100 | elapsed:    0.6s remaining:    0.3s\n",
            "[Parallel(n_jobs=40)]: Done  76 out of 100 | elapsed:    0.6s remaining:    0.2s\n",
            "[Parallel(n_jobs=40)]: Done  87 out of 100 | elapsed:    0.9s remaining:    0.1s\n",
            "[Parallel(n_jobs=40)]: Done  98 out of 100 | elapsed:    0.9s remaining:    0.0s\n",
            "[Parallel(n_jobs=40)]: Done 100 out of 100 | elapsed:    0.9s finished\n",
            "[Parallel(n_jobs=40)]: Using backend ThreadingBackend with 40 concurrent workers.\n",
            "[Parallel(n_jobs=40)]: Done   5 tasks      | elapsed:    0.3s\n",
            "[Parallel(n_jobs=40)]: Done  18 tasks      | elapsed:    0.3s\n",
            "[Parallel(n_jobs=40)]: Done  32 out of 100 | elapsed:    0.3s remaining:    0.7s\n",
            "[Parallel(n_jobs=40)]: Done  43 out of 100 | elapsed:    0.6s remaining:    0.8s\n",
            "[Parallel(n_jobs=40)]: Done  54 out of 100 | elapsed:    0.6s remaining:    0.5s\n",
            "[Parallel(n_jobs=40)]: Done  65 out of 100 | elapsed:    0.6s remaining:    0.3s\n",
            "[Parallel(n_jobs=40)]: Done  76 out of 100 | elapsed:    0.6s remaining:    0.2s\n",
            "[Parallel(n_jobs=40)]: Done  87 out of 100 | elapsed:    0.8s remaining:    0.1s\n",
            "[Parallel(n_jobs=40)]: Done  98 out of 100 | elapsed:    0.9s remaining:    0.0s\n",
            "[Parallel(n_jobs=40)]: Done 100 out of 100 | elapsed:    0.9s finished\n"
          ],
          "name": "stderr"
        },
        {
          "output_type": "stream",
          "text": [
            "Clean_Raw - 3 Inferenced : 0.9359643459320068s\ttrain ACC : 0.991445018404288 test ACC : 0.9251698564965252 test F1 : 0.8115431301147266\n",
            "building tree 1 of 100\n",
            "building tree 2 of 100\n",
            "building tree 3 of 100\n",
            "building tree 4 of 100\n",
            "building tree 5 of 100\n",
            "building tree 6 of 100\n",
            "building tree 7 of 100\n",
            "building tree 8 of 100\n",
            "building tree 9 of 100\n",
            "building tree 10 of 100\n",
            "building tree 11 of 100\n",
            "building tree 12 of 100\n"
          ],
          "name": "stdout"
        },
        {
          "output_type": "stream",
          "text": [
            "[Parallel(n_jobs=-1)]: Using backend ThreadingBackend with 40 concurrent workers.\n"
          ],
          "name": "stderr"
        },
        {
          "output_type": "stream",
          "text": [
            "building tree 13 of 100\n",
            "building tree 14 of 100\n",
            "building tree 15 of 100\n",
            "building tree 16 of 100\n",
            "building tree 17 of 100\n",
            "building tree 18 of 100\n",
            "building tree 19 of 100\n",
            "building tree 20 of 100\n",
            "building tree 21 of 100\n",
            "building tree 22 of 100\n",
            "building tree 23 of 100\n",
            "building tree 24 of 100\n",
            "building tree 25 of 100\n",
            "building tree 26 of 100\n",
            "building tree 27 of 100\n",
            "building tree 28 of 100\n",
            "building tree 29 of 100\n",
            "building tree 30 of 100\n",
            "building tree 31 of 100\n",
            "building tree 32 of 100\n",
            "building tree 33 of 100\n",
            "building tree 34 of 100\n",
            "building tree 35 of 100\n",
            "building tree 36 of 100\n",
            "building tree 37 of 100\n",
            "building tree 38 of 100\n",
            "building tree 39 of 100\n",
            "building tree 40 of 100\n",
            "building tree 41 of 100\n",
            "building tree 42 of 100\n",
            "building tree 43 of 100\n",
            "building tree 44 of 100\n",
            "building tree 45 of 100\n",
            "building tree 46 of 100\n",
            "building tree 47 of 100\n"
          ],
          "name": "stdout"
        },
        {
          "output_type": "stream",
          "text": [
            "[Parallel(n_jobs=-1)]: Done   5 tasks      | elapsed:   34.0s\n"
          ],
          "name": "stderr"
        },
        {
          "output_type": "stream",
          "text": [
            "building tree 48 of 100\n",
            "building tree 49 of 100\n",
            "building tree 50 of 100\n",
            "building tree 51 of 100\n",
            "building tree 52 of 100\n",
            "building tree 53 of 100\n",
            "building tree 54 of 100\n",
            "building tree 55 of 100\n",
            "building tree 56 of 100\n",
            "building tree 57 of 100\n",
            "building tree 58 of 100\n",
            "building tree 59 of 100\n",
            "building tree 60 of 100\n",
            "building tree 61 of 100\n",
            "building tree 62 of 100\n",
            "building tree 63 of 100"
          ],
          "name": "stdout"
        },
        {
          "output_type": "stream",
          "text": [
            "[Parallel(n_jobs=-1)]: Done  18 tasks      | elapsed:   34.8s\n"
          ],
          "name": "stderr"
        },
        {
          "output_type": "stream",
          "text": [
            "\n",
            "building tree 64 of 100\n",
            "building tree 65 of 100\n",
            "building tree 66 of 100\n",
            "building tree 67 of 100\n",
            "building tree 68 of 100\n",
            "building tree 69 of 100\n",
            "building tree 70 of 100\n",
            "building tree 71 of 100\n",
            "building tree 72 of 100\n",
            "building tree 73 of 100\n",
            "building tree 74 of 100\n",
            "building tree 75 of 100\n",
            "building tree 76 of 100\n"
          ],
          "name": "stdout"
        },
        {
          "output_type": "stream",
          "text": [
            "[Parallel(n_jobs=-1)]: Done  32 out of 100 | elapsed:   35.6s remaining:  1.3min\n"
          ],
          "name": "stderr"
        },
        {
          "output_type": "stream",
          "text": [
            "building tree 77 of 100\n",
            "building tree 78 of 100\n",
            "building tree 79 of 100\n",
            "building tree 80 of 100\n",
            "building tree 81 of 100\n",
            "building tree 82 of 100\n"
          ],
          "name": "stdout"
        },
        {
          "output_type": "stream",
          "text": [
            "[Parallel(n_jobs=-1)]: Done  43 out of 100 | elapsed:  1.1min remaining:  1.5min\n"
          ],
          "name": "stderr"
        },
        {
          "output_type": "stream",
          "text": [
            "building tree 83 of 100\n",
            "building tree 84 of 100\n",
            "building tree 85 of 100\n",
            "building tree 86 of 100\n",
            "building tree 87 of 100\n",
            "building tree 88 of 100\n",
            "building tree 89 of 100\n",
            "building tree 90 of 100\n",
            "building tree 91 of 100\n",
            "building tree 92 of 100\n",
            "building tree 93 of 100\n"
          ],
          "name": "stdout"
        },
        {
          "output_type": "stream",
          "text": [
            "[Parallel(n_jobs=-1)]: Done  54 out of 100 | elapsed:  1.1min remaining:   58.7s\n"
          ],
          "name": "stderr"
        },
        {
          "output_type": "stream",
          "text": [
            "building tree 94 of 100\n",
            "building tree 95 of 100\n",
            "building tree 96 of 100\n",
            "building tree 97 of 100\n",
            "building tree 98 of 100\n",
            "building tree 99 of 100\n",
            "building tree 100 of 100\n"
          ],
          "name": "stdout"
        },
        {
          "output_type": "stream",
          "text": [
            "[Parallel(n_jobs=-1)]: Done  65 out of 100 | elapsed:  1.2min remaining:   37.6s\n",
            "[Parallel(n_jobs=-1)]: Done  76 out of 100 | elapsed:  1.2min remaining:   22.2s\n",
            "[Parallel(n_jobs=-1)]: Done  87 out of 100 | elapsed:  1.4min remaining:   12.6s\n",
            "[Parallel(n_jobs=-1)]: Done  98 out of 100 | elapsed:  1.4min remaining:    1.7s\n",
            "[Parallel(n_jobs=-1)]: Done 100 out of 100 | elapsed:  1.4min finished\n",
            "[Parallel(n_jobs=40)]: Using backend ThreadingBackend with 40 concurrent workers.\n"
          ],
          "name": "stderr"
        },
        {
          "output_type": "stream",
          "text": [
            "Clean_Raw - 4 Trained\n"
          ],
          "name": "stdout"
        },
        {
          "output_type": "stream",
          "text": [
            "[Parallel(n_jobs=40)]: Done   5 tasks      | elapsed:    1.2s\n",
            "[Parallel(n_jobs=40)]: Done  18 tasks      | elapsed:    1.2s\n",
            "[Parallel(n_jobs=40)]: Done  32 out of 100 | elapsed:    1.2s remaining:    2.6s\n",
            "[Parallel(n_jobs=40)]: Done  43 out of 100 | elapsed:    2.3s remaining:    3.0s\n",
            "[Parallel(n_jobs=40)]: Done  54 out of 100 | elapsed:    2.3s remaining:    2.0s\n",
            "[Parallel(n_jobs=40)]: Done  65 out of 100 | elapsed:    2.4s remaining:    1.3s\n",
            "[Parallel(n_jobs=40)]: Done  76 out of 100 | elapsed:    2.4s remaining:    0.8s\n",
            "[Parallel(n_jobs=40)]: Done  87 out of 100 | elapsed:    3.3s remaining:    0.5s\n",
            "[Parallel(n_jobs=40)]: Done  98 out of 100 | elapsed:    3.3s remaining:    0.1s\n",
            "[Parallel(n_jobs=40)]: Done 100 out of 100 | elapsed:    3.4s finished\n",
            "[Parallel(n_jobs=40)]: Using backend ThreadingBackend with 40 concurrent workers.\n",
            "[Parallel(n_jobs=40)]: Done   5 tasks      | elapsed:    1.1s\n",
            "[Parallel(n_jobs=40)]: Done  18 tasks      | elapsed:    1.2s\n",
            "[Parallel(n_jobs=40)]: Done  32 out of 100 | elapsed:    1.2s remaining:    2.6s\n",
            "[Parallel(n_jobs=40)]: Done  43 out of 100 | elapsed:    2.3s remaining:    3.0s\n",
            "[Parallel(n_jobs=40)]: Done  54 out of 100 | elapsed:    2.4s remaining:    2.0s\n",
            "[Parallel(n_jobs=40)]: Done  65 out of 100 | elapsed:    2.4s remaining:    1.3s\n",
            "[Parallel(n_jobs=40)]: Done  76 out of 100 | elapsed:    2.5s remaining:    0.8s\n",
            "[Parallel(n_jobs=40)]: Done  87 out of 100 | elapsed:    3.3s remaining:    0.5s\n",
            "[Parallel(n_jobs=40)]: Done  98 out of 100 | elapsed:    3.4s remaining:    0.1s\n",
            "[Parallel(n_jobs=40)]: Done 100 out of 100 | elapsed:    3.4s finished\n",
            "[Parallel(n_jobs=40)]: Using backend ThreadingBackend with 40 concurrent workers.\n",
            "[Parallel(n_jobs=40)]: Done   5 tasks      | elapsed:    0.3s\n",
            "[Parallel(n_jobs=40)]: Done  18 tasks      | elapsed:    0.3s\n",
            "[Parallel(n_jobs=40)]: Done  32 out of 100 | elapsed:    0.3s remaining:    0.7s\n",
            "[Parallel(n_jobs=40)]: Done  43 out of 100 | elapsed:    0.6s remaining:    0.8s\n",
            "[Parallel(n_jobs=40)]: Done  54 out of 100 | elapsed:    0.6s remaining:    0.5s\n",
            "[Parallel(n_jobs=40)]: Done  65 out of 100 | elapsed:    0.6s remaining:    0.3s\n",
            "[Parallel(n_jobs=40)]: Done  76 out of 100 | elapsed:    0.6s remaining:    0.2s\n",
            "[Parallel(n_jobs=40)]: Done  87 out of 100 | elapsed:    0.9s remaining:    0.1s\n",
            "[Parallel(n_jobs=40)]: Done  98 out of 100 | elapsed:    0.9s remaining:    0.0s\n",
            "[Parallel(n_jobs=40)]: Done 100 out of 100 | elapsed:    0.9s finished\n",
            "[Parallel(n_jobs=40)]: Using backend ThreadingBackend with 40 concurrent workers.\n",
            "[Parallel(n_jobs=40)]: Done   5 tasks      | elapsed:    0.3s\n",
            "[Parallel(n_jobs=40)]: Done  18 tasks      | elapsed:    0.3s\n",
            "[Parallel(n_jobs=40)]: Done  32 out of 100 | elapsed:    0.3s remaining:    0.7s\n",
            "[Parallel(n_jobs=40)]: Done  43 out of 100 | elapsed:    0.6s remaining:    0.8s\n",
            "[Parallel(n_jobs=40)]: Done  54 out of 100 | elapsed:    0.6s remaining:    0.5s\n",
            "[Parallel(n_jobs=40)]: Done  65 out of 100 | elapsed:    0.6s remaining:    0.3s\n",
            "[Parallel(n_jobs=40)]: Done  76 out of 100 | elapsed:    0.6s remaining:    0.2s\n",
            "[Parallel(n_jobs=40)]: Done  87 out of 100 | elapsed:    0.9s remaining:    0.1s\n",
            "[Parallel(n_jobs=40)]: Done  98 out of 100 | elapsed:    0.9s remaining:    0.0s\n",
            "[Parallel(n_jobs=40)]: Done 100 out of 100 | elapsed:    0.9s finished\n"
          ],
          "name": "stderr"
        },
        {
          "output_type": "stream",
          "text": [
            "Clean_Raw - 4 Inferenced : 1.0357975959777832s\ttrain ACC : 0.9911029746149093 test ACC : 0.9249366439154838 test F1 : 0.8106369626608095\n",
            "building tree 1 of 100\n",
            "building tree 2 of 100\n",
            "building tree 3 of 100building tree 4 of 100\n",
            "\n",
            "building tree 5 of 100\n",
            "building tree 6 of 100\n",
            "building tree 7 of 100\n"
          ],
          "name": "stdout"
        },
        {
          "output_type": "stream",
          "text": [
            "[Parallel(n_jobs=-1)]: Using backend ThreadingBackend with 40 concurrent workers.\n"
          ],
          "name": "stderr"
        },
        {
          "output_type": "stream",
          "text": [
            "building tree 8 of 100\n",
            "building tree 9 of 100\n",
            "building tree 10 of 100\n",
            "building tree 11 of 100\n",
            "building tree 12 of 100\n",
            "building tree 13 of 100\n",
            "building tree 14 of 100\n",
            "building tree 15 of 100\n",
            "building tree 16 of 100\n",
            "building tree 17 of 100\n",
            "building tree 18 of 100\n",
            "building tree 19 of 100\n",
            "building tree 20 of 100\n",
            "building tree 21 of 100\n",
            "building tree 22 of 100\n",
            "building tree 23 of 100\n",
            "building tree 24 of 100\n",
            "building tree 25 of 100\n",
            "building tree 26 of 100\n",
            "building tree 27 of 100\n",
            "building tree 28 of 100\n",
            "building tree 29 of 100building tree 30 of 100building tree 31 of 100\n",
            "\n",
            "building tree 32 of 100\n",
            "building tree 33 of 100\n",
            "\n",
            "building tree 34 of 100\n",
            "building tree 35 of 100\n",
            "building tree 36 of 100\n",
            "building tree 37 of 100\n",
            "building tree 38 of 100building tree 39 of 100\n",
            "\n",
            "building tree 40 of 100\n",
            "building tree 41 of 100\n",
            "building tree 42 of 100\n",
            "building tree 43 of 100\n",
            "building tree 44 of 100\n"
          ],
          "name": "stdout"
        },
        {
          "output_type": "stream",
          "text": [
            "[Parallel(n_jobs=-1)]: Done   5 tasks      | elapsed:   33.8s\n"
          ],
          "name": "stderr"
        },
        {
          "output_type": "stream",
          "text": [
            "building tree 45 of 100\n",
            "building tree 46 of 100\n",
            "building tree 47 of 100\n",
            "building tree 48 of 100\n",
            "building tree 49 of 100\n",
            "building tree 50 of 100\n",
            "building tree 51 of 100\n",
            "building tree 52 of 100\n",
            "building tree 53 of 100\n",
            "building tree 54 of 100\n",
            "building tree 55 of 100\n",
            "building tree 56 of 100\n",
            "building tree 57 of 100\n",
            "building tree 58 of 100\n",
            "building tree 59 of 100\n",
            "building tree 60 of 100\n"
          ],
          "name": "stdout"
        },
        {
          "output_type": "stream",
          "text": [
            "[Parallel(n_jobs=-1)]: Done  18 tasks      | elapsed:   35.4s\n"
          ],
          "name": "stderr"
        },
        {
          "output_type": "stream",
          "text": [
            "building tree 61 of 100\n",
            "building tree 62 of 100\n",
            "building tree 63 of 100\n",
            "building tree 64 of 100\n",
            "building tree 65 of 100\n",
            "building tree 66 of 100\n",
            "building tree 67 of 100\n",
            "building tree 68 of 100\n",
            "building tree 69 of 100\n",
            "building tree 70 of 100\n",
            "building tree 71 of 100\n",
            "building tree 72 of 100\n",
            "building tree 73 of 100\n",
            "building tree 74 of 100\n"
          ],
          "name": "stdout"
        },
        {
          "output_type": "stream",
          "text": [
            "[Parallel(n_jobs=-1)]: Done  32 out of 100 | elapsed:   36.2s remaining:  1.3min\n"
          ],
          "name": "stderr"
        },
        {
          "output_type": "stream",
          "text": [
            "building tree 75 of 100\n",
            "building tree 76 of 100\n",
            "building tree 77 of 100\n",
            "building tree 78 of 100\n",
            "building tree 79 of 100\n",
            "building tree 80 of 100\n",
            "building tree 81 of 100\n",
            "building tree 82 of 100\n"
          ],
          "name": "stdout"
        },
        {
          "output_type": "stream",
          "text": [
            "[Parallel(n_jobs=-1)]: Done  43 out of 100 | elapsed:  1.1min remaining:  1.5min\n"
          ],
          "name": "stderr"
        },
        {
          "output_type": "stream",
          "text": [
            "building tree 83 of 100\n",
            "building tree 84 of 100\n",
            "building tree 85 of 100\n",
            "building tree 86 of 100\n",
            "building tree 87 of 100\n",
            "building tree 88 of 100\n",
            "building tree 89 of 100\n",
            "building tree 90 of 100\n",
            "building tree 91 of 100\n",
            "building tree 92 of 100\n",
            "building tree 93 of 100\n",
            "building tree 94 of 100\n"
          ],
          "name": "stdout"
        },
        {
          "output_type": "stream",
          "text": [
            "[Parallel(n_jobs=-1)]: Done  54 out of 100 | elapsed:  1.2min remaining:   59.1s\n"
          ],
          "name": "stderr"
        },
        {
          "output_type": "stream",
          "text": [
            "building tree 95 of 100\n",
            "building tree 96 of 100\n",
            "building tree 97 of 100\n",
            "building tree 98 of 100\n",
            "building tree 99 of 100\n",
            "building tree 100 of 100\n"
          ],
          "name": "stdout"
        },
        {
          "output_type": "stream",
          "text": [
            "[Parallel(n_jobs=-1)]: Done  65 out of 100 | elapsed:  1.2min remaining:   38.0s\n",
            "[Parallel(n_jobs=-1)]: Done  76 out of 100 | elapsed:  1.2min remaining:   22.5s\n",
            "[Parallel(n_jobs=-1)]: Done  87 out of 100 | elapsed:  1.4min remaining:   12.8s\n",
            "[Parallel(n_jobs=-1)]: Done  98 out of 100 | elapsed:  1.4min remaining:    1.8s\n",
            "[Parallel(n_jobs=-1)]: Done 100 out of 100 | elapsed:  1.4min finished\n",
            "[Parallel(n_jobs=40)]: Using backend ThreadingBackend with 40 concurrent workers.\n"
          ],
          "name": "stderr"
        },
        {
          "output_type": "stream",
          "text": [
            "Clean_Raw - 5 Trained\n"
          ],
          "name": "stdout"
        },
        {
          "output_type": "stream",
          "text": [
            "[Parallel(n_jobs=40)]: Done   5 tasks      | elapsed:    1.2s\n",
            "[Parallel(n_jobs=40)]: Done  18 tasks      | elapsed:    1.2s\n",
            "[Parallel(n_jobs=40)]: Done  32 out of 100 | elapsed:    1.3s remaining:    2.7s\n",
            "[Parallel(n_jobs=40)]: Done  43 out of 100 | elapsed:    2.3s remaining:    3.1s\n",
            "[Parallel(n_jobs=40)]: Done  54 out of 100 | elapsed:    2.4s remaining:    2.0s\n",
            "[Parallel(n_jobs=40)]: Done  65 out of 100 | elapsed:    2.4s remaining:    1.3s\n",
            "[Parallel(n_jobs=40)]: Done  76 out of 100 | elapsed:    2.5s remaining:    0.8s\n",
            "[Parallel(n_jobs=40)]: Done  87 out of 100 | elapsed:    3.3s remaining:    0.5s\n",
            "[Parallel(n_jobs=40)]: Done  98 out of 100 | elapsed:    3.4s remaining:    0.1s\n",
            "[Parallel(n_jobs=40)]: Done 100 out of 100 | elapsed:    3.4s finished\n",
            "[Parallel(n_jobs=40)]: Using backend ThreadingBackend with 40 concurrent workers.\n",
            "[Parallel(n_jobs=40)]: Done   5 tasks      | elapsed:    1.1s\n",
            "[Parallel(n_jobs=40)]: Done  18 tasks      | elapsed:    1.2s\n",
            "[Parallel(n_jobs=40)]: Done  32 out of 100 | elapsed:    1.2s remaining:    2.6s\n",
            "[Parallel(n_jobs=40)]: Done  43 out of 100 | elapsed:    2.3s remaining:    3.0s\n",
            "[Parallel(n_jobs=40)]: Done  54 out of 100 | elapsed:    2.3s remaining:    2.0s\n",
            "[Parallel(n_jobs=40)]: Done  65 out of 100 | elapsed:    2.4s remaining:    1.3s\n",
            "[Parallel(n_jobs=40)]: Done  76 out of 100 | elapsed:    2.5s remaining:    0.8s\n",
            "[Parallel(n_jobs=40)]: Done  87 out of 100 | elapsed:    3.3s remaining:    0.5s\n",
            "[Parallel(n_jobs=40)]: Done  98 out of 100 | elapsed:    3.3s remaining:    0.1s\n",
            "[Parallel(n_jobs=40)]: Done 100 out of 100 | elapsed:    3.4s finished\n",
            "[Parallel(n_jobs=40)]: Using backend ThreadingBackend with 40 concurrent workers.\n",
            "[Parallel(n_jobs=40)]: Done   5 tasks      | elapsed:    0.3s\n",
            "[Parallel(n_jobs=40)]: Done  18 tasks      | elapsed:    0.3s\n",
            "[Parallel(n_jobs=40)]: Done  32 out of 100 | elapsed:    0.3s remaining:    0.7s\n",
            "[Parallel(n_jobs=40)]: Done  43 out of 100 | elapsed:    0.6s remaining:    0.8s\n",
            "[Parallel(n_jobs=40)]: Done  54 out of 100 | elapsed:    0.6s remaining:    0.5s\n",
            "[Parallel(n_jobs=40)]: Done  65 out of 100 | elapsed:    0.6s remaining:    0.3s\n",
            "[Parallel(n_jobs=40)]: Done  76 out of 100 | elapsed:    0.6s remaining:    0.2s\n",
            "[Parallel(n_jobs=40)]: Done  87 out of 100 | elapsed:    0.9s remaining:    0.1s\n",
            "[Parallel(n_jobs=40)]: Done  98 out of 100 | elapsed:    0.9s remaining:    0.0s\n",
            "[Parallel(n_jobs=40)]: Done 100 out of 100 | elapsed:    0.9s finished\n",
            "[Parallel(n_jobs=40)]: Using backend ThreadingBackend with 40 concurrent workers.\n",
            "[Parallel(n_jobs=40)]: Done   5 tasks      | elapsed:    0.3s\n",
            "[Parallel(n_jobs=40)]: Done  18 tasks      | elapsed:    0.3s\n",
            "[Parallel(n_jobs=40)]: Done  32 out of 100 | elapsed:    0.3s remaining:    0.7s\n",
            "[Parallel(n_jobs=40)]: Done  43 out of 100 | elapsed:    0.6s remaining:    0.8s\n",
            "[Parallel(n_jobs=40)]: Done  54 out of 100 | elapsed:    0.6s remaining:    0.5s\n",
            "[Parallel(n_jobs=40)]: Done  65 out of 100 | elapsed:    0.6s remaining:    0.3s\n",
            "[Parallel(n_jobs=40)]: Done  76 out of 100 | elapsed:    0.6s remaining:    0.2s\n",
            "[Parallel(n_jobs=40)]: Done  87 out of 100 | elapsed:    0.8s remaining:    0.1s\n",
            "[Parallel(n_jobs=40)]: Done  98 out of 100 | elapsed:    0.9s remaining:    0.0s\n",
            "[Parallel(n_jobs=40)]: Done 100 out of 100 | elapsed:    0.9s finished\n"
          ],
          "name": "stderr"
        },
        {
          "output_type": "stream",
          "text": [
            "Clean_Raw - 5 Inferenced : 0.9353947639465332s\ttrain ACC : 0.9916471351889209 test ACC : 0.9245635037858175 test F1 : 0.8096956385315344\n",
            "building tree 1 of 100\n",
            "building tree 2 of 100\n",
            "building tree 3 of 100\n",
            "building tree 4 of 100\n",
            "building tree 5 of 100\n",
            "building tree 6 of 100\n",
            "building tree 7 of 100\n",
            "building tree 8 of 100\n",
            "building tree 9 of 100\n",
            "building tree 10 of 100\n",
            "building tree 11 of 100\n",
            "building tree 12 of 100building tree 13 of 100\n",
            "\n",
            "building tree 14 of 100building tree 15 of 100\n",
            "\n",
            "building tree 16 of 100\n",
            "building tree 17 of 100\n",
            "building tree 18 of 100building tree 19 of 100\n",
            "\n",
            "building tree 20 of 100\n",
            "building tree 21 of 100\n",
            "building tree 22 of 100\n",
            "building tree 23 of 100\n",
            "building tree 24 of 100\n"
          ],
          "name": "stdout"
        },
        {
          "output_type": "stream",
          "text": [
            "[Parallel(n_jobs=-1)]: Using backend ThreadingBackend with 40 concurrent workers.\n"
          ],
          "name": "stderr"
        },
        {
          "output_type": "stream",
          "text": [
            "building tree 25 of 100\n",
            "building tree 26 of 100building tree 27 of 100\n",
            "building tree 28 of 100\n",
            "\n",
            "building tree 29 of 100\n",
            "building tree 30 of 100\n",
            "building tree 31 of 100\n",
            "building tree 32 of 100building tree 33 of 100\n",
            "building tree 34 of 100\n",
            "building tree 35 of 100\n",
            "building tree 36 of 100\n",
            "\n",
            "building tree 37 of 100\n",
            "building tree 38 of 100\n",
            "building tree 39 of 100\n",
            "building tree 40 of 100\n",
            "building tree 41 of 100\n",
            "building tree 42 of 100\n",
            "building tree 43 of 100\n",
            "building tree 44 of 100\n",
            "building tree 45 of 100\n",
            "building tree 46 of 100\n"
          ],
          "name": "stdout"
        },
        {
          "output_type": "stream",
          "text": [
            "[Parallel(n_jobs=-1)]: Done   5 tasks      | elapsed:   33.5s\n"
          ],
          "name": "stderr"
        },
        {
          "output_type": "stream",
          "text": [
            "building tree 47 of 100\n",
            "building tree 48 of 100\n",
            "building tree 49 of 100\n",
            "building tree 50 of 100\n",
            "building tree 51 of 100\n",
            "building tree 52 of 100\n",
            "building tree 53 of 100\n",
            "building tree 54 of 100\n",
            "building tree 55 of 100\n",
            "building tree 56 of 100\n",
            "building tree 57 of 100\n",
            "building tree 58 of 100\n",
            "building tree 59 of 100\n",
            "building tree 60 of 100\n",
            "building tree 61 of 100\n"
          ],
          "name": "stdout"
        },
        {
          "output_type": "stream",
          "text": [
            "[Parallel(n_jobs=-1)]: Done  18 tasks      | elapsed:   34.6s\n"
          ],
          "name": "stderr"
        },
        {
          "output_type": "stream",
          "text": [
            "building tree 62 of 100\n",
            "building tree 63 of 100\n",
            "building tree 64 of 100\n",
            "building tree 65 of 100\n",
            "building tree 66 of 100\n",
            "building tree 67 of 100\n",
            "building tree 68 of 100\n",
            "building tree 69 of 100building tree 70 of 100\n",
            "\n",
            "building tree 71 of 100\n",
            "building tree 72 of 100\n"
          ],
          "name": "stdout"
        },
        {
          "output_type": "stream",
          "text": [
            "[Parallel(n_jobs=-1)]: Done  32 out of 100 | elapsed:   35.5s remaining:  1.3min\n"
          ],
          "name": "stderr"
        },
        {
          "output_type": "stream",
          "text": [
            "building tree 73 of 100\n",
            "building tree 74 of 100\n",
            "building tree 75 of 100\n",
            "building tree 76 of 100\n",
            "building tree 77 of 100\n",
            "building tree 78 of 100\n",
            "building tree 79 of 100\n",
            "building tree 80 of 100\n",
            "building tree 81 of 100\n",
            "building tree 82 of 100\n",
            "building tree 83 of 100\n"
          ],
          "name": "stdout"
        },
        {
          "output_type": "stream",
          "text": [
            "[Parallel(n_jobs=-1)]: Done  43 out of 100 | elapsed:  1.1min remaining:  1.5min\n"
          ],
          "name": "stderr"
        },
        {
          "output_type": "stream",
          "text": [
            "building tree 84 of 100\n",
            "building tree 85 of 100\n",
            "building tree 86 of 100\n",
            "building tree 87 of 100\n",
            "building tree 88 of 100\n",
            "building tree 89 of 100\n",
            "building tree 90 of 100\n",
            "building tree 91 of 100\n",
            "building tree 92 of 100\n",
            "building tree 93 of 100\n"
          ],
          "name": "stdout"
        },
        {
          "output_type": "stream",
          "text": [
            "[Parallel(n_jobs=-1)]: Done  54 out of 100 | elapsed:  1.1min remaining:   58.3s\n"
          ],
          "name": "stderr"
        },
        {
          "output_type": "stream",
          "text": [
            "building tree 94 of 100\n",
            "building tree 95 of 100\n",
            "building tree 96 of 100\n",
            "building tree 97 of 100\n",
            "building tree 98 of 100\n",
            "building tree 99 of 100\n",
            "building tree 100 of 100\n"
          ],
          "name": "stdout"
        },
        {
          "output_type": "stream",
          "text": [
            "[Parallel(n_jobs=-1)]: Done  65 out of 100 | elapsed:  1.2min remaining:   37.4s\n",
            "[Parallel(n_jobs=-1)]: Done  76 out of 100 | elapsed:  1.2min remaining:   22.3s\n",
            "[Parallel(n_jobs=-1)]: Done  87 out of 100 | elapsed:  1.4min remaining:   12.6s\n",
            "[Parallel(n_jobs=-1)]: Done  98 out of 100 | elapsed:  1.4min remaining:    1.7s\n",
            "[Parallel(n_jobs=-1)]: Done 100 out of 100 | elapsed:  1.4min finished\n",
            "[Parallel(n_jobs=40)]: Using backend ThreadingBackend with 40 concurrent workers.\n"
          ],
          "name": "stderr"
        },
        {
          "output_type": "stream",
          "text": [
            "Clean_Stopword - 1 Trained\n"
          ],
          "name": "stdout"
        },
        {
          "output_type": "stream",
          "text": [
            "[Parallel(n_jobs=40)]: Done   5 tasks      | elapsed:    1.2s\n",
            "[Parallel(n_jobs=40)]: Done  18 tasks      | elapsed:    1.2s\n",
            "[Parallel(n_jobs=40)]: Done  32 out of 100 | elapsed:    1.3s remaining:    2.7s\n",
            "[Parallel(n_jobs=40)]: Done  43 out of 100 | elapsed:    2.4s remaining:    3.1s\n",
            "[Parallel(n_jobs=40)]: Done  54 out of 100 | elapsed:    2.5s remaining:    2.1s\n",
            "[Parallel(n_jobs=40)]: Done  65 out of 100 | elapsed:    2.5s remaining:    1.3s\n",
            "[Parallel(n_jobs=40)]: Done  76 out of 100 | elapsed:    2.5s remaining:    0.8s\n",
            "[Parallel(n_jobs=40)]: Done  87 out of 100 | elapsed:    3.4s remaining:    0.5s\n",
            "[Parallel(n_jobs=40)]: Done  98 out of 100 | elapsed:    3.5s remaining:    0.1s\n",
            "[Parallel(n_jobs=40)]: Done 100 out of 100 | elapsed:    3.5s finished\n",
            "[Parallel(n_jobs=40)]: Using backend ThreadingBackend with 40 concurrent workers.\n",
            "[Parallel(n_jobs=40)]: Done   5 tasks      | elapsed:    1.5s\n",
            "[Parallel(n_jobs=40)]: Done  18 tasks      | elapsed:    1.5s\n",
            "[Parallel(n_jobs=40)]: Done  32 out of 100 | elapsed:    1.5s remaining:    3.3s\n",
            "[Parallel(n_jobs=40)]: Done  43 out of 100 | elapsed:    2.7s remaining:    3.6s\n",
            "[Parallel(n_jobs=40)]: Done  54 out of 100 | elapsed:    2.8s remaining:    2.3s\n",
            "[Parallel(n_jobs=40)]: Done  65 out of 100 | elapsed:    2.8s remaining:    1.5s\n",
            "[Parallel(n_jobs=40)]: Done  76 out of 100 | elapsed:    2.8s remaining:    0.9s\n",
            "[Parallel(n_jobs=40)]: Done  87 out of 100 | elapsed:    3.7s remaining:    0.6s\n",
            "[Parallel(n_jobs=40)]: Done  98 out of 100 | elapsed:    3.8s remaining:    0.1s\n",
            "[Parallel(n_jobs=40)]: Done 100 out of 100 | elapsed:    3.8s finished\n",
            "[Parallel(n_jobs=40)]: Using backend ThreadingBackend with 40 concurrent workers.\n",
            "[Parallel(n_jobs=40)]: Done   5 tasks      | elapsed:    0.3s\n",
            "[Parallel(n_jobs=40)]: Done  18 tasks      | elapsed:    0.3s\n",
            "[Parallel(n_jobs=40)]: Done  32 out of 100 | elapsed:    0.3s remaining:    0.7s\n",
            "[Parallel(n_jobs=40)]: Done  43 out of 100 | elapsed:    0.6s remaining:    0.8s\n",
            "[Parallel(n_jobs=40)]: Done  54 out of 100 | elapsed:    0.7s remaining:    0.6s\n",
            "[Parallel(n_jobs=40)]: Done  65 out of 100 | elapsed:    0.7s remaining:    0.4s\n",
            "[Parallel(n_jobs=40)]: Done  76 out of 100 | elapsed:    0.7s remaining:    0.2s\n",
            "[Parallel(n_jobs=40)]: Done  87 out of 100 | elapsed:    0.9s remaining:    0.1s\n",
            "[Parallel(n_jobs=40)]: Done  98 out of 100 | elapsed:    1.0s remaining:    0.0s\n",
            "[Parallel(n_jobs=40)]: Done 100 out of 100 | elapsed:    1.0s finished\n",
            "[Parallel(n_jobs=40)]: Using backend ThreadingBackend with 40 concurrent workers.\n",
            "[Parallel(n_jobs=40)]: Done   5 tasks      | elapsed:    0.3s\n",
            "[Parallel(n_jobs=40)]: Done  18 tasks      | elapsed:    0.3s\n",
            "[Parallel(n_jobs=40)]: Done  32 out of 100 | elapsed:    0.4s remaining:    0.7s\n",
            "[Parallel(n_jobs=40)]: Done  43 out of 100 | elapsed:    0.6s remaining:    0.8s\n",
            "[Parallel(n_jobs=40)]: Done  54 out of 100 | elapsed:    0.7s remaining:    0.6s\n",
            "[Parallel(n_jobs=40)]: Done  65 out of 100 | elapsed:    0.7s remaining:    0.4s\n",
            "[Parallel(n_jobs=40)]: Done  76 out of 100 | elapsed:    0.7s remaining:    0.2s\n",
            "[Parallel(n_jobs=40)]: Done  87 out of 100 | elapsed:    0.9s remaining:    0.1s\n",
            "[Parallel(n_jobs=40)]: Done  98 out of 100 | elapsed:    0.9s remaining:    0.0s\n",
            "[Parallel(n_jobs=40)]: Done 100 out of 100 | elapsed:    1.0s finished\n"
          ],
          "name": "stderr"
        },
        {
          "output_type": "stream",
          "text": [
            "Clean_Stopword - 1 Inferenced : 1.0343422889709473s\ttrain ACC : 0.9910018812481537 test ACC : 0.9253731343283582 test F1 : 0.8109045067759217\n"
          ],
          "name": "stdout"
        },
        {
          "output_type": "stream",
          "text": [
            "[Parallel(n_jobs=-1)]: Using backend ThreadingBackend with 40 concurrent workers.\n"
          ],
          "name": "stderr"
        },
        {
          "output_type": "stream",
          "text": [
            "building tree 1 of 100\n",
            "building tree 2 of 100\n",
            "building tree 3 of 100\n",
            "building tree 4 of 100\n",
            "building tree 5 of 100\n",
            "building tree 6 of 100building tree 7 of 100\n",
            "\n",
            "building tree 8 of 100\n",
            "building tree 9 of 100\n",
            "building tree 10 of 100\n",
            "building tree 11 of 100\n",
            "building tree 12 of 100\n",
            "building tree 13 of 100\n",
            "building tree 14 of 100\n",
            "building tree 15 of 100\n",
            "building tree 16 of 100\n",
            "building tree 17 of 100\n",
            "building tree 18 of 100\n",
            "building tree 19 of 100building tree 20 of 100\n",
            "building tree 21 of 100\n",
            "building tree 22 of 100\n",
            "building tree 23 of 100\n",
            "building tree 24 of 100\n",
            "\n",
            "building tree 25 of 100\n",
            "building tree 26 of 100\n",
            "building tree 27 of 100\n",
            "building tree 28 of 100\n",
            "building tree 29 of 100\n",
            "building tree 30 of 100\n",
            "building tree 31 of 100\n",
            "building tree 32 of 100building tree 33 of 100\n",
            "building tree 34 of 100\n",
            "\n",
            "building tree 35 of 100\n",
            "building tree 36 of 100\n",
            "building tree 37 of 100\n",
            "building tree 38 of 100\n",
            "building tree 39 of 100\n",
            "building tree 40 of 100\n",
            "building tree 41 of 100\n",
            "building tree 42 of 100\n",
            "building tree 43 of 100\n",
            "building tree 44 of 100\n"
          ],
          "name": "stdout"
        },
        {
          "output_type": "stream",
          "text": [
            "[Parallel(n_jobs=-1)]: Done   5 tasks      | elapsed:   33.7s\n"
          ],
          "name": "stderr"
        },
        {
          "output_type": "stream",
          "text": [
            "building tree 45 of 100\n",
            "building tree 46 of 100\n",
            "building tree 47 of 100\n",
            "building tree 48 of 100\n",
            "building tree 49 of 100\n",
            "building tree 50 of 100\n",
            "building tree 51 of 100\n",
            "building tree 52 of 100\n",
            "building tree 53 of 100\n",
            "building tree 54 of 100\n",
            "building tree 55 of 100\n",
            "building tree 56 of 100\n",
            "building tree 57 of 100\n",
            "building tree 58 of 100\n"
          ],
          "name": "stdout"
        },
        {
          "output_type": "stream",
          "text": [
            "[Parallel(n_jobs=-1)]: Done  18 tasks      | elapsed:   35.0s\n"
          ],
          "name": "stderr"
        },
        {
          "output_type": "stream",
          "text": [
            "building tree 59 of 100\n",
            "building tree 60 of 100\n",
            "building tree 61 of 100\n",
            "building tree 62 of 100\n",
            "building tree 63 of 100\n",
            "building tree 64 of 100\n",
            "building tree 65 of 100\n",
            "building tree 66 of 100\n",
            "building tree 67 of 100\n",
            "building tree 68 of 100\n",
            "building tree 69 of 100\n",
            "building tree 70 of 100\n",
            "building tree 71 of 100\n",
            "building tree 72 of 100\n"
          ],
          "name": "stdout"
        },
        {
          "output_type": "stream",
          "text": [
            "[Parallel(n_jobs=-1)]: Done  32 out of 100 | elapsed:   35.8s remaining:  1.3min\n"
          ],
          "name": "stderr"
        },
        {
          "output_type": "stream",
          "text": [
            "building tree 73 of 100\n",
            "building tree 74 of 100\n",
            "building tree 75 of 100\n",
            "building tree 76 of 100\n",
            "building tree 77 of 100\n",
            "building tree 78 of 100\n",
            "building tree 79 of 100\n",
            "building tree 80 of 100\n",
            "building tree 81 of 100\n",
            "building tree 82 of 100\n"
          ],
          "name": "stdout"
        },
        {
          "output_type": "stream",
          "text": [
            "[Parallel(n_jobs=-1)]: Done  43 out of 100 | elapsed:  1.1min remaining:  1.5min\n"
          ],
          "name": "stderr"
        },
        {
          "output_type": "stream",
          "text": [
            "building tree 83 of 100\n",
            "building tree 84 of 100\n",
            "building tree 85 of 100\n",
            "building tree 86 of 100\n",
            "building tree 87 of 100\n",
            "building tree 88 of 100\n",
            "building tree 89 of 100\n",
            "building tree 90 of 100\n",
            "building tree 91 of 100\n",
            "building tree 92 of 100\n",
            "building tree 93 of 100\n"
          ],
          "name": "stdout"
        },
        {
          "output_type": "stream",
          "text": [
            "[Parallel(n_jobs=-1)]: Done  54 out of 100 | elapsed:  1.2min remaining:   59.0s\n"
          ],
          "name": "stderr"
        },
        {
          "output_type": "stream",
          "text": [
            "building tree 94 of 100\n",
            "building tree 95 of 100\n",
            "building tree 96 of 100\n",
            "building tree 97 of 100\n",
            "building tree 98 of 100\n",
            "building tree 99 of 100\n",
            "building tree 100 of 100\n"
          ],
          "name": "stdout"
        },
        {
          "output_type": "stream",
          "text": [
            "[Parallel(n_jobs=-1)]: Done  65 out of 100 | elapsed:  1.2min remaining:   37.8s\n",
            "[Parallel(n_jobs=-1)]: Done  76 out of 100 | elapsed:  1.2min remaining:   22.9s\n",
            "[Parallel(n_jobs=-1)]: Done  87 out of 100 | elapsed:  1.4min remaining:   13.0s\n",
            "[Parallel(n_jobs=-1)]: Done  98 out of 100 | elapsed:  1.5min remaining:    1.8s\n",
            "[Parallel(n_jobs=-1)]: Done 100 out of 100 | elapsed:  1.5min finished\n",
            "[Parallel(n_jobs=40)]: Using backend ThreadingBackend with 40 concurrent workers.\n"
          ],
          "name": "stderr"
        },
        {
          "output_type": "stream",
          "text": [
            "Clean_Stopword - 2 Trained\n"
          ],
          "name": "stdout"
        },
        {
          "output_type": "stream",
          "text": [
            "[Parallel(n_jobs=40)]: Done   5 tasks      | elapsed:    1.2s\n",
            "[Parallel(n_jobs=40)]: Done  18 tasks      | elapsed:    1.2s\n",
            "[Parallel(n_jobs=40)]: Done  32 out of 100 | elapsed:    1.3s remaining:    2.7s\n",
            "[Parallel(n_jobs=40)]: Done  43 out of 100 | elapsed:    2.4s remaining:    3.2s\n",
            "[Parallel(n_jobs=40)]: Done  54 out of 100 | elapsed:    2.4s remaining:    2.1s\n",
            "[Parallel(n_jobs=40)]: Done  65 out of 100 | elapsed:    2.5s remaining:    1.3s\n",
            "[Parallel(n_jobs=40)]: Done  76 out of 100 | elapsed:    2.6s remaining:    0.8s\n",
            "[Parallel(n_jobs=40)]: Done  87 out of 100 | elapsed:    3.4s remaining:    0.5s\n",
            "[Parallel(n_jobs=40)]: Done  98 out of 100 | elapsed:    3.5s remaining:    0.1s\n",
            "[Parallel(n_jobs=40)]: Done 100 out of 100 | elapsed:    3.5s finished\n",
            "[Parallel(n_jobs=40)]: Using backend ThreadingBackend with 40 concurrent workers.\n",
            "[Parallel(n_jobs=40)]: Done   5 tasks      | elapsed:    1.2s\n",
            "[Parallel(n_jobs=40)]: Done  18 tasks      | elapsed:    1.2s\n",
            "[Parallel(n_jobs=40)]: Done  32 out of 100 | elapsed:    1.3s remaining:    2.7s\n",
            "[Parallel(n_jobs=40)]: Done  43 out of 100 | elapsed:    2.4s remaining:    3.1s\n",
            "[Parallel(n_jobs=40)]: Done  54 out of 100 | elapsed:    2.4s remaining:    2.1s\n",
            "[Parallel(n_jobs=40)]: Done  65 out of 100 | elapsed:    2.5s remaining:    1.3s\n",
            "[Parallel(n_jobs=40)]: Done  76 out of 100 | elapsed:    2.6s remaining:    0.8s\n",
            "[Parallel(n_jobs=40)]: Done  87 out of 100 | elapsed:    3.4s remaining:    0.5s\n",
            "[Parallel(n_jobs=40)]: Done  98 out of 100 | elapsed:    3.5s remaining:    0.1s\n",
            "[Parallel(n_jobs=40)]: Done 100 out of 100 | elapsed:    3.5s finished\n",
            "[Parallel(n_jobs=40)]: Using backend ThreadingBackend with 40 concurrent workers.\n",
            "[Parallel(n_jobs=40)]: Done   5 tasks      | elapsed:    0.3s\n",
            "[Parallel(n_jobs=40)]: Done  18 tasks      | elapsed:    0.3s\n",
            "[Parallel(n_jobs=40)]: Done  32 out of 100 | elapsed:    0.4s remaining:    0.8s\n",
            "[Parallel(n_jobs=40)]: Done  43 out of 100 | elapsed:    0.6s remaining:    0.8s\n",
            "[Parallel(n_jobs=40)]: Done  54 out of 100 | elapsed:    0.6s remaining:    0.5s\n",
            "[Parallel(n_jobs=40)]: Done  65 out of 100 | elapsed:    0.7s remaining:    0.4s\n",
            "[Parallel(n_jobs=40)]: Done  76 out of 100 | elapsed:    0.7s remaining:    0.2s\n",
            "[Parallel(n_jobs=40)]: Done  87 out of 100 | elapsed:    0.9s remaining:    0.1s\n",
            "[Parallel(n_jobs=40)]: Done  98 out of 100 | elapsed:    0.9s remaining:    0.0s\n",
            "[Parallel(n_jobs=40)]: Done 100 out of 100 | elapsed:    0.9s finished\n",
            "[Parallel(n_jobs=40)]: Using backend ThreadingBackend with 40 concurrent workers.\n",
            "[Parallel(n_jobs=40)]: Done   5 tasks      | elapsed:    0.3s\n",
            "[Parallel(n_jobs=40)]: Done  18 tasks      | elapsed:    0.3s\n",
            "[Parallel(n_jobs=40)]: Done  32 out of 100 | elapsed:    0.3s remaining:    0.7s\n",
            "[Parallel(n_jobs=40)]: Done  43 out of 100 | elapsed:    0.6s remaining:    0.8s\n",
            "[Parallel(n_jobs=40)]: Done  54 out of 100 | elapsed:    0.6s remaining:    0.6s\n",
            "[Parallel(n_jobs=40)]: Done  65 out of 100 | elapsed:    0.7s remaining:    0.4s\n",
            "[Parallel(n_jobs=40)]: Done  76 out of 100 | elapsed:    0.7s remaining:    0.2s\n",
            "[Parallel(n_jobs=40)]: Done  87 out of 100 | elapsed:    0.9s remaining:    0.1s\n",
            "[Parallel(n_jobs=40)]: Done  98 out of 100 | elapsed:    0.9s remaining:    0.0s\n",
            "[Parallel(n_jobs=40)]: Done 100 out of 100 | elapsed:    1.0s finished\n"
          ],
          "name": "stderr"
        },
        {
          "output_type": "stream",
          "text": [
            "Clean_Stopword - 2 Inferenced : 1.0355308055877686s\ttrain ACC : 0.9910602191412369 test ACC : 0.9269733671232451 test F1 : 0.8159987464253536\n",
            "building tree 1 of 100\n",
            "building tree 2 of 100\n",
            "building tree 3 of 100\n",
            "building tree 4 of 100\n",
            "building tree 5 of 100\n",
            "building tree 6 of 100\n",
            "building tree 7 of 100\n",
            "building tree 8 of 100\n"
          ],
          "name": "stdout"
        },
        {
          "output_type": "stream",
          "text": [
            "[Parallel(n_jobs=-1)]: Using backend ThreadingBackend with 40 concurrent workers.\n"
          ],
          "name": "stderr"
        },
        {
          "output_type": "stream",
          "text": [
            "building tree 9 of 100\n",
            "building tree 10 of 100\n",
            "building tree 11 of 100\n",
            "building tree 12 of 100\n",
            "building tree 13 of 100\n",
            "building tree 14 of 100\n",
            "building tree 15 of 100\n",
            "building tree 16 of 100\n",
            "building tree 17 of 100\n",
            "building tree 18 of 100\n",
            "building tree 19 of 100\n",
            "building tree 20 of 100\n",
            "building tree 21 of 100\n",
            "building tree 22 of 100\n",
            "building tree 23 of 100\n",
            "building tree 24 of 100\n",
            "building tree 25 of 100building tree 26 of 100\n",
            "building tree 27 of 100building tree 28 of 100\n",
            "\n",
            "building tree 29 of 100\n",
            "\n",
            "building tree 30 of 100\n",
            "building tree 31 of 100\n",
            "building tree 32 of 100\n",
            "building tree 33 of 100\n",
            "building tree 34 of 100\n",
            "building tree 35 of 100\n",
            "building tree 36 of 100\n",
            "building tree 37 of 100\n",
            "building tree 38 of 100\n",
            "building tree 39 of 100\n",
            "building tree 40 of 100\n",
            "building tree 41 of 100\n",
            "building tree 42 of 100\n",
            "building tree 43 of 100\n",
            "building tree 44 of 100\n",
            "building tree 45 of 100\n",
            "building tree 46 of 100\n"
          ],
          "name": "stdout"
        },
        {
          "output_type": "stream",
          "text": [
            "[Parallel(n_jobs=-1)]: Done   5 tasks      | elapsed:   32.6s\n"
          ],
          "name": "stderr"
        },
        {
          "output_type": "stream",
          "text": [
            "building tree 47 of 100\n",
            "building tree 48 of 100\n",
            "building tree 49 of 100\n",
            "building tree 50 of 100\n",
            "building tree 51 of 100\n",
            "building tree 52 of 100\n",
            "building tree 53 of 100\n",
            "building tree 54 of 100\n",
            "building tree 55 of 100\n",
            "building tree 56 of 100\n",
            "building tree 57 of 100\n",
            "building tree 58 of 100\n",
            "building tree 59 of 100\n"
          ],
          "name": "stdout"
        },
        {
          "output_type": "stream",
          "text": [
            "[Parallel(n_jobs=-1)]: Done  18 tasks      | elapsed:   34.5s\n"
          ],
          "name": "stderr"
        },
        {
          "output_type": "stream",
          "text": [
            "building tree 60 of 100\n",
            "building tree 61 of 100\n",
            "building tree 62 of 100\n",
            "building tree 63 of 100\n",
            "building tree 64 of 100\n",
            "building tree 65 of 100\n",
            "building tree 66 of 100\n",
            "building tree 67 of 100\n",
            "building tree 68 of 100\n",
            "building tree 69 of 100\n",
            "building tree 70 of 100\n",
            "building tree 71 of 100\n",
            "building tree 72 of 100\n"
          ],
          "name": "stdout"
        },
        {
          "output_type": "stream",
          "text": [
            "[Parallel(n_jobs=-1)]: Done  32 out of 100 | elapsed:   36.0s remaining:  1.3min\n"
          ],
          "name": "stderr"
        },
        {
          "output_type": "stream",
          "text": [
            "building tree 73 of 100\n",
            "building tree 74 of 100\n",
            "building tree 75 of 100\n",
            "building tree 76 of 100\n",
            "building tree 77 of 100\n",
            "building tree 78 of 100\n",
            "building tree 79 of 100\n",
            "building tree 80 of 100\n",
            "building tree 81 of 100\n",
            "building tree 82 of 100\n",
            "building tree 83 of 100\n",
            "building tree 84 of 100\n"
          ],
          "name": "stdout"
        },
        {
          "output_type": "stream",
          "text": [
            "[Parallel(n_jobs=-1)]: Done  43 out of 100 | elapsed:  1.1min remaining:  1.5min\n"
          ],
          "name": "stderr"
        },
        {
          "output_type": "stream",
          "text": [
            "building tree 85 of 100\n",
            "building tree 86 of 100\n",
            "building tree 87 of 100\n",
            "building tree 88 of 100\n",
            "building tree 89 of 100\n",
            "building tree 90 of 100\n",
            "building tree 91 of 100\n",
            "building tree 92 of 100\n",
            "building tree 93 of 100\n"
          ],
          "name": "stdout"
        },
        {
          "output_type": "stream",
          "text": [
            "[Parallel(n_jobs=-1)]: Done  54 out of 100 | elapsed:  1.1min remaining:   58.1s\n"
          ],
          "name": "stderr"
        },
        {
          "output_type": "stream",
          "text": [
            "building tree 94 of 100\n",
            "building tree 95 of 100\n",
            "building tree 96 of 100\n",
            "building tree 97 of 100\n",
            "building tree 98 of 100\n",
            "building tree 99 of 100\n",
            "building tree 100 of 100\n"
          ],
          "name": "stdout"
        },
        {
          "output_type": "stream",
          "text": [
            "[Parallel(n_jobs=-1)]: Done  65 out of 100 | elapsed:  1.2min remaining:   37.6s\n",
            "[Parallel(n_jobs=-1)]: Done  76 out of 100 | elapsed:  1.2min remaining:   22.5s\n",
            "[Parallel(n_jobs=-1)]: Done  87 out of 100 | elapsed:  1.4min remaining:   12.7s\n",
            "[Parallel(n_jobs=-1)]: Done  98 out of 100 | elapsed:  1.4min remaining:    1.8s\n",
            "[Parallel(n_jobs=-1)]: Done 100 out of 100 | elapsed:  1.4min finished\n",
            "[Parallel(n_jobs=40)]: Using backend ThreadingBackend with 40 concurrent workers.\n"
          ],
          "name": "stderr"
        },
        {
          "output_type": "stream",
          "text": [
            "Clean_Stopword - 3 Trained\n"
          ],
          "name": "stdout"
        },
        {
          "output_type": "stream",
          "text": [
            "[Parallel(n_jobs=40)]: Done   5 tasks      | elapsed:    1.2s\n",
            "[Parallel(n_jobs=40)]: Done  18 tasks      | elapsed:    1.2s\n",
            "[Parallel(n_jobs=40)]: Done  32 out of 100 | elapsed:    1.3s remaining:    2.7s\n",
            "[Parallel(n_jobs=40)]: Done  43 out of 100 | elapsed:    2.4s remaining:    3.1s\n",
            "[Parallel(n_jobs=40)]: Done  54 out of 100 | elapsed:    2.4s remaining:    2.1s\n",
            "[Parallel(n_jobs=40)]: Done  65 out of 100 | elapsed:    2.5s remaining:    1.3s\n",
            "[Parallel(n_jobs=40)]: Done  76 out of 100 | elapsed:    2.5s remaining:    0.8s\n",
            "[Parallel(n_jobs=40)]: Done  87 out of 100 | elapsed:    3.4s remaining:    0.5s\n",
            "[Parallel(n_jobs=40)]: Done  98 out of 100 | elapsed:    3.5s remaining:    0.1s\n",
            "[Parallel(n_jobs=40)]: Done 100 out of 100 | elapsed:    3.5s finished\n",
            "[Parallel(n_jobs=40)]: Using backend ThreadingBackend with 40 concurrent workers.\n",
            "[Parallel(n_jobs=40)]: Done   5 tasks      | elapsed:    1.2s\n",
            "[Parallel(n_jobs=40)]: Done  18 tasks      | elapsed:    1.2s\n",
            "[Parallel(n_jobs=40)]: Done  32 out of 100 | elapsed:    1.3s remaining:    2.7s\n",
            "[Parallel(n_jobs=40)]: Done  43 out of 100 | elapsed:    2.3s remaining:    3.1s\n",
            "[Parallel(n_jobs=40)]: Done  54 out of 100 | elapsed:    2.4s remaining:    2.1s\n",
            "[Parallel(n_jobs=40)]: Done  65 out of 100 | elapsed:    2.5s remaining:    1.3s\n",
            "[Parallel(n_jobs=40)]: Done  76 out of 100 | elapsed:    2.5s remaining:    0.8s\n",
            "[Parallel(n_jobs=40)]: Done  87 out of 100 | elapsed:    3.3s remaining:    0.5s\n",
            "[Parallel(n_jobs=40)]: Done  98 out of 100 | elapsed:    3.5s remaining:    0.1s\n",
            "[Parallel(n_jobs=40)]: Done 100 out of 100 | elapsed:    3.5s finished\n",
            "[Parallel(n_jobs=40)]: Using backend ThreadingBackend with 40 concurrent workers.\n",
            "[Parallel(n_jobs=40)]: Done   5 tasks      | elapsed:    0.3s\n",
            "[Parallel(n_jobs=40)]: Done  18 tasks      | elapsed:    0.3s\n",
            "[Parallel(n_jobs=40)]: Done  32 out of 100 | elapsed:    0.3s remaining:    0.7s\n",
            "[Parallel(n_jobs=40)]: Done  43 out of 100 | elapsed:    0.6s remaining:    0.8s\n",
            "[Parallel(n_jobs=40)]: Done  54 out of 100 | elapsed:    0.6s remaining:    0.5s\n",
            "[Parallel(n_jobs=40)]: Done  65 out of 100 | elapsed:    0.7s remaining:    0.4s\n",
            "[Parallel(n_jobs=40)]: Done  76 out of 100 | elapsed:    0.7s remaining:    0.2s\n",
            "[Parallel(n_jobs=40)]: Done  87 out of 100 | elapsed:    0.9s remaining:    0.1s\n",
            "[Parallel(n_jobs=40)]: Done  98 out of 100 | elapsed:    0.9s remaining:    0.0s\n",
            "[Parallel(n_jobs=40)]: Done 100 out of 100 | elapsed:    1.0s finished\n",
            "[Parallel(n_jobs=40)]: Using backend ThreadingBackend with 40 concurrent workers.\n",
            "[Parallel(n_jobs=40)]: Done   5 tasks      | elapsed:    0.3s\n",
            "[Parallel(n_jobs=40)]: Done  18 tasks      | elapsed:    0.3s\n",
            "[Parallel(n_jobs=40)]: Done  32 out of 100 | elapsed:    0.3s remaining:    0.7s\n",
            "[Parallel(n_jobs=40)]: Done  43 out of 100 | elapsed:    0.6s remaining:    0.8s\n",
            "[Parallel(n_jobs=40)]: Done  54 out of 100 | elapsed:    0.6s remaining:    0.5s\n",
            "[Parallel(n_jobs=40)]: Done  65 out of 100 | elapsed:    0.7s remaining:    0.4s\n",
            "[Parallel(n_jobs=40)]: Done  76 out of 100 | elapsed:    0.7s remaining:    0.2s\n",
            "[Parallel(n_jobs=40)]: Done  87 out of 100 | elapsed:    0.9s remaining:    0.1s\n",
            "[Parallel(n_jobs=40)]: Done  98 out of 100 | elapsed:    0.9s remaining:    0.0s\n",
            "[Parallel(n_jobs=40)]: Done 100 out of 100 | elapsed:    0.9s finished\n"
          ],
          "name": "stderr"
        },
        {
          "output_type": "stream",
          "text": [
            "Clean_Stopword - 3 Inferenced : 1.0350959300994873s\ttrain ACC : 0.9911690512560392 test ACC : 0.9251387614857196 test F1 : 0.8110208406923349\n",
            "building tree 1 of 100\n",
            "building tree 2 of 100\n",
            "building tree 3 of 100\n",
            "building tree 4 of 100\n",
            "building tree 5 of 100\n",
            "building tree 6 of 100\n",
            "building tree 7 of 100\n",
            "building tree 8 of 100\n",
            "building tree 9 of 100\n",
            "building tree 10 of 100\n",
            "building tree 11 of 100\n",
            "building tree 12 of 100\n",
            "building tree 13 of 100\n"
          ],
          "name": "stdout"
        },
        {
          "output_type": "stream",
          "text": [
            "[Parallel(n_jobs=-1)]: Using backend ThreadingBackend with 40 concurrent workers.\n"
          ],
          "name": "stderr"
        },
        {
          "output_type": "stream",
          "text": [
            "building tree 14 of 100\n",
            "building tree 15 of 100\n",
            "building tree 16 of 100\n",
            "building tree 17 of 100\n",
            "building tree 18 of 100\n",
            "building tree 19 of 100\n",
            "building tree 20 of 100\n",
            "building tree 21 of 100\n",
            "building tree 22 of 100\n",
            "building tree 23 of 100\n",
            "building tree 24 of 100\n",
            "building tree 25 of 100\n",
            "building tree 26 of 100building tree 27 of 100\n",
            "\n",
            "building tree 28 of 100building tree 29 of 100\n",
            "\n",
            "building tree 30 of 100\n",
            "building tree 31 of 100\n",
            "building tree 32 of 100\n",
            "building tree 33 of 100\n",
            "building tree 34 of 100\n",
            "building tree 35 of 100\n",
            "building tree 36 of 100\n",
            "building tree 37 of 100\n",
            "building tree 38 of 100\n",
            "building tree 39 of 100\n",
            "building tree 40 of 100\n",
            "building tree 41 of 100\n",
            "building tree 42 of 100\n",
            "building tree 43 of 100\n",
            "building tree 44 of 100\n",
            "building tree 45 of 100\n"
          ],
          "name": "stdout"
        },
        {
          "output_type": "stream",
          "text": [
            "[Parallel(n_jobs=-1)]: Done   5 tasks      | elapsed:   34.3s\n"
          ],
          "name": "stderr"
        },
        {
          "output_type": "stream",
          "text": [
            "building tree 46 of 100\n",
            "building tree 47 of 100\n",
            "building tree 48 of 100building tree 49 of 100\n",
            "\n",
            "building tree 50 of 100\n",
            "building tree 51 of 100\n",
            "building tree 52 of 100\n",
            "building tree 53 of 100\n",
            "building tree 54 of 100\n",
            "building tree 55 of 100\n",
            "building tree 56 of 100\n",
            "building tree 57 of 100\n",
            "building tree 58 of 100\n",
            "building tree 59 of 100\n"
          ],
          "name": "stdout"
        },
        {
          "output_type": "stream",
          "text": [
            "[Parallel(n_jobs=-1)]: Done  18 tasks      | elapsed:   35.4s\n"
          ],
          "name": "stderr"
        },
        {
          "output_type": "stream",
          "text": [
            "building tree 60 of 100\n",
            "building tree 61 of 100\n",
            "building tree 62 of 100\n",
            "building tree 63 of 100\n",
            "building tree 64 of 100\n",
            "building tree 65 of 100\n",
            "building tree 66 of 100\n",
            "building tree 67 of 100\n",
            "building tree 68 of 100\n",
            "building tree 69 of 100\n",
            "building tree 70 of 100\n",
            "building tree 71 of 100\n"
          ],
          "name": "stdout"
        },
        {
          "output_type": "stream",
          "text": [
            "[Parallel(n_jobs=-1)]: Done  32 out of 100 | elapsed:   36.0s remaining:  1.3min\n"
          ],
          "name": "stderr"
        },
        {
          "output_type": "stream",
          "text": [
            "building tree 72 of 100\n",
            "building tree 73 of 100\n",
            "building tree 74 of 100\n",
            "building tree 75 of 100\n",
            "building tree 76 of 100\n",
            "building tree 77 of 100\n",
            "building tree 78 of 100\n",
            "building tree 79 of 100\n",
            "building tree 80 of 100\n",
            "building tree 81 of 100\n",
            "building tree 82 of 100\n",
            "building tree 83 of 100\n"
          ],
          "name": "stdout"
        },
        {
          "output_type": "stream",
          "text": [
            "[Parallel(n_jobs=-1)]: Done  43 out of 100 | elapsed:  1.1min remaining:  1.5min\n"
          ],
          "name": "stderr"
        },
        {
          "output_type": "stream",
          "text": [
            "building tree 84 of 100\n",
            "building tree 85 of 100\n",
            "building tree 86 of 100\n",
            "building tree 87 of 100\n",
            "building tree 88 of 100\n",
            "building tree 89 of 100\n",
            "building tree 90 of 100\n",
            "building tree 91 of 100\n",
            "building tree 92 of 100\n",
            "building tree 93 of 100\n",
            "building tree 94 of 100\n",
            "building tree 95 of 100\n"
          ],
          "name": "stdout"
        },
        {
          "output_type": "stream",
          "text": [
            "[Parallel(n_jobs=-1)]: Done  54 out of 100 | elapsed:  1.2min remaining:   59.8s\n"
          ],
          "name": "stderr"
        },
        {
          "output_type": "stream",
          "text": [
            "building tree 96 of 100\n",
            "building tree 97 of 100\n",
            "building tree 98 of 100building tree 99 of 100\n",
            "\n",
            "building tree 100 of 100\n"
          ],
          "name": "stdout"
        },
        {
          "output_type": "stream",
          "text": [
            "[Parallel(n_jobs=-1)]: Done  65 out of 100 | elapsed:  1.2min remaining:   38.1s\n",
            "[Parallel(n_jobs=-1)]: Done  76 out of 100 | elapsed:  1.2min remaining:   22.6s\n",
            "[Parallel(n_jobs=-1)]: Done  87 out of 100 | elapsed:  1.4min remaining:   12.8s\n",
            "[Parallel(n_jobs=-1)]: Done  98 out of 100 | elapsed:  1.4min remaining:    1.8s\n",
            "[Parallel(n_jobs=-1)]: Done 100 out of 100 | elapsed:  1.5min finished\n",
            "[Parallel(n_jobs=40)]: Using backend ThreadingBackend with 40 concurrent workers.\n"
          ],
          "name": "stderr"
        },
        {
          "output_type": "stream",
          "text": [
            "Clean_Stopword - 4 Trained\n"
          ],
          "name": "stdout"
        },
        {
          "output_type": "stream",
          "text": [
            "[Parallel(n_jobs=40)]: Done   5 tasks      | elapsed:    1.2s\n",
            "[Parallel(n_jobs=40)]: Done  18 tasks      | elapsed:    1.2s\n",
            "[Parallel(n_jobs=40)]: Done  32 out of 100 | elapsed:    1.3s remaining:    2.7s\n",
            "[Parallel(n_jobs=40)]: Done  43 out of 100 | elapsed:    2.4s remaining:    3.1s\n",
            "[Parallel(n_jobs=40)]: Done  54 out of 100 | elapsed:    2.4s remaining:    2.1s\n",
            "[Parallel(n_jobs=40)]: Done  65 out of 100 | elapsed:    2.5s remaining:    1.3s\n",
            "[Parallel(n_jobs=40)]: Done  76 out of 100 | elapsed:    2.5s remaining:    0.8s\n",
            "[Parallel(n_jobs=40)]: Done  87 out of 100 | elapsed:    3.4s remaining:    0.5s\n",
            "[Parallel(n_jobs=40)]: Done  98 out of 100 | elapsed:    3.5s remaining:    0.1s\n",
            "[Parallel(n_jobs=40)]: Done 100 out of 100 | elapsed:    3.5s finished\n",
            "[Parallel(n_jobs=40)]: Using backend ThreadingBackend with 40 concurrent workers.\n",
            "[Parallel(n_jobs=40)]: Done   5 tasks      | elapsed:    1.2s\n",
            "[Parallel(n_jobs=40)]: Done  18 tasks      | elapsed:    1.3s\n",
            "[Parallel(n_jobs=40)]: Done  32 out of 100 | elapsed:    1.3s remaining:    2.8s\n",
            "[Parallel(n_jobs=40)]: Done  43 out of 100 | elapsed:    2.4s remaining:    3.1s\n",
            "[Parallel(n_jobs=40)]: Done  54 out of 100 | elapsed:    2.5s remaining:    2.1s\n",
            "[Parallel(n_jobs=40)]: Done  65 out of 100 | elapsed:    2.5s remaining:    1.3s\n",
            "[Parallel(n_jobs=40)]: Done  76 out of 100 | elapsed:    2.5s remaining:    0.8s\n",
            "[Parallel(n_jobs=40)]: Done  87 out of 100 | elapsed:    3.4s remaining:    0.5s\n",
            "[Parallel(n_jobs=40)]: Done  98 out of 100 | elapsed:    3.5s remaining:    0.1s\n",
            "[Parallel(n_jobs=40)]: Done 100 out of 100 | elapsed:    3.6s finished\n",
            "[Parallel(n_jobs=40)]: Using backend ThreadingBackend with 40 concurrent workers.\n",
            "[Parallel(n_jobs=40)]: Done   5 tasks      | elapsed:    0.3s\n",
            "[Parallel(n_jobs=40)]: Done  18 tasks      | elapsed:    0.3s\n",
            "[Parallel(n_jobs=40)]: Done  32 out of 100 | elapsed:    0.3s remaining:    0.7s\n",
            "[Parallel(n_jobs=40)]: Done  43 out of 100 | elapsed:    0.6s remaining:    0.8s\n",
            "[Parallel(n_jobs=40)]: Done  54 out of 100 | elapsed:    0.6s remaining:    0.5s\n",
            "[Parallel(n_jobs=40)]: Done  65 out of 100 | elapsed:    0.7s remaining:    0.4s\n",
            "[Parallel(n_jobs=40)]: Done  76 out of 100 | elapsed:    0.7s remaining:    0.2s\n",
            "[Parallel(n_jobs=40)]: Done  87 out of 100 | elapsed:    0.9s remaining:    0.1s\n",
            "[Parallel(n_jobs=40)]: Done  98 out of 100 | elapsed:    0.9s remaining:    0.0s\n",
            "[Parallel(n_jobs=40)]: Done 100 out of 100 | elapsed:    0.9s finished\n",
            "[Parallel(n_jobs=40)]: Using backend ThreadingBackend with 40 concurrent workers.\n",
            "[Parallel(n_jobs=40)]: Done   5 tasks      | elapsed:    0.3s\n",
            "[Parallel(n_jobs=40)]: Done  18 tasks      | elapsed:    0.3s\n",
            "[Parallel(n_jobs=40)]: Done  32 out of 100 | elapsed:    0.3s remaining:    0.7s\n",
            "[Parallel(n_jobs=40)]: Done  43 out of 100 | elapsed:    0.6s remaining:    0.8s\n",
            "[Parallel(n_jobs=40)]: Done  54 out of 100 | elapsed:    0.6s remaining:    0.5s\n",
            "[Parallel(n_jobs=40)]: Done  65 out of 100 | elapsed:    0.6s remaining:    0.3s\n",
            "[Parallel(n_jobs=40)]: Done  76 out of 100 | elapsed:    0.7s remaining:    0.2s\n",
            "[Parallel(n_jobs=40)]: Done  87 out of 100 | elapsed:    0.9s remaining:    0.1s\n",
            "[Parallel(n_jobs=40)]: Done  98 out of 100 | elapsed:    0.9s remaining:    0.0s\n",
            "[Parallel(n_jobs=40)]: Done 100 out of 100 | elapsed:    0.9s finished\n"
          ],
          "name": "stderr"
        },
        {
          "output_type": "stream",
          "text": [
            "Clean_Stopword - 4 Inferenced : 1.0367350578308105s\ttrain ACC : 0.9908736498015758 test ACC : 0.9260249692936768 test F1 : 0.8134410288582182\n",
            "building tree 1 of 100\n",
            "building tree 2 of 100\n",
            "building tree 3 of 100\n",
            "building tree 4 of 100\n",
            "building tree 5 of 100\n",
            "building tree 6 of 100\n",
            "building tree 7 of 100\n",
            "building tree 8 of 100\n",
            "building tree 9 of 100\n",
            "building tree 10 of 100\n",
            "building tree 11 of 100\n",
            "building tree 12 of 100\n",
            "building tree 13 of 100\n"
          ],
          "name": "stdout"
        },
        {
          "output_type": "stream",
          "text": [
            "[Parallel(n_jobs=-1)]: Using backend ThreadingBackend with 40 concurrent workers.\n"
          ],
          "name": "stderr"
        },
        {
          "output_type": "stream",
          "text": [
            "building tree 14 of 100building tree 15 of 100\n",
            "\n",
            "building tree 16 of 100\n",
            "building tree 17 of 100\n",
            "building tree 18 of 100\n",
            "building tree 19 of 100\n",
            "building tree 20 of 100building tree 21 of 100\n",
            "building tree 22 of 100\n",
            "\n",
            "building tree 23 of 100building tree 24 of 100\n",
            "building tree 25 of 100\n",
            "building tree 26 of 100\n",
            "building tree 27 of 100\n",
            "\n",
            "building tree 28 of 100\n",
            "building tree 29 of 100\n",
            "building tree 30 of 100\n",
            "building tree 31 of 100\n",
            "building tree 32 of 100\n",
            "building tree 33 of 100\n",
            "building tree 34 of 100\n",
            "building tree 35 of 100\n",
            "building tree 36 of 100\n",
            "building tree 37 of 100\n",
            "building tree 38 of 100\n",
            "building tree 39 of 100\n",
            "building tree 40 of 100\n",
            "building tree 41 of 100\n",
            "building tree 42 of 100\n",
            "building tree 43 of 100\n",
            "building tree 44 of 100\n",
            "building tree 45 of 100\n"
          ],
          "name": "stdout"
        },
        {
          "output_type": "stream",
          "text": [
            "[Parallel(n_jobs=-1)]: Done   5 tasks      | elapsed:   35.2s\n"
          ],
          "name": "stderr"
        },
        {
          "output_type": "stream",
          "text": [
            "building tree 46 of 100\n",
            "building tree 47 of 100\n",
            "building tree 48 of 100\n",
            "building tree 49 of 100\n",
            "building tree 50 of 100\n",
            "building tree 51 of 100\n",
            "building tree 52 of 100\n",
            "building tree 53 of 100\n",
            "building tree 54 of 100\n",
            "building tree 55 of 100\n",
            "building tree 56 of 100\n",
            "building tree 57 of 100\n",
            "building tree 58 of 100\n",
            "building tree 59 of 100\n",
            "building tree 60 of 100\n"
          ],
          "name": "stdout"
        },
        {
          "output_type": "stream",
          "text": [
            "[Parallel(n_jobs=-1)]: Done  18 tasks      | elapsed:   36.2s\n"
          ],
          "name": "stderr"
        },
        {
          "output_type": "stream",
          "text": [
            "building tree 61 of 100\n",
            "building tree 62 of 100\n",
            "building tree 63 of 100\n",
            "building tree 64 of 100\n",
            "building tree 65 of 100\n",
            "building tree 66 of 100\n",
            "building tree 67 of 100\n",
            "building tree 68 of 100\n",
            "building tree 69 of 100\n",
            "building tree 70 of 100\n",
            "building tree 71 of 100\n"
          ],
          "name": "stdout"
        },
        {
          "output_type": "stream",
          "text": [
            "[Parallel(n_jobs=-1)]: Done  32 out of 100 | elapsed:   37.3s remaining:  1.3min\n"
          ],
          "name": "stderr"
        },
        {
          "output_type": "stream",
          "text": [
            "building tree 72 of 100\n",
            "building tree 73 of 100\n",
            "building tree 74 of 100\n",
            "building tree 75 of 100\n",
            "building tree 76 of 100\n",
            "building tree 77 of 100\n",
            "building tree 78 of 100\n",
            "building tree 79 of 100\n",
            "building tree 80 of 100\n",
            "building tree 81 of 100\n",
            "building tree 82 of 100\n"
          ],
          "name": "stdout"
        },
        {
          "output_type": "stream",
          "text": [
            "[Parallel(n_jobs=-1)]: Done  43 out of 100 | elapsed:  1.2min remaining:  1.5min\n"
          ],
          "name": "stderr"
        },
        {
          "output_type": "stream",
          "text": [
            "building tree 83 of 100\n",
            "building tree 84 of 100\n",
            "building tree 85 of 100\n",
            "building tree 86 of 100\n",
            "building tree 87 of 100\n",
            "building tree 88 of 100\n",
            "building tree 89 of 100\n",
            "building tree 90 of 100\n",
            "building tree 91 of 100\n",
            "building tree 92 of 100\n",
            "building tree 93 of 100\n"
          ],
          "name": "stdout"
        },
        {
          "output_type": "stream",
          "text": [
            "[Parallel(n_jobs=-1)]: Done  54 out of 100 | elapsed:  1.2min remaining:  1.0min\n"
          ],
          "name": "stderr"
        },
        {
          "output_type": "stream",
          "text": [
            "building tree 94 of 100\n",
            "building tree 95 of 100\n",
            "building tree 96 of 100\n",
            "building tree 97 of 100\n",
            "building tree 98 of 100\n",
            "building tree 99 of 100\n",
            "building tree 100 of 100\n"
          ],
          "name": "stdout"
        },
        {
          "output_type": "stream",
          "text": [
            "[Parallel(n_jobs=-1)]: Done  65 out of 100 | elapsed:  1.2min remaining:   38.7s\n",
            "[Parallel(n_jobs=-1)]: Done  76 out of 100 | elapsed:  1.2min remaining:   23.1s\n",
            "[Parallel(n_jobs=-1)]: Done  87 out of 100 | elapsed:  1.5min remaining:   13.0s\n",
            "[Parallel(n_jobs=-1)]: Done  98 out of 100 | elapsed:  1.5min remaining:    1.8s\n",
            "[Parallel(n_jobs=-1)]: Done 100 out of 100 | elapsed:  1.5min finished\n",
            "[Parallel(n_jobs=40)]: Using backend ThreadingBackend with 40 concurrent workers.\n"
          ],
          "name": "stderr"
        },
        {
          "output_type": "stream",
          "text": [
            "Clean_Stopword - 5 Trained\n"
          ],
          "name": "stdout"
        },
        {
          "output_type": "stream",
          "text": [
            "[Parallel(n_jobs=40)]: Done   5 tasks      | elapsed:    1.2s\n",
            "[Parallel(n_jobs=40)]: Done  18 tasks      | elapsed:    1.2s\n",
            "[Parallel(n_jobs=40)]: Done  32 out of 100 | elapsed:    1.3s remaining:    2.7s\n",
            "[Parallel(n_jobs=40)]: Done  43 out of 100 | elapsed:    2.4s remaining:    3.2s\n",
            "[Parallel(n_jobs=40)]: Done  54 out of 100 | elapsed:    2.5s remaining:    2.1s\n",
            "[Parallel(n_jobs=40)]: Done  65 out of 100 | elapsed:    2.5s remaining:    1.3s\n",
            "[Parallel(n_jobs=40)]: Done  76 out of 100 | elapsed:    2.6s remaining:    0.8s\n",
            "[Parallel(n_jobs=40)]: Done  87 out of 100 | elapsed:    3.4s remaining:    0.5s\n",
            "[Parallel(n_jobs=40)]: Done  98 out of 100 | elapsed:    3.5s remaining:    0.1s\n",
            "[Parallel(n_jobs=40)]: Done 100 out of 100 | elapsed:    3.6s finished\n",
            "[Parallel(n_jobs=40)]: Using backend ThreadingBackend with 40 concurrent workers.\n",
            "[Parallel(n_jobs=40)]: Done   5 tasks      | elapsed:    1.2s\n",
            "[Parallel(n_jobs=40)]: Done  18 tasks      | elapsed:    1.2s\n",
            "[Parallel(n_jobs=40)]: Done  32 out of 100 | elapsed:    1.3s remaining:    2.7s\n",
            "[Parallel(n_jobs=40)]: Done  43 out of 100 | elapsed:    2.3s remaining:    3.1s\n",
            "[Parallel(n_jobs=40)]: Done  54 out of 100 | elapsed:    2.4s remaining:    2.1s\n",
            "[Parallel(n_jobs=40)]: Done  65 out of 100 | elapsed:    2.5s remaining:    1.3s\n",
            "[Parallel(n_jobs=40)]: Done  76 out of 100 | elapsed:    2.6s remaining:    0.8s\n",
            "[Parallel(n_jobs=40)]: Done  87 out of 100 | elapsed:    3.4s remaining:    0.5s\n",
            "[Parallel(n_jobs=40)]: Done  98 out of 100 | elapsed:    3.5s remaining:    0.1s\n",
            "[Parallel(n_jobs=40)]: Done 100 out of 100 | elapsed:    3.5s finished\n",
            "[Parallel(n_jobs=40)]: Using backend ThreadingBackend with 40 concurrent workers.\n",
            "[Parallel(n_jobs=40)]: Done   5 tasks      | elapsed:    0.3s\n",
            "[Parallel(n_jobs=40)]: Done  18 tasks      | elapsed:    0.3s\n",
            "[Parallel(n_jobs=40)]: Done  32 out of 100 | elapsed:    0.3s remaining:    0.7s\n",
            "[Parallel(n_jobs=40)]: Done  43 out of 100 | elapsed:    0.6s remaining:    0.8s\n",
            "[Parallel(n_jobs=40)]: Done  54 out of 100 | elapsed:    0.6s remaining:    0.5s\n",
            "[Parallel(n_jobs=40)]: Done  65 out of 100 | elapsed:    0.7s remaining:    0.4s\n",
            "[Parallel(n_jobs=40)]: Done  76 out of 100 | elapsed:    0.7s remaining:    0.2s\n",
            "[Parallel(n_jobs=40)]: Done  87 out of 100 | elapsed:    0.9s remaining:    0.1s\n",
            "[Parallel(n_jobs=40)]: Done  98 out of 100 | elapsed:    0.9s remaining:    0.0s\n",
            "[Parallel(n_jobs=40)]: Done 100 out of 100 | elapsed:    0.9s finished\n",
            "[Parallel(n_jobs=40)]: Using backend ThreadingBackend with 40 concurrent workers.\n",
            "[Parallel(n_jobs=40)]: Done   5 tasks      | elapsed:    0.3s\n",
            "[Parallel(n_jobs=40)]: Done  18 tasks      | elapsed:    0.3s\n",
            "[Parallel(n_jobs=40)]: Done  32 out of 100 | elapsed:    0.3s remaining:    0.7s\n",
            "[Parallel(n_jobs=40)]: Done  43 out of 100 | elapsed:    0.6s remaining:    0.8s\n",
            "[Parallel(n_jobs=40)]: Done  54 out of 100 | elapsed:    0.6s remaining:    0.5s\n",
            "[Parallel(n_jobs=40)]: Done  65 out of 100 | elapsed:    0.7s remaining:    0.4s\n",
            "[Parallel(n_jobs=40)]: Done  76 out of 100 | elapsed:    0.7s remaining:    0.2s\n",
            "[Parallel(n_jobs=40)]: Done  87 out of 100 | elapsed:    0.9s remaining:    0.1s\n",
            "[Parallel(n_jobs=40)]: Done  98 out of 100 | elapsed:    0.9s remaining:    0.0s\n",
            "[Parallel(n_jobs=40)]: Done 100 out of 100 | elapsed:    0.9s finished\n"
          ],
          "name": "stderr"
        },
        {
          "output_type": "stream",
          "text": [
            "Clean_Stopword - 5 Inferenced : 1.0365476608276367s\ttrain ACC : 0.9911262957823669 test ACC : 0.9241126261291376 test F1 : 0.8088655676077848\n",
            "building tree 1 of 100\n",
            "building tree 2 of 100\n",
            "building tree 3 of 100\n",
            "building tree 4 of 100\n",
            "building tree 5 of 100\n",
            "building tree 6 of 100"
          ],
          "name": "stdout"
        },
        {
          "output_type": "stream",
          "text": [
            "[Parallel(n_jobs=-1)]: Using backend ThreadingBackend with 40 concurrent workers.\n"
          ],
          "name": "stderr"
        },
        {
          "output_type": "stream",
          "text": [
            "\n",
            "building tree 7 of 100\n",
            "building tree 8 of 100\n",
            "building tree 9 of 100\n",
            "building tree 10 of 100\n",
            "building tree 11 of 100\n",
            "building tree 12 of 100building tree 13 of 100\n",
            "building tree 14 of 100\n",
            "\n",
            "building tree 15 of 100\n",
            "building tree 16 of 100\n",
            "building tree 17 of 100\n",
            "building tree 18 of 100\n",
            "building tree 19 of 100\n",
            "building tree 20 of 100building tree 21 of 100\n",
            "\n",
            "building tree 22 of 100\n",
            "building tree 23 of 100\n",
            "building tree 24 of 100\n",
            "building tree 25 of 100\n",
            "building tree 26 of 100\n",
            "building tree 27 of 100\n",
            "building tree 28 of 100\n",
            "building tree 29 of 100\n",
            "building tree 30 of 100\n",
            "building tree 31 of 100\n",
            "building tree 32 of 100\n",
            "building tree 33 of 100\n",
            "building tree 34 of 100\n",
            "building tree 35 of 100\n",
            "building tree 36 of 100\n",
            "building tree 37 of 100\n",
            "building tree 38 of 100\n",
            "building tree 39 of 100\n",
            "building tree 40 of 100\n",
            "building tree 41 of 100\n",
            "building tree 42 of 100\n",
            "building tree 43 of 100\n",
            "building tree 44 of 100\n",
            "building tree 45 of 100\n"
          ],
          "name": "stdout"
        },
        {
          "output_type": "stream",
          "text": [
            "[Parallel(n_jobs=-1)]: Done   5 tasks      | elapsed:   30.2s\n"
          ],
          "name": "stderr"
        },
        {
          "output_type": "stream",
          "text": [
            "building tree 46 of 100\n",
            "building tree 47 of 100\n",
            "building tree 48 of 100\n",
            "building tree 49 of 100\n",
            "building tree 50 of 100\n",
            "building tree 51 of 100\n",
            "building tree 52 of 100\n",
            "building tree 53 of 100\n",
            "building tree 54 of 100\n",
            "building tree 55 of 100\n",
            "building tree 56 of 100\n",
            "building tree 57 of 100\n",
            "building tree 58 of 100\n"
          ],
          "name": "stdout"
        },
        {
          "output_type": "stream",
          "text": [
            "[Parallel(n_jobs=-1)]: Done  18 tasks      | elapsed:   31.7s\n"
          ],
          "name": "stderr"
        },
        {
          "output_type": "stream",
          "text": [
            "building tree 59 of 100\n",
            "building tree 60 of 100\n",
            "building tree 61 of 100\n",
            "building tree 62 of 100\n",
            "building tree 63 of 100\n",
            "building tree 64 of 100\n",
            "building tree 65 of 100\n",
            "building tree 66 of 100\n",
            "building tree 67 of 100\n",
            "building tree 68 of 100\n",
            "building tree 69 of 100\n",
            "building tree 70 of 100\n",
            "building tree 71 of 100\n"
          ],
          "name": "stdout"
        },
        {
          "output_type": "stream",
          "text": [
            "[Parallel(n_jobs=-1)]: Done  32 out of 100 | elapsed:   33.3s remaining:  1.2min\n"
          ],
          "name": "stderr"
        },
        {
          "output_type": "stream",
          "text": [
            "building tree 72 of 100\n",
            "building tree 73 of 100\n",
            "building tree 74 of 100\n",
            "building tree 75 of 100\n",
            "building tree 76 of 100\n",
            "building tree 77 of 100\n",
            "building tree 78 of 100\n",
            "building tree 79 of 100\n",
            "building tree 80 of 100\n",
            "building tree 81 of 100\n",
            "building tree 82 of 100\n",
            "building tree 83 of 100\n"
          ],
          "name": "stdout"
        },
        {
          "output_type": "stream",
          "text": [
            "[Parallel(n_jobs=-1)]: Done  43 out of 100 | elapsed:   59.4s remaining:  1.3min\n"
          ],
          "name": "stderr"
        },
        {
          "output_type": "stream",
          "text": [
            "building tree 84 of 100\n",
            "building tree 85 of 100\n",
            "building tree 86 of 100\n",
            "building tree 87 of 100\n",
            "building tree 88 of 100\n",
            "building tree 89 of 100\n",
            "building tree 90 of 100\n",
            "building tree 91 of 100\n",
            "building tree 92 of 100\n",
            "building tree 93 of 100\n"
          ],
          "name": "stdout"
        },
        {
          "output_type": "stream",
          "text": [
            "[Parallel(n_jobs=-1)]: Done  54 out of 100 | elapsed:  1.0min remaining:   52.9s\n"
          ],
          "name": "stderr"
        },
        {
          "output_type": "stream",
          "text": [
            "building tree 94 of 100\n",
            "building tree 95 of 100\n",
            "building tree 96 of 100\n",
            "building tree 97 of 100\n",
            "building tree 98 of 100\n",
            "building tree 99 of 100\n",
            "building tree 100 of 100\n"
          ],
          "name": "stdout"
        },
        {
          "output_type": "stream",
          "text": [
            "[Parallel(n_jobs=-1)]: Done  65 out of 100 | elapsed:  1.1min remaining:   34.5s\n",
            "[Parallel(n_jobs=-1)]: Done  76 out of 100 | elapsed:  1.1min remaining:   20.5s\n",
            "[Parallel(n_jobs=-1)]: Done  87 out of 100 | elapsed:  1.3min remaining:   11.5s\n",
            "[Parallel(n_jobs=-1)]: Done  98 out of 100 | elapsed:  1.3min remaining:    1.6s\n",
            "[Parallel(n_jobs=-1)]: Done 100 out of 100 | elapsed:  1.3min finished\n",
            "[Parallel(n_jobs=40)]: Using backend ThreadingBackend with 40 concurrent workers.\n"
          ],
          "name": "stderr"
        },
        {
          "output_type": "stream",
          "text": [
            "Clean_Stemming - 1 Trained\n"
          ],
          "name": "stdout"
        },
        {
          "output_type": "stream",
          "text": [
            "[Parallel(n_jobs=40)]: Done   5 tasks      | elapsed:    1.0s\n",
            "[Parallel(n_jobs=40)]: Done  18 tasks      | elapsed:    1.0s\n",
            "[Parallel(n_jobs=40)]: Done  32 out of 100 | elapsed:    1.1s remaining:    2.3s\n",
            "[Parallel(n_jobs=40)]: Done  43 out of 100 | elapsed:    1.9s remaining:    2.5s\n",
            "[Parallel(n_jobs=40)]: Done  54 out of 100 | elapsed:    2.0s remaining:    1.7s\n",
            "[Parallel(n_jobs=40)]: Done  65 out of 100 | elapsed:    2.0s remaining:    1.1s\n",
            "[Parallel(n_jobs=40)]: Done  76 out of 100 | elapsed:    2.1s remaining:    0.7s\n",
            "[Parallel(n_jobs=40)]: Done  87 out of 100 | elapsed:    2.7s remaining:    0.4s\n",
            "[Parallel(n_jobs=40)]: Done  98 out of 100 | elapsed:    2.8s remaining:    0.1s\n",
            "[Parallel(n_jobs=40)]: Done 100 out of 100 | elapsed:    2.9s finished\n",
            "[Parallel(n_jobs=40)]: Using backend ThreadingBackend with 40 concurrent workers.\n",
            "[Parallel(n_jobs=40)]: Done   5 tasks      | elapsed:    1.0s\n",
            "[Parallel(n_jobs=40)]: Done  18 tasks      | elapsed:    1.0s\n",
            "[Parallel(n_jobs=40)]: Done  32 out of 100 | elapsed:    1.1s remaining:    2.3s\n",
            "[Parallel(n_jobs=40)]: Done  43 out of 100 | elapsed:    1.9s remaining:    2.6s\n",
            "[Parallel(n_jobs=40)]: Done  54 out of 100 | elapsed:    2.0s remaining:    1.7s\n",
            "[Parallel(n_jobs=40)]: Done  65 out of 100 | elapsed:    2.1s remaining:    1.1s\n",
            "[Parallel(n_jobs=40)]: Done  76 out of 100 | elapsed:    2.1s remaining:    0.7s\n",
            "[Parallel(n_jobs=40)]: Done  87 out of 100 | elapsed:    2.8s remaining:    0.4s\n",
            "[Parallel(n_jobs=40)]: Done  98 out of 100 | elapsed:    2.9s remaining:    0.1s\n",
            "[Parallel(n_jobs=40)]: Done 100 out of 100 | elapsed:    2.9s finished\n",
            "[Parallel(n_jobs=40)]: Using backend ThreadingBackend with 40 concurrent workers.\n",
            "[Parallel(n_jobs=40)]: Done   5 tasks      | elapsed:    0.3s\n",
            "[Parallel(n_jobs=40)]: Done  18 tasks      | elapsed:    0.3s\n",
            "[Parallel(n_jobs=40)]: Done  32 out of 100 | elapsed:    0.3s remaining:    0.6s\n",
            "[Parallel(n_jobs=40)]: Done  43 out of 100 | elapsed:    0.5s remaining:    0.7s\n",
            "[Parallel(n_jobs=40)]: Done  54 out of 100 | elapsed:    0.5s remaining:    0.5s\n",
            "[Parallel(n_jobs=40)]: Done  65 out of 100 | elapsed:    0.6s remaining:    0.3s\n",
            "[Parallel(n_jobs=40)]: Done  76 out of 100 | elapsed:    0.6s remaining:    0.2s\n",
            "[Parallel(n_jobs=40)]: Done  87 out of 100 | elapsed:    0.7s remaining:    0.1s\n",
            "[Parallel(n_jobs=40)]: Done  98 out of 100 | elapsed:    0.8s remaining:    0.0s\n",
            "[Parallel(n_jobs=40)]: Done 100 out of 100 | elapsed:    0.8s finished\n",
            "[Parallel(n_jobs=40)]: Using backend ThreadingBackend with 40 concurrent workers.\n",
            "[Parallel(n_jobs=40)]: Done   5 tasks      | elapsed:    0.3s\n",
            "[Parallel(n_jobs=40)]: Done  18 tasks      | elapsed:    0.3s\n",
            "[Parallel(n_jobs=40)]: Done  32 out of 100 | elapsed:    0.3s remaining:    0.6s\n",
            "[Parallel(n_jobs=40)]: Done  43 out of 100 | elapsed:    0.5s remaining:    0.7s\n",
            "[Parallel(n_jobs=40)]: Done  54 out of 100 | elapsed:    0.5s remaining:    0.5s\n",
            "[Parallel(n_jobs=40)]: Done  65 out of 100 | elapsed:    0.6s remaining:    0.3s\n",
            "[Parallel(n_jobs=40)]: Done  76 out of 100 | elapsed:    0.6s remaining:    0.2s\n",
            "[Parallel(n_jobs=40)]: Done  87 out of 100 | elapsed:    0.7s remaining:    0.1s\n",
            "[Parallel(n_jobs=40)]: Done  98 out of 100 | elapsed:    0.8s remaining:    0.0s\n",
            "[Parallel(n_jobs=40)]: Done 100 out of 100 | elapsed:    0.8s finished\n"
          ],
          "name": "stderr"
        },
        {
          "output_type": "stream",
          "text": [
            "Clean_Stemming - 1 Inferenced : 0.8371105194091797s\ttrain ACC : 0.9918297859108506 test ACC : 0.9268190298507463 test F1 : 0.8140628086114952\n",
            "building tree 1 of 100\n",
            "building tree 2 of 100\n",
            "building tree 3 of 100\n",
            "building tree 4 of 100\n",
            "building tree 5 of 100\n",
            "building tree 6 of 100building tree 7 of 100\n",
            "building tree 8 of 100\n",
            "building tree 9 of 100\n",
            "building tree 10 of 100\n",
            "building tree 11 of 100\n",
            "\n",
            "building tree 12 of 100\n",
            "building tree 13 of 100\n",
            "building tree 14 of 100\n"
          ],
          "name": "stdout"
        },
        {
          "output_type": "stream",
          "text": [
            "[Parallel(n_jobs=-1)]: Using backend ThreadingBackend with 40 concurrent workers.\n"
          ],
          "name": "stderr"
        },
        {
          "output_type": "stream",
          "text": [
            "building tree 15 of 100building tree 16 of 100\n",
            "building tree 17 of 100\n",
            "\n",
            "building tree 18 of 100\n",
            "building tree 19 of 100\n",
            "building tree 20 of 100\n",
            "building tree 21 of 100\n",
            "building tree 22 of 100\n",
            "building tree 23 of 100\n",
            "building tree 24 of 100\n",
            "building tree 25 of 100\n",
            "building tree 26 of 100\n",
            "building tree 27 of 100\n",
            "building tree 28 of 100\n",
            "building tree 29 of 100\n",
            "building tree 30 of 100\n",
            "building tree 31 of 100\n",
            "building tree 32 of 100\n",
            "building tree 33 of 100\n",
            "building tree 34 of 100\n",
            "building tree 35 of 100\n",
            "building tree 36 of 100\n",
            "building tree 37 of 100\n",
            "building tree 38 of 100building tree 39 of 100\n",
            "\n",
            "building tree 40 of 100\n",
            "building tree 41 of 100\n",
            "building tree 42 of 100\n",
            "building tree 43 of 100\n",
            "building tree 44 of 100\n",
            "building tree 45 of 100\n"
          ],
          "name": "stdout"
        },
        {
          "output_type": "stream",
          "text": [
            "[Parallel(n_jobs=-1)]: Done   5 tasks      | elapsed:   30.7s\n"
          ],
          "name": "stderr"
        },
        {
          "output_type": "stream",
          "text": [
            "building tree 46 of 100\n",
            "building tree 47 of 100\n",
            "building tree 48 of 100\n",
            "building tree 49 of 100\n",
            "building tree 50 of 100\n",
            "building tree 51 of 100\n",
            "building tree 52 of 100\n",
            "building tree 53 of 100\n",
            "building tree 54 of 100\n",
            "building tree 55 of 100\n",
            "building tree 56 of 100\n",
            "building tree 57 of 100\n",
            "building tree 58 of 100\n",
            "building tree 59 of 100\n"
          ],
          "name": "stdout"
        },
        {
          "output_type": "stream",
          "text": [
            "[Parallel(n_jobs=-1)]: Done  18 tasks      | elapsed:   32.3s\n"
          ],
          "name": "stderr"
        },
        {
          "output_type": "stream",
          "text": [
            "building tree 60 of 100\n",
            "building tree 61 of 100\n",
            "building tree 62 of 100\n",
            "building tree 63 of 100\n",
            "building tree 64 of 100\n",
            "building tree 65 of 100\n",
            "building tree 66 of 100\n",
            "building tree 67 of 100\n",
            "building tree 68 of 100building tree 69 of 100\n",
            "\n",
            "building tree 70 of 100\n",
            "building tree 71 of 100\n"
          ],
          "name": "stdout"
        },
        {
          "output_type": "stream",
          "text": [
            "[Parallel(n_jobs=-1)]: Done  32 out of 100 | elapsed:   33.0s remaining:  1.2min\n"
          ],
          "name": "stderr"
        },
        {
          "output_type": "stream",
          "text": [
            "building tree 72 of 100\n",
            "building tree 73 of 100\n",
            "building tree 74 of 100\n",
            "building tree 75 of 100\n",
            "building tree 76 of 100\n",
            "building tree 77 of 100\n",
            "building tree 78 of 100\n",
            "building tree 79 of 100\n",
            "building tree 80 of 100\n",
            "building tree 81 of 100\n",
            "building tree 82 of 100\n"
          ],
          "name": "stdout"
        },
        {
          "output_type": "stream",
          "text": [
            "[Parallel(n_jobs=-1)]: Done  43 out of 100 | elapsed:  1.0min remaining:  1.3min\n"
          ],
          "name": "stderr"
        },
        {
          "output_type": "stream",
          "text": [
            "building tree 83 of 100\n",
            "building tree 84 of 100\n",
            "building tree 85 of 100\n",
            "building tree 86 of 100\n",
            "building tree 87 of 100\n",
            "building tree 88 of 100\n",
            "building tree 89 of 100\n",
            "building tree 90 of 100\n",
            "building tree 91 of 100\n",
            "building tree 92 of 100\n",
            "building tree 93 of 100\n",
            "building tree 94 of 100\n"
          ],
          "name": "stdout"
        },
        {
          "output_type": "stream",
          "text": [
            "[Parallel(n_jobs=-1)]: Done  54 out of 100 | elapsed:  1.1min remaining:   54.3s\n"
          ],
          "name": "stderr"
        },
        {
          "output_type": "stream",
          "text": [
            "building tree 95 of 100\n",
            "building tree 96 of 100\n",
            "building tree 97 of 100\n",
            "building tree 98 of 100\n",
            "building tree 99 of 100\n",
            "building tree 100 of 100\n"
          ],
          "name": "stdout"
        },
        {
          "output_type": "stream",
          "text": [
            "[Parallel(n_jobs=-1)]: Done  65 out of 100 | elapsed:  1.1min remaining:   35.1s\n",
            "[Parallel(n_jobs=-1)]: Done  76 out of 100 | elapsed:  1.1min remaining:   20.8s\n",
            "[Parallel(n_jobs=-1)]: Done  87 out of 100 | elapsed:  1.3min remaining:   11.7s\n",
            "[Parallel(n_jobs=-1)]: Done  98 out of 100 | elapsed:  1.3min remaining:    1.6s\n",
            "[Parallel(n_jobs=-1)]: Done 100 out of 100 | elapsed:  1.3min finished\n",
            "[Parallel(n_jobs=40)]: Using backend ThreadingBackend with 40 concurrent workers.\n"
          ],
          "name": "stderr"
        },
        {
          "output_type": "stream",
          "text": [
            "Clean_Stemming - 2 Trained\n"
          ],
          "name": "stdout"
        },
        {
          "output_type": "stream",
          "text": [
            "[Parallel(n_jobs=40)]: Done   5 tasks      | elapsed:    1.0s\n",
            "[Parallel(n_jobs=40)]: Done  18 tasks      | elapsed:    1.0s\n",
            "[Parallel(n_jobs=40)]: Done  32 out of 100 | elapsed:    1.1s remaining:    2.2s\n",
            "[Parallel(n_jobs=40)]: Done  43 out of 100 | elapsed:    1.9s remaining:    2.5s\n",
            "[Parallel(n_jobs=40)]: Done  54 out of 100 | elapsed:    2.0s remaining:    1.7s\n",
            "[Parallel(n_jobs=40)]: Done  65 out of 100 | elapsed:    2.0s remaining:    1.1s\n",
            "[Parallel(n_jobs=40)]: Done  76 out of 100 | elapsed:    2.1s remaining:    0.7s\n",
            "[Parallel(n_jobs=40)]: Done  87 out of 100 | elapsed:    2.8s remaining:    0.4s\n",
            "[Parallel(n_jobs=40)]: Done  98 out of 100 | elapsed:    2.9s remaining:    0.1s\n",
            "[Parallel(n_jobs=40)]: Done 100 out of 100 | elapsed:    2.9s finished\n",
            "[Parallel(n_jobs=40)]: Using backend ThreadingBackend with 40 concurrent workers.\n",
            "[Parallel(n_jobs=40)]: Done   5 tasks      | elapsed:    1.0s\n",
            "[Parallel(n_jobs=40)]: Done  18 tasks      | elapsed:    1.0s\n",
            "[Parallel(n_jobs=40)]: Done  32 out of 100 | elapsed:    1.0s remaining:    2.2s\n",
            "[Parallel(n_jobs=40)]: Done  43 out of 100 | elapsed:    1.9s remaining:    2.6s\n",
            "[Parallel(n_jobs=40)]: Done  54 out of 100 | elapsed:    2.0s remaining:    1.7s\n",
            "[Parallel(n_jobs=40)]: Done  65 out of 100 | elapsed:    2.0s remaining:    1.1s\n",
            "[Parallel(n_jobs=40)]: Done  76 out of 100 | elapsed:    2.1s remaining:    0.7s\n",
            "[Parallel(n_jobs=40)]: Done  87 out of 100 | elapsed:    2.8s remaining:    0.4s\n",
            "[Parallel(n_jobs=40)]: Done  98 out of 100 | elapsed:    2.9s remaining:    0.1s\n",
            "[Parallel(n_jobs=40)]: Done 100 out of 100 | elapsed:    2.9s finished\n",
            "[Parallel(n_jobs=40)]: Using backend ThreadingBackend with 40 concurrent workers.\n",
            "[Parallel(n_jobs=40)]: Done   5 tasks      | elapsed:    0.3s\n",
            "[Parallel(n_jobs=40)]: Done  18 tasks      | elapsed:    0.3s\n",
            "[Parallel(n_jobs=40)]: Done  32 out of 100 | elapsed:    0.3s remaining:    0.6s\n",
            "[Parallel(n_jobs=40)]: Done  43 out of 100 | elapsed:    0.5s remaining:    0.7s\n",
            "[Parallel(n_jobs=40)]: Done  54 out of 100 | elapsed:    0.5s remaining:    0.5s\n",
            "[Parallel(n_jobs=40)]: Done  65 out of 100 | elapsed:    0.6s remaining:    0.3s\n",
            "[Parallel(n_jobs=40)]: Done  76 out of 100 | elapsed:    0.6s remaining:    0.2s\n",
            "[Parallel(n_jobs=40)]: Done  87 out of 100 | elapsed:    0.8s remaining:    0.1s\n",
            "[Parallel(n_jobs=40)]: Done  98 out of 100 | elapsed:    0.8s remaining:    0.0s\n",
            "[Parallel(n_jobs=40)]: Done 100 out of 100 | elapsed:    0.9s finished\n",
            "[Parallel(n_jobs=40)]: Using backend ThreadingBackend with 40 concurrent workers.\n",
            "[Parallel(n_jobs=40)]: Done   5 tasks      | elapsed:    0.3s\n",
            "[Parallel(n_jobs=40)]: Done  18 tasks      | elapsed:    0.3s\n",
            "[Parallel(n_jobs=40)]: Done  32 out of 100 | elapsed:    0.4s remaining:    0.8s\n",
            "[Parallel(n_jobs=40)]: Done  43 out of 100 | elapsed:    0.6s remaining:    0.8s\n",
            "[Parallel(n_jobs=40)]: Done  54 out of 100 | elapsed:    0.6s remaining:    0.5s\n",
            "[Parallel(n_jobs=40)]: Done  65 out of 100 | elapsed:    0.7s remaining:    0.4s\n",
            "[Parallel(n_jobs=40)]: Done  76 out of 100 | elapsed:    0.7s remaining:    0.2s\n",
            "[Parallel(n_jobs=40)]: Done  87 out of 100 | elapsed:    0.9s remaining:    0.1s\n",
            "[Parallel(n_jobs=40)]: Done  98 out of 100 | elapsed:    0.9s remaining:    0.0s\n",
            "[Parallel(n_jobs=40)]: Done 100 out of 100 | elapsed:    1.0s finished\n"
          ],
          "name": "stderr"
        },
        {
          "output_type": "stream",
          "text": [
            "Clean_Stemming - 2 Inferenced : 0.9369337558746338s\ttrain ACC : 0.9920591424806726 test ACC : 0.9281860725446602 test F1 : 0.8193091577670852\n"
          ],
          "name": "stdout"
        },
        {
          "output_type": "stream",
          "text": [
            "[Parallel(n_jobs=-1)]: Using backend ThreadingBackend with 40 concurrent workers.\n"
          ],
          "name": "stderr"
        },
        {
          "output_type": "stream",
          "text": [
            "building tree 1 of 100\n",
            "building tree 2 of 100\n",
            "building tree 3 of 100\n",
            "building tree 4 of 100\n",
            "building tree 5 of 100\n",
            "building tree 6 of 100\n",
            "building tree 7 of 100\n",
            "building tree 8 of 100\n",
            "building tree 9 of 100\n",
            "building tree 10 of 100\n",
            "building tree 11 of 100\n",
            "building tree 12 of 100\n",
            "building tree 13 of 100\n",
            "building tree 14 of 100\n",
            "building tree 15 of 100\n",
            "building tree 16 of 100\n",
            "building tree 17 of 100\n",
            "building tree 18 of 100\n",
            "building tree 19 of 100\n",
            "building tree 20 of 100\n",
            "building tree 21 of 100\n",
            "building tree 22 of 100\n",
            "building tree 23 of 100\n",
            "building tree 24 of 100\n",
            "building tree 25 of 100building tree 26 of 100\n",
            "building tree 27 of 100\n",
            "\n",
            "building tree 28 of 100\n",
            "building tree 29 of 100\n",
            "building tree 30 of 100\n",
            "building tree 31 of 100\n",
            "building tree 32 of 100\n",
            "building tree 33 of 100\n",
            "building tree 34 of 100\n",
            "building tree 35 of 100\n",
            "building tree 36 of 100\n",
            "building tree 37 of 100\n",
            "building tree 38 of 100\n",
            "building tree 39 of 100\n",
            "building tree 40 of 100\n",
            "building tree 41 of 100\n",
            "building tree 42 of 100\n",
            "building tree 43 of 100\n",
            "building tree 44 of 100\n",
            "building tree 45 of 100\n"
          ],
          "name": "stdout"
        },
        {
          "output_type": "stream",
          "text": [
            "[Parallel(n_jobs=-1)]: Done   5 tasks      | elapsed:   30.9s\n"
          ],
          "name": "stderr"
        },
        {
          "output_type": "stream",
          "text": [
            "building tree 46 of 100\n",
            "building tree 47 of 100\n",
            "building tree 48 of 100\n",
            "building tree 49 of 100\n",
            "building tree 50 of 100\n",
            "building tree 51 of 100\n",
            "building tree 52 of 100\n",
            "building tree 53 of 100\n",
            "building tree 54 of 100\n",
            "building tree 55 of 100\n",
            "building tree 56 of 100\n",
            "building tree 57 of 100\n",
            "building tree 58 of 100\n",
            "building tree 59 of 100\n"
          ],
          "name": "stdout"
        },
        {
          "output_type": "stream",
          "text": [
            "[Parallel(n_jobs=-1)]: Done  18 tasks      | elapsed:   32.4s\n"
          ],
          "name": "stderr"
        },
        {
          "output_type": "stream",
          "text": [
            "building tree 60 of 100\n",
            "building tree 61 of 100\n",
            "building tree 62 of 100\n",
            "building tree 63 of 100\n",
            "building tree 64 of 100\n",
            "building tree 65 of 100\n",
            "building tree 66 of 100\n",
            "building tree 67 of 100\n",
            "building tree 68 of 100\n",
            "building tree 69 of 100\n",
            "building tree 70 of 100\n",
            "building tree 71 of 100\n",
            "building tree 72 of 100\n"
          ],
          "name": "stdout"
        },
        {
          "output_type": "stream",
          "text": [
            "[Parallel(n_jobs=-1)]: Done  32 out of 100 | elapsed:   33.1s remaining:  1.2min\n"
          ],
          "name": "stderr"
        },
        {
          "output_type": "stream",
          "text": [
            "building tree 73 of 100\n",
            "building tree 74 of 100\n",
            "building tree 75 of 100\n",
            "building tree 76 of 100\n",
            "building tree 77 of 100\n",
            "building tree 78 of 100\n",
            "building tree 79 of 100\n",
            "building tree 80 of 100\n",
            "building tree 81 of 100\n",
            "building tree 82 of 100\n"
          ],
          "name": "stdout"
        },
        {
          "output_type": "stream",
          "text": [
            "[Parallel(n_jobs=-1)]: Done  43 out of 100 | elapsed:  1.0min remaining:  1.4min\n"
          ],
          "name": "stderr"
        },
        {
          "output_type": "stream",
          "text": [
            "building tree 83 of 100\n",
            "building tree 84 of 100\n",
            "building tree 85 of 100\n",
            "building tree 86 of 100\n",
            "building tree 87 of 100\n",
            "building tree 88 of 100\n",
            "building tree 89 of 100\n",
            "building tree 90 of 100\n",
            "building tree 91 of 100\n",
            "building tree 92 of 100\n",
            "building tree 93 of 100\n",
            "building tree 94 of 100\n"
          ],
          "name": "stdout"
        },
        {
          "output_type": "stream",
          "text": [
            "[Parallel(n_jobs=-1)]: Done  54 out of 100 | elapsed:  1.1min remaining:   54.8s\n"
          ],
          "name": "stderr"
        },
        {
          "output_type": "stream",
          "text": [
            "building tree 95 of 100\n",
            "building tree 96 of 100\n",
            "building tree 97 of 100\n",
            "building tree 98 of 100\n",
            "building tree 99 of 100\n",
            "building tree 100 of 100\n"
          ],
          "name": "stdout"
        },
        {
          "output_type": "stream",
          "text": [
            "[Parallel(n_jobs=-1)]: Done  65 out of 100 | elapsed:  1.1min remaining:   35.2s\n",
            "[Parallel(n_jobs=-1)]: Done  76 out of 100 | elapsed:  1.1min remaining:   20.9s\n",
            "[Parallel(n_jobs=-1)]: Done  87 out of 100 | elapsed:  1.3min remaining:   11.8s\n",
            "[Parallel(n_jobs=-1)]: Done  98 out of 100 | elapsed:  1.3min remaining:    1.6s\n",
            "[Parallel(n_jobs=-1)]: Done 100 out of 100 | elapsed:  1.3min finished\n"
          ],
          "name": "stderr"
        },
        {
          "output_type": "stream",
          "text": [
            "Clean_Stemming - 3 Trained\n"
          ],
          "name": "stdout"
        },
        {
          "output_type": "stream",
          "text": [
            "[Parallel(n_jobs=40)]: Using backend ThreadingBackend with 40 concurrent workers.\n",
            "[Parallel(n_jobs=40)]: Done   5 tasks      | elapsed:    1.0s\n",
            "[Parallel(n_jobs=40)]: Done  18 tasks      | elapsed:    1.0s\n",
            "[Parallel(n_jobs=40)]: Done  32 out of 100 | elapsed:    1.1s remaining:    2.3s\n",
            "[Parallel(n_jobs=40)]: Done  43 out of 100 | elapsed:    2.0s remaining:    2.6s\n",
            "[Parallel(n_jobs=40)]: Done  54 out of 100 | elapsed:    2.0s remaining:    1.7s\n",
            "[Parallel(n_jobs=40)]: Done  65 out of 100 | elapsed:    2.1s remaining:    1.1s\n",
            "[Parallel(n_jobs=40)]: Done  76 out of 100 | elapsed:    2.2s remaining:    0.7s\n",
            "[Parallel(n_jobs=40)]: Done  87 out of 100 | elapsed:    2.8s remaining:    0.4s\n",
            "[Parallel(n_jobs=40)]: Done  98 out of 100 | elapsed:    2.9s remaining:    0.1s\n",
            "[Parallel(n_jobs=40)]: Done 100 out of 100 | elapsed:    2.9s finished\n",
            "[Parallel(n_jobs=40)]: Using backend ThreadingBackend with 40 concurrent workers.\n",
            "[Parallel(n_jobs=40)]: Done   5 tasks      | elapsed:    1.0s\n",
            "[Parallel(n_jobs=40)]: Done  18 tasks      | elapsed:    1.0s\n",
            "[Parallel(n_jobs=40)]: Done  32 out of 100 | elapsed:    1.1s remaining:    2.3s\n",
            "[Parallel(n_jobs=40)]: Done  43 out of 100 | elapsed:    2.0s remaining:    2.6s\n",
            "[Parallel(n_jobs=40)]: Done  54 out of 100 | elapsed:    2.0s remaining:    1.7s\n",
            "[Parallel(n_jobs=40)]: Done  65 out of 100 | elapsed:    2.0s remaining:    1.1s\n",
            "[Parallel(n_jobs=40)]: Done  76 out of 100 | elapsed:    2.1s remaining:    0.7s\n",
            "[Parallel(n_jobs=40)]: Done  87 out of 100 | elapsed:    2.8s remaining:    0.4s\n",
            "[Parallel(n_jobs=40)]: Done  98 out of 100 | elapsed:    2.9s remaining:    0.1s\n",
            "[Parallel(n_jobs=40)]: Done 100 out of 100 | elapsed:    2.9s finished\n",
            "[Parallel(n_jobs=40)]: Using backend ThreadingBackend with 40 concurrent workers.\n",
            "[Parallel(n_jobs=40)]: Done   5 tasks      | elapsed:    0.3s\n",
            "[Parallel(n_jobs=40)]: Done  18 tasks      | elapsed:    0.3s\n",
            "[Parallel(n_jobs=40)]: Done  32 out of 100 | elapsed:    0.3s remaining:    0.6s\n",
            "[Parallel(n_jobs=40)]: Done  43 out of 100 | elapsed:    0.5s remaining:    0.7s\n",
            "[Parallel(n_jobs=40)]: Done  54 out of 100 | elapsed:    0.5s remaining:    0.4s\n",
            "[Parallel(n_jobs=40)]: Done  65 out of 100 | elapsed:    0.5s remaining:    0.3s\n",
            "[Parallel(n_jobs=40)]: Done  76 out of 100 | elapsed:    0.6s remaining:    0.2s\n",
            "[Parallel(n_jobs=40)]: Done  87 out of 100 | elapsed:    0.7s remaining:    0.1s\n",
            "[Parallel(n_jobs=40)]: Done  98 out of 100 | elapsed:    0.8s remaining:    0.0s\n",
            "[Parallel(n_jobs=40)]: Done 100 out of 100 | elapsed:    0.8s finished\n",
            "[Parallel(n_jobs=40)]: Using backend ThreadingBackend with 40 concurrent workers.\n",
            "[Parallel(n_jobs=40)]: Done   5 tasks      | elapsed:    0.3s\n",
            "[Parallel(n_jobs=40)]: Done  18 tasks      | elapsed:    0.3s\n",
            "[Parallel(n_jobs=40)]: Done  32 out of 100 | elapsed:    0.3s remaining:    0.7s\n",
            "[Parallel(n_jobs=40)]: Done  43 out of 100 | elapsed:    0.5s remaining:    0.7s\n",
            "[Parallel(n_jobs=40)]: Done  54 out of 100 | elapsed:    0.5s remaining:    0.5s\n",
            "[Parallel(n_jobs=40)]: Done  65 out of 100 | elapsed:    0.6s remaining:    0.3s\n",
            "[Parallel(n_jobs=40)]: Done  76 out of 100 | elapsed:    0.6s remaining:    0.2s\n",
            "[Parallel(n_jobs=40)]: Done  87 out of 100 | elapsed:    0.8s remaining:    0.1s\n",
            "[Parallel(n_jobs=40)]: Done  98 out of 100 | elapsed:    0.8s remaining:    0.0s\n",
            "[Parallel(n_jobs=40)]: Done 100 out of 100 | elapsed:    0.8s finished\n"
          ],
          "name": "stderr"
        },
        {
          "output_type": "stream",
          "text": [
            "Clean_Stemming - 3 Inferenced : 0.8369841575622559s\ttrain ACC : 0.9920397081744579 test ACC : 0.9269733671232451 test F1 : 0.8158111446609937\n",
            "building tree 1 of 100building tree 2 of 100\n",
            "\n",
            "building tree 3 of 100\n",
            "building tree 4 of 100\n",
            "building tree 5 of 100\n",
            "building tree 6 of 100\n",
            "building tree 7 of 100\n",
            "building tree 8 of 100\n",
            "building tree 9 of 100\n",
            "building tree 10 of 100\n",
            "building tree 11 of 100\n",
            "building tree 12 of 100building tree 13 of 100\n",
            "building tree 14 of 100\n",
            "building tree 15 of 100\n"
          ],
          "name": "stdout"
        },
        {
          "output_type": "stream",
          "text": [
            "[Parallel(n_jobs=-1)]: Using backend ThreadingBackend with 40 concurrent workers.\n"
          ],
          "name": "stderr"
        },
        {
          "output_type": "stream",
          "text": [
            "\n",
            "building tree 16 of 100\n",
            "building tree 17 of 100\n",
            "building tree 18 of 100\n",
            "building tree 19 of 100\n",
            "building tree 20 of 100\n",
            "building tree 21 of 100\n",
            "building tree 22 of 100\n",
            "building tree 23 of 100\n",
            "building tree 24 of 100\n",
            "building tree 25 of 100\n",
            "building tree 26 of 100\n",
            "building tree 27 of 100\n",
            "building tree 28 of 100\n",
            "building tree 29 of 100\n",
            "building tree 30 of 100\n",
            "building tree 31 of 100\n",
            "building tree 32 of 100\n",
            "building tree 33 of 100\n",
            "building tree 34 of 100\n",
            "building tree 35 of 100\n",
            "building tree 36 of 100\n",
            "building tree 37 of 100\n",
            "building tree 38 of 100\n",
            "building tree 39 of 100\n",
            "building tree 40 of 100\n",
            "building tree 41 of 100\n",
            "building tree 42 of 100\n",
            "building tree 43 of 100\n",
            "building tree 44 of 100\n"
          ],
          "name": "stdout"
        },
        {
          "output_type": "stream",
          "text": [
            "[Parallel(n_jobs=-1)]: Done   5 tasks      | elapsed:   30.9s\n"
          ],
          "name": "stderr"
        },
        {
          "output_type": "stream",
          "text": [
            "building tree 45 of 100\n",
            "building tree 46 of 100\n",
            "building tree 47 of 100\n",
            "building tree 48 of 100\n",
            "building tree 49 of 100\n",
            "building tree 50 of 100\n",
            "building tree 51 of 100\n",
            "building tree 52 of 100\n",
            "building tree 53 of 100\n",
            "building tree 54 of 100\n",
            "building tree 55 of 100\n",
            "building tree 56 of 100\n",
            "building tree 57 of 100\n",
            "building tree 58 of 100\n",
            "building tree 59 of 100\n"
          ],
          "name": "stdout"
        },
        {
          "output_type": "stream",
          "text": [
            "[Parallel(n_jobs=-1)]: Done  18 tasks      | elapsed:   32.0s\n"
          ],
          "name": "stderr"
        },
        {
          "output_type": "stream",
          "text": [
            "building tree 60 of 100\n",
            "building tree 61 of 100\n",
            "building tree 62 of 100\n",
            "building tree 63 of 100\n",
            "building tree 64 of 100\n",
            "building tree 65 of 100\n",
            "building tree 66 of 100\n",
            "building tree 67 of 100\n",
            "building tree 68 of 100\n",
            "building tree 69 of 100\n",
            "building tree 70 of 100\n",
            "building tree 71 of 100\n"
          ],
          "name": "stdout"
        },
        {
          "output_type": "stream",
          "text": [
            "[Parallel(n_jobs=-1)]: Done  32 out of 100 | elapsed:   33.0s remaining:  1.2min\n"
          ],
          "name": "stderr"
        },
        {
          "output_type": "stream",
          "text": [
            "building tree 72 of 100\n",
            "building tree 73 of 100\n",
            "building tree 74 of 100\n",
            "building tree 75 of 100\n",
            "building tree 76 of 100\n",
            "building tree 77 of 100\n",
            "building tree 78 of 100\n",
            "building tree 79 of 100\n",
            "building tree 80 of 100\n",
            "building tree 81 of 100\n",
            "building tree 82 of 100\n"
          ],
          "name": "stdout"
        },
        {
          "output_type": "stream",
          "text": [
            "[Parallel(n_jobs=-1)]: Done  43 out of 100 | elapsed:  1.0min remaining:  1.3min\n"
          ],
          "name": "stderr"
        },
        {
          "output_type": "stream",
          "text": [
            "building tree 83 of 100\n",
            "building tree 84 of 100\n",
            "building tree 85 of 100\n",
            "building tree 86 of 100\n",
            "building tree 87 of 100\n",
            "building tree 88 of 100\n",
            "building tree 89 of 100\n",
            "building tree 90 of 100\n",
            "building tree 91 of 100\n",
            "building tree 92 of 100\n",
            "building tree 93 of 100\n",
            "building tree 94 of 100\n",
            "building tree 95 of 100\n",
            "building tree 96 of 100\n",
            "building tree 97 of 100\n",
            "building tree 98 of 100\n"
          ],
          "name": "stdout"
        },
        {
          "output_type": "stream",
          "text": [
            "[Parallel(n_jobs=-1)]: Done  54 out of 100 | elapsed:  1.1min remaining:   53.8s\n"
          ],
          "name": "stderr"
        },
        {
          "output_type": "stream",
          "text": [
            "building tree 99 of 100\n",
            "building tree 100 of 100\n"
          ],
          "name": "stdout"
        },
        {
          "output_type": "stream",
          "text": [
            "[Parallel(n_jobs=-1)]: Done  65 out of 100 | elapsed:  1.1min remaining:   34.4s\n",
            "[Parallel(n_jobs=-1)]: Done  76 out of 100 | elapsed:  1.1min remaining:   20.5s\n",
            "[Parallel(n_jobs=-1)]: Done  87 out of 100 | elapsed:  1.3min remaining:   11.6s\n",
            "[Parallel(n_jobs=-1)]: Done  98 out of 100 | elapsed:  1.3min remaining:    1.6s\n",
            "[Parallel(n_jobs=-1)]: Done 100 out of 100 | elapsed:  1.3min finished\n"
          ],
          "name": "stderr"
        },
        {
          "output_type": "stream",
          "text": [
            "Clean_Stemming - 4 Trained\n"
          ],
          "name": "stdout"
        },
        {
          "output_type": "stream",
          "text": [
            "[Parallel(n_jobs=40)]: Using backend ThreadingBackend with 40 concurrent workers.\n",
            "[Parallel(n_jobs=40)]: Done   5 tasks      | elapsed:    0.9s\n",
            "[Parallel(n_jobs=40)]: Done  18 tasks      | elapsed:    1.0s\n",
            "[Parallel(n_jobs=40)]: Done  32 out of 100 | elapsed:    1.0s remaining:    2.2s\n",
            "[Parallel(n_jobs=40)]: Done  43 out of 100 | elapsed:    1.9s remaining:    2.5s\n",
            "[Parallel(n_jobs=40)]: Done  54 out of 100 | elapsed:    1.9s remaining:    1.7s\n",
            "[Parallel(n_jobs=40)]: Done  65 out of 100 | elapsed:    2.0s remaining:    1.1s\n",
            "[Parallel(n_jobs=40)]: Done  76 out of 100 | elapsed:    2.0s remaining:    0.6s\n",
            "[Parallel(n_jobs=40)]: Done  87 out of 100 | elapsed:    2.7s remaining:    0.4s\n",
            "[Parallel(n_jobs=40)]: Done  98 out of 100 | elapsed:    2.8s remaining:    0.1s\n",
            "[Parallel(n_jobs=40)]: Done 100 out of 100 | elapsed:    2.8s finished\n",
            "[Parallel(n_jobs=40)]: Using backend ThreadingBackend with 40 concurrent workers.\n",
            "[Parallel(n_jobs=40)]: Done   5 tasks      | elapsed:    0.9s\n",
            "[Parallel(n_jobs=40)]: Done  18 tasks      | elapsed:    1.0s\n",
            "[Parallel(n_jobs=40)]: Done  32 out of 100 | elapsed:    1.0s remaining:    2.1s\n",
            "[Parallel(n_jobs=40)]: Done  43 out of 100 | elapsed:    1.9s remaining:    2.5s\n",
            "[Parallel(n_jobs=40)]: Done  54 out of 100 | elapsed:    1.9s remaining:    1.7s\n",
            "[Parallel(n_jobs=40)]: Done  65 out of 100 | elapsed:    2.0s remaining:    1.1s\n",
            "[Parallel(n_jobs=40)]: Done  76 out of 100 | elapsed:    2.0s remaining:    0.6s\n",
            "[Parallel(n_jobs=40)]: Done  87 out of 100 | elapsed:    2.7s remaining:    0.4s\n",
            "[Parallel(n_jobs=40)]: Done  98 out of 100 | elapsed:    2.8s remaining:    0.1s\n",
            "[Parallel(n_jobs=40)]: Done 100 out of 100 | elapsed:    2.9s finished\n",
            "[Parallel(n_jobs=40)]: Using backend ThreadingBackend with 40 concurrent workers.\n",
            "[Parallel(n_jobs=40)]: Done   5 tasks      | elapsed:    0.3s\n",
            "[Parallel(n_jobs=40)]: Done  18 tasks      | elapsed:    0.3s\n",
            "[Parallel(n_jobs=40)]: Done  32 out of 100 | elapsed:    0.3s remaining:    0.6s\n",
            "[Parallel(n_jobs=40)]: Done  43 out of 100 | elapsed:    0.5s remaining:    0.7s\n",
            "[Parallel(n_jobs=40)]: Done  54 out of 100 | elapsed:    0.5s remaining:    0.4s\n",
            "[Parallel(n_jobs=40)]: Done  65 out of 100 | elapsed:    0.5s remaining:    0.3s\n",
            "[Parallel(n_jobs=40)]: Done  76 out of 100 | elapsed:    0.5s remaining:    0.2s\n",
            "[Parallel(n_jobs=40)]: Done  87 out of 100 | elapsed:    0.7s remaining:    0.1s\n",
            "[Parallel(n_jobs=40)]: Done  98 out of 100 | elapsed:    0.8s remaining:    0.0s\n",
            "[Parallel(n_jobs=40)]: Done 100 out of 100 | elapsed:    0.8s finished\n",
            "[Parallel(n_jobs=40)]: Using backend ThreadingBackend with 40 concurrent workers.\n",
            "[Parallel(n_jobs=40)]: Done   5 tasks      | elapsed:    0.3s\n",
            "[Parallel(n_jobs=40)]: Done  18 tasks      | elapsed:    0.3s\n",
            "[Parallel(n_jobs=40)]: Done  32 out of 100 | elapsed:    0.3s remaining:    0.6s\n",
            "[Parallel(n_jobs=40)]: Done  43 out of 100 | elapsed:    0.5s remaining:    0.7s\n",
            "[Parallel(n_jobs=40)]: Done  54 out of 100 | elapsed:    0.5s remaining:    0.4s\n",
            "[Parallel(n_jobs=40)]: Done  65 out of 100 | elapsed:    0.5s remaining:    0.3s\n",
            "[Parallel(n_jobs=40)]: Done  76 out of 100 | elapsed:    0.5s remaining:    0.2s\n",
            "[Parallel(n_jobs=40)]: Done  87 out of 100 | elapsed:    0.7s remaining:    0.1s\n",
            "[Parallel(n_jobs=40)]: Done  98 out of 100 | elapsed:    0.8s remaining:    0.0s\n",
            "[Parallel(n_jobs=40)]: Done 100 out of 100 | elapsed:    0.8s finished\n"
          ],
          "name": "stderr"
        },
        {
          "output_type": "stream",
          "text": [
            "Clean_Stemming - 4 Inferenced : 0.8366665840148926s\ttrain ACC : 0.9918725731410114 test ACC : 0.9269733671232451 test F1 : 0.8158833444396534\n",
            "building tree 1 of 100building tree 2 of 100\n",
            "building tree 3 of 100\n",
            "\n",
            "building tree 4 of 100\n",
            "building tree 5 of 100\n",
            "building tree 6 of 100\n",
            "building tree 7 of 100\n",
            "building tree 8 of 100building tree 9 of 100\n",
            "building tree 10 of 100\n",
            "building tree 11 of 100\n",
            "building tree 12 of 100\n",
            "\n",
            "building tree 13 of 100\n",
            "building tree 14 of 100\n"
          ],
          "name": "stdout"
        },
        {
          "output_type": "stream",
          "text": [
            "[Parallel(n_jobs=-1)]: Using backend ThreadingBackend with 40 concurrent workers.\n"
          ],
          "name": "stderr"
        },
        {
          "output_type": "stream",
          "text": [
            "building tree 15 of 100\n",
            "building tree 16 of 100\n",
            "building tree 17 of 100\n",
            "building tree 18 of 100\n",
            "building tree 19 of 100\n",
            "building tree 20 of 100\n",
            "building tree 21 of 100\n",
            "building tree 22 of 100\n",
            "building tree 23 of 100\n",
            "building tree 24 of 100\n",
            "building tree 25 of 100\n",
            "building tree 26 of 100\n",
            "building tree 27 of 100building tree 28 of 100\n",
            "building tree 29 of 100\n",
            "\n",
            "building tree 30 of 100\n",
            "building tree 31 of 100\n",
            "building tree 32 of 100\n",
            "building tree 33 of 100\n",
            "building tree 34 of 100\n",
            "building tree 35 of 100\n",
            "building tree 36 of 100\n",
            "building tree 37 of 100\n",
            "building tree 38 of 100\n",
            "building tree 39 of 100\n",
            "building tree 40 of 100\n",
            "building tree 41 of 100\n",
            "building tree 42 of 100building tree 43 of 100\n",
            "\n",
            "building tree 44 of 100\n"
          ],
          "name": "stdout"
        },
        {
          "output_type": "stream",
          "text": [
            "[Parallel(n_jobs=-1)]: Done   5 tasks      | elapsed:   30.4s\n"
          ],
          "name": "stderr"
        },
        {
          "output_type": "stream",
          "text": [
            "building tree 45 of 100\n",
            "building tree 46 of 100\n",
            "building tree 47 of 100\n",
            "building tree 48 of 100\n",
            "building tree 49 of 100\n",
            "building tree 50 of 100\n",
            "building tree 51 of 100\n",
            "building tree 52 of 100\n",
            "building tree 53 of 100\n",
            "building tree 54 of 100\n",
            "building tree 55 of 100\n",
            "building tree 56 of 100\n",
            "building tree 57 of 100\n",
            "building tree 58 of 100\n",
            "building tree 59 of 100\n"
          ],
          "name": "stdout"
        },
        {
          "output_type": "stream",
          "text": [
            "[Parallel(n_jobs=-1)]: Done  18 tasks      | elapsed:   31.2s\n"
          ],
          "name": "stderr"
        },
        {
          "output_type": "stream",
          "text": [
            "building tree 60 of 100\n",
            "building tree 61 of 100\n",
            "building tree 62 of 100\n",
            "building tree 63 of 100\n",
            "building tree 64 of 100\n",
            "building tree 65 of 100\n",
            "building tree 66 of 100\n",
            "building tree 67 of 100\n",
            "building tree 68 of 100\n",
            "building tree 69 of 100\n",
            "building tree 70 of 100\n",
            "building tree 71 of 100\n",
            "building tree 72 of 100\n",
            "building tree 73 of 100\n"
          ],
          "name": "stdout"
        },
        {
          "output_type": "stream",
          "text": [
            "[Parallel(n_jobs=-1)]: Done  32 out of 100 | elapsed:   31.9s remaining:  1.1min\n"
          ],
          "name": "stderr"
        },
        {
          "output_type": "stream",
          "text": [
            "building tree 74 of 100\n",
            "building tree 75 of 100\n",
            "building tree 76 of 100\n",
            "building tree 77 of 100\n",
            "building tree 78 of 100\n",
            "building tree 79 of 100\n",
            "building tree 80 of 100\n",
            "building tree 81 of 100\n",
            "building tree 82 of 100\n",
            "building tree 83 of 100\n"
          ],
          "name": "stdout"
        },
        {
          "output_type": "stream",
          "text": [
            "[Parallel(n_jobs=-1)]: Done  43 out of 100 | elapsed:  1.0min remaining:  1.4min\n"
          ],
          "name": "stderr"
        },
        {
          "output_type": "stream",
          "text": [
            "building tree 84 of 100\n",
            "building tree 85 of 100\n",
            "building tree 86 of 100\n",
            "building tree 87 of 100\n",
            "building tree 88 of 100\n",
            "building tree 89 of 100\n",
            "building tree 90 of 100\n",
            "building tree 91 of 100\n",
            "building tree 92 of 100\n",
            "building tree 93 of 100\n",
            "building tree 94 of 100\n",
            "building tree 95 of 100\n"
          ],
          "name": "stdout"
        },
        {
          "output_type": "stream",
          "text": [
            "[Parallel(n_jobs=-1)]: Done  54 out of 100 | elapsed:  1.0min remaining:   53.5s\n"
          ],
          "name": "stderr"
        },
        {
          "output_type": "stream",
          "text": [
            "building tree 96 of 100\n",
            "building tree 97 of 100\n",
            "building tree 98 of 100\n",
            "building tree 99 of 100\n",
            "building tree 100 of 100\n"
          ],
          "name": "stdout"
        },
        {
          "output_type": "stream",
          "text": [
            "[Parallel(n_jobs=-1)]: Done  65 out of 100 | elapsed:  1.1min remaining:   34.3s\n",
            "[Parallel(n_jobs=-1)]: Done  76 out of 100 | elapsed:  1.1min remaining:   20.3s\n",
            "[Parallel(n_jobs=-1)]: Done  87 out of 100 | elapsed:  1.3min remaining:   12.0s\n",
            "[Parallel(n_jobs=-1)]: Done  98 out of 100 | elapsed:  1.4min remaining:    1.7s\n",
            "[Parallel(n_jobs=-1)]: Done 100 out of 100 | elapsed:  1.4min finished\n",
            "[Parallel(n_jobs=40)]: Using backend ThreadingBackend with 40 concurrent workers.\n"
          ],
          "name": "stderr"
        },
        {
          "output_type": "stream",
          "text": [
            "Clean_Stemming - 5 Trained\n"
          ],
          "name": "stdout"
        },
        {
          "output_type": "stream",
          "text": [
            "[Parallel(n_jobs=40)]: Done   5 tasks      | elapsed:    0.9s\n",
            "[Parallel(n_jobs=40)]: Done  18 tasks      | elapsed:    1.0s\n",
            "[Parallel(n_jobs=40)]: Done  32 out of 100 | elapsed:    1.0s remaining:    2.2s\n",
            "[Parallel(n_jobs=40)]: Done  43 out of 100 | elapsed:    2.0s remaining:    2.6s\n",
            "[Parallel(n_jobs=40)]: Done  54 out of 100 | elapsed:    2.0s remaining:    1.7s\n",
            "[Parallel(n_jobs=40)]: Done  65 out of 100 | elapsed:    2.0s remaining:    1.1s\n",
            "[Parallel(n_jobs=40)]: Done  76 out of 100 | elapsed:    2.1s remaining:    0.7s\n",
            "[Parallel(n_jobs=40)]: Done  87 out of 100 | elapsed:    2.8s remaining:    0.4s\n",
            "[Parallel(n_jobs=40)]: Done  98 out of 100 | elapsed:    2.8s remaining:    0.1s\n",
            "[Parallel(n_jobs=40)]: Done 100 out of 100 | elapsed:    2.9s finished\n",
            "[Parallel(n_jobs=40)]: Using backend ThreadingBackend with 40 concurrent workers.\n",
            "[Parallel(n_jobs=40)]: Done   5 tasks      | elapsed:    1.0s\n",
            "[Parallel(n_jobs=40)]: Done  18 tasks      | elapsed:    1.0s\n",
            "[Parallel(n_jobs=40)]: Done  32 out of 100 | elapsed:    1.1s remaining:    2.3s\n",
            "[Parallel(n_jobs=40)]: Done  43 out of 100 | elapsed:    2.0s remaining:    2.6s\n",
            "[Parallel(n_jobs=40)]: Done  54 out of 100 | elapsed:    2.1s remaining:    1.7s\n",
            "[Parallel(n_jobs=40)]: Done  65 out of 100 | elapsed:    2.1s remaining:    1.1s\n",
            "[Parallel(n_jobs=40)]: Done  76 out of 100 | elapsed:    2.1s remaining:    0.7s\n",
            "[Parallel(n_jobs=40)]: Done  87 out of 100 | elapsed:    2.8s remaining:    0.4s\n",
            "[Parallel(n_jobs=40)]: Done  98 out of 100 | elapsed:    2.9s remaining:    0.1s\n",
            "[Parallel(n_jobs=40)]: Done 100 out of 100 | elapsed:    2.9s finished\n",
            "[Parallel(n_jobs=40)]: Using backend ThreadingBackend with 40 concurrent workers.\n",
            "[Parallel(n_jobs=40)]: Done   5 tasks      | elapsed:    0.3s\n",
            "[Parallel(n_jobs=40)]: Done  18 tasks      | elapsed:    0.3s\n",
            "[Parallel(n_jobs=40)]: Done  32 out of 100 | elapsed:    0.3s remaining:    0.6s\n",
            "[Parallel(n_jobs=40)]: Done  43 out of 100 | elapsed:    0.5s remaining:    0.7s\n",
            "[Parallel(n_jobs=40)]: Done  54 out of 100 | elapsed:    0.5s remaining:    0.4s\n",
            "[Parallel(n_jobs=40)]: Done  65 out of 100 | elapsed:    0.5s remaining:    0.3s\n",
            "[Parallel(n_jobs=40)]: Done  76 out of 100 | elapsed:    0.6s remaining:    0.2s\n",
            "[Parallel(n_jobs=40)]: Done  87 out of 100 | elapsed:    0.7s remaining:    0.1s\n",
            "[Parallel(n_jobs=40)]: Done  98 out of 100 | elapsed:    0.8s remaining:    0.0s\n",
            "[Parallel(n_jobs=40)]: Done 100 out of 100 | elapsed:    0.8s finished\n",
            "[Parallel(n_jobs=40)]: Using backend ThreadingBackend with 40 concurrent workers.\n",
            "[Parallel(n_jobs=40)]: Done   5 tasks      | elapsed:    0.2s\n",
            "[Parallel(n_jobs=40)]: Done  18 tasks      | elapsed:    0.3s\n",
            "[Parallel(n_jobs=40)]: Done  32 out of 100 | elapsed:    0.3s remaining:    0.6s\n",
            "[Parallel(n_jobs=40)]: Done  43 out of 100 | elapsed:    0.5s remaining:    0.7s\n",
            "[Parallel(n_jobs=40)]: Done  54 out of 100 | elapsed:    0.5s remaining:    0.4s\n",
            "[Parallel(n_jobs=40)]: Done  65 out of 100 | elapsed:    0.5s remaining:    0.3s\n",
            "[Parallel(n_jobs=40)]: Done  76 out of 100 | elapsed:    0.5s remaining:    0.2s\n",
            "[Parallel(n_jobs=40)]: Done  87 out of 100 | elapsed:    0.7s remaining:    0.1s\n",
            "[Parallel(n_jobs=40)]: Done  98 out of 100 | elapsed:    0.8s remaining:    0.0s\n",
            "[Parallel(n_jobs=40)]: Done 100 out of 100 | elapsed:    0.8s finished\n"
          ],
          "name": "stderr"
        },
        {
          "output_type": "stream",
          "text": [
            "Clean_Stemming - 5 Inferenced : 0.836073637008667s\ttrain ACC : 0.9919192154759268 test ACC : 0.9263670144125375 test F1 : 0.8145944253053555\n",
            "building tree 1 of 100\n",
            "building tree 2 of 100\n",
            "building tree 3 of 100\n",
            "building tree 4 of 100\n",
            "building tree 5 of 100\n",
            "building tree 6 of 100\n",
            "building tree 7 of 100\n",
            "building tree 8 of 100\n",
            "building tree 9 of 100\n",
            "building tree 10 of 100\n",
            "building tree 11 of 100\n",
            "building tree 12 of 100\n",
            "building tree 13 of 100\n",
            "building tree 14 of 100\n",
            "building tree 15 of 100\n",
            "building tree 16 of 100\n",
            "building tree 17 of 100\n",
            "building tree 18 of 100\n",
            "building tree 19 of 100\n",
            "building tree 20 of 100\n",
            "building tree 21 of 100\n",
            "building tree 22 of 100\n",
            "building tree 23 of 100\n",
            "building tree 24 of 100\n"
          ],
          "name": "stdout"
        },
        {
          "output_type": "stream",
          "text": [
            "[Parallel(n_jobs=-1)]: Using backend ThreadingBackend with 40 concurrent workers.\n"
          ],
          "name": "stderr"
        },
        {
          "output_type": "stream",
          "text": [
            "building tree 25 of 100\n",
            "building tree 26 of 100\n",
            "building tree 27 of 100\n",
            "building tree 28 of 100\n",
            "building tree 29 of 100\n",
            "building tree 30 of 100\n",
            "building tree 31 of 100\n",
            "building tree 32 of 100\n",
            "building tree 33 of 100\n",
            "building tree 34 of 100\n",
            "building tree 35 of 100\n",
            "building tree 36 of 100\n",
            "building tree 37 of 100\n",
            "building tree 38 of 100\n",
            "building tree 39 of 100\n",
            "building tree 40 of 100\n",
            "building tree 41 of 100\n",
            "building tree 42 of 100\n",
            "building tree 43 of 100\n",
            "building tree 44 of 100\n",
            "building tree 45 of 100\n",
            "building tree 46 of 100\n"
          ],
          "name": "stdout"
        },
        {
          "output_type": "stream",
          "text": [
            "[Parallel(n_jobs=-1)]: Done   5 tasks      | elapsed:   36.4s\n"
          ],
          "name": "stderr"
        },
        {
          "output_type": "stream",
          "text": [
            "building tree 47 of 100\n",
            "building tree 48 of 100\n",
            "building tree 49 of 100\n",
            "building tree 50 of 100\n",
            "building tree 51 of 100\n",
            "building tree 52 of 100\n",
            "building tree 53 of 100\n",
            "building tree 54 of 100\n",
            "building tree 55 of 100\n",
            "building tree 56 of 100\n",
            "building tree 57 of 100\n",
            "building tree 58 of 100\n",
            "building tree 59 of 100\n"
          ],
          "name": "stdout"
        },
        {
          "output_type": "stream",
          "text": [
            "[Parallel(n_jobs=-1)]: Done  18 tasks      | elapsed:   37.0s\n"
          ],
          "name": "stderr"
        },
        {
          "output_type": "stream",
          "text": [
            "building tree 60 of 100\n",
            "building tree 61 of 100\n",
            "building tree 62 of 100\n",
            "building tree 63 of 100\n",
            "building tree 64 of 100\n",
            "building tree 65 of 100\n",
            "building tree 66 of 100\n",
            "building tree 67 of 100\n",
            "building tree 68 of 100\n",
            "building tree 69 of 100\n",
            "building tree 70 of 100\n",
            "building tree 71 of 100\n",
            "building tree 72 of 100\n"
          ],
          "name": "stdout"
        },
        {
          "output_type": "stream",
          "text": [
            "[Parallel(n_jobs=-1)]: Done  32 out of 100 | elapsed:   38.2s remaining:  1.4min\n"
          ],
          "name": "stderr"
        },
        {
          "output_type": "stream",
          "text": [
            "building tree 73 of 100\n",
            "building tree 74 of 100\n",
            "building tree 75 of 100\n",
            "building tree 76 of 100\n",
            "building tree 77 of 100\n",
            "building tree 78 of 100\n",
            "building tree 79 of 100\n",
            "building tree 80 of 100\n",
            "building tree 81 of 100\n",
            "building tree 82 of 100\n",
            "building tree 83 of 100\n"
          ],
          "name": "stdout"
        },
        {
          "output_type": "stream",
          "text": [
            "[Parallel(n_jobs=-1)]: Done  43 out of 100 | elapsed:  1.2min remaining:  1.6min\n"
          ],
          "name": "stderr"
        },
        {
          "output_type": "stream",
          "text": [
            "building tree 84 of 100\n",
            "building tree 85 of 100\n",
            "building tree 86 of 100\n",
            "building tree 87 of 100\n",
            "building tree 88 of 100\n",
            "building tree 89 of 100\n",
            "building tree 90 of 100\n",
            "building tree 91 of 100\n",
            "building tree 92 of 100\n",
            "building tree 93 of 100\n",
            "building tree 94 of 100\n",
            "building tree 95 of 100\n",
            "building tree 96 of 100\n",
            "building tree 97 of 100\n"
          ],
          "name": "stdout"
        },
        {
          "output_type": "stream",
          "text": [
            "[Parallel(n_jobs=-1)]: Done  54 out of 100 | elapsed:  1.2min remaining:  1.0min\n"
          ],
          "name": "stderr"
        },
        {
          "output_type": "stream",
          "text": [
            "building tree 98 of 100\n",
            "building tree 99 of 100\n",
            "building tree 100 of 100\n"
          ],
          "name": "stdout"
        },
        {
          "output_type": "stream",
          "text": [
            "[Parallel(n_jobs=-1)]: Done  65 out of 100 | elapsed:  1.2min remaining:   39.8s\n",
            "[Parallel(n_jobs=-1)]: Done  76 out of 100 | elapsed:  1.3min remaining:   23.8s\n",
            "[Parallel(n_jobs=-1)]: Done  87 out of 100 | elapsed:  1.5min remaining:   13.4s\n",
            "[Parallel(n_jobs=-1)]: Done  98 out of 100 | elapsed:  1.5min remaining:    1.8s\n",
            "[Parallel(n_jobs=-1)]: Done 100 out of 100 | elapsed:  1.5min finished\n",
            "[Parallel(n_jobs=40)]: Using backend ThreadingBackend with 40 concurrent workers.\n"
          ],
          "name": "stderr"
        },
        {
          "output_type": "stream",
          "text": [
            "Typo_Raw - 1 Trained\n"
          ],
          "name": "stdout"
        },
        {
          "output_type": "stream",
          "text": [
            "[Parallel(n_jobs=40)]: Done   5 tasks      | elapsed:    1.2s\n",
            "[Parallel(n_jobs=40)]: Done  18 tasks      | elapsed:    1.2s\n",
            "[Parallel(n_jobs=40)]: Done  32 out of 100 | elapsed:    1.2s remaining:    2.6s\n",
            "[Parallel(n_jobs=40)]: Done  43 out of 100 | elapsed:    2.3s remaining:    3.1s\n",
            "[Parallel(n_jobs=40)]: Done  54 out of 100 | elapsed:    2.4s remaining:    2.0s\n",
            "[Parallel(n_jobs=40)]: Done  65 out of 100 | elapsed:    2.4s remaining:    1.3s\n",
            "[Parallel(n_jobs=40)]: Done  76 out of 100 | elapsed:    2.5s remaining:    0.8s\n",
            "[Parallel(n_jobs=40)]: Done  87 out of 100 | elapsed:    3.3s remaining:    0.5s\n",
            "[Parallel(n_jobs=40)]: Done  98 out of 100 | elapsed:    3.4s remaining:    0.1s\n",
            "[Parallel(n_jobs=40)]: Done 100 out of 100 | elapsed:    3.4s finished\n",
            "[Parallel(n_jobs=40)]: Using backend ThreadingBackend with 40 concurrent workers.\n",
            "[Parallel(n_jobs=40)]: Done   5 tasks      | elapsed:    1.2s\n",
            "[Parallel(n_jobs=40)]: Done  18 tasks      | elapsed:    1.2s\n",
            "[Parallel(n_jobs=40)]: Done  32 out of 100 | elapsed:    1.2s remaining:    2.6s\n",
            "[Parallel(n_jobs=40)]: Done  43 out of 100 | elapsed:    2.3s remaining:    3.0s\n",
            "[Parallel(n_jobs=40)]: Done  54 out of 100 | elapsed:    2.4s remaining:    2.0s\n",
            "[Parallel(n_jobs=40)]: Done  65 out of 100 | elapsed:    2.4s remaining:    1.3s\n",
            "[Parallel(n_jobs=40)]: Done  76 out of 100 | elapsed:    2.5s remaining:    0.8s\n",
            "[Parallel(n_jobs=40)]: Done  87 out of 100 | elapsed:    3.3s remaining:    0.5s\n",
            "[Parallel(n_jobs=40)]: Done  98 out of 100 | elapsed:    3.4s remaining:    0.1s\n",
            "[Parallel(n_jobs=40)]: Done 100 out of 100 | elapsed:    3.4s finished\n",
            "[Parallel(n_jobs=40)]: Using backend ThreadingBackend with 40 concurrent workers.\n",
            "[Parallel(n_jobs=40)]: Done   5 tasks      | elapsed:    0.3s\n",
            "[Parallel(n_jobs=40)]: Done  18 tasks      | elapsed:    0.3s\n",
            "[Parallel(n_jobs=40)]: Done  32 out of 100 | elapsed:    0.3s remaining:    0.7s\n",
            "[Parallel(n_jobs=40)]: Done  43 out of 100 | elapsed:    0.6s remaining:    0.8s\n",
            "[Parallel(n_jobs=40)]: Done  54 out of 100 | elapsed:    0.6s remaining:    0.5s\n",
            "[Parallel(n_jobs=40)]: Done  65 out of 100 | elapsed:    0.6s remaining:    0.3s\n",
            "[Parallel(n_jobs=40)]: Done  76 out of 100 | elapsed:    0.7s remaining:    0.2s\n",
            "[Parallel(n_jobs=40)]: Done  87 out of 100 | elapsed:    0.9s remaining:    0.1s\n",
            "[Parallel(n_jobs=40)]: Done  98 out of 100 | elapsed:    0.9s remaining:    0.0s\n",
            "[Parallel(n_jobs=40)]: Done 100 out of 100 | elapsed:    0.9s finished\n",
            "[Parallel(n_jobs=40)]: Using backend ThreadingBackend with 40 concurrent workers.\n",
            "[Parallel(n_jobs=40)]: Done   5 tasks      | elapsed:    0.3s\n",
            "[Parallel(n_jobs=40)]: Done  18 tasks      | elapsed:    0.3s\n",
            "[Parallel(n_jobs=40)]: Done  32 out of 100 | elapsed:    0.3s remaining:    0.7s\n",
            "[Parallel(n_jobs=40)]: Done  43 out of 100 | elapsed:    0.6s remaining:    0.8s\n",
            "[Parallel(n_jobs=40)]: Done  54 out of 100 | elapsed:    0.6s remaining:    0.5s\n",
            "[Parallel(n_jobs=40)]: Done  65 out of 100 | elapsed:    0.6s remaining:    0.3s\n",
            "[Parallel(n_jobs=40)]: Done  76 out of 100 | elapsed:    0.7s remaining:    0.2s\n",
            "[Parallel(n_jobs=40)]: Done  87 out of 100 | elapsed:    0.9s remaining:    0.1s\n",
            "[Parallel(n_jobs=40)]: Done  98 out of 100 | elapsed:    0.9s remaining:    0.0s\n",
            "[Parallel(n_jobs=40)]: Done 100 out of 100 | elapsed:    0.9s finished\n"
          ],
          "name": "stderr"
        },
        {
          "output_type": "stream",
          "text": [
            "Typo_Raw - 1 Inferenced : 1.0373573303222656s\ttrain ACC : 0.9914333245230803 test ACC : 0.9217039800995025 test F1 : 0.8005386565272496\n",
            "building tree 1 of 100\n",
            "building tree 2 of 100\n",
            "building tree 3 of 100\n",
            "building tree 4 of 100\n",
            "building tree 5 of 100\n",
            "building tree 6 of 100\n",
            "building tree 7 of 100\n",
            "building tree 8 of 100\n",
            "building tree 9 of 100\n",
            "building tree 10 of 100\n",
            "building tree 11 of 100\n",
            "building tree 12 of 100\n"
          ],
          "name": "stdout"
        },
        {
          "output_type": "stream",
          "text": [
            "[Parallel(n_jobs=-1)]: Using backend ThreadingBackend with 40 concurrent workers.\n"
          ],
          "name": "stderr"
        },
        {
          "output_type": "stream",
          "text": [
            "building tree 13 of 100\n",
            "building tree 14 of 100\n",
            "building tree 15 of 100\n",
            "building tree 16 of 100\n",
            "building tree 17 of 100\n",
            "building tree 18 of 100\n",
            "building tree 19 of 100\n",
            "building tree 20 of 100\n",
            "building tree 21 of 100\n",
            "building tree 22 of 100\n",
            "building tree 23 of 100\n",
            "building tree 24 of 100\n",
            "building tree 25 of 100\n",
            "building tree 26 of 100\n",
            "building tree 27 of 100\n",
            "building tree 28 of 100\n",
            "building tree 29 of 100\n",
            "building tree 30 of 100\n",
            "building tree 31 of 100\n",
            "building tree 32 of 100\n",
            "building tree 33 of 100\n",
            "building tree 34 of 100\n",
            "building tree 35 of 100\n",
            "building tree 36 of 100\n",
            "building tree 37 of 100\n",
            "building tree 38 of 100\n",
            "building tree 39 of 100\n",
            "building tree 40 of 100\n",
            "building tree 41 of 100\n",
            "building tree 42 of 100\n",
            "building tree 43 of 100\n",
            "building tree 44 of 100\n"
          ],
          "name": "stdout"
        },
        {
          "output_type": "stream",
          "text": [
            "[Parallel(n_jobs=-1)]: Done   5 tasks      | elapsed:   35.0s\n"
          ],
          "name": "stderr"
        },
        {
          "output_type": "stream",
          "text": [
            "building tree 45 of 100\n",
            "building tree 46 of 100\n",
            "building tree 47 of 100\n",
            "building tree 48 of 100\n",
            "building tree 49 of 100\n",
            "building tree 50 of 100\n",
            "building tree 51 of 100\n",
            "building tree 52 of 100\n",
            "building tree 53 of 100\n",
            "building tree 54 of 100\n",
            "building tree 55 of 100\n",
            "building tree 56 of 100\n",
            "building tree 57 of 100\n"
          ],
          "name": "stdout"
        },
        {
          "output_type": "stream",
          "text": [
            "[Parallel(n_jobs=-1)]: Done  18 tasks      | elapsed:   37.0s\n"
          ],
          "name": "stderr"
        },
        {
          "output_type": "stream",
          "text": [
            "building tree 58 of 100building tree 59 of 100\n",
            "\n",
            "building tree 60 of 100\n",
            "building tree 61 of 100\n",
            "building tree 62 of 100\n",
            "building tree 63 of 100\n",
            "building tree 64 of 100\n",
            "building tree 65 of 100\n",
            "building tree 66 of 100\n",
            "building tree 67 of 100\n",
            "building tree 68 of 100\n",
            "building tree 69 of 100\n",
            "building tree 70 of 100building tree 71 of 100\n",
            "\n",
            "building tree 72 of 100"
          ],
          "name": "stdout"
        },
        {
          "output_type": "stream",
          "text": [
            "[Parallel(n_jobs=-1)]: Done  32 out of 100 | elapsed:   37.9s remaining:  1.3min\n"
          ],
          "name": "stderr"
        },
        {
          "output_type": "stream",
          "text": [
            "\n",
            "building tree 73 of 100\n",
            "building tree 74 of 100\n",
            "building tree 75 of 100\n",
            "building tree 76 of 100\n",
            "building tree 77 of 100\n",
            "building tree 78 of 100\n",
            "building tree 79 of 100\n",
            "building tree 80 of 100\n",
            "building tree 81 of 100\n",
            "building tree 82 of 100\n"
          ],
          "name": "stdout"
        },
        {
          "output_type": "stream",
          "text": [
            "[Parallel(n_jobs=-1)]: Done  43 out of 100 | elapsed:  1.2min remaining:  1.5min\n"
          ],
          "name": "stderr"
        },
        {
          "output_type": "stream",
          "text": [
            "building tree 83 of 100\n",
            "building tree 84 of 100\n",
            "building tree 85 of 100\n",
            "building tree 86 of 100\n",
            "building tree 87 of 100\n",
            "building tree 88 of 100\n",
            "building tree 89 of 100\n",
            "building tree 90 of 100\n",
            "building tree 91 of 100\n",
            "building tree 92 of 100\n",
            "building tree 93 of 100\n"
          ],
          "name": "stdout"
        },
        {
          "output_type": "stream",
          "text": [
            "[Parallel(n_jobs=-1)]: Done  54 out of 100 | elapsed:  1.2min remaining:  1.0min\n"
          ],
          "name": "stderr"
        },
        {
          "output_type": "stream",
          "text": [
            "building tree 94 of 100\n",
            "building tree 95 of 100\n",
            "building tree 96 of 100\n",
            "building tree 97 of 100\n",
            "building tree 98 of 100\n",
            "building tree 99 of 100\n",
            "building tree 100 of 100\n"
          ],
          "name": "stdout"
        },
        {
          "output_type": "stream",
          "text": [
            "[Parallel(n_jobs=-1)]: Done  65 out of 100 | elapsed:  1.2min remaining:   39.3s\n",
            "[Parallel(n_jobs=-1)]: Done  76 out of 100 | elapsed:  1.2min remaining:   23.4s\n",
            "[Parallel(n_jobs=-1)]: Done  87 out of 100 | elapsed:  1.5min remaining:   13.3s\n",
            "[Parallel(n_jobs=-1)]: Done  98 out of 100 | elapsed:  1.5min remaining:    1.8s\n",
            "[Parallel(n_jobs=-1)]: Done 100 out of 100 | elapsed:  1.5min finished\n",
            "[Parallel(n_jobs=40)]: Using backend ThreadingBackend with 40 concurrent workers.\n"
          ],
          "name": "stderr"
        },
        {
          "output_type": "stream",
          "text": [
            "Typo_Raw - 2 Trained\n"
          ],
          "name": "stdout"
        },
        {
          "output_type": "stream",
          "text": [
            "[Parallel(n_jobs=40)]: Done   5 tasks      | elapsed:    1.2s\n",
            "[Parallel(n_jobs=40)]: Done  18 tasks      | elapsed:    1.2s\n",
            "[Parallel(n_jobs=40)]: Done  32 out of 100 | elapsed:    1.3s remaining:    2.7s\n",
            "[Parallel(n_jobs=40)]: Done  43 out of 100 | elapsed:    2.3s remaining:    3.1s\n",
            "[Parallel(n_jobs=40)]: Done  54 out of 100 | elapsed:    2.4s remaining:    2.0s\n",
            "[Parallel(n_jobs=40)]: Done  65 out of 100 | elapsed:    2.5s remaining:    1.3s\n",
            "[Parallel(n_jobs=40)]: Done  76 out of 100 | elapsed:    2.5s remaining:    0.8s\n",
            "[Parallel(n_jobs=40)]: Done  87 out of 100 | elapsed:    3.3s remaining:    0.5s\n",
            "[Parallel(n_jobs=40)]: Done  98 out of 100 | elapsed:    3.4s remaining:    0.1s\n",
            "[Parallel(n_jobs=40)]: Done 100 out of 100 | elapsed:    3.5s finished\n",
            "[Parallel(n_jobs=40)]: Using backend ThreadingBackend with 40 concurrent workers.\n",
            "[Parallel(n_jobs=40)]: Done   5 tasks      | elapsed:    1.2s\n",
            "[Parallel(n_jobs=40)]: Done  18 tasks      | elapsed:    1.2s\n",
            "[Parallel(n_jobs=40)]: Done  32 out of 100 | elapsed:    1.3s remaining:    2.7s\n",
            "[Parallel(n_jobs=40)]: Done  43 out of 100 | elapsed:    2.3s remaining:    3.1s\n",
            "[Parallel(n_jobs=40)]: Done  54 out of 100 | elapsed:    2.4s remaining:    2.0s\n",
            "[Parallel(n_jobs=40)]: Done  65 out of 100 | elapsed:    2.4s remaining:    1.3s\n",
            "[Parallel(n_jobs=40)]: Done  76 out of 100 | elapsed:    2.5s remaining:    0.8s\n",
            "[Parallel(n_jobs=40)]: Done  87 out of 100 | elapsed:    3.3s remaining:    0.5s\n",
            "[Parallel(n_jobs=40)]: Done  98 out of 100 | elapsed:    3.4s remaining:    0.1s\n",
            "[Parallel(n_jobs=40)]: Done 100 out of 100 | elapsed:    3.4s finished\n",
            "[Parallel(n_jobs=40)]: Using backend ThreadingBackend with 40 concurrent workers.\n",
            "[Parallel(n_jobs=40)]: Done   5 tasks      | elapsed:    0.3s\n",
            "[Parallel(n_jobs=40)]: Done  18 tasks      | elapsed:    0.3s\n",
            "[Parallel(n_jobs=40)]: Done  32 out of 100 | elapsed:    0.3s remaining:    0.7s\n",
            "[Parallel(n_jobs=40)]: Done  43 out of 100 | elapsed:    0.6s remaining:    0.8s\n",
            "[Parallel(n_jobs=40)]: Done  54 out of 100 | elapsed:    0.6s remaining:    0.5s\n",
            "[Parallel(n_jobs=40)]: Done  65 out of 100 | elapsed:    0.6s remaining:    0.3s\n",
            "[Parallel(n_jobs=40)]: Done  76 out of 100 | elapsed:    0.7s remaining:    0.2s\n",
            "[Parallel(n_jobs=40)]: Done  87 out of 100 | elapsed:    0.9s remaining:    0.1s\n",
            "[Parallel(n_jobs=40)]: Done  98 out of 100 | elapsed:    0.9s remaining:    0.0s\n",
            "[Parallel(n_jobs=40)]: Done 100 out of 100 | elapsed:    0.9s finished\n",
            "[Parallel(n_jobs=40)]: Using backend ThreadingBackend with 40 concurrent workers.\n",
            "[Parallel(n_jobs=40)]: Done   5 tasks      | elapsed:    0.3s\n",
            "[Parallel(n_jobs=40)]: Done  18 tasks      | elapsed:    0.3s\n",
            "[Parallel(n_jobs=40)]: Done  32 out of 100 | elapsed:    0.3s remaining:    0.7s\n",
            "[Parallel(n_jobs=40)]: Done  43 out of 100 | elapsed:    0.6s remaining:    0.8s\n",
            "[Parallel(n_jobs=40)]: Done  54 out of 100 | elapsed:    0.6s remaining:    0.5s\n",
            "[Parallel(n_jobs=40)]: Done  65 out of 100 | elapsed:    0.6s remaining:    0.3s\n",
            "[Parallel(n_jobs=40)]: Done  76 out of 100 | elapsed:    0.7s remaining:    0.2s\n",
            "[Parallel(n_jobs=40)]: Done  87 out of 100 | elapsed:    0.9s remaining:    0.1s\n",
            "[Parallel(n_jobs=40)]: Done  98 out of 100 | elapsed:    0.9s remaining:    0.0s\n",
            "[Parallel(n_jobs=40)]: Done 100 out of 100 | elapsed:    0.9s finished\n"
          ],
          "name": "stderr"
        },
        {
          "output_type": "stream",
          "text": [
            "Typo_Raw - 2 Inferenced : 1.0388622283935547s\ttrain ACC : 0.9914683395717456 test ACC : 0.9229621107293334 test F1 : 0.8045441994398643\n",
            "building tree 1 of 100\n",
            "building tree 2 of 100\n",
            "building tree 3 of 100\n",
            "building tree 4 of 100\n",
            "building tree 5 of 100\n",
            "building tree 6 of 100\n",
            "building tree 7 of 100\n",
            "building tree 8 of 100\n",
            "building tree 9 of 100\n",
            "building tree 10 of 100\n",
            "building tree 11 of 100\n"
          ],
          "name": "stdout"
        },
        {
          "output_type": "stream",
          "text": [
            "[Parallel(n_jobs=-1)]: Using backend ThreadingBackend with 40 concurrent workers.\n"
          ],
          "name": "stderr"
        },
        {
          "output_type": "stream",
          "text": [
            "building tree 12 of 100\n",
            "building tree 13 of 100\n",
            "building tree 14 of 100\n",
            "building tree 15 of 100\n",
            "building tree 16 of 100\n",
            "building tree 17 of 100\n",
            "building tree 18 of 100\n",
            "building tree 19 of 100\n",
            "building tree 20 of 100\n",
            "building tree 21 of 100\n",
            "building tree 22 of 100\n",
            "building tree 23 of 100\n",
            "building tree 24 of 100\n",
            "building tree 25 of 100\n",
            "building tree 26 of 100\n",
            "building tree 27 of 100\n",
            "building tree 28 of 100building tree 29 of 100\n",
            "building tree 30 of 100\n",
            "\n",
            "building tree 31 of 100\n",
            "building tree 32 of 100\n",
            "building tree 33 of 100\n",
            "building tree 34 of 100\n",
            "building tree 35 of 100\n",
            "building tree 36 of 100\n",
            "building tree 37 of 100building tree 38 of 100\n",
            "\n",
            "building tree 39 of 100\n",
            "building tree 40 of 100\n",
            "building tree 41 of 100\n",
            "building tree 42 of 100\n",
            "building tree 43 of 100\n",
            "building tree 44 of 100\n",
            "building tree 45 of 100\n",
            "building tree 46 of 100\n",
            "building tree 47 of 100\n"
          ],
          "name": "stdout"
        },
        {
          "output_type": "stream",
          "text": [
            "[Parallel(n_jobs=-1)]: Done   5 tasks      | elapsed:   35.1s\n"
          ],
          "name": "stderr"
        },
        {
          "output_type": "stream",
          "text": [
            "building tree 48 of 100\n",
            "building tree 49 of 100\n",
            "building tree 50 of 100\n",
            "building tree 51 of 100\n",
            "building tree 52 of 100\n",
            "building tree 53 of 100\n",
            "building tree 54 of 100\n",
            "building tree 55 of 100\n",
            "building tree 56 of 100\n",
            "building tree 57 of 100\n",
            "building tree 58 of 100\n",
            "building tree 59 of 100\n",
            "building tree 60 of 100\n"
          ],
          "name": "stdout"
        },
        {
          "output_type": "stream",
          "text": [
            "[Parallel(n_jobs=-1)]: Done  18 tasks      | elapsed:   36.4s\n"
          ],
          "name": "stderr"
        },
        {
          "output_type": "stream",
          "text": [
            "building tree 61 of 100\n",
            "building tree 62 of 100\n",
            "building tree 63 of 100\n",
            "building tree 64 of 100\n",
            "building tree 65 of 100\n",
            "building tree 66 of 100\n",
            "building tree 67 of 100\n",
            "building tree 68 of 100\n",
            "building tree 69 of 100\n",
            "building tree 70 of 100\n",
            "building tree 71 of 100\n",
            "building tree 72 of 100\n",
            "building tree 73 of 100\n"
          ],
          "name": "stdout"
        },
        {
          "output_type": "stream",
          "text": [
            "[Parallel(n_jobs=-1)]: Done  32 out of 100 | elapsed:   37.2s remaining:  1.3min\n"
          ],
          "name": "stderr"
        },
        {
          "output_type": "stream",
          "text": [
            "building tree 74 of 100\n",
            "building tree 75 of 100\n",
            "building tree 76 of 100\n",
            "building tree 77 of 100\n",
            "building tree 78 of 100\n",
            "building tree 79 of 100\n",
            "building tree 80 of 100\n",
            "building tree 81 of 100\n",
            "building tree 82 of 100\n",
            "building tree 83 of 100\n"
          ],
          "name": "stdout"
        },
        {
          "output_type": "stream",
          "text": [
            "[Parallel(n_jobs=-1)]: Done  43 out of 100 | elapsed:  1.2min remaining:  1.5min\n"
          ],
          "name": "stderr"
        },
        {
          "output_type": "stream",
          "text": [
            "building tree 84 of 100\n",
            "building tree 85 of 100\n",
            "building tree 86 of 100\n",
            "building tree 87 of 100\n",
            "building tree 88 of 100building tree 89 of 100\n",
            "\n",
            "building tree 90 of 100\n",
            "building tree 91 of 100\n",
            "building tree 92 of 100\n",
            "building tree 93 of 100\n"
          ],
          "name": "stdout"
        },
        {
          "output_type": "stream",
          "text": [
            "[Parallel(n_jobs=-1)]: Done  54 out of 100 | elapsed:  1.2min remaining:  1.0min\n"
          ],
          "name": "stderr"
        },
        {
          "output_type": "stream",
          "text": [
            "building tree 94 of 100\n",
            "building tree 95 of 100\n",
            "building tree 96 of 100\n",
            "building tree 97 of 100\n",
            "building tree 98 of 100\n",
            "building tree 99 of 100\n",
            "building tree 100 of 100\n"
          ],
          "name": "stdout"
        },
        {
          "output_type": "stream",
          "text": [
            "[Parallel(n_jobs=-1)]: Done  65 out of 100 | elapsed:  1.2min remaining:   39.4s\n",
            "[Parallel(n_jobs=-1)]: Done  76 out of 100 | elapsed:  1.2min remaining:   23.5s\n",
            "[Parallel(n_jobs=-1)]: Done  87 out of 100 | elapsed:  1.5min remaining:   13.3s\n",
            "[Parallel(n_jobs=-1)]: Done  98 out of 100 | elapsed:  1.5min remaining:    1.8s\n",
            "[Parallel(n_jobs=-1)]: Done 100 out of 100 | elapsed:  1.5min finished\n",
            "[Parallel(n_jobs=40)]: Using backend ThreadingBackend with 40 concurrent workers.\n"
          ],
          "name": "stderr"
        },
        {
          "output_type": "stream",
          "text": [
            "Typo_Raw - 3 Trained\n"
          ],
          "name": "stdout"
        },
        {
          "output_type": "stream",
          "text": [
            "[Parallel(n_jobs=40)]: Done   5 tasks      | elapsed:    1.1s\n",
            "[Parallel(n_jobs=40)]: Done  18 tasks      | elapsed:    1.2s\n",
            "[Parallel(n_jobs=40)]: Done  32 out of 100 | elapsed:    1.2s remaining:    2.6s\n",
            "[Parallel(n_jobs=40)]: Done  43 out of 100 | elapsed:    2.3s remaining:    3.0s\n",
            "[Parallel(n_jobs=40)]: Done  54 out of 100 | elapsed:    2.4s remaining:    2.0s\n",
            "[Parallel(n_jobs=40)]: Done  65 out of 100 | elapsed:    2.4s remaining:    1.3s\n",
            "[Parallel(n_jobs=40)]: Done  76 out of 100 | elapsed:    2.5s remaining:    0.8s\n",
            "[Parallel(n_jobs=40)]: Done  87 out of 100 | elapsed:    3.3s remaining:    0.5s\n",
            "[Parallel(n_jobs=40)]: Done  98 out of 100 | elapsed:    3.4s remaining:    0.1s\n",
            "[Parallel(n_jobs=40)]: Done 100 out of 100 | elapsed:    3.4s finished\n",
            "[Parallel(n_jobs=40)]: Using backend ThreadingBackend with 40 concurrent workers.\n",
            "[Parallel(n_jobs=40)]: Done   5 tasks      | elapsed:    1.2s\n",
            "[Parallel(n_jobs=40)]: Done  18 tasks      | elapsed:    1.2s\n",
            "[Parallel(n_jobs=40)]: Done  32 out of 100 | elapsed:    1.3s remaining:    2.7s\n",
            "[Parallel(n_jobs=40)]: Done  43 out of 100 | elapsed:    2.3s remaining:    3.0s\n",
            "[Parallel(n_jobs=40)]: Done  54 out of 100 | elapsed:    2.4s remaining:    2.0s\n",
            "[Parallel(n_jobs=40)]: Done  65 out of 100 | elapsed:    2.4s remaining:    1.3s\n",
            "[Parallel(n_jobs=40)]: Done  76 out of 100 | elapsed:    2.5s remaining:    0.8s\n",
            "[Parallel(n_jobs=40)]: Done  87 out of 100 | elapsed:    3.3s remaining:    0.5s\n",
            "[Parallel(n_jobs=40)]: Done  98 out of 100 | elapsed:    3.4s remaining:    0.1s\n",
            "[Parallel(n_jobs=40)]: Done 100 out of 100 | elapsed:    3.4s finished\n",
            "[Parallel(n_jobs=40)]: Using backend ThreadingBackend with 40 concurrent workers.\n",
            "[Parallel(n_jobs=40)]: Done   5 tasks      | elapsed:    0.3s\n",
            "[Parallel(n_jobs=40)]: Done  18 tasks      | elapsed:    0.3s\n",
            "[Parallel(n_jobs=40)]: Done  32 out of 100 | elapsed:    0.3s remaining:    0.7s\n",
            "[Parallel(n_jobs=40)]: Done  43 out of 100 | elapsed:    0.6s remaining:    0.8s\n",
            "[Parallel(n_jobs=40)]: Done  54 out of 100 | elapsed:    0.6s remaining:    0.5s\n",
            "[Parallel(n_jobs=40)]: Done  65 out of 100 | elapsed:    0.6s remaining:    0.3s\n",
            "[Parallel(n_jobs=40)]: Done  76 out of 100 | elapsed:    0.7s remaining:    0.2s\n",
            "[Parallel(n_jobs=40)]: Done  87 out of 100 | elapsed:    0.9s remaining:    0.1s\n",
            "[Parallel(n_jobs=40)]: Done  98 out of 100 | elapsed:    0.9s remaining:    0.0s\n",
            "[Parallel(n_jobs=40)]: Done 100 out of 100 | elapsed:    0.9s finished\n",
            "[Parallel(n_jobs=40)]: Using backend ThreadingBackend with 40 concurrent workers.\n",
            "[Parallel(n_jobs=40)]: Done   5 tasks      | elapsed:    0.3s\n",
            "[Parallel(n_jobs=40)]: Done  18 tasks      | elapsed:    0.3s\n",
            "[Parallel(n_jobs=40)]: Done  32 out of 100 | elapsed:    0.3s remaining:    0.7s\n",
            "[Parallel(n_jobs=40)]: Done  43 out of 100 | elapsed:    0.6s remaining:    0.8s\n",
            "[Parallel(n_jobs=40)]: Done  54 out of 100 | elapsed:    0.6s remaining:    0.5s\n",
            "[Parallel(n_jobs=40)]: Done  65 out of 100 | elapsed:    0.6s remaining:    0.3s\n",
            "[Parallel(n_jobs=40)]: Done  76 out of 100 | elapsed:    0.7s remaining:    0.2s\n",
            "[Parallel(n_jobs=40)]: Done  87 out of 100 | elapsed:    0.8s remaining:    0.1s\n",
            "[Parallel(n_jobs=40)]: Done  98 out of 100 | elapsed:    0.9s remaining:    0.0s\n",
            "[Parallel(n_jobs=40)]: Done 100 out of 100 | elapsed:    0.9s finished\n"
          ],
          "name": "stderr"
        },
        {
          "output_type": "stream",
          "text": [
            "Typo_Raw - 3 Inferenced : 1.0404057502746582s\ttrain ACC : 0.9916160402989773 test ACC : 0.922091450426779 test F1 : 0.8023508066106574\n",
            "building tree 1 of 100\n",
            "building tree 2 of 100\n",
            "building tree 3 of 100\n",
            "building tree 4 of 100\n",
            "building tree 5 of 100\n",
            "building tree 6 of 100\n",
            "building tree 7 of 100\n",
            "building tree 8 of 100\n",
            "building tree 9 of 100\n",
            "building tree 10 of 100\n",
            "building tree 11 of 100\n"
          ],
          "name": "stdout"
        },
        {
          "output_type": "stream",
          "text": [
            "[Parallel(n_jobs=-1)]: Using backend ThreadingBackend with 40 concurrent workers.\n"
          ],
          "name": "stderr"
        },
        {
          "output_type": "stream",
          "text": [
            "building tree 12 of 100\n",
            "building tree 13 of 100\n",
            "building tree 14 of 100\n",
            "building tree 15 of 100\n",
            "building tree 16 of 100\n",
            "building tree 17 of 100\n",
            "building tree 18 of 100\n",
            "building tree 19 of 100\n",
            "building tree 20 of 100\n",
            "building tree 21 of 100\n",
            "building tree 22 of 100\n",
            "building tree 23 of 100\n",
            "building tree 24 of 100\n",
            "building tree 25 of 100\n",
            "building tree 26 of 100\n",
            "building tree 27 of 100\n",
            "building tree 28 of 100\n",
            "building tree 29 of 100\n",
            "building tree 30 of 100\n",
            "building tree 31 of 100\n",
            "building tree 32 of 100\n",
            "building tree 33 of 100\n",
            "building tree 34 of 100\n",
            "building tree 35 of 100\n",
            "building tree 36 of 100\n",
            "building tree 37 of 100\n",
            "building tree 38 of 100\n",
            "building tree 39 of 100\n",
            "building tree 40 of 100\n",
            "building tree 41 of 100\n",
            "building tree 42 of 100\n",
            "building tree 43 of 100\n",
            "building tree 44 of 100\n",
            "building tree 45 of 100\n"
          ],
          "name": "stdout"
        },
        {
          "output_type": "stream",
          "text": [
            "[Parallel(n_jobs=-1)]: Done   5 tasks      | elapsed:   34.9s\n"
          ],
          "name": "stderr"
        },
        {
          "output_type": "stream",
          "text": [
            "building tree 46 of 100\n",
            "building tree 47 of 100\n",
            "building tree 48 of 100\n",
            "building tree 49 of 100\n",
            "building tree 50 of 100\n",
            "building tree 51 of 100\n",
            "building tree 52 of 100\n",
            "building tree 53 of 100\n",
            "building tree 54 of 100\n",
            "building tree 55 of 100\n",
            "building tree 56 of 100\n",
            "building tree 57 of 100\n",
            "building tree 58 of 100\n"
          ],
          "name": "stdout"
        },
        {
          "output_type": "stream",
          "text": [
            "[Parallel(n_jobs=-1)]: Done  18 tasks      | elapsed:   36.3s\n"
          ],
          "name": "stderr"
        },
        {
          "output_type": "stream",
          "text": [
            "building tree 59 of 100\n",
            "building tree 60 of 100\n",
            "building tree 61 of 100\n",
            "building tree 62 of 100\n",
            "building tree 63 of 100\n",
            "building tree 64 of 100\n",
            "building tree 65 of 100\n",
            "building tree 66 of 100\n",
            "building tree 67 of 100\n",
            "building tree 68 of 100\n",
            "building tree 69 of 100\n",
            "building tree 70 of 100\n",
            "building tree 71 of 100\n",
            "building tree 72 of 100\n",
            "building tree 73 of 100\n"
          ],
          "name": "stdout"
        },
        {
          "output_type": "stream",
          "text": [
            "[Parallel(n_jobs=-1)]: Done  32 out of 100 | elapsed:   37.7s remaining:  1.3min\n"
          ],
          "name": "stderr"
        },
        {
          "output_type": "stream",
          "text": [
            "building tree 74 of 100\n",
            "building tree 75 of 100\n",
            "building tree 76 of 100\n",
            "building tree 77 of 100\n",
            "building tree 78 of 100\n",
            "building tree 79 of 100\n",
            "building tree 80 of 100\n",
            "building tree 81 of 100\n",
            "building tree 82 of 100\n"
          ],
          "name": "stdout"
        },
        {
          "output_type": "stream",
          "text": [
            "[Parallel(n_jobs=-1)]: Done  43 out of 100 | elapsed:  1.1min remaining:  1.5min\n"
          ],
          "name": "stderr"
        },
        {
          "output_type": "stream",
          "text": [
            "building tree 83 of 100\n",
            "building tree 84 of 100\n",
            "building tree 85 of 100\n",
            "building tree 86 of 100\n",
            "building tree 87 of 100\n",
            "building tree 88 of 100\n",
            "building tree 89 of 100\n",
            "building tree 90 of 100\n",
            "building tree 91 of 100\n",
            "building tree 92 of 100\n",
            "building tree 93 of 100\n",
            "building tree 94 of 100\n"
          ],
          "name": "stdout"
        },
        {
          "output_type": "stream",
          "text": [
            "[Parallel(n_jobs=-1)]: Done  54 out of 100 | elapsed:  1.2min remaining:  1.0min\n"
          ],
          "name": "stderr"
        },
        {
          "output_type": "stream",
          "text": [
            "building tree 95 of 100\n",
            "building tree 96 of 100\n",
            "building tree 97 of 100\n",
            "building tree 98 of 100\n",
            "building tree 99 of 100\n",
            "building tree 100 of 100\n"
          ],
          "name": "stdout"
        },
        {
          "output_type": "stream",
          "text": [
            "[Parallel(n_jobs=-1)]: Done  65 out of 100 | elapsed:  1.2min remaining:   39.0s\n",
            "[Parallel(n_jobs=-1)]: Done  76 out of 100 | elapsed:  1.2min remaining:   23.2s\n",
            "[Parallel(n_jobs=-1)]: Done  87 out of 100 | elapsed:  1.5min remaining:   13.1s\n",
            "[Parallel(n_jobs=-1)]: Done  98 out of 100 | elapsed:  1.5min remaining:    1.8s\n",
            "[Parallel(n_jobs=-1)]: Done 100 out of 100 | elapsed:  1.5min finished\n",
            "[Parallel(n_jobs=40)]: Using backend ThreadingBackend with 40 concurrent workers.\n"
          ],
          "name": "stderr"
        },
        {
          "output_type": "stream",
          "text": [
            "Typo_Raw - 4 Trained\n"
          ],
          "name": "stdout"
        },
        {
          "output_type": "stream",
          "text": [
            "[Parallel(n_jobs=40)]: Done   5 tasks      | elapsed:    1.1s\n",
            "[Parallel(n_jobs=40)]: Done  18 tasks      | elapsed:    1.2s\n",
            "[Parallel(n_jobs=40)]: Done  32 out of 100 | elapsed:    1.2s remaining:    2.6s\n",
            "[Parallel(n_jobs=40)]: Done  43 out of 100 | elapsed:    2.2s remaining:    3.0s\n",
            "[Parallel(n_jobs=40)]: Done  54 out of 100 | elapsed:    2.3s remaining:    2.0s\n",
            "[Parallel(n_jobs=40)]: Done  65 out of 100 | elapsed:    2.4s remaining:    1.3s\n",
            "[Parallel(n_jobs=40)]: Done  76 out of 100 | elapsed:    2.5s remaining:    0.8s\n",
            "[Parallel(n_jobs=40)]: Done  87 out of 100 | elapsed:    3.2s remaining:    0.5s\n",
            "[Parallel(n_jobs=40)]: Done  98 out of 100 | elapsed:    3.3s remaining:    0.1s\n",
            "[Parallel(n_jobs=40)]: Done 100 out of 100 | elapsed:    3.4s finished\n",
            "[Parallel(n_jobs=40)]: Using backend ThreadingBackend with 40 concurrent workers.\n",
            "[Parallel(n_jobs=40)]: Done   5 tasks      | elapsed:    1.1s\n",
            "[Parallel(n_jobs=40)]: Done  18 tasks      | elapsed:    1.2s\n",
            "[Parallel(n_jobs=40)]: Done  32 out of 100 | elapsed:    1.2s remaining:    2.6s\n",
            "[Parallel(n_jobs=40)]: Done  43 out of 100 | elapsed:    2.2s remaining:    3.0s\n",
            "[Parallel(n_jobs=40)]: Done  54 out of 100 | elapsed:    2.3s remaining:    2.0s\n",
            "[Parallel(n_jobs=40)]: Done  65 out of 100 | elapsed:    2.4s remaining:    1.3s\n",
            "[Parallel(n_jobs=40)]: Done  76 out of 100 | elapsed:    2.4s remaining:    0.8s\n",
            "[Parallel(n_jobs=40)]: Done  87 out of 100 | elapsed:    3.3s remaining:    0.5s\n",
            "[Parallel(n_jobs=40)]: Done  98 out of 100 | elapsed:    3.3s remaining:    0.1s\n",
            "[Parallel(n_jobs=40)]: Done 100 out of 100 | elapsed:    3.4s finished\n",
            "[Parallel(n_jobs=40)]: Using backend ThreadingBackend with 40 concurrent workers.\n",
            "[Parallel(n_jobs=40)]: Done   5 tasks      | elapsed:    0.3s\n",
            "[Parallel(n_jobs=40)]: Done  18 tasks      | elapsed:    0.3s\n",
            "[Parallel(n_jobs=40)]: Done  32 out of 100 | elapsed:    0.3s remaining:    0.7s\n",
            "[Parallel(n_jobs=40)]: Done  43 out of 100 | elapsed:    0.6s remaining:    0.8s\n",
            "[Parallel(n_jobs=40)]: Done  54 out of 100 | elapsed:    0.6s remaining:    0.5s\n",
            "[Parallel(n_jobs=40)]: Done  65 out of 100 | elapsed:    0.6s remaining:    0.3s\n",
            "[Parallel(n_jobs=40)]: Done  76 out of 100 | elapsed:    0.6s remaining:    0.2s\n",
            "[Parallel(n_jobs=40)]: Done  87 out of 100 | elapsed:    0.9s remaining:    0.1s\n",
            "[Parallel(n_jobs=40)]: Done  98 out of 100 | elapsed:    0.9s remaining:    0.0s\n",
            "[Parallel(n_jobs=40)]: Done 100 out of 100 | elapsed:    0.9s finished\n",
            "[Parallel(n_jobs=40)]: Using backend ThreadingBackend with 40 concurrent workers.\n",
            "[Parallel(n_jobs=40)]: Done   5 tasks      | elapsed:    0.3s\n",
            "[Parallel(n_jobs=40)]: Done  18 tasks      | elapsed:    0.3s\n",
            "[Parallel(n_jobs=40)]: Done  32 out of 100 | elapsed:    0.3s remaining:    0.7s\n",
            "[Parallel(n_jobs=40)]: Done  43 out of 100 | elapsed:    0.6s remaining:    0.8s\n",
            "[Parallel(n_jobs=40)]: Done  54 out of 100 | elapsed:    0.6s remaining:    0.5s\n",
            "[Parallel(n_jobs=40)]: Done  65 out of 100 | elapsed:    0.6s remaining:    0.3s\n",
            "[Parallel(n_jobs=40)]: Done  76 out of 100 | elapsed:    0.7s remaining:    0.2s\n",
            "[Parallel(n_jobs=40)]: Done  87 out of 100 | elapsed:    0.9s remaining:    0.1s\n",
            "[Parallel(n_jobs=40)]: Done  98 out of 100 | elapsed:    0.9s remaining:    0.0s\n",
            "[Parallel(n_jobs=40)]: Done 100 out of 100 | elapsed:    0.9s finished\n"
          ],
          "name": "stderr"
        },
        {
          "output_type": "stream",
          "text": [
            "Typo_Raw - 4 Inferenced : 0.9383556842803955s\ttrain ACC : 0.9914216972368304 test ACC : 0.9216561202755018 test F1 : 0.8012620784855058\n",
            "building tree 1 of 100\n",
            "building tree 2 of 100\n",
            "building tree 3 of 100\n",
            "building tree 4 of 100\n",
            "building tree 5 of 100\n",
            "building tree 6 of 100\n",
            "building tree 7 of 100\n",
            "building tree 8 of 100\n",
            "building tree 9 of 100\n",
            "building tree 10 of 100\n",
            "building tree 11 of 100\n",
            "building tree 12 of 100\n",
            "building tree 13 of 100\n",
            "building tree 14 of 100\n",
            "building tree 15 of 100\n",
            "building tree 16 of 100\n"
          ],
          "name": "stdout"
        },
        {
          "output_type": "stream",
          "text": [
            "[Parallel(n_jobs=-1)]: Using backend ThreadingBackend with 40 concurrent workers.\n"
          ],
          "name": "stderr"
        },
        {
          "output_type": "stream",
          "text": [
            "building tree 17 of 100\n",
            "building tree 18 of 100building tree 19 of 100\n",
            "building tree 20 of 100\n",
            "\n",
            "building tree 21 of 100\n",
            "building tree 22 of 100\n",
            "building tree 23 of 100\n",
            "building tree 24 of 100\n",
            "building tree 25 of 100\n",
            "building tree 26 of 100\n",
            "building tree 27 of 100\n",
            "building tree 28 of 100\n",
            "building tree 29 of 100\n",
            "building tree 30 of 100\n",
            "building tree 31 of 100\n",
            "building tree 32 of 100\n",
            "building tree 33 of 100\n",
            "building tree 34 of 100\n",
            "building tree 35 of 100\n",
            "building tree 36 of 100\n",
            "building tree 37 of 100\n",
            "building tree 38 of 100\n",
            "building tree 39 of 100\n",
            "building tree 40 of 100\n",
            "building tree 41 of 100\n",
            "building tree 42 of 100\n",
            "building tree 43 of 100\n",
            "building tree 44 of 100\n"
          ],
          "name": "stdout"
        },
        {
          "output_type": "stream",
          "text": [
            "[Parallel(n_jobs=-1)]: Done   5 tasks      | elapsed:   33.7s\n"
          ],
          "name": "stderr"
        },
        {
          "output_type": "stream",
          "text": [
            "building tree 45 of 100\n",
            "building tree 46 of 100\n",
            "building tree 47 of 100\n",
            "building tree 48 of 100\n",
            "building tree 49 of 100\n",
            "building tree 50 of 100\n",
            "building tree 51 of 100\n",
            "building tree 52 of 100\n",
            "building tree 53 of 100\n",
            "building tree 54 of 100\n",
            "building tree 55 of 100\n",
            "building tree 56 of 100\n",
            "building tree 57 of 100\n"
          ],
          "name": "stdout"
        },
        {
          "output_type": "stream",
          "text": [
            "[Parallel(n_jobs=-1)]: Done  18 tasks      | elapsed:   35.4s\n"
          ],
          "name": "stderr"
        },
        {
          "output_type": "stream",
          "text": [
            "building tree 58 of 100\n",
            "building tree 59 of 100\n",
            "building tree 60 of 100\n",
            "building tree 61 of 100\n",
            "building tree 62 of 100\n",
            "building tree 63 of 100\n",
            "building tree 64 of 100\n",
            "building tree 65 of 100\n",
            "building tree 66 of 100\n",
            "building tree 67 of 100\n",
            "building tree 68 of 100\n",
            "building tree 69 of 100\n",
            "building tree 70 of 100\n",
            "building tree 71 of 100\n",
            "building tree 72 of 100\n",
            "building tree 73 of 100\n"
          ],
          "name": "stdout"
        },
        {
          "output_type": "stream",
          "text": [
            "[Parallel(n_jobs=-1)]: Done  32 out of 100 | elapsed:   36.1s remaining:  1.3min\n"
          ],
          "name": "stderr"
        },
        {
          "output_type": "stream",
          "text": [
            "building tree 74 of 100building tree 75 of 100\n",
            "\n",
            "building tree 76 of 100\n",
            "building tree 77 of 100\n",
            "building tree 78 of 100\n",
            "building tree 79 of 100\n",
            "building tree 80 of 100\n",
            "building tree 81 of 100\n",
            "building tree 82 of 100\n",
            "building tree 83 of 100\n"
          ],
          "name": "stdout"
        },
        {
          "output_type": "stream",
          "text": [
            "[Parallel(n_jobs=-1)]: Done  43 out of 100 | elapsed:  1.1min remaining:  1.5min\n"
          ],
          "name": "stderr"
        },
        {
          "output_type": "stream",
          "text": [
            "building tree 84 of 100\n",
            "building tree 85 of 100\n",
            "building tree 86 of 100\n",
            "building tree 87 of 100\n",
            "building tree 88 of 100\n",
            "building tree 89 of 100\n",
            "building tree 90 of 100\n",
            "building tree 91 of 100\n",
            "building tree 92 of 100\n",
            "building tree 93 of 100\n",
            "building tree 94 of 100\n",
            "building tree 95 of 100\n"
          ],
          "name": "stdout"
        },
        {
          "output_type": "stream",
          "text": [
            "[Parallel(n_jobs=-1)]: Done  54 out of 100 | elapsed:  1.2min remaining:  1.0min\n"
          ],
          "name": "stderr"
        },
        {
          "output_type": "stream",
          "text": [
            "building tree 96 of 100\n",
            "building tree 97 of 100\n",
            "building tree 98 of 100\n",
            "building tree 99 of 100\n",
            "building tree 100 of 100\n"
          ],
          "name": "stdout"
        },
        {
          "output_type": "stream",
          "text": [
            "[Parallel(n_jobs=-1)]: Done  65 out of 100 | elapsed:  1.2min remaining:   38.3s\n",
            "[Parallel(n_jobs=-1)]: Done  76 out of 100 | elapsed:  1.2min remaining:   22.7s\n",
            "[Parallel(n_jobs=-1)]: Done  87 out of 100 | elapsed:  1.4min remaining:   12.9s\n",
            "[Parallel(n_jobs=-1)]: Done  98 out of 100 | elapsed:  1.5min remaining:    1.8s\n",
            "[Parallel(n_jobs=-1)]: Done 100 out of 100 | elapsed:  1.5min finished\n",
            "[Parallel(n_jobs=40)]: Using backend ThreadingBackend with 40 concurrent workers.\n"
          ],
          "name": "stderr"
        },
        {
          "output_type": "stream",
          "text": [
            "Typo_Raw - 5 Trained\n"
          ],
          "name": "stdout"
        },
        {
          "output_type": "stream",
          "text": [
            "[Parallel(n_jobs=40)]: Done   5 tasks      | elapsed:    1.2s\n",
            "[Parallel(n_jobs=40)]: Done  18 tasks      | elapsed:    1.2s\n",
            "[Parallel(n_jobs=40)]: Done  32 out of 100 | elapsed:    1.3s remaining:    2.7s\n",
            "[Parallel(n_jobs=40)]: Done  43 out of 100 | elapsed:    2.3s remaining:    3.1s\n",
            "[Parallel(n_jobs=40)]: Done  54 out of 100 | elapsed:    2.4s remaining:    2.0s\n",
            "[Parallel(n_jobs=40)]: Done  65 out of 100 | elapsed:    2.4s remaining:    1.3s\n",
            "[Parallel(n_jobs=40)]: Done  76 out of 100 | elapsed:    2.5s remaining:    0.8s\n",
            "[Parallel(n_jobs=40)]: Done  87 out of 100 | elapsed:    3.3s remaining:    0.5s\n",
            "[Parallel(n_jobs=40)]: Done  98 out of 100 | elapsed:    3.4s remaining:    0.1s\n",
            "[Parallel(n_jobs=40)]: Done 100 out of 100 | elapsed:    3.4s finished\n",
            "[Parallel(n_jobs=40)]: Using backend ThreadingBackend with 40 concurrent workers.\n",
            "[Parallel(n_jobs=40)]: Done   5 tasks      | elapsed:    1.2s\n",
            "[Parallel(n_jobs=40)]: Done  18 tasks      | elapsed:    1.2s\n",
            "[Parallel(n_jobs=40)]: Done  32 out of 100 | elapsed:    1.3s remaining:    2.8s\n",
            "[Parallel(n_jobs=40)]: Done  43 out of 100 | elapsed:    2.3s remaining:    3.1s\n",
            "[Parallel(n_jobs=40)]: Done  54 out of 100 | elapsed:    2.4s remaining:    2.0s\n",
            "[Parallel(n_jobs=40)]: Done  65 out of 100 | elapsed:    2.4s remaining:    1.3s\n",
            "[Parallel(n_jobs=40)]: Done  76 out of 100 | elapsed:    2.5s remaining:    0.8s\n",
            "[Parallel(n_jobs=40)]: Done  87 out of 100 | elapsed:    3.3s remaining:    0.5s\n",
            "[Parallel(n_jobs=40)]: Done  98 out of 100 | elapsed:    3.4s remaining:    0.1s\n",
            "[Parallel(n_jobs=40)]: Done 100 out of 100 | elapsed:    3.4s finished\n",
            "[Parallel(n_jobs=40)]: Using backend ThreadingBackend with 40 concurrent workers.\n",
            "[Parallel(n_jobs=40)]: Done   5 tasks      | elapsed:    0.3s\n",
            "[Parallel(n_jobs=40)]: Done  18 tasks      | elapsed:    0.3s\n",
            "[Parallel(n_jobs=40)]: Done  32 out of 100 | elapsed:    0.3s remaining:    0.7s\n",
            "[Parallel(n_jobs=40)]: Done  43 out of 100 | elapsed:    0.6s remaining:    0.8s\n",
            "[Parallel(n_jobs=40)]: Done  54 out of 100 | elapsed:    0.6s remaining:    0.5s\n",
            "[Parallel(n_jobs=40)]: Done  65 out of 100 | elapsed:    0.6s remaining:    0.3s\n",
            "[Parallel(n_jobs=40)]: Done  76 out of 100 | elapsed:    0.6s remaining:    0.2s\n",
            "[Parallel(n_jobs=40)]: Done  87 out of 100 | elapsed:    0.9s remaining:    0.1s\n",
            "[Parallel(n_jobs=40)]: Done  98 out of 100 | elapsed:    0.9s remaining:    0.0s\n",
            "[Parallel(n_jobs=40)]: Done 100 out of 100 | elapsed:    0.9s finished\n",
            "[Parallel(n_jobs=40)]: Using backend ThreadingBackend with 40 concurrent workers.\n",
            "[Parallel(n_jobs=40)]: Done   5 tasks      | elapsed:    0.3s\n",
            "[Parallel(n_jobs=40)]: Done  18 tasks      | elapsed:    0.3s\n",
            "[Parallel(n_jobs=40)]: Done  32 out of 100 | elapsed:    0.3s remaining:    0.7s\n",
            "[Parallel(n_jobs=40)]: Done  43 out of 100 | elapsed:    0.6s remaining:    0.8s\n",
            "[Parallel(n_jobs=40)]: Done  54 out of 100 | elapsed:    0.6s remaining:    0.5s\n",
            "[Parallel(n_jobs=40)]: Done  65 out of 100 | elapsed:    0.6s remaining:    0.3s\n",
            "[Parallel(n_jobs=40)]: Done  76 out of 100 | elapsed:    0.6s remaining:    0.2s\n",
            "[Parallel(n_jobs=40)]: Done  87 out of 100 | elapsed:    0.8s remaining:    0.1s\n",
            "[Parallel(n_jobs=40)]: Done  98 out of 100 | elapsed:    0.9s remaining:    0.0s\n",
            "[Parallel(n_jobs=40)]: Done 100 out of 100 | elapsed:    0.9s finished\n"
          ],
          "name": "stderr"
        },
        {
          "output_type": "stream",
          "text": [
            "Typo_Raw - 5 Inferenced : 0.9372146129608154s\ttrain ACC : 0.9917404198587515 test ACC : 0.921764952813321 test F1 : 0.8013265950726469\n",
            "building tree 1 of 100building tree 2 of 100\n",
            "building tree 3 of 100\n",
            "building tree 4 of 100\n",
            "building tree 5 of 100\n",
            "\n",
            "building tree 6 of 100\n",
            "building tree 7 of 100building tree 8 of 100\n",
            "\n",
            "building tree 9 of 100\n",
            "building tree 10 of 100\n",
            "building tree 11 of 100\n",
            "building tree 12 of 100\n",
            "building tree 13 of 100\n"
          ],
          "name": "stdout"
        },
        {
          "output_type": "stream",
          "text": [
            "[Parallel(n_jobs=-1)]: Using backend ThreadingBackend with 40 concurrent workers.\n"
          ],
          "name": "stderr"
        },
        {
          "output_type": "stream",
          "text": [
            "building tree 14 of 100\n",
            "building tree 15 of 100\n",
            "building tree 16 of 100\n",
            "building tree 17 of 100\n",
            "building tree 18 of 100\n",
            "building tree 19 of 100\n",
            "building tree 20 of 100\n",
            "building tree 21 of 100\n",
            "building tree 22 of 100\n",
            "building tree 23 of 100\n",
            "building tree 24 of 100\n",
            "building tree 25 of 100\n",
            "building tree 26 of 100\n",
            "building tree 27 of 100\n",
            "building tree 28 of 100\n",
            "building tree 29 of 100\n",
            "building tree 30 of 100\n",
            "building tree 31 of 100\n",
            "building tree 32 of 100\n",
            "building tree 33 of 100\n",
            "building tree 34 of 100building tree 35 of 100\n",
            "\n",
            "building tree 36 of 100\n",
            "building tree 37 of 100\n",
            "building tree 38 of 100\n",
            "building tree 39 of 100\n",
            "building tree 40 of 100\n",
            "building tree 41 of 100\n",
            "building tree 42 of 100\n",
            "building tree 43 of 100\n",
            "building tree 44 of 100\n",
            "building tree 45 of 100\n"
          ],
          "name": "stdout"
        },
        {
          "output_type": "stream",
          "text": [
            "[Parallel(n_jobs=-1)]: Done   5 tasks      | elapsed:   33.9s\n"
          ],
          "name": "stderr"
        },
        {
          "output_type": "stream",
          "text": [
            "building tree 46 of 100\n",
            "building tree 47 of 100\n",
            "building tree 48 of 100\n",
            "building tree 49 of 100\n",
            "building tree 50 of 100\n",
            "building tree 51 of 100\n",
            "building tree 52 of 100\n",
            "building tree 53 of 100\n",
            "building tree 54 of 100\n",
            "building tree 55 of 100\n",
            "building tree 56 of 100\n",
            "building tree 57 of 100\n",
            "building tree 58 of 100\n"
          ],
          "name": "stdout"
        },
        {
          "output_type": "stream",
          "text": [
            "[Parallel(n_jobs=-1)]: Done  18 tasks      | elapsed:   35.3s\n"
          ],
          "name": "stderr"
        },
        {
          "output_type": "stream",
          "text": [
            "building tree 59 of 100\n",
            "building tree 60 of 100\n",
            "building tree 61 of 100\n",
            "building tree 62 of 100\n",
            "building tree 63 of 100\n",
            "building tree 64 of 100\n",
            "building tree 65 of 100\n",
            "building tree 66 of 100\n",
            "building tree 67 of 100\n",
            "building tree 68 of 100\n",
            "building tree 69 of 100\n",
            "building tree 70 of 100\n",
            "building tree 71 of 100\n",
            "building tree 72 of 100\n",
            "building tree 73 of 100\n"
          ],
          "name": "stdout"
        },
        {
          "output_type": "stream",
          "text": [
            "[Parallel(n_jobs=-1)]: Done  32 out of 100 | elapsed:   36.7s remaining:  1.3min\n"
          ],
          "name": "stderr"
        },
        {
          "output_type": "stream",
          "text": [
            "building tree 74 of 100\n",
            "building tree 75 of 100\n",
            "building tree 76 of 100\n",
            "building tree 77 of 100\n",
            "building tree 78 of 100\n",
            "building tree 79 of 100\n",
            "building tree 80 of 100\n",
            "building tree 81 of 100\n",
            "building tree 82 of 100\n"
          ],
          "name": "stdout"
        },
        {
          "output_type": "stream",
          "text": [
            "[Parallel(n_jobs=-1)]: Done  43 out of 100 | elapsed:  1.1min remaining:  1.5min\n"
          ],
          "name": "stderr"
        },
        {
          "output_type": "stream",
          "text": [
            "building tree 83 of 100\n",
            "building tree 84 of 100\n",
            "building tree 85 of 100\n",
            "building tree 86 of 100\n",
            "building tree 87 of 100\n",
            "building tree 88 of 100\n",
            "building tree 89 of 100\n",
            "building tree 90 of 100\n",
            "building tree 91 of 100\n",
            "building tree 92 of 100\n",
            "building tree 93 of 100\n",
            "building tree 94 of 100\n",
            "building tree 95 of 100\n",
            "building tree 96 of 100\n"
          ],
          "name": "stdout"
        },
        {
          "output_type": "stream",
          "text": [
            "[Parallel(n_jobs=-1)]: Done  54 out of 100 | elapsed:  1.2min remaining:   59.7s\n"
          ],
          "name": "stderr"
        },
        {
          "output_type": "stream",
          "text": [
            "building tree 97 of 100\n",
            "building tree 98 of 100\n",
            "building tree 99 of 100\n",
            "building tree 100 of 100\n"
          ],
          "name": "stdout"
        },
        {
          "output_type": "stream",
          "text": [
            "[Parallel(n_jobs=-1)]: Done  65 out of 100 | elapsed:  1.2min remaining:   38.7s\n",
            "[Parallel(n_jobs=-1)]: Done  76 out of 100 | elapsed:  1.2min remaining:   23.1s\n",
            "[Parallel(n_jobs=-1)]: Done  87 out of 100 | elapsed:  1.4min remaining:   12.9s\n",
            "[Parallel(n_jobs=-1)]: Done  98 out of 100 | elapsed:  1.5min remaining:    1.8s\n",
            "[Parallel(n_jobs=-1)]: Done 100 out of 100 | elapsed:  1.5min finished\n",
            "[Parallel(n_jobs=40)]: Using backend ThreadingBackend with 40 concurrent workers.\n"
          ],
          "name": "stderr"
        },
        {
          "output_type": "stream",
          "text": [
            "Typo_Stopword - 1 Trained\n"
          ],
          "name": "stdout"
        },
        {
          "output_type": "stream",
          "text": [
            "[Parallel(n_jobs=40)]: Done   5 tasks      | elapsed:    1.2s\n",
            "[Parallel(n_jobs=40)]: Done  18 tasks      | elapsed:    1.2s\n",
            "[Parallel(n_jobs=40)]: Done  32 out of 100 | elapsed:    1.3s remaining:    2.7s\n",
            "[Parallel(n_jobs=40)]: Done  43 out of 100 | elapsed:    2.3s remaining:    3.1s\n",
            "[Parallel(n_jobs=40)]: Done  54 out of 100 | elapsed:    2.4s remaining:    2.0s\n",
            "[Parallel(n_jobs=40)]: Done  65 out of 100 | elapsed:    2.5s remaining:    1.3s\n",
            "[Parallel(n_jobs=40)]: Done  76 out of 100 | elapsed:    2.5s remaining:    0.8s\n",
            "[Parallel(n_jobs=40)]: Done  87 out of 100 | elapsed:    3.3s remaining:    0.5s\n",
            "[Parallel(n_jobs=40)]: Done  98 out of 100 | elapsed:    3.4s remaining:    0.1s\n",
            "[Parallel(n_jobs=40)]: Done 100 out of 100 | elapsed:    3.5s finished\n",
            "[Parallel(n_jobs=40)]: Using backend ThreadingBackend with 40 concurrent workers.\n",
            "[Parallel(n_jobs=40)]: Done   5 tasks      | elapsed:    1.2s\n",
            "[Parallel(n_jobs=40)]: Done  18 tasks      | elapsed:    1.2s\n",
            "[Parallel(n_jobs=40)]: Done  32 out of 100 | elapsed:    1.3s remaining:    2.8s\n",
            "[Parallel(n_jobs=40)]: Done  43 out of 100 | elapsed:    2.4s remaining:    3.1s\n",
            "[Parallel(n_jobs=40)]: Done  54 out of 100 | elapsed:    2.4s remaining:    2.1s\n",
            "[Parallel(n_jobs=40)]: Done  65 out of 100 | elapsed:    2.5s remaining:    1.3s\n",
            "[Parallel(n_jobs=40)]: Done  76 out of 100 | elapsed:    2.6s remaining:    0.8s\n",
            "[Parallel(n_jobs=40)]: Done  87 out of 100 | elapsed:    3.4s remaining:    0.5s\n",
            "[Parallel(n_jobs=40)]: Done  98 out of 100 | elapsed:    3.4s remaining:    0.1s\n",
            "[Parallel(n_jobs=40)]: Done 100 out of 100 | elapsed:    3.5s finished\n",
            "[Parallel(n_jobs=40)]: Using backend ThreadingBackend with 40 concurrent workers.\n",
            "[Parallel(n_jobs=40)]: Done   5 tasks      | elapsed:    0.3s\n",
            "[Parallel(n_jobs=40)]: Done  18 tasks      | elapsed:    0.3s\n",
            "[Parallel(n_jobs=40)]: Done  32 out of 100 | elapsed:    0.3s remaining:    0.7s\n",
            "[Parallel(n_jobs=40)]: Done  43 out of 100 | elapsed:    0.6s remaining:    0.8s\n",
            "[Parallel(n_jobs=40)]: Done  54 out of 100 | elapsed:    0.6s remaining:    0.5s\n",
            "[Parallel(n_jobs=40)]: Done  65 out of 100 | elapsed:    0.7s remaining:    0.4s\n",
            "[Parallel(n_jobs=40)]: Done  76 out of 100 | elapsed:    0.7s remaining:    0.2s\n",
            "[Parallel(n_jobs=40)]: Done  87 out of 100 | elapsed:    0.9s remaining:    0.1s\n",
            "[Parallel(n_jobs=40)]: Done  98 out of 100 | elapsed:    0.9s remaining:    0.0s\n",
            "[Parallel(n_jobs=40)]: Done 100 out of 100 | elapsed:    0.9s finished\n",
            "[Parallel(n_jobs=40)]: Using backend ThreadingBackend with 40 concurrent workers.\n",
            "[Parallel(n_jobs=40)]: Done   5 tasks      | elapsed:    0.3s\n",
            "[Parallel(n_jobs=40)]: Done  18 tasks      | elapsed:    0.4s\n",
            "[Parallel(n_jobs=40)]: Done  32 out of 100 | elapsed:    0.4s remaining:    0.8s\n",
            "[Parallel(n_jobs=40)]: Done  43 out of 100 | elapsed:    0.6s remaining:    0.8s\n",
            "[Parallel(n_jobs=40)]: Done  54 out of 100 | elapsed:    0.7s remaining:    0.6s\n",
            "[Parallel(n_jobs=40)]: Done  65 out of 100 | elapsed:    0.7s remaining:    0.4s\n",
            "[Parallel(n_jobs=40)]: Done  76 out of 100 | elapsed:    0.7s remaining:    0.2s\n",
            "[Parallel(n_jobs=40)]: Done  87 out of 100 | elapsed:    0.9s remaining:    0.1s\n",
            "[Parallel(n_jobs=40)]: Done  98 out of 100 | elapsed:    0.9s remaining:    0.0s\n",
            "[Parallel(n_jobs=40)]: Done 100 out of 100 | elapsed:    0.9s finished\n"
          ],
          "name": "stderr"
        },
        {
          "output_type": "stream",
          "text": [
            "Typo_Stopword - 1 Inferenced : 1.0362346172332764s\ttrain ACC : 0.9911806775602855 test ACC : 0.9217661691542288 test F1 : 0.8002857596443881\n",
            "building tree 1 of 100\n",
            "building tree 2 of 100\n",
            "building tree 3 of 100\n",
            "building tree 4 of 100\n",
            "building tree 5 of 100\n",
            "building tree 6 of 100\n",
            "building tree 7 of 100\n",
            "building tree 8 of 100\n",
            "building tree 9 of 100\n",
            "building tree 10 of 100\n",
            "building tree 11 of 100\n",
            "building tree 12 of 100\n"
          ],
          "name": "stdout"
        },
        {
          "output_type": "stream",
          "text": [
            "[Parallel(n_jobs=-1)]: Using backend ThreadingBackend with 40 concurrent workers.\n"
          ],
          "name": "stderr"
        },
        {
          "output_type": "stream",
          "text": [
            "building tree 13 of 100building tree 14 of 100\n",
            "\n",
            "building tree 15 of 100\n",
            "building tree 16 of 100\n",
            "building tree 17 of 100\n",
            "building tree 18 of 100\n",
            "building tree 19 of 100\n",
            "building tree 20 of 100\n",
            "building tree 21 of 100\n",
            "building tree 22 of 100\n",
            "building tree 23 of 100\n",
            "building tree 24 of 100\n",
            "building tree 25 of 100\n",
            "building tree 26 of 100\n",
            "building tree 27 of 100\n",
            "building tree 28 of 100\n",
            "building tree 29 of 100\n",
            "building tree 30 of 100\n",
            "building tree 31 of 100\n",
            "building tree 32 of 100\n",
            "building tree 33 of 100building tree 34 of 100\n",
            "\n",
            "building tree 35 of 100\n",
            "building tree 36 of 100\n",
            "building tree 37 of 100\n",
            "building tree 38 of 100\n",
            "building tree 39 of 100\n",
            "building tree 40 of 100\n",
            "building tree 41 of 100\n",
            "building tree 42 of 100\n",
            "building tree 43 of 100\n",
            "building tree 44 of 100\n"
          ],
          "name": "stdout"
        },
        {
          "output_type": "stream",
          "text": [
            "[Parallel(n_jobs=-1)]: Done   5 tasks      | elapsed:   34.5s\n"
          ],
          "name": "stderr"
        },
        {
          "output_type": "stream",
          "text": [
            "building tree 45 of 100\n",
            "building tree 46 of 100\n",
            "building tree 47 of 100\n",
            "building tree 48 of 100\n",
            "building tree 49 of 100building tree 50 of 100\n",
            "\n",
            "building tree 51 of 100\n",
            "building tree 52 of 100\n",
            "building tree 53 of 100building tree 54 of 100\n",
            "\n",
            "building tree 55 of 100\n",
            "building tree 56 of 100\n",
            "building tree 57 of 100\n",
            "building tree 58 of 100\n",
            "building tree 59 of 100\n",
            "building tree 60 of 100\n",
            "building tree 61 of 100\n"
          ],
          "name": "stdout"
        },
        {
          "output_type": "stream",
          "text": [
            "[Parallel(n_jobs=-1)]: Done  18 tasks      | elapsed:   35.7s\n"
          ],
          "name": "stderr"
        },
        {
          "output_type": "stream",
          "text": [
            "building tree 62 of 100\n",
            "building tree 63 of 100\n",
            "building tree 64 of 100\n",
            "building tree 65 of 100\n",
            "building tree 66 of 100\n",
            "building tree 67 of 100\n",
            "building tree 68 of 100\n",
            "building tree 69 of 100\n",
            "building tree 70 of 100\n",
            "building tree 71 of 100\n"
          ],
          "name": "stdout"
        },
        {
          "output_type": "stream",
          "text": [
            "[Parallel(n_jobs=-1)]: Done  32 out of 100 | elapsed:   36.5s remaining:  1.3min\n"
          ],
          "name": "stderr"
        },
        {
          "output_type": "stream",
          "text": [
            "building tree 72 of 100\n",
            "building tree 73 of 100\n",
            "building tree 74 of 100\n",
            "building tree 75 of 100\n",
            "building tree 76 of 100\n",
            "building tree 77 of 100\n",
            "building tree 78 of 100\n",
            "building tree 79 of 100\n",
            "building tree 80 of 100\n",
            "building tree 81 of 100\n",
            "building tree 82 of 100\n"
          ],
          "name": "stdout"
        },
        {
          "output_type": "stream",
          "text": [
            "[Parallel(n_jobs=-1)]: Done  43 out of 100 | elapsed:  1.1min remaining:  1.5min\n"
          ],
          "name": "stderr"
        },
        {
          "output_type": "stream",
          "text": [
            "building tree 83 of 100\n",
            "building tree 84 of 100\n",
            "building tree 85 of 100\n",
            "building tree 86 of 100\n",
            "building tree 87 of 100\n",
            "building tree 88 of 100\n",
            "building tree 89 of 100\n",
            "building tree 90 of 100\n",
            "building tree 91 of 100\n",
            "building tree 92 of 100\n",
            "building tree 93 of 100\n"
          ],
          "name": "stdout"
        },
        {
          "output_type": "stream",
          "text": [
            "[Parallel(n_jobs=-1)]: Done  54 out of 100 | elapsed:  1.2min remaining:   59.7s\n"
          ],
          "name": "stderr"
        },
        {
          "output_type": "stream",
          "text": [
            "building tree 94 of 100\n",
            "building tree 95 of 100\n",
            "building tree 96 of 100\n",
            "building tree 97 of 100\n",
            "building tree 98 of 100\n",
            "building tree 99 of 100\n",
            "building tree 100 of 100\n"
          ],
          "name": "stdout"
        },
        {
          "output_type": "stream",
          "text": [
            "[Parallel(n_jobs=-1)]: Done  65 out of 100 | elapsed:  1.2min remaining:   38.2s\n",
            "[Parallel(n_jobs=-1)]: Done  76 out of 100 | elapsed:  1.2min remaining:   22.8s\n",
            "[Parallel(n_jobs=-1)]: Done  87 out of 100 | elapsed:  1.4min remaining:   12.9s\n",
            "[Parallel(n_jobs=-1)]: Done  98 out of 100 | elapsed:  1.5min remaining:    1.8s\n",
            "[Parallel(n_jobs=-1)]: Done 100 out of 100 | elapsed:  1.5min finished\n",
            "[Parallel(n_jobs=40)]: Using backend ThreadingBackend with 40 concurrent workers.\n"
          ],
          "name": "stderr"
        },
        {
          "output_type": "stream",
          "text": [
            "Typo_Stopword - 2 Trained\n"
          ],
          "name": "stdout"
        },
        {
          "output_type": "stream",
          "text": [
            "[Parallel(n_jobs=40)]: Done   5 tasks      | elapsed:    1.2s\n",
            "[Parallel(n_jobs=40)]: Done  18 tasks      | elapsed:    1.2s\n",
            "[Parallel(n_jobs=40)]: Done  32 out of 100 | elapsed:    1.3s remaining:    2.8s\n",
            "[Parallel(n_jobs=40)]: Done  43 out of 100 | elapsed:    2.4s remaining:    3.1s\n",
            "[Parallel(n_jobs=40)]: Done  54 out of 100 | elapsed:    2.4s remaining:    2.1s\n",
            "[Parallel(n_jobs=40)]: Done  65 out of 100 | elapsed:    2.5s remaining:    1.3s\n",
            "[Parallel(n_jobs=40)]: Done  76 out of 100 | elapsed:    2.5s remaining:    0.8s\n",
            "[Parallel(n_jobs=40)]: Done  87 out of 100 | elapsed:    3.4s remaining:    0.5s\n",
            "[Parallel(n_jobs=40)]: Done  98 out of 100 | elapsed:    3.5s remaining:    0.1s\n",
            "[Parallel(n_jobs=40)]: Done 100 out of 100 | elapsed:    3.5s finished\n",
            "[Parallel(n_jobs=40)]: Using backend ThreadingBackend with 40 concurrent workers.\n",
            "[Parallel(n_jobs=40)]: Done   5 tasks      | elapsed:    1.2s\n",
            "[Parallel(n_jobs=40)]: Done  18 tasks      | elapsed:    1.3s\n",
            "[Parallel(n_jobs=40)]: Done  32 out of 100 | elapsed:    1.3s remaining:    2.8s\n",
            "[Parallel(n_jobs=40)]: Done  43 out of 100 | elapsed:    2.4s remaining:    3.1s\n",
            "[Parallel(n_jobs=40)]: Done  54 out of 100 | elapsed:    2.4s remaining:    2.1s\n",
            "[Parallel(n_jobs=40)]: Done  65 out of 100 | elapsed:    2.5s remaining:    1.4s\n",
            "[Parallel(n_jobs=40)]: Done  76 out of 100 | elapsed:    2.6s remaining:    0.8s\n",
            "[Parallel(n_jobs=40)]: Done  87 out of 100 | elapsed:    3.4s remaining:    0.5s\n",
            "[Parallel(n_jobs=40)]: Done  98 out of 100 | elapsed:    3.5s remaining:    0.1s\n",
            "[Parallel(n_jobs=40)]: Done 100 out of 100 | elapsed:    3.5s finished\n",
            "[Parallel(n_jobs=40)]: Using backend ThreadingBackend with 40 concurrent workers.\n",
            "[Parallel(n_jobs=40)]: Done   5 tasks      | elapsed:    0.3s\n",
            "[Parallel(n_jobs=40)]: Done  18 tasks      | elapsed:    0.3s\n",
            "[Parallel(n_jobs=40)]: Done  32 out of 100 | elapsed:    0.4s remaining:    0.7s\n",
            "[Parallel(n_jobs=40)]: Done  43 out of 100 | elapsed:    0.6s remaining:    0.8s\n",
            "[Parallel(n_jobs=40)]: Done  54 out of 100 | elapsed:    0.6s remaining:    0.5s\n",
            "[Parallel(n_jobs=40)]: Done  65 out of 100 | elapsed:    0.7s remaining:    0.4s\n",
            "[Parallel(n_jobs=40)]: Done  76 out of 100 | elapsed:    0.7s remaining:    0.2s\n",
            "[Parallel(n_jobs=40)]: Done  87 out of 100 | elapsed:    0.9s remaining:    0.1s\n",
            "[Parallel(n_jobs=40)]: Done  98 out of 100 | elapsed:    0.9s remaining:    0.0s\n",
            "[Parallel(n_jobs=40)]: Done 100 out of 100 | elapsed:    0.9s finished\n",
            "[Parallel(n_jobs=40)]: Using backend ThreadingBackend with 40 concurrent workers.\n",
            "[Parallel(n_jobs=40)]: Done   5 tasks      | elapsed:    0.3s\n",
            "[Parallel(n_jobs=40)]: Done  18 tasks      | elapsed:    0.3s\n",
            "[Parallel(n_jobs=40)]: Done  32 out of 100 | elapsed:    0.3s remaining:    0.7s\n",
            "[Parallel(n_jobs=40)]: Done  43 out of 100 | elapsed:    0.6s remaining:    0.8s\n",
            "[Parallel(n_jobs=40)]: Done  54 out of 100 | elapsed:    0.6s remaining:    0.5s\n",
            "[Parallel(n_jobs=40)]: Done  65 out of 100 | elapsed:    0.7s remaining:    0.4s\n",
            "[Parallel(n_jobs=40)]: Done  76 out of 100 | elapsed:    0.7s remaining:    0.2s\n",
            "[Parallel(n_jobs=40)]: Done  87 out of 100 | elapsed:    0.9s remaining:    0.1s\n",
            "[Parallel(n_jobs=40)]: Done  98 out of 100 | elapsed:    0.9s remaining:    0.0s\n",
            "[Parallel(n_jobs=40)]: Done 100 out of 100 | elapsed:    0.9s finished\n"
          ],
          "name": "stderr"
        },
        {
          "output_type": "stream",
          "text": [
            "Typo_Stopword - 2 Inferenced : 1.035891056060791s\ttrain ACC : 0.9912040330072257 test ACC : 0.9227599931590976 test F1 : 0.803806966274386\n",
            "building tree 1 of 100\n",
            "building tree 2 of 100\n",
            "building tree 3 of 100\n",
            "building tree 4 of 100\n",
            "building tree 5 of 100\n",
            "building tree 6 of 100\n",
            "building tree 7 of 100\n",
            "building tree 8 of 100\n",
            "building tree 9 of 100\n",
            "building tree 10 of 100\n",
            "building tree 11 of 100\n",
            "building tree 12 of 100\n",
            "building tree 13 of 100\n",
            "building tree 14 of 100\n"
          ],
          "name": "stdout"
        },
        {
          "output_type": "stream",
          "text": [
            "[Parallel(n_jobs=-1)]: Using backend ThreadingBackend with 40 concurrent workers.\n"
          ],
          "name": "stderr"
        },
        {
          "output_type": "stream",
          "text": [
            "building tree 15 of 100\n",
            "building tree 16 of 100building tree 17 of 100\n",
            "building tree 18 of 100\n",
            "building tree 19 of 100\n",
            "building tree 20 of 100\n",
            "\n",
            "building tree 21 of 100\n",
            "building tree 22 of 100\n",
            "building tree 23 of 100\n",
            "building tree 24 of 100\n",
            "building tree 25 of 100\n",
            "building tree 26 of 100\n",
            "building tree 27 of 100\n",
            "building tree 28 of 100\n",
            "building tree 29 of 100\n",
            "building tree 30 of 100\n",
            "building tree 31 of 100\n",
            "building tree 32 of 100\n",
            "building tree 33 of 100\n",
            "building tree 34 of 100\n",
            "building tree 35 of 100\n",
            "building tree 36 of 100\n",
            "building tree 37 of 100\n",
            "building tree 38 of 100\n",
            "building tree 39 of 100building tree 40 of 100\n",
            "\n",
            "building tree 41 of 100\n",
            "building tree 42 of 100\n",
            "building tree 43 of 100\n",
            "building tree 44 of 100\n",
            "building tree 45 of 100\n"
          ],
          "name": "stdout"
        },
        {
          "output_type": "stream",
          "text": [
            "[Parallel(n_jobs=-1)]: Done   5 tasks      | elapsed:   34.3s\n"
          ],
          "name": "stderr"
        },
        {
          "output_type": "stream",
          "text": [
            "building tree 46 of 100\n",
            "building tree 47 of 100\n",
            "building tree 48 of 100\n",
            "building tree 49 of 100\n",
            "building tree 50 of 100\n",
            "building tree 51 of 100\n",
            "building tree 52 of 100\n",
            "building tree 53 of 100\n",
            "building tree 54 of 100\n",
            "building tree 55 of 100\n",
            "building tree 56 of 100\n",
            "building tree 57 of 100\n",
            "building tree 58 of 100\n",
            "building tree 59 of 100\n",
            "building tree 60 of 100\n"
          ],
          "name": "stdout"
        },
        {
          "output_type": "stream",
          "text": [
            "[Parallel(n_jobs=-1)]: Done  18 tasks      | elapsed:   35.5s\n"
          ],
          "name": "stderr"
        },
        {
          "output_type": "stream",
          "text": [
            "building tree 61 of 100\n",
            "building tree 62 of 100\n",
            "building tree 63 of 100\n",
            "building tree 64 of 100\n",
            "building tree 65 of 100\n",
            "building tree 66 of 100\n",
            "building tree 67 of 100\n",
            "building tree 68 of 100\n",
            "building tree 69 of 100\n",
            "building tree 70 of 100\n",
            "building tree 71 of 100\n",
            "building tree 72 of 100\n"
          ],
          "name": "stdout"
        },
        {
          "output_type": "stream",
          "text": [
            "[Parallel(n_jobs=-1)]: Done  32 out of 100 | elapsed:   36.4s remaining:  1.3min\n"
          ],
          "name": "stderr"
        },
        {
          "output_type": "stream",
          "text": [
            "building tree 73 of 100\n",
            "building tree 74 of 100\n",
            "building tree 75 of 100\n",
            "building tree 76 of 100\n",
            "building tree 77 of 100\n",
            "building tree 78 of 100\n",
            "building tree 79 of 100\n",
            "building tree 80 of 100\n",
            "building tree 81 of 100\n",
            "building tree 82 of 100\n"
          ],
          "name": "stdout"
        },
        {
          "output_type": "stream",
          "text": [
            "[Parallel(n_jobs=-1)]: Done  43 out of 100 | elapsed:  1.1min remaining:  1.5min\n"
          ],
          "name": "stderr"
        },
        {
          "output_type": "stream",
          "text": [
            "building tree 83 of 100\n",
            "building tree 84 of 100\n",
            "building tree 85 of 100\n",
            "building tree 86 of 100\n",
            "building tree 87 of 100\n",
            "building tree 88 of 100\n",
            "building tree 89 of 100\n",
            "building tree 90 of 100\n",
            "building tree 91 of 100\n",
            "building tree 92 of 100\n",
            "building tree 93 of 100\n",
            "building tree 94 of 100\n",
            "building tree 95 of 100\n"
          ],
          "name": "stdout"
        },
        {
          "output_type": "stream",
          "text": [
            "[Parallel(n_jobs=-1)]: Done  54 out of 100 | elapsed:  1.2min remaining:  1.0min\n"
          ],
          "name": "stderr"
        },
        {
          "output_type": "stream",
          "text": [
            "building tree 96 of 100\n",
            "building tree 97 of 100\n",
            "building tree 98 of 100\n",
            "building tree 99 of 100\n",
            "building tree 100 of 100\n"
          ],
          "name": "stdout"
        },
        {
          "output_type": "stream",
          "text": [
            "[Parallel(n_jobs=-1)]: Done  65 out of 100 | elapsed:  1.2min remaining:   38.5s\n",
            "[Parallel(n_jobs=-1)]: Done  76 out of 100 | elapsed:  1.2min remaining:   23.1s\n",
            "[Parallel(n_jobs=-1)]: Done  87 out of 100 | elapsed:  1.4min remaining:   13.0s\n",
            "[Parallel(n_jobs=-1)]: Done  98 out of 100 | elapsed:  1.5min remaining:    1.8s\n",
            "[Parallel(n_jobs=-1)]: Done 100 out of 100 | elapsed:  1.5min finished\n",
            "[Parallel(n_jobs=40)]: Using backend ThreadingBackend with 40 concurrent workers.\n"
          ],
          "name": "stderr"
        },
        {
          "output_type": "stream",
          "text": [
            "Typo_Stopword - 3 Trained\n"
          ],
          "name": "stdout"
        },
        {
          "output_type": "stream",
          "text": [
            "[Parallel(n_jobs=40)]: Done   5 tasks      | elapsed:    1.2s\n",
            "[Parallel(n_jobs=40)]: Done  18 tasks      | elapsed:    1.2s\n",
            "[Parallel(n_jobs=40)]: Done  32 out of 100 | elapsed:    1.3s remaining:    2.7s\n",
            "[Parallel(n_jobs=40)]: Done  43 out of 100 | elapsed:    2.4s remaining:    3.1s\n",
            "[Parallel(n_jobs=40)]: Done  54 out of 100 | elapsed:    2.4s remaining:    2.1s\n",
            "[Parallel(n_jobs=40)]: Done  65 out of 100 | elapsed:    2.5s remaining:    1.3s\n",
            "[Parallel(n_jobs=40)]: Done  76 out of 100 | elapsed:    2.5s remaining:    0.8s\n",
            "[Parallel(n_jobs=40)]: Done  87 out of 100 | elapsed:    3.4s remaining:    0.5s\n",
            "[Parallel(n_jobs=40)]: Done  98 out of 100 | elapsed:    3.4s remaining:    0.1s\n",
            "[Parallel(n_jobs=40)]: Done 100 out of 100 | elapsed:    3.5s finished\n",
            "[Parallel(n_jobs=40)]: Using backend ThreadingBackend with 40 concurrent workers.\n",
            "[Parallel(n_jobs=40)]: Done   5 tasks      | elapsed:    1.2s\n",
            "[Parallel(n_jobs=40)]: Done  18 tasks      | elapsed:    1.3s\n",
            "[Parallel(n_jobs=40)]: Done  32 out of 100 | elapsed:    1.3s remaining:    2.8s\n",
            "[Parallel(n_jobs=40)]: Done  43 out of 100 | elapsed:    2.4s remaining:    3.2s\n",
            "[Parallel(n_jobs=40)]: Done  54 out of 100 | elapsed:    2.4s remaining:    2.1s\n",
            "[Parallel(n_jobs=40)]: Done  65 out of 100 | elapsed:    2.5s remaining:    1.3s\n",
            "[Parallel(n_jobs=40)]: Done  76 out of 100 | elapsed:    2.6s remaining:    0.8s\n",
            "[Parallel(n_jobs=40)]: Done  87 out of 100 | elapsed:    3.4s remaining:    0.5s\n",
            "[Parallel(n_jobs=40)]: Done  98 out of 100 | elapsed:    3.5s remaining:    0.1s\n",
            "[Parallel(n_jobs=40)]: Done 100 out of 100 | elapsed:    3.5s finished\n",
            "[Parallel(n_jobs=40)]: Using backend ThreadingBackend with 40 concurrent workers.\n",
            "[Parallel(n_jobs=40)]: Done   5 tasks      | elapsed:    0.3s\n",
            "[Parallel(n_jobs=40)]: Done  18 tasks      | elapsed:    0.3s\n",
            "[Parallel(n_jobs=40)]: Done  32 out of 100 | elapsed:    0.3s remaining:    0.7s\n",
            "[Parallel(n_jobs=40)]: Done  43 out of 100 | elapsed:    0.6s remaining:    0.8s\n",
            "[Parallel(n_jobs=40)]: Done  54 out of 100 | elapsed:    0.6s remaining:    0.6s\n",
            "[Parallel(n_jobs=40)]: Done  65 out of 100 | elapsed:    0.7s remaining:    0.4s\n",
            "[Parallel(n_jobs=40)]: Done  76 out of 100 | elapsed:    0.7s remaining:    0.2s\n",
            "[Parallel(n_jobs=40)]: Done  87 out of 100 | elapsed:    0.9s remaining:    0.1s\n",
            "[Parallel(n_jobs=40)]: Done  98 out of 100 | elapsed:    0.9s remaining:    0.0s\n",
            "[Parallel(n_jobs=40)]: Done 100 out of 100 | elapsed:    0.9s finished\n",
            "[Parallel(n_jobs=40)]: Using backend ThreadingBackend with 40 concurrent workers.\n",
            "[Parallel(n_jobs=40)]: Done   5 tasks      | elapsed:    0.3s\n",
            "[Parallel(n_jobs=40)]: Done  18 tasks      | elapsed:    0.3s\n",
            "[Parallel(n_jobs=40)]: Done  32 out of 100 | elapsed:    0.4s remaining:    0.7s\n",
            "[Parallel(n_jobs=40)]: Done  43 out of 100 | elapsed:    0.6s remaining:    0.8s\n",
            "[Parallel(n_jobs=40)]: Done  54 out of 100 | elapsed:    0.6s remaining:    0.5s\n",
            "[Parallel(n_jobs=40)]: Done  65 out of 100 | elapsed:    0.7s remaining:    0.4s\n",
            "[Parallel(n_jobs=40)]: Done  76 out of 100 | elapsed:    0.7s remaining:    0.2s\n",
            "[Parallel(n_jobs=40)]: Done  87 out of 100 | elapsed:    0.9s remaining:    0.1s\n",
            "[Parallel(n_jobs=40)]: Done  98 out of 100 | elapsed:    0.9s remaining:    0.0s\n",
            "[Parallel(n_jobs=40)]: Done 100 out of 100 | elapsed:    0.9s finished\n"
          ],
          "name": "stderr"
        },
        {
          "output_type": "stream",
          "text": [
            "Typo_Stopword - 3 Inferenced : 1.0350682735443115s\ttrain ACC : 0.9914955476004462 test ACC : 0.9225267805780563 test F1 : 0.8031757317217679\n",
            "building tree 1 of 100\n",
            "building tree 2 of 100\n",
            "building tree 3 of 100\n",
            "building tree 4 of 100\n",
            "building tree 5 of 100\n",
            "building tree 6 of 100\n",
            "building tree 7 of 100\n",
            "building tree 8 of 100\n",
            "building tree 9 of 100\n",
            "building tree 10 of 100\n",
            "building tree 11 of 100building tree 12 of 100\n",
            "\n",
            "building tree 13 of 100building tree 14 of 100\n"
          ],
          "name": "stdout"
        },
        {
          "output_type": "stream",
          "text": [
            "[Parallel(n_jobs=-1)]: Using backend ThreadingBackend with 40 concurrent workers.\n"
          ],
          "name": "stderr"
        },
        {
          "output_type": "stream",
          "text": [
            "building tree 15 of 100\n",
            "\n",
            "building tree 16 of 100\n",
            "building tree 17 of 100\n",
            "building tree 18 of 100\n",
            "building tree 19 of 100\n",
            "building tree 20 of 100\n",
            "building tree 21 of 100\n",
            "building tree 22 of 100\n",
            "building tree 23 of 100\n",
            "building tree 24 of 100\n",
            "building tree 25 of 100\n",
            "building tree 26 of 100\n",
            "building tree 27 of 100\n",
            "building tree 28 of 100\n",
            "building tree 29 of 100\n",
            "building tree 30 of 100\n",
            "building tree 31 of 100\n",
            "building tree 32 of 100\n",
            "building tree 33 of 100\n",
            "building tree 34 of 100\n",
            "building tree 35 of 100\n",
            "building tree 36 of 100\n",
            "building tree 37 of 100\n",
            "building tree 38 of 100\n",
            "building tree 39 of 100\n",
            "building tree 40 of 100\n",
            "building tree 41 of 100\n",
            "building tree 42 of 100\n",
            "building tree 43 of 100\n",
            "building tree 44 of 100\n",
            "building tree 45 of 100\n",
            "building tree 46 of 100\n"
          ],
          "name": "stdout"
        },
        {
          "output_type": "stream",
          "text": [
            "[Parallel(n_jobs=-1)]: Done   5 tasks      | elapsed:   34.9s\n"
          ],
          "name": "stderr"
        },
        {
          "output_type": "stream",
          "text": [
            "building tree 47 of 100\n",
            "building tree 48 of 100\n",
            "building tree 49 of 100\n",
            "building tree 50 of 100\n",
            "building tree 51 of 100\n",
            "building tree 52 of 100\n",
            "building tree 53 of 100\n",
            "building tree 54 of 100\n",
            "building tree 55 of 100\n",
            "building tree 56 of 100\n",
            "building tree 57 of 100\n",
            "building tree 58 of 100\n",
            "building tree 59 of 100\n",
            "building tree 60 of 100\n",
            "building tree 61 of 100\n",
            "building tree 62 of 100\n"
          ],
          "name": "stdout"
        },
        {
          "output_type": "stream",
          "text": [
            "[Parallel(n_jobs=-1)]: Done  18 tasks      | elapsed:   35.8s\n"
          ],
          "name": "stderr"
        },
        {
          "output_type": "stream",
          "text": [
            "building tree 63 of 100\n",
            "building tree 64 of 100\n",
            "building tree 65 of 100\n",
            "building tree 66 of 100\n",
            "building tree 67 of 100\n",
            "building tree 68 of 100\n",
            "building tree 69 of 100\n",
            "building tree 70 of 100\n",
            "building tree 71 of 100\n",
            "building tree 72 of 100\n",
            "building tree 73 of 100\n"
          ],
          "name": "stdout"
        },
        {
          "output_type": "stream",
          "text": [
            "[Parallel(n_jobs=-1)]: Done  32 out of 100 | elapsed:   36.2s remaining:  1.3min\n"
          ],
          "name": "stderr"
        },
        {
          "output_type": "stream",
          "text": [
            "building tree 74 of 100\n",
            "building tree 75 of 100\n",
            "building tree 76 of 100\n",
            "building tree 77 of 100\n",
            "building tree 78 of 100\n",
            "building tree 79 of 100\n",
            "building tree 80 of 100\n",
            "building tree 81 of 100\n",
            "building tree 82 of 100\n",
            "building tree 83 of 100\n"
          ],
          "name": "stdout"
        },
        {
          "output_type": "stream",
          "text": [
            "[Parallel(n_jobs=-1)]: Done  43 out of 100 | elapsed:  1.2min remaining:  1.5min\n"
          ],
          "name": "stderr"
        },
        {
          "output_type": "stream",
          "text": [
            "building tree 84 of 100\n",
            "building tree 85 of 100\n",
            "building tree 86 of 100\n",
            "building tree 87 of 100\n",
            "building tree 88 of 100\n",
            "building tree 89 of 100\n",
            "building tree 90 of 100\n",
            "building tree 91 of 100\n",
            "building tree 92 of 100\n",
            "building tree 93 of 100\n"
          ],
          "name": "stdout"
        },
        {
          "output_type": "stream",
          "text": [
            "[Parallel(n_jobs=-1)]: Done  54 out of 100 | elapsed:  1.2min remaining:  1.0min\n"
          ],
          "name": "stderr"
        },
        {
          "output_type": "stream",
          "text": [
            "building tree 94 of 100\n",
            "building tree 95 of 100\n",
            "building tree 96 of 100\n",
            "building tree 97 of 100\n",
            "building tree 98 of 100\n",
            "building tree 99 of 100\n",
            "building tree 100 of 100\n"
          ],
          "name": "stdout"
        },
        {
          "output_type": "stream",
          "text": [
            "[Parallel(n_jobs=-1)]: Done  65 out of 100 | elapsed:  1.2min remaining:   38.8s\n",
            "[Parallel(n_jobs=-1)]: Done  76 out of 100 | elapsed:  1.2min remaining:   23.1s\n",
            "[Parallel(n_jobs=-1)]: Done  87 out of 100 | elapsed:  1.5min remaining:   13.1s\n",
            "[Parallel(n_jobs=-1)]: Done  98 out of 100 | elapsed:  1.5min remaining:    1.8s\n",
            "[Parallel(n_jobs=-1)]: Done 100 out of 100 | elapsed:  1.5min finished\n",
            "[Parallel(n_jobs=40)]: Using backend ThreadingBackend with 40 concurrent workers.\n"
          ],
          "name": "stderr"
        },
        {
          "output_type": "stream",
          "text": [
            "Typo_Stopword - 4 Trained\n"
          ],
          "name": "stdout"
        },
        {
          "output_type": "stream",
          "text": [
            "[Parallel(n_jobs=40)]: Done   5 tasks      | elapsed:    1.2s\n",
            "[Parallel(n_jobs=40)]: Done  18 tasks      | elapsed:    1.2s\n",
            "[Parallel(n_jobs=40)]: Done  32 out of 100 | elapsed:    1.3s remaining:    2.7s\n",
            "[Parallel(n_jobs=40)]: Done  43 out of 100 | elapsed:    2.4s remaining:    3.1s\n",
            "[Parallel(n_jobs=40)]: Done  54 out of 100 | elapsed:    2.4s remaining:    2.1s\n",
            "[Parallel(n_jobs=40)]: Done  65 out of 100 | elapsed:    2.5s remaining:    1.3s\n",
            "[Parallel(n_jobs=40)]: Done  76 out of 100 | elapsed:    2.5s remaining:    0.8s\n",
            "[Parallel(n_jobs=40)]: Done  87 out of 100 | elapsed:    3.4s remaining:    0.5s\n",
            "[Parallel(n_jobs=40)]: Done  98 out of 100 | elapsed:    3.5s remaining:    0.1s\n",
            "[Parallel(n_jobs=40)]: Done 100 out of 100 | elapsed:    3.5s finished\n",
            "[Parallel(n_jobs=40)]: Using backend ThreadingBackend with 40 concurrent workers.\n",
            "[Parallel(n_jobs=40)]: Done   5 tasks      | elapsed:    1.2s\n",
            "[Parallel(n_jobs=40)]: Done  18 tasks      | elapsed:    1.2s\n",
            "[Parallel(n_jobs=40)]: Done  32 out of 100 | elapsed:    1.3s remaining:    2.7s\n",
            "[Parallel(n_jobs=40)]: Done  43 out of 100 | elapsed:    2.4s remaining:    3.2s\n",
            "[Parallel(n_jobs=40)]: Done  54 out of 100 | elapsed:    2.5s remaining:    2.1s\n",
            "[Parallel(n_jobs=40)]: Done  65 out of 100 | elapsed:    2.5s remaining:    1.4s\n",
            "[Parallel(n_jobs=40)]: Done  76 out of 100 | elapsed:    2.6s remaining:    0.8s\n",
            "[Parallel(n_jobs=40)]: Done  87 out of 100 | elapsed:    3.5s remaining:    0.5s\n",
            "[Parallel(n_jobs=40)]: Done  98 out of 100 | elapsed:    3.5s remaining:    0.1s\n",
            "[Parallel(n_jobs=40)]: Done 100 out of 100 | elapsed:    3.6s finished\n",
            "[Parallel(n_jobs=40)]: Using backend ThreadingBackend with 40 concurrent workers.\n",
            "[Parallel(n_jobs=40)]: Done   5 tasks      | elapsed:    0.3s\n",
            "[Parallel(n_jobs=40)]: Done  18 tasks      | elapsed:    0.3s\n",
            "[Parallel(n_jobs=40)]: Done  32 out of 100 | elapsed:    0.3s remaining:    0.7s\n",
            "[Parallel(n_jobs=40)]: Done  43 out of 100 | elapsed:    0.6s remaining:    0.8s\n",
            "[Parallel(n_jobs=40)]: Done  54 out of 100 | elapsed:    0.6s remaining:    0.5s\n",
            "[Parallel(n_jobs=40)]: Done  65 out of 100 | elapsed:    0.6s remaining:    0.3s\n",
            "[Parallel(n_jobs=40)]: Done  76 out of 100 | elapsed:    0.7s remaining:    0.2s\n",
            "[Parallel(n_jobs=40)]: Done  87 out of 100 | elapsed:    0.9s remaining:    0.1s\n",
            "[Parallel(n_jobs=40)]: Done  98 out of 100 | elapsed:    0.9s remaining:    0.0s\n",
            "[Parallel(n_jobs=40)]: Done 100 out of 100 | elapsed:    0.9s finished\n",
            "[Parallel(n_jobs=40)]: Using backend ThreadingBackend with 40 concurrent workers.\n",
            "[Parallel(n_jobs=40)]: Done   5 tasks      | elapsed:    0.9s\n",
            "[Parallel(n_jobs=40)]: Done  18 tasks      | elapsed:    0.9s\n",
            "[Parallel(n_jobs=40)]: Done  32 out of 100 | elapsed:    0.9s remaining:    2.0s\n",
            "[Parallel(n_jobs=40)]: Done  43 out of 100 | elapsed:    1.2s remaining:    1.6s\n",
            "[Parallel(n_jobs=40)]: Done  54 out of 100 | elapsed:    1.2s remaining:    1.0s\n",
            "[Parallel(n_jobs=40)]: Done  65 out of 100 | elapsed:    1.2s remaining:    0.7s\n",
            "[Parallel(n_jobs=40)]: Done  76 out of 100 | elapsed:    1.2s remaining:    0.4s\n",
            "[Parallel(n_jobs=40)]: Done  87 out of 100 | elapsed:    1.4s remaining:    0.2s\n",
            "[Parallel(n_jobs=40)]: Done  98 out of 100 | elapsed:    1.5s remaining:    0.0s\n",
            "[Parallel(n_jobs=40)]: Done 100 out of 100 | elapsed:    1.5s finished\n"
          ],
          "name": "stderr"
        },
        {
          "output_type": "stream",
          "text": [
            "Typo_Stopword - 4 Inferenced : 1.03666090965271s\ttrain ACC : 0.9911884855622539 test ACC : 0.9215628352430852 test F1 : 0.8009469323337935\n",
            "building tree 1 of 100\n",
            "building tree 2 of 100\n",
            "building tree 3 of 100\n",
            "building tree 4 of 100\n",
            "building tree 5 of 100building tree 6 of 100\n",
            "building tree 7 of 100\n",
            "\n",
            "building tree 8 of 100\n",
            "building tree 9 of 100\n",
            "building tree 10 of 100\n"
          ],
          "name": "stdout"
        },
        {
          "output_type": "stream",
          "text": [
            "[Parallel(n_jobs=-1)]: Using backend ThreadingBackend with 40 concurrent workers.\n"
          ],
          "name": "stderr"
        },
        {
          "output_type": "stream",
          "text": [
            "building tree 11 of 100\n",
            "building tree 12 of 100\n",
            "building tree 13 of 100\n",
            "building tree 14 of 100\n",
            "building tree 15 of 100\n",
            "building tree 16 of 100\n",
            "building tree 17 of 100\n",
            "building tree 18 of 100\n",
            "building tree 19 of 100\n",
            "building tree 20 of 100\n",
            "building tree 21 of 100\n",
            "building tree 22 of 100\n",
            "building tree 23 of 100\n",
            "building tree 24 of 100\n",
            "building tree 25 of 100\n",
            "building tree 26 of 100\n",
            "building tree 27 of 100\n",
            "building tree 28 of 100\n",
            "building tree 29 of 100\n",
            "building tree 30 of 100\n",
            "building tree 31 of 100\n",
            "building tree 32 of 100\n",
            "building tree 33 of 100\n",
            "building tree 34 of 100\n",
            "building tree 35 of 100building tree 36 of 100\n",
            "building tree 37 of 100\n",
            "\n",
            "building tree 38 of 100\n",
            "building tree 39 of 100\n",
            "building tree 40 of 100\n",
            "building tree 41 of 100\n",
            "building tree 42 of 100\n",
            "building tree 43 of 100\n",
            "building tree 44 of 100\n"
          ],
          "name": "stdout"
        },
        {
          "output_type": "stream",
          "text": [
            "[Parallel(n_jobs=-1)]: Done   5 tasks      | elapsed:   34.8s\n"
          ],
          "name": "stderr"
        },
        {
          "output_type": "stream",
          "text": [
            "building tree 45 of 100\n",
            "building tree 46 of 100\n",
            "building tree 47 of 100\n",
            "building tree 48 of 100\n",
            "building tree 49 of 100\n",
            "building tree 50 of 100\n",
            "building tree 51 of 100\n",
            "building tree 52 of 100\n",
            "building tree 53 of 100\n",
            "building tree 54 of 100\n",
            "building tree 55 of 100\n",
            "building tree 56 of 100\n",
            "building tree 57 of 100\n",
            "building tree 58 of 100\n"
          ],
          "name": "stdout"
        },
        {
          "output_type": "stream",
          "text": [
            "[Parallel(n_jobs=-1)]: Done  18 tasks      | elapsed:   35.8s\n"
          ],
          "name": "stderr"
        },
        {
          "output_type": "stream",
          "text": [
            "building tree 59 of 100\n",
            "building tree 60 of 100\n",
            "building tree 61 of 100\n",
            "building tree 62 of 100\n",
            "building tree 63 of 100\n",
            "building tree 64 of 100\n",
            "building tree 65 of 100\n",
            "building tree 66 of 100\n",
            "building tree 67 of 100\n",
            "building tree 68 of 100building tree 69 of 100\n",
            "\n",
            "building tree 70 of 100\n",
            "building tree 71 of 100\n"
          ],
          "name": "stdout"
        },
        {
          "output_type": "stream",
          "text": [
            "[Parallel(n_jobs=-1)]: Done  32 out of 100 | elapsed:   36.7s remaining:  1.3min\n"
          ],
          "name": "stderr"
        },
        {
          "output_type": "stream",
          "text": [
            "building tree 72 of 100\n",
            "building tree 73 of 100\n",
            "building tree 74 of 100\n",
            "building tree 75 of 100\n",
            "building tree 76 of 100\n",
            "building tree 77 of 100\n",
            "building tree 78 of 100\n",
            "building tree 79 of 100\n",
            "building tree 80 of 100\n",
            "building tree 81 of 100\n",
            "building tree 82 of 100\n"
          ],
          "name": "stdout"
        },
        {
          "output_type": "stream",
          "text": [
            "[Parallel(n_jobs=-1)]: Done  43 out of 100 | elapsed:  1.2min remaining:  1.5min\n"
          ],
          "name": "stderr"
        },
        {
          "output_type": "stream",
          "text": [
            "building tree 83 of 100\n",
            "building tree 84 of 100\n",
            "building tree 85 of 100\n",
            "building tree 86 of 100\n",
            "building tree 87 of 100\n",
            "building tree 88 of 100\n",
            "building tree 89 of 100\n",
            "building tree 90 of 100\n",
            "building tree 91 of 100\n",
            "building tree 92 of 100\n",
            "building tree 93 of 100\n",
            "building tree 94 of 100\n",
            "building tree 95 of 100\n",
            "building tree 96 of 100\n",
            "building tree 97 of 100"
          ],
          "name": "stdout"
        },
        {
          "output_type": "stream",
          "text": [
            "[Parallel(n_jobs=-1)]: Done  54 out of 100 | elapsed:  1.2min remaining:  1.0min\n"
          ],
          "name": "stderr"
        },
        {
          "output_type": "stream",
          "text": [
            "\n",
            "building tree 98 of 100\n",
            "building tree 99 of 100\n",
            "building tree 100 of 100\n"
          ],
          "name": "stdout"
        },
        {
          "output_type": "stream",
          "text": [
            "[Parallel(n_jobs=-1)]: Done  65 out of 100 | elapsed:  1.2min remaining:   38.8s\n",
            "[Parallel(n_jobs=-1)]: Done  76 out of 100 | elapsed:  1.2min remaining:   23.0s\n",
            "[Parallel(n_jobs=-1)]: Done  87 out of 100 | elapsed:  1.5min remaining:   13.1s\n",
            "[Parallel(n_jobs=-1)]: Done  98 out of 100 | elapsed:  1.5min remaining:    1.8s\n",
            "[Parallel(n_jobs=-1)]: Done 100 out of 100 | elapsed:  1.5min finished\n",
            "[Parallel(n_jobs=40)]: Using backend ThreadingBackend with 40 concurrent workers.\n"
          ],
          "name": "stderr"
        },
        {
          "output_type": "stream",
          "text": [
            "Typo_Stopword - 5 Trained\n"
          ],
          "name": "stdout"
        },
        {
          "output_type": "stream",
          "text": [
            "[Parallel(n_jobs=40)]: Done   5 tasks      | elapsed:    1.2s\n",
            "[Parallel(n_jobs=40)]: Done  18 tasks      | elapsed:    1.2s\n",
            "[Parallel(n_jobs=40)]: Done  32 out of 100 | elapsed:    1.2s remaining:    2.7s\n",
            "[Parallel(n_jobs=40)]: Done  43 out of 100 | elapsed:    2.3s remaining:    3.1s\n",
            "[Parallel(n_jobs=40)]: Done  54 out of 100 | elapsed:    2.4s remaining:    2.1s\n",
            "[Parallel(n_jobs=40)]: Done  65 out of 100 | elapsed:    2.5s remaining:    1.3s\n",
            "[Parallel(n_jobs=40)]: Done  76 out of 100 | elapsed:    2.5s remaining:    0.8s\n",
            "[Parallel(n_jobs=40)]: Done  87 out of 100 | elapsed:    3.4s remaining:    0.5s\n",
            "[Parallel(n_jobs=40)]: Done  98 out of 100 | elapsed:    3.4s remaining:    0.1s\n",
            "[Parallel(n_jobs=40)]: Done 100 out of 100 | elapsed:    3.5s finished\n",
            "[Parallel(n_jobs=40)]: Using backend ThreadingBackend with 40 concurrent workers.\n",
            "[Parallel(n_jobs=40)]: Done   5 tasks      | elapsed:    1.2s\n",
            "[Parallel(n_jobs=40)]: Done  18 tasks      | elapsed:    1.2s\n",
            "[Parallel(n_jobs=40)]: Done  32 out of 100 | elapsed:    1.2s remaining:    2.6s\n",
            "[Parallel(n_jobs=40)]: Done  43 out of 100 | elapsed:    2.3s remaining:    3.1s\n",
            "[Parallel(n_jobs=40)]: Done  54 out of 100 | elapsed:    2.4s remaining:    2.0s\n",
            "[Parallel(n_jobs=40)]: Done  65 out of 100 | elapsed:    2.4s remaining:    1.3s\n",
            "[Parallel(n_jobs=40)]: Done  76 out of 100 | elapsed:    2.5s remaining:    0.8s\n",
            "[Parallel(n_jobs=40)]: Done  87 out of 100 | elapsed:    3.4s remaining:    0.5s\n",
            "[Parallel(n_jobs=40)]: Done  98 out of 100 | elapsed:    3.4s remaining:    0.1s\n",
            "[Parallel(n_jobs=40)]: Done 100 out of 100 | elapsed:    3.5s finished\n",
            "[Parallel(n_jobs=40)]: Using backend ThreadingBackend with 40 concurrent workers.\n",
            "[Parallel(n_jobs=40)]: Done   5 tasks      | elapsed:    0.3s\n",
            "[Parallel(n_jobs=40)]: Done  18 tasks      | elapsed:    0.3s\n",
            "[Parallel(n_jobs=40)]: Done  32 out of 100 | elapsed:    0.3s remaining:    0.7s\n",
            "[Parallel(n_jobs=40)]: Done  43 out of 100 | elapsed:    0.6s remaining:    0.8s\n",
            "[Parallel(n_jobs=40)]: Done  54 out of 100 | elapsed:    0.6s remaining:    0.5s\n",
            "[Parallel(n_jobs=40)]: Done  65 out of 100 | elapsed:    0.7s remaining:    0.4s\n",
            "[Parallel(n_jobs=40)]: Done  76 out of 100 | elapsed:    0.7s remaining:    0.2s\n",
            "[Parallel(n_jobs=40)]: Done  87 out of 100 | elapsed:    0.9s remaining:    0.1s\n",
            "[Parallel(n_jobs=40)]: Done  98 out of 100 | elapsed:    0.9s remaining:    0.0s\n",
            "[Parallel(n_jobs=40)]: Done 100 out of 100 | elapsed:    0.9s finished\n",
            "[Parallel(n_jobs=40)]: Using backend ThreadingBackend with 40 concurrent workers.\n",
            "[Parallel(n_jobs=40)]: Done   5 tasks      | elapsed:    0.3s\n",
            "[Parallel(n_jobs=40)]: Done  18 tasks      | elapsed:    0.3s\n",
            "[Parallel(n_jobs=40)]: Done  32 out of 100 | elapsed:    0.3s remaining:    0.7s\n",
            "[Parallel(n_jobs=40)]: Done  43 out of 100 | elapsed:    0.6s remaining:    0.8s\n",
            "[Parallel(n_jobs=40)]: Done  54 out of 100 | elapsed:    0.6s remaining:    0.5s\n",
            "[Parallel(n_jobs=40)]: Done  65 out of 100 | elapsed:    0.7s remaining:    0.4s\n",
            "[Parallel(n_jobs=40)]: Done  76 out of 100 | elapsed:    0.7s remaining:    0.2s\n",
            "[Parallel(n_jobs=40)]: Done  87 out of 100 | elapsed:    0.9s remaining:    0.1s\n",
            "[Parallel(n_jobs=40)]: Done  98 out of 100 | elapsed:    0.9s remaining:    0.0s\n",
            "[Parallel(n_jobs=40)]: Done 100 out of 100 | elapsed:    0.9s finished\n"
          ],
          "name": "stderr"
        },
        {
          "output_type": "stream",
          "text": [
            "Typo_Stopword - 5 Inferenced : 1.035118579864502s\ttrain ACC : 0.9913245257057568 test ACC : 0.9205833424027114 test F1 : 0.7989134713802064\n",
            "building tree 1 of 100\n",
            "building tree 2 of 100\n",
            "building tree 3 of 100\n",
            "building tree 4 of 100\n",
            "building tree 5 of 100\n",
            "building tree 6 of 100\n",
            "building tree 7 of 100\n",
            "building tree 8 of 100\n",
            "building tree 9 of 100\n",
            "building tree 10 of 100\n",
            "building tree 11 of 100\n",
            "building tree 12 of 100\n",
            "building tree 13 of 100\n",
            "building tree 14 of 100\n",
            "building tree 15 of 100\n",
            "building tree 16 of 100\n",
            "building tree 17 of 100\n",
            "building tree 18 of 100\n",
            "building tree 19 of 100\n"
          ],
          "name": "stdout"
        },
        {
          "output_type": "stream",
          "text": [
            "[Parallel(n_jobs=-1)]: Using backend ThreadingBackend with 40 concurrent workers.\n"
          ],
          "name": "stderr"
        },
        {
          "output_type": "stream",
          "text": [
            "building tree 20 of 100\n",
            "building tree 21 of 100\n",
            "building tree 22 of 100\n",
            "building tree 23 of 100\n",
            "building tree 24 of 100\n",
            "building tree 25 of 100building tree 26 of 100\n",
            "\n",
            "building tree 27 of 100\n",
            "building tree 28 of 100\n",
            "building tree 29 of 100\n",
            "building tree 30 of 100\n",
            "building tree 31 of 100\n",
            "building tree 32 of 100\n",
            "building tree 33 of 100\n",
            "building tree 34 of 100\n",
            "building tree 35 of 100\n",
            "building tree 36 of 100\n",
            "building tree 37 of 100\n",
            "building tree 38 of 100\n",
            "building tree 39 of 100\n",
            "building tree 40 of 100\n",
            "building tree 41 of 100\n",
            "building tree 42 of 100\n",
            "building tree 43 of 100\n",
            "building tree 44 of 100\n"
          ],
          "name": "stdout"
        },
        {
          "output_type": "stream",
          "text": [
            "[Parallel(n_jobs=-1)]: Done   5 tasks      | elapsed:   31.6s\n"
          ],
          "name": "stderr"
        },
        {
          "output_type": "stream",
          "text": [
            "building tree 45 of 100\n",
            "building tree 46 of 100\n",
            "building tree 47 of 100\n",
            "building tree 48 of 100\n",
            "building tree 49 of 100\n",
            "building tree 50 of 100\n",
            "building tree 51 of 100\n",
            "building tree 52 of 100\n",
            "building tree 53 of 100\n",
            "building tree 54 of 100\n",
            "building tree 55 of 100\n",
            "building tree 56 of 100\n",
            "building tree 57 of 100\n",
            "building tree 58 of 100\n",
            "building tree 59 of 100\n",
            "building tree 60 of 100\n",
            "building tree 61 of 100\n",
            "building tree 62 of 100\n"
          ],
          "name": "stdout"
        },
        {
          "output_type": "stream",
          "text": [
            "[Parallel(n_jobs=-1)]: Done  18 tasks      | elapsed:   32.7s\n"
          ],
          "name": "stderr"
        },
        {
          "output_type": "stream",
          "text": [
            "building tree 63 of 100\n",
            "building tree 64 of 100\n",
            "building tree 65 of 100\n",
            "building tree 66 of 100\n",
            "building tree 67 of 100\n",
            "building tree 68 of 100\n",
            "building tree 69 of 100\n",
            "building tree 70 of 100\n",
            "building tree 71 of 100\n",
            "building tree 72 of 100\n",
            "building tree 73 of 100\n"
          ],
          "name": "stdout"
        },
        {
          "output_type": "stream",
          "text": [
            "[Parallel(n_jobs=-1)]: Done  32 out of 100 | elapsed:   33.8s remaining:  1.2min\n"
          ],
          "name": "stderr"
        },
        {
          "output_type": "stream",
          "text": [
            "building tree 74 of 100\n",
            "building tree 75 of 100\n",
            "building tree 76 of 100\n",
            "building tree 77 of 100\n",
            "building tree 78 of 100\n",
            "building tree 79 of 100\n",
            "building tree 80 of 100\n",
            "building tree 81 of 100\n",
            "building tree 82 of 100\n"
          ],
          "name": "stdout"
        },
        {
          "output_type": "stream",
          "text": [
            "[Parallel(n_jobs=-1)]: Done  43 out of 100 | elapsed:  1.0min remaining:  1.4min\n"
          ],
          "name": "stderr"
        },
        {
          "output_type": "stream",
          "text": [
            "building tree 83 of 100\n",
            "building tree 84 of 100\n",
            "building tree 85 of 100\n",
            "building tree 86 of 100\n",
            "building tree 87 of 100\n",
            "building tree 88 of 100\n",
            "building tree 89 of 100\n",
            "building tree 90 of 100\n",
            "building tree 91 of 100\n",
            "building tree 92 of 100\n",
            "building tree 93 of 100\n",
            "building tree 94 of 100\n"
          ],
          "name": "stdout"
        },
        {
          "output_type": "stream",
          "text": [
            "[Parallel(n_jobs=-1)]: Done  54 out of 100 | elapsed:  1.1min remaining:   55.0s\n"
          ],
          "name": "stderr"
        },
        {
          "output_type": "stream",
          "text": [
            "building tree 95 of 100\n",
            "building tree 96 of 100\n",
            "building tree 97 of 100\n",
            "building tree 98 of 100\n",
            "building tree 99 of 100\n",
            "building tree 100 of 100\n"
          ],
          "name": "stdout"
        },
        {
          "output_type": "stream",
          "text": [
            "[Parallel(n_jobs=-1)]: Done  65 out of 100 | elapsed:  1.1min remaining:   35.3s\n",
            "[Parallel(n_jobs=-1)]: Done  76 out of 100 | elapsed:  1.1min remaining:   20.9s\n",
            "[Parallel(n_jobs=-1)]: Done  87 out of 100 | elapsed:  1.3min remaining:   11.8s\n",
            "[Parallel(n_jobs=-1)]: Done  98 out of 100 | elapsed:  1.3min remaining:    1.6s\n",
            "[Parallel(n_jobs=-1)]: Done 100 out of 100 | elapsed:  1.3min finished\n"
          ],
          "name": "stderr"
        },
        {
          "output_type": "stream",
          "text": [
            "Typo_Stemming - 1 Trained\n"
          ],
          "name": "stdout"
        },
        {
          "output_type": "stream",
          "text": [
            "[Parallel(n_jobs=40)]: Using backend ThreadingBackend with 40 concurrent workers.\n",
            "[Parallel(n_jobs=40)]: Done   5 tasks      | elapsed:    0.9s\n",
            "[Parallel(n_jobs=40)]: Done  18 tasks      | elapsed:    1.0s\n",
            "[Parallel(n_jobs=40)]: Done  32 out of 100 | elapsed:    1.0s remaining:    2.2s\n",
            "[Parallel(n_jobs=40)]: Done  43 out of 100 | elapsed:    1.9s remaining:    2.5s\n",
            "[Parallel(n_jobs=40)]: Done  54 out of 100 | elapsed:    2.0s remaining:    1.7s\n",
            "[Parallel(n_jobs=40)]: Done  65 out of 100 | elapsed:    2.0s remaining:    1.1s\n",
            "[Parallel(n_jobs=40)]: Done  76 out of 100 | elapsed:    2.0s remaining:    0.6s\n",
            "[Parallel(n_jobs=40)]: Done  87 out of 100 | elapsed:    2.7s remaining:    0.4s\n",
            "[Parallel(n_jobs=40)]: Done  98 out of 100 | elapsed:    2.8s remaining:    0.1s\n",
            "[Parallel(n_jobs=40)]: Done 100 out of 100 | elapsed:    2.8s finished\n",
            "[Parallel(n_jobs=40)]: Using backend ThreadingBackend with 40 concurrent workers.\n",
            "[Parallel(n_jobs=40)]: Done   5 tasks      | elapsed:    0.9s\n",
            "[Parallel(n_jobs=40)]: Done  18 tasks      | elapsed:    1.0s\n",
            "[Parallel(n_jobs=40)]: Done  32 out of 100 | elapsed:    1.0s remaining:    2.2s\n",
            "[Parallel(n_jobs=40)]: Done  43 out of 100 | elapsed:    1.9s remaining:    2.5s\n",
            "[Parallel(n_jobs=40)]: Done  54 out of 100 | elapsed:    2.0s remaining:    1.7s\n",
            "[Parallel(n_jobs=40)]: Done  65 out of 100 | elapsed:    2.0s remaining:    1.1s\n",
            "[Parallel(n_jobs=40)]: Done  76 out of 100 | elapsed:    2.0s remaining:    0.6s\n",
            "[Parallel(n_jobs=40)]: Done  87 out of 100 | elapsed:    2.7s remaining:    0.4s\n",
            "[Parallel(n_jobs=40)]: Done  98 out of 100 | elapsed:    2.8s remaining:    0.1s\n",
            "[Parallel(n_jobs=40)]: Done 100 out of 100 | elapsed:    2.8s finished\n",
            "[Parallel(n_jobs=40)]: Using backend ThreadingBackend with 40 concurrent workers.\n",
            "[Parallel(n_jobs=40)]: Done   5 tasks      | elapsed:    0.3s\n",
            "[Parallel(n_jobs=40)]: Done  18 tasks      | elapsed:    0.3s\n",
            "[Parallel(n_jobs=40)]: Done  32 out of 100 | elapsed:    0.3s remaining:    0.6s\n",
            "[Parallel(n_jobs=40)]: Done  43 out of 100 | elapsed:    0.5s remaining:    0.7s\n",
            "[Parallel(n_jobs=40)]: Done  54 out of 100 | elapsed:    0.5s remaining:    0.4s\n",
            "[Parallel(n_jobs=40)]: Done  65 out of 100 | elapsed:    0.5s remaining:    0.3s\n",
            "[Parallel(n_jobs=40)]: Done  76 out of 100 | elapsed:    0.6s remaining:    0.2s\n",
            "[Parallel(n_jobs=40)]: Done  87 out of 100 | elapsed:    0.7s remaining:    0.1s\n",
            "[Parallel(n_jobs=40)]: Done  98 out of 100 | elapsed:    0.8s remaining:    0.0s\n",
            "[Parallel(n_jobs=40)]: Done 100 out of 100 | elapsed:    0.8s finished\n",
            "[Parallel(n_jobs=40)]: Using backend ThreadingBackend with 40 concurrent workers.\n",
            "[Parallel(n_jobs=40)]: Done   5 tasks      | elapsed:    0.3s\n",
            "[Parallel(n_jobs=40)]: Done  18 tasks      | elapsed:    0.3s\n",
            "[Parallel(n_jobs=40)]: Done  32 out of 100 | elapsed:    0.3s remaining:    0.6s\n",
            "[Parallel(n_jobs=40)]: Done  43 out of 100 | elapsed:    0.5s remaining:    0.7s\n",
            "[Parallel(n_jobs=40)]: Done  54 out of 100 | elapsed:    0.5s remaining:    0.4s\n",
            "[Parallel(n_jobs=40)]: Done  65 out of 100 | elapsed:    0.5s remaining:    0.3s\n",
            "[Parallel(n_jobs=40)]: Done  76 out of 100 | elapsed:    0.6s remaining:    0.2s\n",
            "[Parallel(n_jobs=40)]: Done  87 out of 100 | elapsed:    0.7s remaining:    0.1s\n",
            "[Parallel(n_jobs=40)]: Done  98 out of 100 | elapsed:    0.8s remaining:    0.0s\n",
            "[Parallel(n_jobs=40)]: Done 100 out of 100 | elapsed:    0.8s finished\n"
          ],
          "name": "stderr"
        },
        {
          "output_type": "stream",
          "text": [
            "Typo_Stemming - 1 Inferenced : 0.8381667137145996s\ttrain ACC : 0.9917442746311355 test ACC : 0.9231965174129353 test F1 : 0.8032812997769991\n",
            "building tree 1 of 100\n",
            "building tree 2 of 100\n",
            "building tree 3 of 100\n",
            "building tree 4 of 100\n",
            "building tree 5 of 100\n",
            "building tree 6 of 100\n",
            "building tree 7 of 100\n",
            "building tree 8 of 100\n",
            "building tree 9 of 100\n",
            "building tree 10 of 100\n",
            "building tree 11 of 100\n",
            "building tree 12 of 100building tree 13 of 100\n",
            "building tree 14 of 100\n",
            "building tree 15 of 100\n",
            "building tree 16 of 100\n",
            "\n",
            "building tree 17 of 100\n"
          ],
          "name": "stdout"
        },
        {
          "output_type": "stream",
          "text": [
            "[Parallel(n_jobs=-1)]: Using backend ThreadingBackend with 40 concurrent workers.\n"
          ],
          "name": "stderr"
        },
        {
          "output_type": "stream",
          "text": [
            "building tree 18 of 100\n",
            "building tree 19 of 100building tree 20 of 100\n",
            "\n",
            "building tree 21 of 100\n",
            "building tree 22 of 100\n",
            "building tree 23 of 100\n",
            "building tree 24 of 100\n",
            "building tree 25 of 100building tree 26 of 100\n",
            "building tree 27 of 100\n",
            "\n",
            "building tree 28 of 100\n",
            "building tree 29 of 100\n",
            "building tree 30 of 100\n",
            "building tree 31 of 100\n",
            "building tree 32 of 100\n",
            "building tree 33 of 100\n",
            "building tree 34 of 100\n",
            "building tree 35 of 100\n",
            "building tree 36 of 100\n",
            "building tree 37 of 100\n",
            "building tree 38 of 100\n",
            "building tree 39 of 100\n",
            "building tree 40 of 100\n",
            "building tree 41 of 100\n",
            "building tree 42 of 100\n",
            "building tree 43 of 100\n",
            "building tree 44 of 100\n"
          ],
          "name": "stdout"
        },
        {
          "output_type": "stream",
          "text": [
            "[Parallel(n_jobs=-1)]: Done   5 tasks      | elapsed:   31.2s\n"
          ],
          "name": "stderr"
        },
        {
          "output_type": "stream",
          "text": [
            "building tree 45 of 100\n",
            "building tree 46 of 100\n",
            "building tree 47 of 100\n",
            "building tree 48 of 100\n",
            "building tree 49 of 100\n",
            "building tree 50 of 100\n",
            "building tree 51 of 100\n",
            "building tree 52 of 100\n",
            "building tree 53 of 100\n",
            "building tree 54 of 100\n",
            "building tree 55 of 100\n",
            "building tree 56 of 100\n",
            "building tree 57 of 100\n",
            "building tree 58 of 100\n",
            "building tree 59 of 100\n",
            "building tree 60 of 100\n",
            "building tree 61 of 100\n",
            "building tree 62 of 100\n",
            "building tree 63 of 100\n",
            "building tree 64 of 100\n"
          ],
          "name": "stdout"
        },
        {
          "output_type": "stream",
          "text": [
            "[Parallel(n_jobs=-1)]: Done  18 tasks      | elapsed:   32.2s\n"
          ],
          "name": "stderr"
        },
        {
          "output_type": "stream",
          "text": [
            "building tree 65 of 100\n",
            "building tree 66 of 100\n",
            "building tree 67 of 100\n",
            "building tree 68 of 100\n",
            "building tree 69 of 100\n",
            "building tree 70 of 100\n",
            "building tree 71 of 100\n",
            "building tree 72 of 100\n",
            "building tree 73 of 100\n"
          ],
          "name": "stdout"
        },
        {
          "output_type": "stream",
          "text": [
            "[Parallel(n_jobs=-1)]: Done  32 out of 100 | elapsed:   32.8s remaining:  1.2min\n"
          ],
          "name": "stderr"
        },
        {
          "output_type": "stream",
          "text": [
            "building tree 74 of 100building tree 75 of 100\n",
            "\n",
            "building tree 76 of 100\n",
            "building tree 77 of 100\n",
            "building tree 78 of 100\n",
            "building tree 79 of 100\n",
            "building tree 80 of 100\n",
            "building tree 81 of 100\n",
            "building tree 82 of 100\n"
          ],
          "name": "stdout"
        },
        {
          "output_type": "stream",
          "text": [
            "[Parallel(n_jobs=-1)]: Done  43 out of 100 | elapsed:  1.0min remaining:  1.4min\n"
          ],
          "name": "stderr"
        },
        {
          "output_type": "stream",
          "text": [
            "building tree 83 of 100\n",
            "building tree 84 of 100\n",
            "building tree 85 of 100\n",
            "building tree 86 of 100\n",
            "building tree 87 of 100\n",
            "building tree 88 of 100\n",
            "building tree 89 of 100\n",
            "building tree 90 of 100\n",
            "building tree 91 of 100\n",
            "building tree 92 of 100\n",
            "building tree 93 of 100\n",
            "building tree 94 of 100\n",
            "building tree 95 of 100\n"
          ],
          "name": "stdout"
        },
        {
          "output_type": "stream",
          "text": [
            "[Parallel(n_jobs=-1)]: Done  54 out of 100 | elapsed:  1.1min remaining:   54.5s\n"
          ],
          "name": "stderr"
        },
        {
          "output_type": "stream",
          "text": [
            "building tree 96 of 100\n",
            "building tree 97 of 100\n",
            "building tree 98 of 100\n",
            "building tree 99 of 100\n",
            "building tree 100 of 100\n"
          ],
          "name": "stdout"
        },
        {
          "output_type": "stream",
          "text": [
            "[Parallel(n_jobs=-1)]: Done  65 out of 100 | elapsed:  1.1min remaining:   34.8s\n",
            "[Parallel(n_jobs=-1)]: Done  76 out of 100 | elapsed:  1.1min remaining:   20.6s\n",
            "[Parallel(n_jobs=-1)]: Done  87 out of 100 | elapsed:  1.3min remaining:   11.7s\n",
            "[Parallel(n_jobs=-1)]: Done  98 out of 100 | elapsed:  1.3min remaining:    1.6s\n",
            "[Parallel(n_jobs=-1)]: Done 100 out of 100 | elapsed:  1.3min finished\n",
            "[Parallel(n_jobs=40)]: Using backend ThreadingBackend with 40 concurrent workers.\n"
          ],
          "name": "stderr"
        },
        {
          "output_type": "stream",
          "text": [
            "Typo_Stemming - 2 Trained\n"
          ],
          "name": "stdout"
        },
        {
          "output_type": "stream",
          "text": [
            "[Parallel(n_jobs=40)]: Done   5 tasks      | elapsed:    1.0s\n",
            "[Parallel(n_jobs=40)]: Done  18 tasks      | elapsed:    1.0s\n",
            "[Parallel(n_jobs=40)]: Done  32 out of 100 | elapsed:    1.1s remaining:    2.3s\n",
            "[Parallel(n_jobs=40)]: Done  43 out of 100 | elapsed:    1.9s remaining:    2.5s\n",
            "[Parallel(n_jobs=40)]: Done  54 out of 100 | elapsed:    2.0s remaining:    1.7s\n",
            "[Parallel(n_jobs=40)]: Done  65 out of 100 | elapsed:    2.0s remaining:    1.1s\n",
            "[Parallel(n_jobs=40)]: Done  76 out of 100 | elapsed:    2.1s remaining:    0.7s\n",
            "[Parallel(n_jobs=40)]: Done  87 out of 100 | elapsed:    2.8s remaining:    0.4s\n",
            "[Parallel(n_jobs=40)]: Done  98 out of 100 | elapsed:    2.8s remaining:    0.1s\n",
            "[Parallel(n_jobs=40)]: Done 100 out of 100 | elapsed:    2.9s finished\n",
            "[Parallel(n_jobs=40)]: Using backend ThreadingBackend with 40 concurrent workers.\n",
            "[Parallel(n_jobs=40)]: Done   5 tasks      | elapsed:    1.0s\n",
            "[Parallel(n_jobs=40)]: Done  18 tasks      | elapsed:    1.0s\n",
            "[Parallel(n_jobs=40)]: Done  32 out of 100 | elapsed:    1.0s remaining:    2.2s\n",
            "[Parallel(n_jobs=40)]: Done  43 out of 100 | elapsed:    1.9s remaining:    2.5s\n",
            "[Parallel(n_jobs=40)]: Done  54 out of 100 | elapsed:    2.0s remaining:    1.7s\n",
            "[Parallel(n_jobs=40)]: Done  65 out of 100 | elapsed:    2.0s remaining:    1.1s\n",
            "[Parallel(n_jobs=40)]: Done  76 out of 100 | elapsed:    2.1s remaining:    0.7s\n",
            "[Parallel(n_jobs=40)]: Done  87 out of 100 | elapsed:    2.8s remaining:    0.4s\n",
            "[Parallel(n_jobs=40)]: Done  98 out of 100 | elapsed:    2.8s remaining:    0.1s\n",
            "[Parallel(n_jobs=40)]: Done 100 out of 100 | elapsed:    2.9s finished\n",
            "[Parallel(n_jobs=40)]: Using backend ThreadingBackend with 40 concurrent workers.\n",
            "[Parallel(n_jobs=40)]: Done   5 tasks      | elapsed:    0.3s\n",
            "[Parallel(n_jobs=40)]: Done  18 tasks      | elapsed:    0.3s\n",
            "[Parallel(n_jobs=40)]: Done  32 out of 100 | elapsed:    0.3s remaining:    0.6s\n",
            "[Parallel(n_jobs=40)]: Done  43 out of 100 | elapsed:    0.5s remaining:    0.6s\n",
            "[Parallel(n_jobs=40)]: Done  54 out of 100 | elapsed:    0.5s remaining:    0.4s\n",
            "[Parallel(n_jobs=40)]: Done  65 out of 100 | elapsed:    0.5s remaining:    0.3s\n",
            "[Parallel(n_jobs=40)]: Done  76 out of 100 | elapsed:    0.6s remaining:    0.2s\n",
            "[Parallel(n_jobs=40)]: Done  87 out of 100 | elapsed:    0.7s remaining:    0.1s\n",
            "[Parallel(n_jobs=40)]: Done  98 out of 100 | elapsed:    0.8s remaining:    0.0s\n",
            "[Parallel(n_jobs=40)]: Done 100 out of 100 | elapsed:    0.8s finished\n",
            "[Parallel(n_jobs=40)]: Using backend ThreadingBackend with 40 concurrent workers.\n",
            "[Parallel(n_jobs=40)]: Done   5 tasks      | elapsed:    0.2s\n",
            "[Parallel(n_jobs=40)]: Done  18 tasks      | elapsed:    0.3s\n",
            "[Parallel(n_jobs=40)]: Done  32 out of 100 | elapsed:    0.3s remaining:    0.6s\n",
            "[Parallel(n_jobs=40)]: Done  43 out of 100 | elapsed:    0.5s remaining:    0.6s\n",
            "[Parallel(n_jobs=40)]: Done  54 out of 100 | elapsed:    0.5s remaining:    0.4s\n",
            "[Parallel(n_jobs=40)]: Done  65 out of 100 | elapsed:    0.5s remaining:    0.3s\n",
            "[Parallel(n_jobs=40)]: Done  76 out of 100 | elapsed:    0.5s remaining:    0.2s\n",
            "[Parallel(n_jobs=40)]: Done  87 out of 100 | elapsed:    0.7s remaining:    0.1s\n",
            "[Parallel(n_jobs=40)]: Done  98 out of 100 | elapsed:    0.8s remaining:    0.0s\n",
            "[Parallel(n_jobs=40)]: Done 100 out of 100 | elapsed:    0.8s finished\n"
          ],
          "name": "stderr"
        },
        {
          "output_type": "stream",
          "text": [
            "Typo_Stemming - 2 Inferenced : 0.8346545696258545s\ttrain ACC : 0.9918453651123108 test ACC : 0.9237083909886659 test F1 : 0.8056864530946818\n",
            "building tree 1 of 100\n",
            "building tree 2 of 100\n",
            "building tree 3 of 100\n",
            "building tree 4 of 100\n",
            "building tree 5 of 100\n",
            "building tree 6 of 100\n",
            "building tree 7 of 100\n",
            "building tree 8 of 100\n",
            "building tree 9 of 100\n",
            "building tree 10 of 100\n",
            "building tree 11 of 100\n",
            "building tree 12 of 100\n",
            "building tree 13 of 100\n",
            "building tree 14 of 100\n",
            "building tree 15 of 100\n",
            "building tree 16 of 100building tree 17 of 100\n",
            "building tree 18 of 100\n",
            "building tree 19 of 100\n",
            "\n",
            "building tree 20 of 100\n"
          ],
          "name": "stdout"
        },
        {
          "output_type": "stream",
          "text": [
            "[Parallel(n_jobs=-1)]: Using backend ThreadingBackend with 40 concurrent workers.\n"
          ],
          "name": "stderr"
        },
        {
          "output_type": "stream",
          "text": [
            "building tree 21 of 100\n",
            "building tree 22 of 100\n",
            "building tree 23 of 100\n",
            "building tree 24 of 100\n",
            "building tree 25 of 100\n",
            "building tree 26 of 100\n",
            "building tree 27 of 100\n",
            "building tree 28 of 100\n",
            "building tree 29 of 100\n",
            "building tree 30 of 100building tree 31 of 100\n",
            "building tree 32 of 100\n",
            "building tree 33 of 100\n",
            "building tree 34 of 100\n",
            "building tree 35 of 100\n",
            "\n",
            "building tree 36 of 100\n",
            "building tree 37 of 100\n",
            "building tree 38 of 100\n",
            "building tree 39 of 100\n",
            "building tree 40 of 100\n",
            "building tree 41 of 100\n",
            "building tree 42 of 100\n",
            "building tree 43 of 100\n",
            "building tree 44 of 100\n",
            "building tree 45 of 100\n"
          ],
          "name": "stdout"
        },
        {
          "output_type": "stream",
          "text": [
            "[Parallel(n_jobs=-1)]: Done   5 tasks      | elapsed:   30.5s\n"
          ],
          "name": "stderr"
        },
        {
          "output_type": "stream",
          "text": [
            "building tree 46 of 100\n",
            "building tree 47 of 100\n",
            "building tree 48 of 100\n",
            "building tree 49 of 100\n",
            "building tree 50 of 100\n",
            "building tree 51 of 100\n",
            "building tree 52 of 100\n",
            "building tree 53 of 100\n",
            "building tree 54 of 100\n",
            "building tree 55 of 100\n",
            "building tree 56 of 100\n",
            "building tree 57 of 100\n",
            "building tree 58 of 100\n",
            "building tree 59 of 100\n"
          ],
          "name": "stdout"
        },
        {
          "output_type": "stream",
          "text": [
            "[Parallel(n_jobs=-1)]: Done  18 tasks      | elapsed:   31.6s\n"
          ],
          "name": "stderr"
        },
        {
          "output_type": "stream",
          "text": [
            "building tree 60 of 100\n",
            "building tree 61 of 100\n",
            "building tree 62 of 100\n",
            "building tree 63 of 100\n",
            "building tree 64 of 100\n",
            "building tree 65 of 100\n",
            "building tree 66 of 100\n",
            "building tree 67 of 100\n",
            "building tree 68 of 100\n",
            "building tree 69 of 100\n",
            "building tree 70 of 100\n",
            "building tree 71 of 100\n"
          ],
          "name": "stdout"
        },
        {
          "output_type": "stream",
          "text": [
            "[Parallel(n_jobs=-1)]: Done  32 out of 100 | elapsed:   32.8s remaining:  1.2min\n"
          ],
          "name": "stderr"
        },
        {
          "output_type": "stream",
          "text": [
            "building tree 72 of 100\n",
            "building tree 73 of 100\n",
            "building tree 74 of 100\n",
            "building tree 75 of 100\n",
            "building tree 76 of 100\n",
            "building tree 77 of 100\n",
            "building tree 78 of 100\n",
            "building tree 79 of 100\n",
            "building tree 80 of 100\n",
            "building tree 81 of 100\n",
            "building tree 82 of 100\n"
          ],
          "name": "stdout"
        },
        {
          "output_type": "stream",
          "text": [
            "[Parallel(n_jobs=-1)]: Done  43 out of 100 | elapsed:  1.0min remaining:  1.4min\n"
          ],
          "name": "stderr"
        },
        {
          "output_type": "stream",
          "text": [
            "building tree 83 of 100\n",
            "building tree 84 of 100\n",
            "building tree 85 of 100\n",
            "building tree 86 of 100\n",
            "building tree 87 of 100\n",
            "building tree 88 of 100\n",
            "building tree 89 of 100\n",
            "building tree 90 of 100\n",
            "building tree 91 of 100\n",
            "building tree 92 of 100building tree 93 of 100\n",
            "\n"
          ],
          "name": "stdout"
        },
        {
          "output_type": "stream",
          "text": [
            "[Parallel(n_jobs=-1)]: Done  54 out of 100 | elapsed:  1.1min remaining:   53.9s\n"
          ],
          "name": "stderr"
        },
        {
          "output_type": "stream",
          "text": [
            "building tree 94 of 100\n",
            "building tree 95 of 100\n",
            "building tree 96 of 100\n",
            "building tree 97 of 100\n",
            "building tree 98 of 100\n",
            "building tree 99 of 100\n",
            "building tree 100 of 100\n"
          ],
          "name": "stdout"
        },
        {
          "output_type": "stream",
          "text": [
            "[Parallel(n_jobs=-1)]: Done  65 out of 100 | elapsed:  1.1min remaining:   34.6s\n",
            "[Parallel(n_jobs=-1)]: Done  76 out of 100 | elapsed:  1.1min remaining:   20.5s\n",
            "[Parallel(n_jobs=-1)]: Done  87 out of 100 | elapsed:  1.3min remaining:   11.6s\n",
            "[Parallel(n_jobs=-1)]: Done  98 out of 100 | elapsed:  1.3min remaining:    1.6s\n",
            "[Parallel(n_jobs=-1)]: Done 100 out of 100 | elapsed:  1.3min finished\n",
            "[Parallel(n_jobs=40)]: Using backend ThreadingBackend with 40 concurrent workers.\n"
          ],
          "name": "stderr"
        },
        {
          "output_type": "stream",
          "text": [
            "Typo_Stemming - 3 Trained\n"
          ],
          "name": "stdout"
        },
        {
          "output_type": "stream",
          "text": [
            "[Parallel(n_jobs=40)]: Done   5 tasks      | elapsed:    0.9s\n",
            "[Parallel(n_jobs=40)]: Done  18 tasks      | elapsed:    1.0s\n",
            "[Parallel(n_jobs=40)]: Done  32 out of 100 | elapsed:    1.0s remaining:    2.2s\n",
            "[Parallel(n_jobs=40)]: Done  43 out of 100 | elapsed:    1.9s remaining:    2.5s\n",
            "[Parallel(n_jobs=40)]: Done  54 out of 100 | elapsed:    2.0s remaining:    1.7s\n",
            "[Parallel(n_jobs=40)]: Done  65 out of 100 | elapsed:    2.0s remaining:    1.1s\n",
            "[Parallel(n_jobs=40)]: Done  76 out of 100 | elapsed:    2.0s remaining:    0.6s\n",
            "[Parallel(n_jobs=40)]: Done  87 out of 100 | elapsed:    2.7s remaining:    0.4s\n",
            "[Parallel(n_jobs=40)]: Done  98 out of 100 | elapsed:    2.8s remaining:    0.1s\n",
            "[Parallel(n_jobs=40)]: Done 100 out of 100 | elapsed:    2.8s finished\n",
            "[Parallel(n_jobs=40)]: Using backend ThreadingBackend with 40 concurrent workers.\n",
            "[Parallel(n_jobs=40)]: Done   5 tasks      | elapsed:    1.0s\n",
            "[Parallel(n_jobs=40)]: Done  18 tasks      | elapsed:    1.0s\n",
            "[Parallel(n_jobs=40)]: Done  32 out of 100 | elapsed:    1.0s remaining:    2.2s\n",
            "[Parallel(n_jobs=40)]: Done  43 out of 100 | elapsed:    1.9s remaining:    2.5s\n",
            "[Parallel(n_jobs=40)]: Done  54 out of 100 | elapsed:    2.0s remaining:    1.7s\n",
            "[Parallel(n_jobs=40)]: Done  65 out of 100 | elapsed:    2.0s remaining:    1.1s\n",
            "[Parallel(n_jobs=40)]: Done  76 out of 100 | elapsed:    2.1s remaining:    0.7s\n",
            "[Parallel(n_jobs=40)]: Done  87 out of 100 | elapsed:    2.7s remaining:    0.4s\n",
            "[Parallel(n_jobs=40)]: Done  98 out of 100 | elapsed:    2.8s remaining:    0.1s\n",
            "[Parallel(n_jobs=40)]: Done 100 out of 100 | elapsed:    2.9s finished\n",
            "[Parallel(n_jobs=40)]: Using backend ThreadingBackend with 40 concurrent workers.\n",
            "[Parallel(n_jobs=40)]: Done   5 tasks      | elapsed:    0.2s\n",
            "[Parallel(n_jobs=40)]: Done  18 tasks      | elapsed:    0.3s\n",
            "[Parallel(n_jobs=40)]: Done  32 out of 100 | elapsed:    0.3s remaining:    0.6s\n",
            "[Parallel(n_jobs=40)]: Done  43 out of 100 | elapsed:    0.5s remaining:    0.7s\n",
            "[Parallel(n_jobs=40)]: Done  54 out of 100 | elapsed:    0.5s remaining:    0.4s\n",
            "[Parallel(n_jobs=40)]: Done  65 out of 100 | elapsed:    0.5s remaining:    0.3s\n",
            "[Parallel(n_jobs=40)]: Done  76 out of 100 | elapsed:    0.5s remaining:    0.2s\n",
            "[Parallel(n_jobs=40)]: Done  87 out of 100 | elapsed:    0.7s remaining:    0.1s\n",
            "[Parallel(n_jobs=40)]: Done  98 out of 100 | elapsed:    0.7s remaining:    0.0s\n",
            "[Parallel(n_jobs=40)]: Done 100 out of 100 | elapsed:    0.8s finished\n",
            "[Parallel(n_jobs=40)]: Using backend ThreadingBackend with 40 concurrent workers.\n",
            "[Parallel(n_jobs=40)]: Done   5 tasks      | elapsed:    0.3s\n",
            "[Parallel(n_jobs=40)]: Done  18 tasks      | elapsed:    0.3s\n",
            "[Parallel(n_jobs=40)]: Done  32 out of 100 | elapsed:    0.3s remaining:    0.6s\n",
            "[Parallel(n_jobs=40)]: Done  43 out of 100 | elapsed:    0.5s remaining:    0.7s\n",
            "[Parallel(n_jobs=40)]: Done  54 out of 100 | elapsed:    0.5s remaining:    0.4s\n",
            "[Parallel(n_jobs=40)]: Done  65 out of 100 | elapsed:    0.5s remaining:    0.3s\n",
            "[Parallel(n_jobs=40)]: Done  76 out of 100 | elapsed:    0.5s remaining:    0.2s\n",
            "[Parallel(n_jobs=40)]: Done  87 out of 100 | elapsed:    0.7s remaining:    0.1s\n",
            "[Parallel(n_jobs=40)]: Done  98 out of 100 | elapsed:    0.7s remaining:    0.0s\n",
            "[Parallel(n_jobs=40)]: Done 100 out of 100 | elapsed:    0.8s finished\n"
          ],
          "name": "stderr"
        },
        {
          "output_type": "stream",
          "text": [
            "Typo_Stemming - 3 Inferenced : 0.8344261646270752s\ttrain ACC : 0.9918142702223673 test ACC : 0.922993205740139 test F1 : 0.8041286036303238\n",
            "building tree 1 of 100building tree 2 of 100\n",
            "building tree 3 of 100\n",
            "\n",
            "building tree 4 of 100building tree 5 of 100\n",
            "\n",
            "building tree 6 of 100\n",
            "building tree 7 of 100\n",
            "building tree 8 of 100\n",
            "building tree 9 of 100\n",
            "building tree 10 of 100\n",
            "building tree 11 of 100building tree 12 of 100building tree 13 of 100\n",
            "\n",
            "\n",
            "building tree 14 of 100\n",
            "building tree 15 of 100building tree 16 of 100\n",
            "\n"
          ],
          "name": "stdout"
        },
        {
          "output_type": "stream",
          "text": [
            "[Parallel(n_jobs=-1)]: Using backend ThreadingBackend with 40 concurrent workers.\n"
          ],
          "name": "stderr"
        },
        {
          "output_type": "stream",
          "text": [
            "building tree 17 of 100\n",
            "building tree 18 of 100\n",
            "building tree 19 of 100\n",
            "building tree 20 of 100\n",
            "building tree 21 of 100\n",
            "building tree 22 of 100\n",
            "building tree 23 of 100\n",
            "building tree 24 of 100\n",
            "building tree 25 of 100\n",
            "building tree 26 of 100\n",
            "building tree 27 of 100\n",
            "building tree 28 of 100\n",
            "building tree 29 of 100\n",
            "building tree 30 of 100\n",
            "building tree 31 of 100\n",
            "building tree 32 of 100\n",
            "building tree 33 of 100\n",
            "building tree 34 of 100\n",
            "building tree 35 of 100\n",
            "building tree 36 of 100\n",
            "building tree 37 of 100\n",
            "building tree 38 of 100\n",
            "building tree 39 of 100\n",
            "building tree 40 of 100\n",
            "building tree 41 of 100\n",
            "building tree 42 of 100\n",
            "building tree 43 of 100building tree 44 of 100\n",
            "\n",
            "building tree 45 of 100\n"
          ],
          "name": "stdout"
        },
        {
          "output_type": "stream",
          "text": [
            "[Parallel(n_jobs=-1)]: Done   5 tasks      | elapsed:   30.3s\n"
          ],
          "name": "stderr"
        },
        {
          "output_type": "stream",
          "text": [
            "building tree 46 of 100\n",
            "building tree 47 of 100\n",
            "building tree 48 of 100\n",
            "building tree 49 of 100\n",
            "building tree 50 of 100building tree 51 of 100\n",
            "\n",
            "building tree 52 of 100\n",
            "building tree 53 of 100\n",
            "building tree 54 of 100\n",
            "building tree 55 of 100\n",
            "building tree 56 of 100\n",
            "building tree 57 of 100\n",
            "building tree 58 of 100\n",
            "building tree 59 of 100\n",
            "building tree 60 of 100\n"
          ],
          "name": "stdout"
        },
        {
          "output_type": "stream",
          "text": [
            "[Parallel(n_jobs=-1)]: Done  18 tasks      | elapsed:   31.9s\n"
          ],
          "name": "stderr"
        },
        {
          "output_type": "stream",
          "text": [
            "building tree 61 of 100\n",
            "building tree 62 of 100\n",
            "building tree 63 of 100\n",
            "building tree 64 of 100\n",
            "building tree 65 of 100\n",
            "building tree 66 of 100\n",
            "building tree 67 of 100\n",
            "building tree 68 of 100\n",
            "building tree 69 of 100\n",
            "building tree 70 of 100\n",
            "building tree 71 of 100\n"
          ],
          "name": "stdout"
        },
        {
          "output_type": "stream",
          "text": [
            "[Parallel(n_jobs=-1)]: Done  32 out of 100 | elapsed:   32.6s remaining:  1.2min\n"
          ],
          "name": "stderr"
        },
        {
          "output_type": "stream",
          "text": [
            "building tree 72 of 100\n",
            "building tree 73 of 100\n",
            "building tree 74 of 100\n",
            "building tree 75 of 100\n",
            "building tree 76 of 100\n",
            "building tree 77 of 100\n",
            "building tree 78 of 100\n",
            "building tree 79 of 100\n",
            "building tree 80 of 100\n",
            "building tree 81 of 100\n",
            "building tree 82 of 100\n"
          ],
          "name": "stdout"
        },
        {
          "output_type": "stream",
          "text": [
            "[Parallel(n_jobs=-1)]: Done  43 out of 100 | elapsed:  1.0min remaining:  1.3min\n"
          ],
          "name": "stderr"
        },
        {
          "output_type": "stream",
          "text": [
            "building tree 83 of 100\n",
            "building tree 84 of 100\n",
            "building tree 85 of 100\n",
            "building tree 86 of 100\n",
            "building tree 87 of 100\n",
            "building tree 88 of 100\n",
            "building tree 89 of 100\n",
            "building tree 90 of 100\n",
            "building tree 91 of 100\n",
            "building tree 92 of 100\n",
            "building tree 93 of 100\n",
            "building tree 94 of 100\n",
            "building tree 95 of 100\n"
          ],
          "name": "stdout"
        },
        {
          "output_type": "stream",
          "text": [
            "[Parallel(n_jobs=-1)]: Done  54 out of 100 | elapsed:  1.0min remaining:   53.5s\n"
          ],
          "name": "stderr"
        },
        {
          "output_type": "stream",
          "text": [
            "building tree 96 of 100\n",
            "building tree 97 of 100\n",
            "building tree 98 of 100\n",
            "building tree 99 of 100\n",
            "building tree 100 of 100\n"
          ],
          "name": "stdout"
        },
        {
          "output_type": "stream",
          "text": [
            "[Parallel(n_jobs=-1)]: Done  65 out of 100 | elapsed:  1.1min remaining:   34.3s\n",
            "[Parallel(n_jobs=-1)]: Done  76 out of 100 | elapsed:  1.1min remaining:   20.5s\n",
            "[Parallel(n_jobs=-1)]: Done  87 out of 100 | elapsed:  1.3min remaining:   11.6s\n",
            "[Parallel(n_jobs=-1)]: Done  98 out of 100 | elapsed:  1.3min remaining:    1.6s\n",
            "[Parallel(n_jobs=-1)]: Done 100 out of 100 | elapsed:  1.3min finished\n"
          ],
          "name": "stderr"
        },
        {
          "output_type": "stream",
          "text": [
            "Typo_Stemming - 4 Trained\n"
          ],
          "name": "stdout"
        },
        {
          "output_type": "stream",
          "text": [
            "[Parallel(n_jobs=40)]: Using backend ThreadingBackend with 40 concurrent workers.\n",
            "[Parallel(n_jobs=40)]: Done   5 tasks      | elapsed:    1.0s\n",
            "[Parallel(n_jobs=40)]: Done  18 tasks      | elapsed:    1.0s\n",
            "[Parallel(n_jobs=40)]: Done  32 out of 100 | elapsed:    1.0s remaining:    2.2s\n",
            "[Parallel(n_jobs=40)]: Done  43 out of 100 | elapsed:    1.9s remaining:    2.5s\n",
            "[Parallel(n_jobs=40)]: Done  54 out of 100 | elapsed:    2.0s remaining:    1.7s\n",
            "[Parallel(n_jobs=40)]: Done  65 out of 100 | elapsed:    2.0s remaining:    1.1s\n",
            "[Parallel(n_jobs=40)]: Done  76 out of 100 | elapsed:    2.1s remaining:    0.7s\n",
            "[Parallel(n_jobs=40)]: Done  87 out of 100 | elapsed:    2.7s remaining:    0.4s\n",
            "[Parallel(n_jobs=40)]: Done  98 out of 100 | elapsed:    2.8s remaining:    0.1s\n",
            "[Parallel(n_jobs=40)]: Done 100 out of 100 | elapsed:    2.9s finished\n",
            "[Parallel(n_jobs=40)]: Using backend ThreadingBackend with 40 concurrent workers.\n",
            "[Parallel(n_jobs=40)]: Done   5 tasks      | elapsed:    0.9s\n",
            "[Parallel(n_jobs=40)]: Done  18 tasks      | elapsed:    1.0s\n",
            "[Parallel(n_jobs=40)]: Done  32 out of 100 | elapsed:    1.0s remaining:    2.2s\n",
            "[Parallel(n_jobs=40)]: Done  43 out of 100 | elapsed:    1.9s remaining:    2.5s\n",
            "[Parallel(n_jobs=40)]: Done  54 out of 100 | elapsed:    1.9s remaining:    1.6s\n",
            "[Parallel(n_jobs=40)]: Done  65 out of 100 | elapsed:    2.0s remaining:    1.1s\n",
            "[Parallel(n_jobs=40)]: Done  76 out of 100 | elapsed:    2.1s remaining:    0.7s\n",
            "[Parallel(n_jobs=40)]: Done  87 out of 100 | elapsed:    2.7s remaining:    0.4s\n",
            "[Parallel(n_jobs=40)]: Done  98 out of 100 | elapsed:    2.8s remaining:    0.1s\n",
            "[Parallel(n_jobs=40)]: Done 100 out of 100 | elapsed:    2.8s finished\n",
            "[Parallel(n_jobs=40)]: Using backend ThreadingBackend with 40 concurrent workers.\n",
            "[Parallel(n_jobs=40)]: Done   5 tasks      | elapsed:    0.3s\n",
            "[Parallel(n_jobs=40)]: Done  18 tasks      | elapsed:    0.3s\n",
            "[Parallel(n_jobs=40)]: Done  32 out of 100 | elapsed:    0.3s remaining:    0.6s\n",
            "[Parallel(n_jobs=40)]: Done  43 out of 100 | elapsed:    0.5s remaining:    0.6s\n",
            "[Parallel(n_jobs=40)]: Done  54 out of 100 | elapsed:    0.5s remaining:    0.4s\n",
            "[Parallel(n_jobs=40)]: Done  65 out of 100 | elapsed:    0.5s remaining:    0.3s\n",
            "[Parallel(n_jobs=40)]: Done  76 out of 100 | elapsed:    0.6s remaining:    0.2s\n",
            "[Parallel(n_jobs=40)]: Done  87 out of 100 | elapsed:    0.7s remaining:    0.1s\n",
            "[Parallel(n_jobs=40)]: Done  98 out of 100 | elapsed:    0.8s remaining:    0.0s\n",
            "[Parallel(n_jobs=40)]: Done 100 out of 100 | elapsed:    0.8s finished\n",
            "[Parallel(n_jobs=40)]: Using backend ThreadingBackend with 40 concurrent workers.\n",
            "[Parallel(n_jobs=40)]: Done   5 tasks      | elapsed:    0.3s\n",
            "[Parallel(n_jobs=40)]: Done  18 tasks      | elapsed:    0.3s\n",
            "[Parallel(n_jobs=40)]: Done  32 out of 100 | elapsed:    0.3s remaining:    0.6s\n",
            "[Parallel(n_jobs=40)]: Done  43 out of 100 | elapsed:    0.5s remaining:    0.6s\n",
            "[Parallel(n_jobs=40)]: Done  54 out of 100 | elapsed:    0.5s remaining:    0.4s\n",
            "[Parallel(n_jobs=40)]: Done  65 out of 100 | elapsed:    0.5s remaining:    0.3s\n",
            "[Parallel(n_jobs=40)]: Done  76 out of 100 | elapsed:    0.6s remaining:    0.2s\n",
            "[Parallel(n_jobs=40)]: Done  87 out of 100 | elapsed:    0.7s remaining:    0.1s\n",
            "[Parallel(n_jobs=40)]: Done  98 out of 100 | elapsed:    0.7s remaining:    0.0s\n",
            "[Parallel(n_jobs=40)]: Done 100 out of 100 | elapsed:    0.8s finished\n"
          ],
          "name": "stderr"
        },
        {
          "output_type": "stream",
          "text": [
            "Typo_Stemming - 4 Inferenced : 0.8351254463195801s\ttrain ACC : 0.9918142702223673 test ACC : 0.9227288981482921 test F1 : 0.8033240997229918\n",
            "building tree 1 of 100\n",
            "building tree 2 of 100\n",
            "building tree 3 of 100\n",
            "building tree 4 of 100\n",
            "building tree 5 of 100\n",
            "building tree 6 of 100\n",
            "building tree 7 of 100\n",
            "building tree 8 of 100\n",
            "building tree 9 of 100\n",
            "building tree 10 of 100\n",
            "building tree 11 of 100\n",
            "building tree 12 of 100\n",
            "building tree 13 of 100\n",
            "building tree 14 of 100\n",
            "building tree 15 of 100\n",
            "building tree 16 of 100\n",
            "building tree 17 of 100\n"
          ],
          "name": "stdout"
        },
        {
          "output_type": "stream",
          "text": [
            "[Parallel(n_jobs=-1)]: Using backend ThreadingBackend with 40 concurrent workers.\n"
          ],
          "name": "stderr"
        },
        {
          "output_type": "stream",
          "text": [
            "building tree 18 of 100\n",
            "building tree 19 of 100\n",
            "building tree 20 of 100\n",
            "building tree 21 of 100\n",
            "building tree 22 of 100\n",
            "building tree 23 of 100\n",
            "building tree 24 of 100\n",
            "building tree 25 of 100\n",
            "building tree 26 of 100\n",
            "building tree 27 of 100\n",
            "building tree 28 of 100\n",
            "building tree 29 of 100\n",
            "building tree 30 of 100\n",
            "building tree 31 of 100\n",
            "building tree 32 of 100\n",
            "building tree 33 of 100\n",
            "building tree 34 of 100\n",
            "building tree 35 of 100\n",
            "building tree 36 of 100\n",
            "building tree 37 of 100\n",
            "building tree 38 of 100\n",
            "building tree 39 of 100\n",
            "building tree 40 of 100\n",
            "building tree 41 of 100\n",
            "building tree 42 of 100\n",
            "building tree 43 of 100\n",
            "building tree 44 of 100\n"
          ],
          "name": "stdout"
        },
        {
          "output_type": "stream",
          "text": [
            "[Parallel(n_jobs=-1)]: Done   5 tasks      | elapsed:   30.3s\n"
          ],
          "name": "stderr"
        },
        {
          "output_type": "stream",
          "text": [
            "building tree 45 of 100\n",
            "building tree 46 of 100\n",
            "building tree 47 of 100\n",
            "building tree 48 of 100\n",
            "building tree 49 of 100\n",
            "building tree 50 of 100\n",
            "building tree 51 of 100\n",
            "building tree 52 of 100\n",
            "building tree 53 of 100\n",
            "building tree 54 of 100\n",
            "building tree 55 of 100\n",
            "building tree 56 of 100\n",
            "building tree 57 of 100\n",
            "building tree 58 of 100\n",
            "building tree 59 of 100\n"
          ],
          "name": "stdout"
        },
        {
          "output_type": "stream",
          "text": [
            "[Parallel(n_jobs=-1)]: Done  18 tasks      | elapsed:   31.4s\n"
          ],
          "name": "stderr"
        },
        {
          "output_type": "stream",
          "text": [
            "building tree 60 of 100\n",
            "building tree 61 of 100\n",
            "building tree 62 of 100\n",
            "building tree 63 of 100\n",
            "building tree 64 of 100\n",
            "building tree 65 of 100\n",
            "building tree 66 of 100\n",
            "building tree 67 of 100\n",
            "building tree 68 of 100\n",
            "building tree 69 of 100\n",
            "building tree 70 of 100\n",
            "building tree 71 of 100\n"
          ],
          "name": "stdout"
        },
        {
          "output_type": "stream",
          "text": [
            "[Parallel(n_jobs=-1)]: Done  32 out of 100 | elapsed:   32.7s remaining:  1.2min\n"
          ],
          "name": "stderr"
        },
        {
          "output_type": "stream",
          "text": [
            "building tree 72 of 100\n",
            "building tree 73 of 100\n",
            "building tree 74 of 100\n",
            "building tree 75 of 100\n",
            "building tree 76 of 100\n",
            "building tree 77 of 100\n",
            "building tree 78 of 100\n",
            "building tree 79 of 100\n",
            "building tree 80 of 100\n",
            "building tree 81 of 100\n",
            "building tree 82 of 100\n"
          ],
          "name": "stdout"
        },
        {
          "output_type": "stream",
          "text": [
            "[Parallel(n_jobs=-1)]: Done  43 out of 100 | elapsed:  1.0min remaining:  1.4min\n"
          ],
          "name": "stderr"
        },
        {
          "output_type": "stream",
          "text": [
            "building tree 83 of 100\n",
            "building tree 84 of 100\n",
            "building tree 85 of 100\n",
            "building tree 86 of 100\n",
            "building tree 87 of 100\n",
            "building tree 88 of 100\n",
            "building tree 89 of 100\n",
            "building tree 90 of 100\n",
            "building tree 91 of 100\n",
            "building tree 92 of 100\n",
            "building tree 93 of 100\n",
            "building tree 94 of 100\n",
            "building tree 95 of 100\n"
          ],
          "name": "stdout"
        },
        {
          "output_type": "stream",
          "text": [
            "[Parallel(n_jobs=-1)]: Done  54 out of 100 | elapsed:  1.1min remaining:   54.9s\n"
          ],
          "name": "stderr"
        },
        {
          "output_type": "stream",
          "text": [
            "building tree 96 of 100\n",
            "building tree 97 of 100\n",
            "building tree 98 of 100\n",
            "building tree 99 of 100\n",
            "building tree 100 of 100\n"
          ],
          "name": "stdout"
        },
        {
          "output_type": "stream",
          "text": [
            "[Parallel(n_jobs=-1)]: Done  65 out of 100 | elapsed:  1.1min remaining:   35.2s\n",
            "[Parallel(n_jobs=-1)]: Done  76 out of 100 | elapsed:  1.1min remaining:   20.9s\n",
            "[Parallel(n_jobs=-1)]: Done  87 out of 100 | elapsed:  1.3min remaining:   11.9s\n",
            "[Parallel(n_jobs=-1)]: Done  98 out of 100 | elapsed:  1.3min remaining:    1.6s\n",
            "[Parallel(n_jobs=-1)]: Done 100 out of 100 | elapsed:  1.3min finished\n",
            "[Parallel(n_jobs=40)]: Using backend ThreadingBackend with 40 concurrent workers.\n"
          ],
          "name": "stderr"
        },
        {
          "output_type": "stream",
          "text": [
            "Typo_Stemming - 5 Trained\n"
          ],
          "name": "stdout"
        },
        {
          "output_type": "stream",
          "text": [
            "[Parallel(n_jobs=40)]: Done   5 tasks      | elapsed:    1.0s\n",
            "[Parallel(n_jobs=40)]: Done  18 tasks      | elapsed:    1.0s\n",
            "[Parallel(n_jobs=40)]: Done  32 out of 100 | elapsed:    1.1s remaining:    2.3s\n",
            "[Parallel(n_jobs=40)]: Done  43 out of 100 | elapsed:    1.9s remaining:    2.6s\n",
            "[Parallel(n_jobs=40)]: Done  54 out of 100 | elapsed:    2.0s remaining:    1.7s\n",
            "[Parallel(n_jobs=40)]: Done  65 out of 100 | elapsed:    2.1s remaining:    1.1s\n",
            "[Parallel(n_jobs=40)]: Done  76 out of 100 | elapsed:    2.1s remaining:    0.7s\n",
            "[Parallel(n_jobs=40)]: Done  87 out of 100 | elapsed:    2.8s remaining:    0.4s\n",
            "[Parallel(n_jobs=40)]: Done  98 out of 100 | elapsed:    2.9s remaining:    0.1s\n",
            "[Parallel(n_jobs=40)]: Done 100 out of 100 | elapsed:    2.9s finished\n",
            "[Parallel(n_jobs=40)]: Using backend ThreadingBackend with 40 concurrent workers.\n",
            "[Parallel(n_jobs=40)]: Done   5 tasks      | elapsed:    1.0s\n",
            "[Parallel(n_jobs=40)]: Done  18 tasks      | elapsed:    1.0s\n",
            "[Parallel(n_jobs=40)]: Done  32 out of 100 | elapsed:    1.1s remaining:    2.3s\n",
            "[Parallel(n_jobs=40)]: Done  43 out of 100 | elapsed:    2.0s remaining:    2.6s\n",
            "[Parallel(n_jobs=40)]: Done  54 out of 100 | elapsed:    2.0s remaining:    1.7s\n",
            "[Parallel(n_jobs=40)]: Done  65 out of 100 | elapsed:    2.1s remaining:    1.1s\n",
            "[Parallel(n_jobs=40)]: Done  76 out of 100 | elapsed:    2.1s remaining:    0.7s\n",
            "[Parallel(n_jobs=40)]: Done  87 out of 100 | elapsed:    2.8s remaining:    0.4s\n",
            "[Parallel(n_jobs=40)]: Done  98 out of 100 | elapsed:    2.9s remaining:    0.1s\n",
            "[Parallel(n_jobs=40)]: Done 100 out of 100 | elapsed:    2.9s finished\n",
            "[Parallel(n_jobs=40)]: Using backend ThreadingBackend with 40 concurrent workers.\n",
            "[Parallel(n_jobs=40)]: Done   5 tasks      | elapsed:    0.3s\n",
            "[Parallel(n_jobs=40)]: Done  18 tasks      | elapsed:    0.3s\n",
            "[Parallel(n_jobs=40)]: Done  32 out of 100 | elapsed:    0.3s remaining:    0.6s\n",
            "[Parallel(n_jobs=40)]: Done  43 out of 100 | elapsed:    0.5s remaining:    0.7s\n",
            "[Parallel(n_jobs=40)]: Done  54 out of 100 | elapsed:    0.5s remaining:    0.5s\n",
            "[Parallel(n_jobs=40)]: Done  65 out of 100 | elapsed:    0.6s remaining:    0.3s\n",
            "[Parallel(n_jobs=40)]: Done  76 out of 100 | elapsed:    0.6s remaining:    0.2s\n",
            "[Parallel(n_jobs=40)]: Done  87 out of 100 | elapsed:    0.7s remaining:    0.1s\n",
            "[Parallel(n_jobs=40)]: Done  98 out of 100 | elapsed:    0.8s remaining:    0.0s\n",
            "[Parallel(n_jobs=40)]: Done 100 out of 100 | elapsed:    0.8s finished\n",
            "[Parallel(n_jobs=40)]: Using backend ThreadingBackend with 40 concurrent workers.\n",
            "[Parallel(n_jobs=40)]: Done   5 tasks      | elapsed:    0.3s\n",
            "[Parallel(n_jobs=40)]: Done  18 tasks      | elapsed:    0.3s\n",
            "[Parallel(n_jobs=40)]: Done  32 out of 100 | elapsed:    0.3s remaining:    0.6s\n",
            "[Parallel(n_jobs=40)]: Done  43 out of 100 | elapsed:    0.5s remaining:    0.7s\n",
            "[Parallel(n_jobs=40)]: Done  54 out of 100 | elapsed:    0.5s remaining:    0.5s\n",
            "[Parallel(n_jobs=40)]: Done  65 out of 100 | elapsed:    0.6s remaining:    0.3s\n",
            "[Parallel(n_jobs=40)]: Done  76 out of 100 | elapsed:    0.6s remaining:    0.2s\n",
            "[Parallel(n_jobs=40)]: Done  87 out of 100 | elapsed:    0.7s remaining:    0.1s\n",
            "[Parallel(n_jobs=40)]: Done  98 out of 100 | elapsed:    0.8s remaining:    0.0s\n",
            "[Parallel(n_jobs=40)]: Done 100 out of 100 | elapsed:    0.8s finished\n"
          ],
          "name": "stderr"
        },
        {
          "output_type": "stream",
          "text": [
            "Typo_Stemming - 5 Inferenced : 0.8371508121490479s\ttrain ACC : 0.9919192154759268 test ACC : 0.9223402105132231 test F1 : 0.8029663524121337\n"
          ],
          "name": "stdout"
        },
        {
          "output_type": "execute_result",
          "data": {
            "text/html": [
              "<div>\n",
              "<style scoped>\n",
              "    .dataframe tbody tr th:only-of-type {\n",
              "        vertical-align: middle;\n",
              "    }\n",
              "\n",
              "    .dataframe tbody tr th {\n",
              "        vertical-align: top;\n",
              "    }\n",
              "\n",
              "    .dataframe thead th {\n",
              "        text-align: right;\n",
              "    }\n",
              "</style>\n",
              "<table border=\"1\" class=\"dataframe\">\n",
              "  <thead>\n",
              "    <tr style=\"text-align: right;\">\n",
              "      <th></th>\n",
              "      <th>Model</th>\n",
              "      <th>Dataset</th>\n",
              "      <th>K_fold</th>\n",
              "      <th>Train_Score(ACC)</th>\n",
              "      <th>Train_Score(ROC_AUC)</th>\n",
              "      <th>Train_Score(F1)</th>\n",
              "      <th>Test_Score(ACC)</th>\n",
              "      <th>Test_Score(ROC_AUC)</th>\n",
              "      <th>Test_Score(F1)</th>\n",
              "      <th>Inference_Time</th>\n",
              "      <th>words_nums</th>\n",
              "    </tr>\n",
              "  </thead>\n",
              "  <tbody>\n",
              "    <tr>\n",
              "      <th>0</th>\n",
              "      <td>RandomForestClassifier</td>\n",
              "      <td>Clean_Raw</td>\n",
              "      <td>1.0</td>\n",
              "      <td>0.991231</td>\n",
              "      <td>0.998442</td>\n",
              "      <td>0.978948</td>\n",
              "      <td>0.925684</td>\n",
              "      <td>0.948125</td>\n",
              "      <td>0.811781</td>\n",
              "      <td>1.035970</td>\n",
              "      <td>1955231.0</td>\n",
              "    </tr>\n",
              "    <tr>\n",
              "      <th>0</th>\n",
              "      <td>RandomForestClassifier</td>\n",
              "      <td>Clean_Raw</td>\n",
              "      <td>2.0</td>\n",
              "      <td>0.991332</td>\n",
              "      <td>0.998444</td>\n",
              "      <td>0.979160</td>\n",
              "      <td>0.926585</td>\n",
              "      <td>0.948577</td>\n",
              "      <td>0.814664</td>\n",
              "      <td>0.940982</td>\n",
              "      <td>1939953.0</td>\n",
              "    </tr>\n",
              "    <tr>\n",
              "      <th>0</th>\n",
              "      <td>RandomForestClassifier</td>\n",
              "      <td>Clean_Raw</td>\n",
              "      <td>3.0</td>\n",
              "      <td>0.991445</td>\n",
              "      <td>0.998444</td>\n",
              "      <td>0.979427</td>\n",
              "      <td>0.925170</td>\n",
              "      <td>0.947200</td>\n",
              "      <td>0.811543</td>\n",
              "      <td>0.935964</td>\n",
              "      <td>1951304.0</td>\n",
              "    </tr>\n",
              "    <tr>\n",
              "      <th>0</th>\n",
              "      <td>RandomForestClassifier</td>\n",
              "      <td>Clean_Raw</td>\n",
              "      <td>4.0</td>\n",
              "      <td>0.991103</td>\n",
              "      <td>0.998442</td>\n",
              "      <td>0.978620</td>\n",
              "      <td>0.924937</td>\n",
              "      <td>0.946082</td>\n",
              "      <td>0.810637</td>\n",
              "      <td>1.035798</td>\n",
              "      <td>1941812.0</td>\n",
              "    </tr>\n",
              "    <tr>\n",
              "      <th>0</th>\n",
              "      <td>RandomForestClassifier</td>\n",
              "      <td>Clean_Raw</td>\n",
              "      <td>5.0</td>\n",
              "      <td>0.991647</td>\n",
              "      <td>0.998457</td>\n",
              "      <td>0.979934</td>\n",
              "      <td>0.924564</td>\n",
              "      <td>0.944884</td>\n",
              "      <td>0.809696</td>\n",
              "      <td>0.935395</td>\n",
              "      <td>1935521.0</td>\n",
              "    </tr>\n",
              "    <tr>\n",
              "      <th>0</th>\n",
              "      <td>RandomForestClassifier</td>\n",
              "      <td>Clean_Stopword</td>\n",
              "      <td>1.0</td>\n",
              "      <td>0.991002</td>\n",
              "      <td>0.998344</td>\n",
              "      <td>0.978385</td>\n",
              "      <td>0.925373</td>\n",
              "      <td>0.947870</td>\n",
              "      <td>0.810905</td>\n",
              "      <td>1.034342</td>\n",
              "      <td>1955231.0</td>\n",
              "    </tr>\n",
              "    <tr>\n",
              "      <th>0</th>\n",
              "      <td>RandomForestClassifier</td>\n",
              "      <td>Clean_Stopword</td>\n",
              "      <td>2.0</td>\n",
              "      <td>0.991060</td>\n",
              "      <td>0.998324</td>\n",
              "      <td>0.978499</td>\n",
              "      <td>0.926973</td>\n",
              "      <td>0.948607</td>\n",
              "      <td>0.815999</td>\n",
              "      <td>1.035531</td>\n",
              "      <td>1939953.0</td>\n",
              "    </tr>\n",
              "    <tr>\n",
              "      <th>0</th>\n",
              "      <td>RandomForestClassifier</td>\n",
              "      <td>Clean_Stopword</td>\n",
              "      <td>3.0</td>\n",
              "      <td>0.991169</td>\n",
              "      <td>0.998356</td>\n",
              "      <td>0.978749</td>\n",
              "      <td>0.925139</td>\n",
              "      <td>0.947419</td>\n",
              "      <td>0.811021</td>\n",
              "      <td>1.035096</td>\n",
              "      <td>1951304.0</td>\n",
              "    </tr>\n",
              "    <tr>\n",
              "      <th>0</th>\n",
              "      <td>RandomForestClassifier</td>\n",
              "      <td>Clean_Stopword</td>\n",
              "      <td>4.0</td>\n",
              "      <td>0.990874</td>\n",
              "      <td>0.998333</td>\n",
              "      <td>0.978061</td>\n",
              "      <td>0.926025</td>\n",
              "      <td>0.947355</td>\n",
              "      <td>0.813441</td>\n",
              "      <td>1.036735</td>\n",
              "      <td>1941812.0</td>\n",
              "    </tr>\n",
              "    <tr>\n",
              "      <th>0</th>\n",
              "      <td>RandomForestClassifier</td>\n",
              "      <td>Clean_Stopword</td>\n",
              "      <td>5.0</td>\n",
              "      <td>0.991126</td>\n",
              "      <td>0.998353</td>\n",
              "      <td>0.978665</td>\n",
              "      <td>0.924113</td>\n",
              "      <td>0.945227</td>\n",
              "      <td>0.808866</td>\n",
              "      <td>1.036548</td>\n",
              "      <td>1935521.0</td>\n",
              "    </tr>\n",
              "    <tr>\n",
              "      <th>0</th>\n",
              "      <td>RandomForestClassifier</td>\n",
              "      <td>Clean_Stemming</td>\n",
              "      <td>1.0</td>\n",
              "      <td>0.991830</td>\n",
              "      <td>0.998489</td>\n",
              "      <td>0.980405</td>\n",
              "      <td>0.926819</td>\n",
              "      <td>0.950289</td>\n",
              "      <td>0.814063</td>\n",
              "      <td>0.837111</td>\n",
              "      <td>1955231.0</td>\n",
              "    </tr>\n",
              "    <tr>\n",
              "      <th>0</th>\n",
              "      <td>RandomForestClassifier</td>\n",
              "      <td>Clean_Stemming</td>\n",
              "      <td>2.0</td>\n",
              "      <td>0.992059</td>\n",
              "      <td>0.998560</td>\n",
              "      <td>0.980943</td>\n",
              "      <td>0.928186</td>\n",
              "      <td>0.951466</td>\n",
              "      <td>0.819309</td>\n",
              "      <td>0.936934</td>\n",
              "      <td>1939953.0</td>\n",
              "    </tr>\n",
              "    <tr>\n",
              "      <th>0</th>\n",
              "      <td>RandomForestClassifier</td>\n",
              "      <td>Clean_Stemming</td>\n",
              "      <td>3.0</td>\n",
              "      <td>0.992040</td>\n",
              "      <td>0.998524</td>\n",
              "      <td>0.980879</td>\n",
              "      <td>0.926973</td>\n",
              "      <td>0.949742</td>\n",
              "      <td>0.815811</td>\n",
              "      <td>0.836984</td>\n",
              "      <td>1951304.0</td>\n",
              "    </tr>\n",
              "    <tr>\n",
              "      <th>0</th>\n",
              "      <td>RandomForestClassifier</td>\n",
              "      <td>Clean_Stemming</td>\n",
              "      <td>4.0</td>\n",
              "      <td>0.991873</td>\n",
              "      <td>0.998498</td>\n",
              "      <td>0.980499</td>\n",
              "      <td>0.926973</td>\n",
              "      <td>0.950159</td>\n",
              "      <td>0.815883</td>\n",
              "      <td>0.836667</td>\n",
              "      <td>1941812.0</td>\n",
              "    </tr>\n",
              "    <tr>\n",
              "      <th>0</th>\n",
              "      <td>RandomForestClassifier</td>\n",
              "      <td>Clean_Stemming</td>\n",
              "      <td>5.0</td>\n",
              "      <td>0.991919</td>\n",
              "      <td>0.998549</td>\n",
              "      <td>0.980599</td>\n",
              "      <td>0.926367</td>\n",
              "      <td>0.949013</td>\n",
              "      <td>0.814594</td>\n",
              "      <td>0.836074</td>\n",
              "      <td>1935521.0</td>\n",
              "    </tr>\n",
              "    <tr>\n",
              "      <th>0</th>\n",
              "      <td>RandomForestClassifier</td>\n",
              "      <td>Typo_Raw</td>\n",
              "      <td>1.0</td>\n",
              "      <td>0.991433</td>\n",
              "      <td>0.998515</td>\n",
              "      <td>0.979436</td>\n",
              "      <td>0.921704</td>\n",
              "      <td>0.944452</td>\n",
              "      <td>0.800539</td>\n",
              "      <td>1.037357</td>\n",
              "      <td>1955231.0</td>\n",
              "    </tr>\n",
              "    <tr>\n",
              "      <th>0</th>\n",
              "      <td>RandomForestClassifier</td>\n",
              "      <td>Typo_Raw</td>\n",
              "      <td>2.0</td>\n",
              "      <td>0.991468</td>\n",
              "      <td>0.998504</td>\n",
              "      <td>0.979499</td>\n",
              "      <td>0.922962</td>\n",
              "      <td>0.944724</td>\n",
              "      <td>0.804544</td>\n",
              "      <td>1.038862</td>\n",
              "      <td>1939953.0</td>\n",
              "    </tr>\n",
              "    <tr>\n",
              "      <th>0</th>\n",
              "      <td>RandomForestClassifier</td>\n",
              "      <td>Typo_Raw</td>\n",
              "      <td>3.0</td>\n",
              "      <td>0.991616</td>\n",
              "      <td>0.998528</td>\n",
              "      <td>0.979841</td>\n",
              "      <td>0.922091</td>\n",
              "      <td>0.943181</td>\n",
              "      <td>0.802351</td>\n",
              "      <td>1.040406</td>\n",
              "      <td>1951304.0</td>\n",
              "    </tr>\n",
              "    <tr>\n",
              "      <th>0</th>\n",
              "      <td>RandomForestClassifier</td>\n",
              "      <td>Typo_Raw</td>\n",
              "      <td>4.0</td>\n",
              "      <td>0.991422</td>\n",
              "      <td>0.998515</td>\n",
              "      <td>0.979410</td>\n",
              "      <td>0.921656</td>\n",
              "      <td>0.942954</td>\n",
              "      <td>0.801262</td>\n",
              "      <td>0.938356</td>\n",
              "      <td>1941812.0</td>\n",
              "    </tr>\n",
              "    <tr>\n",
              "      <th>0</th>\n",
              "      <td>RandomForestClassifier</td>\n",
              "      <td>Typo_Raw</td>\n",
              "      <td>5.0</td>\n",
              "      <td>0.991740</td>\n",
              "      <td>0.998529</td>\n",
              "      <td>0.980164</td>\n",
              "      <td>0.921765</td>\n",
              "      <td>0.942978</td>\n",
              "      <td>0.801327</td>\n",
              "      <td>0.937215</td>\n",
              "      <td>1935521.0</td>\n",
              "    </tr>\n",
              "    <tr>\n",
              "      <th>0</th>\n",
              "      <td>RandomForestClassifier</td>\n",
              "      <td>Typo_Stopword</td>\n",
              "      <td>1.0</td>\n",
              "      <td>0.991181</td>\n",
              "      <td>0.998425</td>\n",
              "      <td>0.978826</td>\n",
              "      <td>0.921766</td>\n",
              "      <td>0.944520</td>\n",
              "      <td>0.800286</td>\n",
              "      <td>1.036235</td>\n",
              "      <td>1955231.0</td>\n",
              "    </tr>\n",
              "    <tr>\n",
              "      <th>0</th>\n",
              "      <td>RandomForestClassifier</td>\n",
              "      <td>Typo_Stopword</td>\n",
              "      <td>2.0</td>\n",
              "      <td>0.991204</td>\n",
              "      <td>0.998411</td>\n",
              "      <td>0.978855</td>\n",
              "      <td>0.922760</td>\n",
              "      <td>0.945106</td>\n",
              "      <td>0.803807</td>\n",
              "      <td>1.035891</td>\n",
              "      <td>1939953.0</td>\n",
              "    </tr>\n",
              "    <tr>\n",
              "      <th>0</th>\n",
              "      <td>RandomForestClassifier</td>\n",
              "      <td>Typo_Stopword</td>\n",
              "      <td>3.0</td>\n",
              "      <td>0.991496</td>\n",
              "      <td>0.998456</td>\n",
              "      <td>0.979558</td>\n",
              "      <td>0.922527</td>\n",
              "      <td>0.944075</td>\n",
              "      <td>0.803176</td>\n",
              "      <td>1.035068</td>\n",
              "      <td>1951304.0</td>\n",
              "    </tr>\n",
              "    <tr>\n",
              "      <th>0</th>\n",
              "      <td>RandomForestClassifier</td>\n",
              "      <td>Typo_Stopword</td>\n",
              "      <td>4.0</td>\n",
              "      <td>0.991188</td>\n",
              "      <td>0.998439</td>\n",
              "      <td>0.978835</td>\n",
              "      <td>0.921563</td>\n",
              "      <td>0.943414</td>\n",
              "      <td>0.800947</td>\n",
              "      <td>1.036661</td>\n",
              "      <td>1941812.0</td>\n",
              "    </tr>\n",
              "    <tr>\n",
              "      <th>0</th>\n",
              "      <td>RandomForestClassifier</td>\n",
              "      <td>Typo_Stopword</td>\n",
              "      <td>5.0</td>\n",
              "      <td>0.991325</td>\n",
              "      <td>0.998439</td>\n",
              "      <td>0.979143</td>\n",
              "      <td>0.920583</td>\n",
              "      <td>0.942857</td>\n",
              "      <td>0.798913</td>\n",
              "      <td>1.035119</td>\n",
              "      <td>1935521.0</td>\n",
              "    </tr>\n",
              "    <tr>\n",
              "      <th>0</th>\n",
              "      <td>RandomForestClassifier</td>\n",
              "      <td>Typo_Stemming</td>\n",
              "      <td>1.0</td>\n",
              "      <td>0.991744</td>\n",
              "      <td>0.998550</td>\n",
              "      <td>0.980193</td>\n",
              "      <td>0.923197</td>\n",
              "      <td>0.945631</td>\n",
              "      <td>0.803281</td>\n",
              "      <td>0.838167</td>\n",
              "      <td>1955231.0</td>\n",
              "    </tr>\n",
              "    <tr>\n",
              "      <th>0</th>\n",
              "      <td>RandomForestClassifier</td>\n",
              "      <td>Typo_Stemming</td>\n",
              "      <td>2.0</td>\n",
              "      <td>0.991845</td>\n",
              "      <td>0.998602</td>\n",
              "      <td>0.980420</td>\n",
              "      <td>0.923708</td>\n",
              "      <td>0.946576</td>\n",
              "      <td>0.805686</td>\n",
              "      <td>0.834655</td>\n",
              "      <td>1939953.0</td>\n",
              "    </tr>\n",
              "    <tr>\n",
              "      <th>0</th>\n",
              "      <td>RandomForestClassifier</td>\n",
              "      <td>Typo_Stemming</td>\n",
              "      <td>3.0</td>\n",
              "      <td>0.991814</td>\n",
              "      <td>0.998572</td>\n",
              "      <td>0.980335</td>\n",
              "      <td>0.922993</td>\n",
              "      <td>0.945019</td>\n",
              "      <td>0.804129</td>\n",
              "      <td>0.834426</td>\n",
              "      <td>1951304.0</td>\n",
              "    </tr>\n",
              "    <tr>\n",
              "      <th>0</th>\n",
              "      <td>RandomForestClassifier</td>\n",
              "      <td>Typo_Stemming</td>\n",
              "      <td>4.0</td>\n",
              "      <td>0.991814</td>\n",
              "      <td>0.998565</td>\n",
              "      <td>0.980360</td>\n",
              "      <td>0.922729</td>\n",
              "      <td>0.945821</td>\n",
              "      <td>0.803324</td>\n",
              "      <td>0.835125</td>\n",
              "      <td>1941812.0</td>\n",
              "    </tr>\n",
              "    <tr>\n",
              "      <th>0</th>\n",
              "      <td>RandomForestClassifier</td>\n",
              "      <td>Typo_Stemming</td>\n",
              "      <td>5.0</td>\n",
              "      <td>0.991919</td>\n",
              "      <td>0.998578</td>\n",
              "      <td>0.980602</td>\n",
              "      <td>0.922340</td>\n",
              "      <td>0.944850</td>\n",
              "      <td>0.802966</td>\n",
              "      <td>0.837151</td>\n",
              "      <td>1935521.0</td>\n",
              "    </tr>\n",
              "  </tbody>\n",
              "</table>\n",
              "</div>"
            ],
            "text/plain": [
              "                    Model         Dataset  ...  Inference_Time  words_nums\n",
              "0  RandomForestClassifier       Clean_Raw  ...        1.035970   1955231.0\n",
              "0  RandomForestClassifier       Clean_Raw  ...        0.940982   1939953.0\n",
              "0  RandomForestClassifier       Clean_Raw  ...        0.935964   1951304.0\n",
              "0  RandomForestClassifier       Clean_Raw  ...        1.035798   1941812.0\n",
              "0  RandomForestClassifier       Clean_Raw  ...        0.935395   1935521.0\n",
              "0  RandomForestClassifier  Clean_Stopword  ...        1.034342   1955231.0\n",
              "0  RandomForestClassifier  Clean_Stopword  ...        1.035531   1939953.0\n",
              "0  RandomForestClassifier  Clean_Stopword  ...        1.035096   1951304.0\n",
              "0  RandomForestClassifier  Clean_Stopword  ...        1.036735   1941812.0\n",
              "0  RandomForestClassifier  Clean_Stopword  ...        1.036548   1935521.0\n",
              "0  RandomForestClassifier  Clean_Stemming  ...        0.837111   1955231.0\n",
              "0  RandomForestClassifier  Clean_Stemming  ...        0.936934   1939953.0\n",
              "0  RandomForestClassifier  Clean_Stemming  ...        0.836984   1951304.0\n",
              "0  RandomForestClassifier  Clean_Stemming  ...        0.836667   1941812.0\n",
              "0  RandomForestClassifier  Clean_Stemming  ...        0.836074   1935521.0\n",
              "0  RandomForestClassifier        Typo_Raw  ...        1.037357   1955231.0\n",
              "0  RandomForestClassifier        Typo_Raw  ...        1.038862   1939953.0\n",
              "0  RandomForestClassifier        Typo_Raw  ...        1.040406   1951304.0\n",
              "0  RandomForestClassifier        Typo_Raw  ...        0.938356   1941812.0\n",
              "0  RandomForestClassifier        Typo_Raw  ...        0.937215   1935521.0\n",
              "0  RandomForestClassifier   Typo_Stopword  ...        1.036235   1955231.0\n",
              "0  RandomForestClassifier   Typo_Stopword  ...        1.035891   1939953.0\n",
              "0  RandomForestClassifier   Typo_Stopword  ...        1.035068   1951304.0\n",
              "0  RandomForestClassifier   Typo_Stopword  ...        1.036661   1941812.0\n",
              "0  RandomForestClassifier   Typo_Stopword  ...        1.035119   1935521.0\n",
              "0  RandomForestClassifier   Typo_Stemming  ...        0.838167   1955231.0\n",
              "0  RandomForestClassifier   Typo_Stemming  ...        0.834655   1939953.0\n",
              "0  RandomForestClassifier   Typo_Stemming  ...        0.834426   1951304.0\n",
              "0  RandomForestClassifier   Typo_Stemming  ...        0.835125   1941812.0\n",
              "0  RandomForestClassifier   Typo_Stemming  ...        0.837151   1935521.0\n",
              "\n",
              "[30 rows x 11 columns]"
            ]
          },
          "metadata": {
            "tags": []
          },
          "execution_count": 27
        }
      ]
    },
    {
      "cell_type": "code",
      "metadata": {
        "id": "iQxEL48nCbnp"
      },
      "source": [
        "eval.to_csv(\"/content/drive/MyDrive/HateSpeech/PERFORMANCE/randomforest_performance.csv\")"
      ],
      "execution_count": null,
      "outputs": []
    },
    {
      "cell_type": "code",
      "metadata": {
        "colab": {
          "base_uri": "https://localhost:8080/",
          "height": 447
        },
        "id": "aF417bzwcllL",
        "outputId": "c50d1070-dc19-49f7-d8dc-92c0a06f80b1"
      },
      "source": [
        "pd.concat([pd.read_csv(\"/content/drive/MyDrive/HateSpeech/PERFORMANCE/randomforest_performance.csv\"),pd.read_csv(\"/content/drive/MyDrive/HateSpeech/PERFORMANCE/logistic_performance.csv\")]).groupby(['Model','Dataset']).mean().sort_values('Test_Score(F1)',ascending=False)"
      ],
      "execution_count": null,
      "outputs": [
        {
          "output_type": "execute_result",
          "data": {
            "text/html": [
              "<div>\n",
              "<style scoped>\n",
              "    .dataframe tbody tr th:only-of-type {\n",
              "        vertical-align: middle;\n",
              "    }\n",
              "\n",
              "    .dataframe tbody tr th {\n",
              "        vertical-align: top;\n",
              "    }\n",
              "\n",
              "    .dataframe thead th {\n",
              "        text-align: right;\n",
              "    }\n",
              "</style>\n",
              "<table border=\"1\" class=\"dataframe\">\n",
              "  <thead>\n",
              "    <tr style=\"text-align: right;\">\n",
              "      <th></th>\n",
              "      <th></th>\n",
              "      <th>Unnamed: 0</th>\n",
              "      <th>K_fold</th>\n",
              "      <th>Train_Score(ACC)</th>\n",
              "      <th>Train_Score(ROC_AUC)</th>\n",
              "      <th>Train_Score(F1)</th>\n",
              "      <th>Test_Score(ACC)</th>\n",
              "      <th>Test_Score(ROC_AUC)</th>\n",
              "      <th>Test_Score(F1)</th>\n",
              "      <th>Inference_Time</th>\n",
              "      <th>words_nums</th>\n",
              "    </tr>\n",
              "    <tr>\n",
              "      <th>Model</th>\n",
              "      <th>Dataset</th>\n",
              "      <th></th>\n",
              "      <th></th>\n",
              "      <th></th>\n",
              "      <th></th>\n",
              "      <th></th>\n",
              "      <th></th>\n",
              "      <th></th>\n",
              "      <th></th>\n",
              "      <th></th>\n",
              "      <th></th>\n",
              "    </tr>\n",
              "  </thead>\n",
              "  <tbody>\n",
              "    <tr>\n",
              "      <th rowspan=\"4\" valign=\"top\">RandomForestClassifier</th>\n",
              "      <th>Clean_Stemming</th>\n",
              "      <td>0</td>\n",
              "      <td>3.0</td>\n",
              "      <td>0.991944</td>\n",
              "      <td>0.998524</td>\n",
              "      <td>0.980665</td>\n",
              "      <td>0.927064</td>\n",
              "      <td>0.950134</td>\n",
              "      <td>0.815932</td>\n",
              "      <td>0.856754</td>\n",
              "      <td>1944764.2</td>\n",
              "    </tr>\n",
              "    <tr>\n",
              "      <th>Clean_Stopword</th>\n",
              "      <td>0</td>\n",
              "      <td>3.0</td>\n",
              "      <td>0.991046</td>\n",
              "      <td>0.998342</td>\n",
              "      <td>0.978472</td>\n",
              "      <td>0.925525</td>\n",
              "      <td>0.947295</td>\n",
              "      <td>0.812046</td>\n",
              "      <td>1.035650</td>\n",
              "      <td>1944764.2</td>\n",
              "    </tr>\n",
              "    <tr>\n",
              "      <th>Clean_Raw</th>\n",
              "      <td>0</td>\n",
              "      <td>3.0</td>\n",
              "      <td>0.991352</td>\n",
              "      <td>0.998446</td>\n",
              "      <td>0.979218</td>\n",
              "      <td>0.925388</td>\n",
              "      <td>0.946973</td>\n",
              "      <td>0.811664</td>\n",
              "      <td>0.976822</td>\n",
              "      <td>1944764.2</td>\n",
              "    </tr>\n",
              "    <tr>\n",
              "      <th>Typo_Stemming</th>\n",
              "      <td>0</td>\n",
              "      <td>3.0</td>\n",
              "      <td>0.991827</td>\n",
              "      <td>0.998573</td>\n",
              "      <td>0.980382</td>\n",
              "      <td>0.922993</td>\n",
              "      <td>0.945579</td>\n",
              "      <td>0.803877</td>\n",
              "      <td>0.835905</td>\n",
              "      <td>1944764.2</td>\n",
              "    </tr>\n",
              "    <tr>\n",
              "      <th>LogisticRegression</th>\n",
              "      <th>Clean_Stemming</th>\n",
              "      <td>0</td>\n",
              "      <td>3.0</td>\n",
              "      <td>0.928669</td>\n",
              "      <td>0.963701</td>\n",
              "      <td>0.812643</td>\n",
              "      <td>0.925018</td>\n",
              "      <td>0.954486</td>\n",
              "      <td>0.802464</td>\n",
              "      <td>0.003961</td>\n",
              "      <td>1944764.2</td>\n",
              "    </tr>\n",
              "    <tr>\n",
              "      <th rowspan=\"2\" valign=\"top\">RandomForestClassifier</th>\n",
              "      <th>Typo_Raw</th>\n",
              "      <td>0</td>\n",
              "      <td>3.0</td>\n",
              "      <td>0.991536</td>\n",
              "      <td>0.998518</td>\n",
              "      <td>0.979670</td>\n",
              "      <td>0.922036</td>\n",
              "      <td>0.943658</td>\n",
              "      <td>0.802004</td>\n",
              "      <td>0.998439</td>\n",
              "      <td>1944764.2</td>\n",
              "    </tr>\n",
              "    <tr>\n",
              "      <th>Typo_Stopword</th>\n",
              "      <td>0</td>\n",
              "      <td>3.0</td>\n",
              "      <td>0.991279</td>\n",
              "      <td>0.998434</td>\n",
              "      <td>0.979043</td>\n",
              "      <td>0.921840</td>\n",
              "      <td>0.943994</td>\n",
              "      <td>0.801426</td>\n",
              "      <td>1.035795</td>\n",
              "      <td>1944764.2</td>\n",
              "    </tr>\n",
              "    <tr>\n",
              "      <th rowspan=\"5\" valign=\"top\">LogisticRegression</th>\n",
              "      <th>Clean_Stopword</th>\n",
              "      <td>0</td>\n",
              "      <td>3.0</td>\n",
              "      <td>0.928309</td>\n",
              "      <td>0.962935</td>\n",
              "      <td>0.811044</td>\n",
              "      <td>0.924299</td>\n",
              "      <td>0.952581</td>\n",
              "      <td>0.799868</td>\n",
              "      <td>0.003854</td>\n",
              "      <td>1944764.2</td>\n",
              "    </tr>\n",
              "    <tr>\n",
              "      <th>Clean_Raw</th>\n",
              "      <td>0</td>\n",
              "      <td>3.0</td>\n",
              "      <td>0.928021</td>\n",
              "      <td>0.962791</td>\n",
              "      <td>0.810214</td>\n",
              "      <td>0.923867</td>\n",
              "      <td>0.952371</td>\n",
              "      <td>0.798539</td>\n",
              "      <td>0.004035</td>\n",
              "      <td>1944764.2</td>\n",
              "    </tr>\n",
              "    <tr>\n",
              "      <th>Typo_Stemming</th>\n",
              "      <td>0</td>\n",
              "      <td>3.0</td>\n",
              "      <td>0.924836</td>\n",
              "      <td>0.960643</td>\n",
              "      <td>0.801203</td>\n",
              "      <td>0.920804</td>\n",
              "      <td>0.950816</td>\n",
              "      <td>0.789912</td>\n",
              "      <td>0.003997</td>\n",
              "      <td>1944764.2</td>\n",
              "    </tr>\n",
              "    <tr>\n",
              "      <th>Typo_Stopword</th>\n",
              "      <td>0</td>\n",
              "      <td>3.0</td>\n",
              "      <td>0.924865</td>\n",
              "      <td>0.960605</td>\n",
              "      <td>0.800868</td>\n",
              "      <td>0.920612</td>\n",
              "      <td>0.949699</td>\n",
              "      <td>0.788799</td>\n",
              "      <td>0.003954</td>\n",
              "      <td>1944764.2</td>\n",
              "    </tr>\n",
              "    <tr>\n",
              "      <th>Typo_Raw</th>\n",
              "      <td>0</td>\n",
              "      <td>3.0</td>\n",
              "      <td>0.924528</td>\n",
              "      <td>0.960417</td>\n",
              "      <td>0.799846</td>\n",
              "      <td>0.920220</td>\n",
              "      <td>0.949477</td>\n",
              "      <td>0.787673</td>\n",
              "      <td>0.004246</td>\n",
              "      <td>1944764.2</td>\n",
              "    </tr>\n",
              "  </tbody>\n",
              "</table>\n",
              "</div>"
            ],
            "text/plain": [
              "                                       Unnamed: 0  ...  words_nums\n",
              "Model                  Dataset                     ...            \n",
              "RandomForestClassifier Clean_Stemming           0  ...   1944764.2\n",
              "                       Clean_Stopword           0  ...   1944764.2\n",
              "                       Clean_Raw                0  ...   1944764.2\n",
              "                       Typo_Stemming            0  ...   1944764.2\n",
              "LogisticRegression     Clean_Stemming           0  ...   1944764.2\n",
              "RandomForestClassifier Typo_Raw                 0  ...   1944764.2\n",
              "                       Typo_Stopword            0  ...   1944764.2\n",
              "LogisticRegression     Clean_Stopword           0  ...   1944764.2\n",
              "                       Clean_Raw                0  ...   1944764.2\n",
              "                       Typo_Stemming            0  ...   1944764.2\n",
              "                       Typo_Stopword            0  ...   1944764.2\n",
              "                       Typo_Raw                 0  ...   1944764.2\n",
              "\n",
              "[12 rows x 10 columns]"
            ]
          },
          "metadata": {
            "tags": []
          },
          "execution_count": 33
        }
      ]
    },
    {
      "cell_type": "markdown",
      "metadata": {
        "id": "YOor83ghfe93"
      },
      "source": [
        "## SVM"
      ]
    },
    {
      "cell_type": "code",
      "metadata": {
        "colab": {
          "base_uri": "https://localhost:8080/"
        },
        "id": "zRAcdhojfhCM",
        "outputId": "cbac74b2-9e78-4eb6-f4eb-62f9fde9f912"
      },
      "source": [
        "from sklearn import svm\n",
        "eval = pd.DataFrame([[np.nan for i in range(11)]])\n",
        "eval.columns = ['Model','Dataset','K_fold','Train_Score(ACC)','Train_Score(ROC_AUC)','Train_Score(F1)','Test_Score(ACC)','Test_Score(ROC_AUC)','Test_Score(F1)','Inference_Time','words_nums']\n",
        "eval = eval.iloc[1:]\n",
        "\n",
        "\n",
        "for data_name in dataset_name:\n",
        "  \n",
        "  LR = svm.SVC()\n",
        "  \n",
        "  # Performance Base DataFrame\n",
        "  LR_list_base = ['svm']\n",
        "  LR_list_base.append(data_name)\n",
        "\n",
        "  # Load Data\n",
        "  X = dataset[data_name]\n",
        "  y = df_cleaned['class']\n",
        "\n",
        "  # K_Fold Cross Validation\n",
        "  for train_index, test_index, k, word_nums in K_FOLD_LIST:\n",
        "    # Get Train, Test\n",
        "    X_train, X_test = X[train_index], X[test_index]\n",
        "    y_train, y_test = y.iloc[train_index], y.iloc[test_index]\n",
        "\n",
        "    # Fit and Inference\n",
        "    LR.fit(X_train,y_train)\n",
        "    print(f\"{data_name} - {k} Trained\")\n",
        "    fitted = LR.predict(X_train)\n",
        "    fitted_proba = LR.predict_proba(X_train)\n",
        "    start = time.time()\n",
        "    pred = LR.predict(X_test)\n",
        "    inference_time = time.time()-start\n",
        "    pred_proba = LR.predict_proba(X_test)\n",
        "    print(f\"{data_name} - {k} Inferenced : {inference_time}s\",end='\\t')\n",
        "    # Evaluate\n",
        "    train_acc = accuracy_score(y_train,fitted)\n",
        "    train_auc = roc_auc_score(y_train,fitted_proba[:,1])\n",
        "    train_f1 = f1_score(y_train,fitted)\n",
        "    test_acc = accuracy_score(y_test,pred)\n",
        "    test_auc = roc_auc_score(y_test,pred_proba[:,1])\n",
        "    test_f1 = f1_score(y_test,pred)\n",
        "    print(f\"train ACC : {train_acc} test ACC : {test_acc} test F1 : {test_f1}\")\n",
        "\n",
        "    LR_list = LR_list_base.copy()\n",
        "    LR_list.append(k)\n",
        "    LR_list.append(train_acc)\n",
        "    LR_list.append(train_auc)\n",
        "    LR_list.append(train_f1)\n",
        "    LR_list.append(test_acc)\n",
        "    LR_list.append(test_auc)\n",
        "    LR_list.append(test_f1)\n",
        "    LR_list.append(inference_time)\n",
        "    LR_list.append(word_nums)\n",
        "    eval = eval.append(pd.DataFrame([LR_list],columns=eval.columns))\n",
        "eval"
      ],
      "execution_count": null,
      "outputs": [
        {
          "output_type": "stream",
          "text": [
            "Clean_Raw - 1 Trained\n"
          ],
          "name": "stdout"
        }
      ]
    },
    {
      "cell_type": "code",
      "metadata": {
        "id": "1sR8E6Z8f44c"
      },
      "source": [
        "eval.to_csv(\"/content/drive/MyDrive/HateSpeech/PERFORMANCE/svm_performance.csv\")"
      ],
      "execution_count": null,
      "outputs": []
    },
    {
      "cell_type": "code",
      "metadata": {
        "colab": {
          "base_uri": "https://localhost:8080/",
          "height": 1000
        },
        "id": "b6dfEMJ-qya-",
        "outputId": "ef75ad63-2a6e-4fc9-e21b-2a31572ce674"
      },
      "source": [
        "import pandas as pd\n",
        "pd.read_csv(\"/content/drive/MyDrive/HateSpeech/PERFORMANCE/lgbm_performance.csv\")\n"
      ],
      "execution_count": null,
      "outputs": [
        {
          "output_type": "execute_result",
          "data": {
            "text/html": [
              "<div>\n",
              "<style scoped>\n",
              "    .dataframe tbody tr th:only-of-type {\n",
              "        vertical-align: middle;\n",
              "    }\n",
              "\n",
              "    .dataframe tbody tr th {\n",
              "        vertical-align: top;\n",
              "    }\n",
              "\n",
              "    .dataframe thead th {\n",
              "        text-align: right;\n",
              "    }\n",
              "</style>\n",
              "<table border=\"1\" class=\"dataframe\">\n",
              "  <thead>\n",
              "    <tr style=\"text-align: right;\">\n",
              "      <th></th>\n",
              "      <th>Unnamed: 0</th>\n",
              "      <th>Model</th>\n",
              "      <th>Dataset</th>\n",
              "      <th>K_fold</th>\n",
              "      <th>Train_Score(ACC)</th>\n",
              "      <th>Train_Score(ROC_AUC)</th>\n",
              "      <th>Train_Score(F1)</th>\n",
              "      <th>Test_Score(ACC)</th>\n",
              "      <th>Test_Score(ROC_AUC)</th>\n",
              "      <th>Test_Score(F1)</th>\n",
              "      <th>Inference_Time</th>\n",
              "      <th>words_nums</th>\n",
              "    </tr>\n",
              "  </thead>\n",
              "  <tbody>\n",
              "    <tr>\n",
              "      <th>0</th>\n",
              "      <td>0</td>\n",
              "      <td>LGBMClassifier</td>\n",
              "      <td>Clean_Raw</td>\n",
              "      <td>1.0</td>\n",
              "      <td>0.926219</td>\n",
              "      <td>0.949357</td>\n",
              "      <td>0.804043</td>\n",
              "      <td>0.924160</td>\n",
              "      <td>0.944846</td>\n",
              "      <td>0.797156</td>\n",
              "      <td>0.031773</td>\n",
              "      <td>1955231.0</td>\n",
              "    </tr>\n",
              "    <tr>\n",
              "      <th>1</th>\n",
              "      <td>0</td>\n",
              "      <td>LGBMClassifier</td>\n",
              "      <td>Clean_Raw</td>\n",
              "      <td>2.0</td>\n",
              "      <td>0.926262</td>\n",
              "      <td>0.949226</td>\n",
              "      <td>0.803980</td>\n",
              "      <td>0.925030</td>\n",
              "      <td>0.945861</td>\n",
              "      <td>0.801105</td>\n",
              "      <td>0.033280</td>\n",
              "      <td>1939953.0</td>\n",
              "    </tr>\n",
              "    <tr>\n",
              "      <th>2</th>\n",
              "      <td>0</td>\n",
              "      <td>LGBMClassifier</td>\n",
              "      <td>Clean_Raw</td>\n",
              "      <td>3.0</td>\n",
              "      <td>0.926562</td>\n",
              "      <td>0.949781</td>\n",
              "      <td>0.804758</td>\n",
              "      <td>0.923397</td>\n",
              "      <td>0.942915</td>\n",
              "      <td>0.796867</td>\n",
              "      <td>0.031659</td>\n",
              "      <td>1951304.0</td>\n",
              "    </tr>\n",
              "    <tr>\n",
              "      <th>3</th>\n",
              "      <td>0</td>\n",
              "      <td>LGBMClassifier</td>\n",
              "      <td>Clean_Raw</td>\n",
              "      <td>4.0</td>\n",
              "      <td>0.926169</td>\n",
              "      <td>0.949133</td>\n",
              "      <td>0.803671</td>\n",
              "      <td>0.923755</td>\n",
              "      <td>0.943736</td>\n",
              "      <td>0.796919</td>\n",
              "      <td>0.033559</td>\n",
              "      <td>1941812.0</td>\n",
              "    </tr>\n",
              "    <tr>\n",
              "      <th>4</th>\n",
              "      <td>0</td>\n",
              "      <td>LGBMClassifier</td>\n",
              "      <td>Clean_Raw</td>\n",
              "      <td>5.0</td>\n",
              "      <td>0.926775</td>\n",
              "      <td>0.949640</td>\n",
              "      <td>0.805745</td>\n",
              "      <td>0.923786</td>\n",
              "      <td>0.943120</td>\n",
              "      <td>0.797872</td>\n",
              "      <td>0.032745</td>\n",
              "      <td>1935521.0</td>\n",
              "    </tr>\n",
              "    <tr>\n",
              "      <th>5</th>\n",
              "      <td>0</td>\n",
              "      <td>LGBMClassifier</td>\n",
              "      <td>Clean_Stopword</td>\n",
              "      <td>1.0</td>\n",
              "      <td>0.926134</td>\n",
              "      <td>0.949652</td>\n",
              "      <td>0.803856</td>\n",
              "      <td>0.923896</td>\n",
              "      <td>0.944805</td>\n",
              "      <td>0.796373</td>\n",
              "      <td>0.033673</td>\n",
              "      <td>1955231.0</td>\n",
              "    </tr>\n",
              "    <tr>\n",
              "      <th>6</th>\n",
              "      <td>0</td>\n",
              "      <td>LGBMClassifier</td>\n",
              "      <td>Clean_Stopword</td>\n",
              "      <td>2.0</td>\n",
              "      <td>0.926041</td>\n",
              "      <td>0.948981</td>\n",
              "      <td>0.803324</td>\n",
              "      <td>0.924952</td>\n",
              "      <td>0.945333</td>\n",
              "      <td>0.800792</td>\n",
              "      <td>0.033997</td>\n",
              "      <td>1939953.0</td>\n",
              "    </tr>\n",
              "    <tr>\n",
              "      <th>7</th>\n",
              "      <td>0</td>\n",
              "      <td>LGBMClassifier</td>\n",
              "      <td>Clean_Stopword</td>\n",
              "      <td>3.0</td>\n",
              "      <td>0.926395</td>\n",
              "      <td>0.949850</td>\n",
              "      <td>0.804153</td>\n",
              "      <td>0.923289</td>\n",
              "      <td>0.942375</td>\n",
              "      <td>0.796553</td>\n",
              "      <td>0.045657</td>\n",
              "      <td>1951304.0</td>\n",
              "    </tr>\n",
              "    <tr>\n",
              "      <th>8</th>\n",
              "      <td>0</td>\n",
              "      <td>LGBMClassifier</td>\n",
              "      <td>Clean_Stopword</td>\n",
              "      <td>4.0</td>\n",
              "      <td>0.926328</td>\n",
              "      <td>0.949284</td>\n",
              "      <td>0.804320</td>\n",
              "      <td>0.924066</td>\n",
              "      <td>0.944390</td>\n",
              "      <td>0.797848</td>\n",
              "      <td>0.032788</td>\n",
              "      <td>1941812.0</td>\n",
              "    </tr>\n",
              "    <tr>\n",
              "      <th>9</th>\n",
              "      <td>0</td>\n",
              "      <td>LGBMClassifier</td>\n",
              "      <td>Clean_Stopword</td>\n",
              "      <td>5.0</td>\n",
              "      <td>0.926418</td>\n",
              "      <td>0.949531</td>\n",
              "      <td>0.804688</td>\n",
              "      <td>0.923475</td>\n",
              "      <td>0.943356</td>\n",
              "      <td>0.797265</td>\n",
              "      <td>0.041351</td>\n",
              "      <td>1935521.0</td>\n",
              "    </tr>\n",
              "    <tr>\n",
              "      <th>10</th>\n",
              "      <td>0</td>\n",
              "      <td>LGBMClassifier</td>\n",
              "      <td>Clean_Stemming</td>\n",
              "      <td>1.0</td>\n",
              "      <td>0.928194</td>\n",
              "      <td>0.954283</td>\n",
              "      <td>0.811590</td>\n",
              "      <td>0.925700</td>\n",
              "      <td>0.949196</td>\n",
              "      <td>0.803390</td>\n",
              "      <td>0.032856</td>\n",
              "      <td>1955231.0</td>\n",
              "    </tr>\n",
              "    <tr>\n",
              "      <th>11</th>\n",
              "      <td>0</td>\n",
              "      <td>LGBMClassifier</td>\n",
              "      <td>Clean_Stemming</td>\n",
              "      <td>2.0</td>\n",
              "      <td>0.928062</td>\n",
              "      <td>0.953634</td>\n",
              "      <td>0.810911</td>\n",
              "      <td>0.926756</td>\n",
              "      <td>0.949775</td>\n",
              "      <td>0.807754</td>\n",
              "      <td>0.032417</td>\n",
              "      <td>1939953.0</td>\n",
              "    </tr>\n",
              "    <tr>\n",
              "      <th>12</th>\n",
              "      <td>0</td>\n",
              "      <td>LGBMClassifier</td>\n",
              "      <td>Clean_Stemming</td>\n",
              "      <td>3.0</td>\n",
              "      <td>0.928334</td>\n",
              "      <td>0.954435</td>\n",
              "      <td>0.811430</td>\n",
              "      <td>0.924330</td>\n",
              "      <td>0.947512</td>\n",
              "      <td>0.801501</td>\n",
              "      <td>0.032691</td>\n",
              "      <td>1951304.0</td>\n",
              "    </tr>\n",
              "    <tr>\n",
              "      <th>13</th>\n",
              "      <td>0</td>\n",
              "      <td>LGBMClassifier</td>\n",
              "      <td>Clean_Stemming</td>\n",
              "      <td>4.0</td>\n",
              "      <td>0.928287</td>\n",
              "      <td>0.954135</td>\n",
              "      <td>0.811596</td>\n",
              "      <td>0.926009</td>\n",
              "      <td>0.948822</td>\n",
              "      <td>0.805063</td>\n",
              "      <td>0.032378</td>\n",
              "      <td>1941812.0</td>\n",
              "    </tr>\n",
              "    <tr>\n",
              "      <th>14</th>\n",
              "      <td>0</td>\n",
              "      <td>LGBMClassifier</td>\n",
              "      <td>Clean_Stemming</td>\n",
              "      <td>5.0</td>\n",
              "      <td>0.928291</td>\n",
              "      <td>0.954290</td>\n",
              "      <td>0.811712</td>\n",
              "      <td>0.925434</td>\n",
              "      <td>0.948286</td>\n",
              "      <td>0.804612</td>\n",
              "      <td>0.034047</td>\n",
              "      <td>1935521.0</td>\n",
              "    </tr>\n",
              "    <tr>\n",
              "      <th>15</th>\n",
              "      <td>0</td>\n",
              "      <td>LGBMClassifier</td>\n",
              "      <td>Typo_Raw</td>\n",
              "      <td>1.0</td>\n",
              "      <td>0.922181</td>\n",
              "      <td>0.946585</td>\n",
              "      <td>0.791702</td>\n",
              "      <td>0.920103</td>\n",
              "      <td>0.941427</td>\n",
              "      <td>0.784682</td>\n",
              "      <td>0.032414</td>\n",
              "      <td>1955231.0</td>\n",
              "    </tr>\n",
              "    <tr>\n",
              "      <th>16</th>\n",
              "      <td>0</td>\n",
              "      <td>LGBMClassifier</td>\n",
              "      <td>Typo_Raw</td>\n",
              "      <td>2.0</td>\n",
              "      <td>0.922430</td>\n",
              "      <td>0.946037</td>\n",
              "      <td>0.792082</td>\n",
              "      <td>0.920148</td>\n",
              "      <td>0.942286</td>\n",
              "      <td>0.786143</td>\n",
              "      <td>0.032118</td>\n",
              "      <td>1939953.0</td>\n",
              "    </tr>\n",
              "    <tr>\n",
              "      <th>17</th>\n",
              "      <td>0</td>\n",
              "      <td>LGBMClassifier</td>\n",
              "      <td>Typo_Raw</td>\n",
              "      <td>3.0</td>\n",
              "      <td>0.922609</td>\n",
              "      <td>0.946711</td>\n",
              "      <td>0.792475</td>\n",
              "      <td>0.919728</td>\n",
              "      <td>0.939943</td>\n",
              "      <td>0.785510</td>\n",
              "      <td>0.032022</td>\n",
              "      <td>1951304.0</td>\n",
              "    </tr>\n",
              "    <tr>\n",
              "      <th>18</th>\n",
              "      <td>0</td>\n",
              "      <td>LGBMClassifier</td>\n",
              "      <td>Typo_Raw</td>\n",
              "      <td>4.0</td>\n",
              "      <td>0.922473</td>\n",
              "      <td>0.946553</td>\n",
              "      <td>0.792173</td>\n",
              "      <td>0.920055</td>\n",
              "      <td>0.940287</td>\n",
              "      <td>0.785410</td>\n",
              "      <td>0.032892</td>\n",
              "      <td>1941812.0</td>\n",
              "    </tr>\n",
              "    <tr>\n",
              "      <th>19</th>\n",
              "      <td>0</td>\n",
              "      <td>LGBMClassifier</td>\n",
              "      <td>Typo_Raw</td>\n",
              "      <td>5.0</td>\n",
              "      <td>0.922298</td>\n",
              "      <td>0.946870</td>\n",
              "      <td>0.791979</td>\n",
              "      <td>0.920101</td>\n",
              "      <td>0.940651</td>\n",
              "      <td>0.785866</td>\n",
              "      <td>0.033204</td>\n",
              "      <td>1935521.0</td>\n",
              "    </tr>\n",
              "    <tr>\n",
              "      <th>20</th>\n",
              "      <td>0</td>\n",
              "      <td>LGBMClassifier</td>\n",
              "      <td>Typo_Stopword</td>\n",
              "      <td>1.0</td>\n",
              "      <td>0.922185</td>\n",
              "      <td>0.946507</td>\n",
              "      <td>0.791523</td>\n",
              "      <td>0.920414</td>\n",
              "      <td>0.941623</td>\n",
              "      <td>0.785322</td>\n",
              "      <td>0.032793</td>\n",
              "      <td>1955231.0</td>\n",
              "    </tr>\n",
              "    <tr>\n",
              "      <th>21</th>\n",
              "      <td>0</td>\n",
              "      <td>LGBMClassifier</td>\n",
              "      <td>Typo_Stopword</td>\n",
              "      <td>2.0</td>\n",
              "      <td>0.922239</td>\n",
              "      <td>0.945742</td>\n",
              "      <td>0.791304</td>\n",
              "      <td>0.919977</td>\n",
              "      <td>0.942238</td>\n",
              "      <td>0.785390</td>\n",
              "      <td>0.032120</td>\n",
              "      <td>1939953.0</td>\n",
              "    </tr>\n",
              "    <tr>\n",
              "      <th>22</th>\n",
              "      <td>0</td>\n",
              "      <td>LGBMClassifier</td>\n",
              "      <td>Typo_Stopword</td>\n",
              "      <td>3.0</td>\n",
              "      <td>0.922679</td>\n",
              "      <td>0.946599</td>\n",
              "      <td>0.792995</td>\n",
              "      <td>0.919759</td>\n",
              "      <td>0.939211</td>\n",
              "      <td>0.785984</td>\n",
              "      <td>0.032804</td>\n",
              "      <td>1951304.0</td>\n",
              "    </tr>\n",
              "    <tr>\n",
              "      <th>23</th>\n",
              "      <td>0</td>\n",
              "      <td>LGBMClassifier</td>\n",
              "      <td>Typo_Stopword</td>\n",
              "      <td>4.0</td>\n",
              "      <td>0.922500</td>\n",
              "      <td>0.946402</td>\n",
              "      <td>0.792300</td>\n",
              "      <td>0.919728</td>\n",
              "      <td>0.940497</td>\n",
              "      <td>0.784561</td>\n",
              "      <td>0.032422</td>\n",
              "      <td>1941812.0</td>\n",
              "    </tr>\n",
              "    <tr>\n",
              "      <th>24</th>\n",
              "      <td>0</td>\n",
              "      <td>LGBMClassifier</td>\n",
              "      <td>Typo_Stopword</td>\n",
              "      <td>5.0</td>\n",
              "      <td>0.922512</td>\n",
              "      <td>0.946690</td>\n",
              "      <td>0.792377</td>\n",
              "      <td>0.919837</td>\n",
              "      <td>0.940899</td>\n",
              "      <td>0.785292</td>\n",
              "      <td>0.033042</td>\n",
              "      <td>1935521.0</td>\n",
              "    </tr>\n",
              "    <tr>\n",
              "      <th>25</th>\n",
              "      <td>0</td>\n",
              "      <td>LGBMClassifier</td>\n",
              "      <td>Typo_Stemming</td>\n",
              "      <td>1.0</td>\n",
              "      <td>0.923977</td>\n",
              "      <td>0.950413</td>\n",
              "      <td>0.798728</td>\n",
              "      <td>0.921424</td>\n",
              "      <td>0.944597</td>\n",
              "      <td>0.790690</td>\n",
              "      <td>0.033847</td>\n",
              "      <td>1955231.0</td>\n",
              "    </tr>\n",
              "    <tr>\n",
              "      <th>26</th>\n",
              "      <td>0</td>\n",
              "      <td>LGBMClassifier</td>\n",
              "      <td>Typo_Stemming</td>\n",
              "      <td>2.0</td>\n",
              "      <td>0.923573</td>\n",
              "      <td>0.949722</td>\n",
              "      <td>0.797190</td>\n",
              "      <td>0.921641</td>\n",
              "      <td>0.945756</td>\n",
              "      <td>0.792165</td>\n",
              "      <td>0.032601</td>\n",
              "      <td>1939953.0</td>\n",
              "    </tr>\n",
              "    <tr>\n",
              "      <th>27</th>\n",
              "      <td>0</td>\n",
              "      <td>LGBMClassifier</td>\n",
              "      <td>Typo_Stemming</td>\n",
              "      <td>3.0</td>\n",
              "      <td>0.924051</td>\n",
              "      <td>0.950430</td>\n",
              "      <td>0.798528</td>\n",
              "      <td>0.920770</td>\n",
              "      <td>0.943551</td>\n",
              "      <td>0.790323</td>\n",
              "      <td>0.033016</td>\n",
              "      <td>1951304.0</td>\n",
              "    </tr>\n",
              "    <tr>\n",
              "      <th>28</th>\n",
              "      <td>0</td>\n",
              "      <td>LGBMClassifier</td>\n",
              "      <td>Typo_Stemming</td>\n",
              "      <td>4.0</td>\n",
              "      <td>0.923926</td>\n",
              "      <td>0.950212</td>\n",
              "      <td>0.798293</td>\n",
              "      <td>0.921454</td>\n",
              "      <td>0.943629</td>\n",
              "      <td>0.791395</td>\n",
              "      <td>0.032421</td>\n",
              "      <td>1941812.0</td>\n",
              "    </tr>\n",
              "    <tr>\n",
              "      <th>29</th>\n",
              "      <td>0</td>\n",
              "      <td>LGBMClassifier</td>\n",
              "      <td>Typo_Stemming</td>\n",
              "      <td>5.0</td>\n",
              "      <td>0.923954</td>\n",
              "      <td>0.950652</td>\n",
              "      <td>0.798741</td>\n",
              "      <td>0.920941</td>\n",
              "      <td>0.945170</td>\n",
              "      <td>0.790921</td>\n",
              "      <td>0.032886</td>\n",
              "      <td>1935521.0</td>\n",
              "    </tr>\n",
              "  </tbody>\n",
              "</table>\n",
              "</div>"
            ],
            "text/plain": [
              "    Unnamed: 0           Model  ... Inference_Time  words_nums\n",
              "0            0  LGBMClassifier  ...       0.031773   1955231.0\n",
              "1            0  LGBMClassifier  ...       0.033280   1939953.0\n",
              "2            0  LGBMClassifier  ...       0.031659   1951304.0\n",
              "3            0  LGBMClassifier  ...       0.033559   1941812.0\n",
              "4            0  LGBMClassifier  ...       0.032745   1935521.0\n",
              "5            0  LGBMClassifier  ...       0.033673   1955231.0\n",
              "6            0  LGBMClassifier  ...       0.033997   1939953.0\n",
              "7            0  LGBMClassifier  ...       0.045657   1951304.0\n",
              "8            0  LGBMClassifier  ...       0.032788   1941812.0\n",
              "9            0  LGBMClassifier  ...       0.041351   1935521.0\n",
              "10           0  LGBMClassifier  ...       0.032856   1955231.0\n",
              "11           0  LGBMClassifier  ...       0.032417   1939953.0\n",
              "12           0  LGBMClassifier  ...       0.032691   1951304.0\n",
              "13           0  LGBMClassifier  ...       0.032378   1941812.0\n",
              "14           0  LGBMClassifier  ...       0.034047   1935521.0\n",
              "15           0  LGBMClassifier  ...       0.032414   1955231.0\n",
              "16           0  LGBMClassifier  ...       0.032118   1939953.0\n",
              "17           0  LGBMClassifier  ...       0.032022   1951304.0\n",
              "18           0  LGBMClassifier  ...       0.032892   1941812.0\n",
              "19           0  LGBMClassifier  ...       0.033204   1935521.0\n",
              "20           0  LGBMClassifier  ...       0.032793   1955231.0\n",
              "21           0  LGBMClassifier  ...       0.032120   1939953.0\n",
              "22           0  LGBMClassifier  ...       0.032804   1951304.0\n",
              "23           0  LGBMClassifier  ...       0.032422   1941812.0\n",
              "24           0  LGBMClassifier  ...       0.033042   1935521.0\n",
              "25           0  LGBMClassifier  ...       0.033847   1955231.0\n",
              "26           0  LGBMClassifier  ...       0.032601   1939953.0\n",
              "27           0  LGBMClassifier  ...       0.033016   1951304.0\n",
              "28           0  LGBMClassifier  ...       0.032421   1941812.0\n",
              "29           0  LGBMClassifier  ...       0.032886   1935521.0\n",
              "\n",
              "[30 rows x 12 columns]"
            ]
          },
          "metadata": {
            "tags": []
          },
          "execution_count": 5
        }
      ]
    },
    {
      "cell_type": "markdown",
      "metadata": {
        "id": "9osl6RL_dUsp"
      },
      "source": [
        "## LGBM"
      ]
    },
    {
      "cell_type": "code",
      "metadata": {
        "colab": {
          "base_uri": "https://localhost:8080/",
          "height": 1000
        },
        "id": "BAc44qz-dWBz",
        "outputId": "e228e34a-0591-45bb-8226-c7abf13a2944"
      },
      "source": [
        "from lightgbm import LGBMClassifier\n",
        "\n",
        "eval = pd.DataFrame([[np.nan for i in range(11)]])\n",
        "eval.columns = ['Model','Dataset','K_fold','Train_Score(ACC)','Train_Score(ROC_AUC)','Train_Score(F1)','Test_Score(ACC)','Test_Score(ROC_AUC)','Test_Score(F1)','Inference_Time','words_nums']\n",
        "eval = eval.iloc[1:]\n",
        "\n",
        "\n",
        "for data_name in dataset_name:\n",
        "  \n",
        "  LR = LGBMClassifier()\n",
        "  \n",
        "  # Performance Base DataFrame\n",
        "  LR_list_base = ['LGBMClassifier']\n",
        "  LR_list_base.append(data_name)\n",
        "\n",
        "  # Load Data\n",
        "  X = dataset[data_name]\n",
        "  y = df_cleaned['class']\n",
        "\n",
        "  # K_Fold Cross Validation\n",
        "  for train_index, test_index, k, word_nums in K_FOLD_LIST:\n",
        "    # Get Train, Test\n",
        "    X_train, X_test = X[train_index], X[test_index]\n",
        "    y_train, y_test = y.iloc[train_index], y.iloc[test_index]\n",
        "\n",
        "    # Fit and Inference\n",
        "    LR.fit(X_train,y_train)\n",
        "    print(f\"{data_name} - {k} Trained\")\n",
        "    fitted = LR.predict(X_train)\n",
        "    fitted_proba = LR.predict_proba(X_train)\n",
        "    start = time.time()\n",
        "    pred = LR.predict(X_test)\n",
        "    inference_time = time.time()-start\n",
        "    pred_proba = LR.predict_proba(X_test)\n",
        "    print(f\"{data_name} - {k} Inferenced : {inference_time}s\",end='\\t')\n",
        "    # Evaluate\n",
        "    train_acc = accuracy_score(y_train,fitted)\n",
        "    train_auc = roc_auc_score(y_train,fitted_proba[:,1])\n",
        "    train_f1 = f1_score(y_train,fitted)\n",
        "    test_acc = accuracy_score(y_test,pred)\n",
        "    test_auc = roc_auc_score(y_test,pred_proba[:,1])\n",
        "    test_f1 = f1_score(y_test,pred)\n",
        "    print(f\"train ACC : {train_acc} test ACC : {test_acc} test F1 : {test_f1}\")\n",
        "\n",
        "    LR_list = LR_list_base.copy()\n",
        "    LR_list.append(k)\n",
        "    LR_list.append(train_acc)\n",
        "    LR_list.append(train_auc)\n",
        "    LR_list.append(train_f1)\n",
        "    LR_list.append(test_acc)\n",
        "    LR_list.append(test_auc)\n",
        "    LR_list.append(test_f1)\n",
        "    LR_list.append(inference_time)\n",
        "    LR_list.append(word_nums)\n",
        "    eval = eval.append(pd.DataFrame([LR_list],columns=eval.columns))\n",
        "eval"
      ],
      "execution_count": null,
      "outputs": [
        {
          "output_type": "stream",
          "text": [
            "Clean_Raw - 1 Trained\n",
            "Clean_Raw - 1 Inferenced : 0.03177309036254883s\ttrain ACC : 0.9262193131112113 test ACC : 0.924160447761194 test F1 : 0.7971556886227545\n",
            "Clean_Raw - 2 Trained\n",
            "Clean_Raw - 2 Inferenced : 0.0332796573638916s\ttrain ACC : 0.926262355360176 test ACC : 0.9250299289479003 test F1 : 0.8011054281471705\n",
            "Clean_Raw - 3 Trained\n",
            "Clean_Raw - 3 Inferenced : 0.03165912628173828s\ttrain ACC : 0.9265616436758825 test ACC : 0.9233974408806107 test F1 : 0.796866625438054\n",
            "Clean_Raw - 4 Trained\n",
            "Clean_Raw - 4 Inferenced : 0.03355908393859863s\ttrain ACC : 0.9261690706903454 test ACC : 0.9237550335048741 test F1 : 0.7969189995030644\n",
            "Clean_Raw - 5 Trained\n",
            "Clean_Raw - 5 Inferenced : 0.0327448844909668s\ttrain ACC : 0.9267754210442442 test ACC : 0.9237861285156796 test F1 : 0.7978723404255319\n",
            "Clean_Stopword - 1 Trained\n",
            "Clean_Stopword - 1 Inferenced : 0.03367304801940918s\ttrain ACC : 0.9261338018314962 test ACC : 0.923896144278607 test F1 : 0.7963725612546279\n",
            "Clean_Stopword - 2 Trained\n",
            "Clean_Stopword - 2 Inferenced : 0.0339970588684082s\ttrain ACC : 0.9260408042693284 test ACC : 0.9249521914208865 test F1 : 0.8007923734059675\n",
            "Clean_Stopword - 3 Trained\n",
            "Clean_Stopword - 3 Inferenced : 0.04565715789794922s\ttrain ACC : 0.926394508642436 test ACC : 0.9232886083427914 test F1 : 0.7965528616196602\n",
            "Clean_Stopword - 4 Trained\n",
            "Clean_Stopword - 4 Inferenced : 0.03278756141662598s\ttrain ACC : 0.926328432001306 test ACC : 0.9240659836129294 test F1 : 0.7978476821192054\n",
            "Clean_Stopword - 5 Trained\n",
            "Clean_Stopword - 5 Inferenced : 0.0413508415222168s\ttrain ACC : 0.9264178298098936 test ACC : 0.9234751784076245 test F1 : 0.797265013592553\n",
            "Clean_Stemming - 1 Trained\n",
            "Clean_Stemming - 1 Inferenced : 0.03285574913024902s\ttrain ACC : 0.9281938462973616 test ACC : 0.9256996268656716 test F1 : 0.8033899699674991\n",
            "Clean_Stemming - 2 Trained\n",
            "Clean_Stemming - 2 Inferenced : 0.03241729736328125s\ttrain ACC : 0.9280619721156574 test ACC : 0.9267557020476065 test F1 : 0.8077535196898593\n",
            "Clean_Stemming - 3 Trained\n",
            "Clean_Stemming - 3 Inferenced : 0.03269076347351074s\ttrain ACC : 0.9283340524026633 test ACC : 0.9243302912047762 test F1 : 0.8015008768709979\n",
            "Clean_Stemming - 4 Trained\n",
            "Clean_Stemming - 4 Inferenced : 0.032378435134887695s\ttrain ACC : 0.928287410067748 test ACC : 0.9260094217882741 test F1 : 0.8050628763363782\n",
            "Clean_Stemming - 5 Trained\n",
            "Clean_Stemming - 5 Inferenced : 0.03404688835144043s\ttrain ACC : 0.9282912969289909 test ACC : 0.925434164088372 test F1 : 0.8046117493685326\n",
            "Typo_Raw - 1 Trained\n",
            "Typo_Raw - 1 Inferenced : 0.03241443634033203s\ttrain ACC : 0.9221808485828449 test ACC : 0.9201026119402985 test F1 : 0.7846817781874555\n",
            "Typo_Raw - 2 Trained\n",
            "Typo_Raw - 2 Inferenced : 0.03211808204650879s\ttrain ACC : 0.9224299101746367 test ACC : 0.9201480122514343 test F1 : 0.7861425716189208\n",
            "Typo_Raw - 3 Trained\n",
            "Typo_Raw - 3 Inferenced : 0.03202176094055176s\ttrain ACC : 0.922608705791812 test ACC : 0.9197282296055598 test F1 : 0.7855095342943792\n",
            "Typo_Raw - 4 Trained\n",
            "Typo_Raw - 4 Inferenced : 0.032892465591430664s\ttrain ACC : 0.922472665648309 test ACC : 0.9200547272190177 test F1 : 0.7854102328687089\n",
            "Typo_Raw - 5 Trained\n",
            "Typo_Raw - 5 Inferenced : 0.0332036018371582s\ttrain ACC : 0.9222977568923767 test ACC : 0.9201013697352259 test F1 : 0.7858660777532398\n",
            "Typo_Stopword - 1 Trained\n",
            "Typo_Stopword - 1 Inferenced : 0.03279280662536621s\ttrain ACC : 0.9221847354591955 test ACC : 0.9204135572139304 test F1 : 0.7853218704130844\n",
            "Typo_Stopword - 2 Trained\n",
            "Typo_Stopword - 2 Inferenced : 0.0321202278137207s\ttrain ACC : 0.9222394539737326 test ACC : 0.9199769896920039 test F1 : 0.7853896510027938\n",
            "Typo_Stopword - 3 Trained\n",
            "Typo_Stopword - 3 Inferenced : 0.03280448913574219s\ttrain ACC : 0.9226786692941849 test ACC : 0.9197593246163653 test F1 : 0.7859838274932615\n",
            "Typo_Stopword - 4 Trained\n",
            "Typo_Stopword - 4 Inferenced : 0.03242206573486328s\ttrain ACC : 0.9224998736770096 test ACC : 0.9197282296055598 test F1 : 0.7845608178593783\n",
            "Typo_Stopword - 5 Trained\n",
            "Typo_Stopword - 5 Inferenced : 0.033041954040527344s\ttrain ACC : 0.9225115342607384 test ACC : 0.9198370621433791 test F1 : 0.7852919130507203\n",
            "Typo_Stemming - 1 Trained\n",
            "Typo_Stemming - 1 Inferenced : 0.03384733200073242s\ttrain ACC : 0.9239765854568635 test ACC : 0.9214241293532338 test F1 : 0.790689969353102\n",
            "Typo_Stemming - 2 Trained\n",
            "Typo_Stemming - 2 Inferenced : 0.03260087966918945s\ttrain ACC : 0.9235726473800612 test ACC : 0.921640572770099 test F1 : 0.7921649484536083\n",
            "Typo_Stemming - 3 Trained\n",
            "Typo_Stemming - 3 Inferenced : 0.033016204833984375s\ttrain ACC : 0.9240507313129429 test ACC : 0.9207699124675446 test F1 : 0.7903225806451613\n",
            "Typo_Stemming - 4 Trained\n",
            "Typo_Stemming - 4 Inferenced : 0.03242063522338867s\ttrain ACC : 0.9239263517531687 test ACC : 0.9214540027052659 test F1 : 0.7913948302915188\n",
            "Typo_Stemming - 5 Trained\n",
            "Typo_Stemming - 5 Inferenced : 0.03288555145263672s\ttrain ACC : 0.9239535597818693 test ACC : 0.9209409350269749 test F1 : 0.7909214259282102\n"
          ],
          "name": "stdout"
        },
        {
          "output_type": "execute_result",
          "data": {
            "text/html": [
              "<div>\n",
              "<style scoped>\n",
              "    .dataframe tbody tr th:only-of-type {\n",
              "        vertical-align: middle;\n",
              "    }\n",
              "\n",
              "    .dataframe tbody tr th {\n",
              "        vertical-align: top;\n",
              "    }\n",
              "\n",
              "    .dataframe thead th {\n",
              "        text-align: right;\n",
              "    }\n",
              "</style>\n",
              "<table border=\"1\" class=\"dataframe\">\n",
              "  <thead>\n",
              "    <tr style=\"text-align: right;\">\n",
              "      <th></th>\n",
              "      <th>Model</th>\n",
              "      <th>Dataset</th>\n",
              "      <th>K_fold</th>\n",
              "      <th>Train_Score(ACC)</th>\n",
              "      <th>Train_Score(ROC_AUC)</th>\n",
              "      <th>Train_Score(F1)</th>\n",
              "      <th>Test_Score(ACC)</th>\n",
              "      <th>Test_Score(ROC_AUC)</th>\n",
              "      <th>Test_Score(F1)</th>\n",
              "      <th>Inference_Time</th>\n",
              "      <th>words_nums</th>\n",
              "    </tr>\n",
              "  </thead>\n",
              "  <tbody>\n",
              "    <tr>\n",
              "      <th>0</th>\n",
              "      <td>LGBMClassifier</td>\n",
              "      <td>Clean_Raw</td>\n",
              "      <td>1.0</td>\n",
              "      <td>0.926219</td>\n",
              "      <td>0.949357</td>\n",
              "      <td>0.804043</td>\n",
              "      <td>0.924160</td>\n",
              "      <td>0.944846</td>\n",
              "      <td>0.797156</td>\n",
              "      <td>0.031773</td>\n",
              "      <td>1955231.0</td>\n",
              "    </tr>\n",
              "    <tr>\n",
              "      <th>0</th>\n",
              "      <td>LGBMClassifier</td>\n",
              "      <td>Clean_Raw</td>\n",
              "      <td>2.0</td>\n",
              "      <td>0.926262</td>\n",
              "      <td>0.949226</td>\n",
              "      <td>0.803980</td>\n",
              "      <td>0.925030</td>\n",
              "      <td>0.945861</td>\n",
              "      <td>0.801105</td>\n",
              "      <td>0.033280</td>\n",
              "      <td>1939953.0</td>\n",
              "    </tr>\n",
              "    <tr>\n",
              "      <th>0</th>\n",
              "      <td>LGBMClassifier</td>\n",
              "      <td>Clean_Raw</td>\n",
              "      <td>3.0</td>\n",
              "      <td>0.926562</td>\n",
              "      <td>0.949781</td>\n",
              "      <td>0.804758</td>\n",
              "      <td>0.923397</td>\n",
              "      <td>0.942915</td>\n",
              "      <td>0.796867</td>\n",
              "      <td>0.031659</td>\n",
              "      <td>1951304.0</td>\n",
              "    </tr>\n",
              "    <tr>\n",
              "      <th>0</th>\n",
              "      <td>LGBMClassifier</td>\n",
              "      <td>Clean_Raw</td>\n",
              "      <td>4.0</td>\n",
              "      <td>0.926169</td>\n",
              "      <td>0.949133</td>\n",
              "      <td>0.803671</td>\n",
              "      <td>0.923755</td>\n",
              "      <td>0.943736</td>\n",
              "      <td>0.796919</td>\n",
              "      <td>0.033559</td>\n",
              "      <td>1941812.0</td>\n",
              "    </tr>\n",
              "    <tr>\n",
              "      <th>0</th>\n",
              "      <td>LGBMClassifier</td>\n",
              "      <td>Clean_Raw</td>\n",
              "      <td>5.0</td>\n",
              "      <td>0.926775</td>\n",
              "      <td>0.949640</td>\n",
              "      <td>0.805745</td>\n",
              "      <td>0.923786</td>\n",
              "      <td>0.943120</td>\n",
              "      <td>0.797872</td>\n",
              "      <td>0.032745</td>\n",
              "      <td>1935521.0</td>\n",
              "    </tr>\n",
              "    <tr>\n",
              "      <th>0</th>\n",
              "      <td>LGBMClassifier</td>\n",
              "      <td>Clean_Stopword</td>\n",
              "      <td>1.0</td>\n",
              "      <td>0.926134</td>\n",
              "      <td>0.949652</td>\n",
              "      <td>0.803856</td>\n",
              "      <td>0.923896</td>\n",
              "      <td>0.944805</td>\n",
              "      <td>0.796373</td>\n",
              "      <td>0.033673</td>\n",
              "      <td>1955231.0</td>\n",
              "    </tr>\n",
              "    <tr>\n",
              "      <th>0</th>\n",
              "      <td>LGBMClassifier</td>\n",
              "      <td>Clean_Stopword</td>\n",
              "      <td>2.0</td>\n",
              "      <td>0.926041</td>\n",
              "      <td>0.948981</td>\n",
              "      <td>0.803324</td>\n",
              "      <td>0.924952</td>\n",
              "      <td>0.945333</td>\n",
              "      <td>0.800792</td>\n",
              "      <td>0.033997</td>\n",
              "      <td>1939953.0</td>\n",
              "    </tr>\n",
              "    <tr>\n",
              "      <th>0</th>\n",
              "      <td>LGBMClassifier</td>\n",
              "      <td>Clean_Stopword</td>\n",
              "      <td>3.0</td>\n",
              "      <td>0.926395</td>\n",
              "      <td>0.949850</td>\n",
              "      <td>0.804153</td>\n",
              "      <td>0.923289</td>\n",
              "      <td>0.942375</td>\n",
              "      <td>0.796553</td>\n",
              "      <td>0.045657</td>\n",
              "      <td>1951304.0</td>\n",
              "    </tr>\n",
              "    <tr>\n",
              "      <th>0</th>\n",
              "      <td>LGBMClassifier</td>\n",
              "      <td>Clean_Stopword</td>\n",
              "      <td>4.0</td>\n",
              "      <td>0.926328</td>\n",
              "      <td>0.949284</td>\n",
              "      <td>0.804320</td>\n",
              "      <td>0.924066</td>\n",
              "      <td>0.944390</td>\n",
              "      <td>0.797848</td>\n",
              "      <td>0.032788</td>\n",
              "      <td>1941812.0</td>\n",
              "    </tr>\n",
              "    <tr>\n",
              "      <th>0</th>\n",
              "      <td>LGBMClassifier</td>\n",
              "      <td>Clean_Stopword</td>\n",
              "      <td>5.0</td>\n",
              "      <td>0.926418</td>\n",
              "      <td>0.949531</td>\n",
              "      <td>0.804688</td>\n",
              "      <td>0.923475</td>\n",
              "      <td>0.943356</td>\n",
              "      <td>0.797265</td>\n",
              "      <td>0.041351</td>\n",
              "      <td>1935521.0</td>\n",
              "    </tr>\n",
              "    <tr>\n",
              "      <th>0</th>\n",
              "      <td>LGBMClassifier</td>\n",
              "      <td>Clean_Stemming</td>\n",
              "      <td>1.0</td>\n",
              "      <td>0.928194</td>\n",
              "      <td>0.954283</td>\n",
              "      <td>0.811590</td>\n",
              "      <td>0.925700</td>\n",
              "      <td>0.949196</td>\n",
              "      <td>0.803390</td>\n",
              "      <td>0.032856</td>\n",
              "      <td>1955231.0</td>\n",
              "    </tr>\n",
              "    <tr>\n",
              "      <th>0</th>\n",
              "      <td>LGBMClassifier</td>\n",
              "      <td>Clean_Stemming</td>\n",
              "      <td>2.0</td>\n",
              "      <td>0.928062</td>\n",
              "      <td>0.953634</td>\n",
              "      <td>0.810911</td>\n",
              "      <td>0.926756</td>\n",
              "      <td>0.949775</td>\n",
              "      <td>0.807754</td>\n",
              "      <td>0.032417</td>\n",
              "      <td>1939953.0</td>\n",
              "    </tr>\n",
              "    <tr>\n",
              "      <th>0</th>\n",
              "      <td>LGBMClassifier</td>\n",
              "      <td>Clean_Stemming</td>\n",
              "      <td>3.0</td>\n",
              "      <td>0.928334</td>\n",
              "      <td>0.954435</td>\n",
              "      <td>0.811430</td>\n",
              "      <td>0.924330</td>\n",
              "      <td>0.947512</td>\n",
              "      <td>0.801501</td>\n",
              "      <td>0.032691</td>\n",
              "      <td>1951304.0</td>\n",
              "    </tr>\n",
              "    <tr>\n",
              "      <th>0</th>\n",
              "      <td>LGBMClassifier</td>\n",
              "      <td>Clean_Stemming</td>\n",
              "      <td>4.0</td>\n",
              "      <td>0.928287</td>\n",
              "      <td>0.954135</td>\n",
              "      <td>0.811596</td>\n",
              "      <td>0.926009</td>\n",
              "      <td>0.948822</td>\n",
              "      <td>0.805063</td>\n",
              "      <td>0.032378</td>\n",
              "      <td>1941812.0</td>\n",
              "    </tr>\n",
              "    <tr>\n",
              "      <th>0</th>\n",
              "      <td>LGBMClassifier</td>\n",
              "      <td>Clean_Stemming</td>\n",
              "      <td>5.0</td>\n",
              "      <td>0.928291</td>\n",
              "      <td>0.954290</td>\n",
              "      <td>0.811712</td>\n",
              "      <td>0.925434</td>\n",
              "      <td>0.948286</td>\n",
              "      <td>0.804612</td>\n",
              "      <td>0.034047</td>\n",
              "      <td>1935521.0</td>\n",
              "    </tr>\n",
              "    <tr>\n",
              "      <th>0</th>\n",
              "      <td>LGBMClassifier</td>\n",
              "      <td>Typo_Raw</td>\n",
              "      <td>1.0</td>\n",
              "      <td>0.922181</td>\n",
              "      <td>0.946585</td>\n",
              "      <td>0.791702</td>\n",
              "      <td>0.920103</td>\n",
              "      <td>0.941427</td>\n",
              "      <td>0.784682</td>\n",
              "      <td>0.032414</td>\n",
              "      <td>1955231.0</td>\n",
              "    </tr>\n",
              "    <tr>\n",
              "      <th>0</th>\n",
              "      <td>LGBMClassifier</td>\n",
              "      <td>Typo_Raw</td>\n",
              "      <td>2.0</td>\n",
              "      <td>0.922430</td>\n",
              "      <td>0.946037</td>\n",
              "      <td>0.792082</td>\n",
              "      <td>0.920148</td>\n",
              "      <td>0.942286</td>\n",
              "      <td>0.786143</td>\n",
              "      <td>0.032118</td>\n",
              "      <td>1939953.0</td>\n",
              "    </tr>\n",
              "    <tr>\n",
              "      <th>0</th>\n",
              "      <td>LGBMClassifier</td>\n",
              "      <td>Typo_Raw</td>\n",
              "      <td>3.0</td>\n",
              "      <td>0.922609</td>\n",
              "      <td>0.946711</td>\n",
              "      <td>0.792475</td>\n",
              "      <td>0.919728</td>\n",
              "      <td>0.939943</td>\n",
              "      <td>0.785510</td>\n",
              "      <td>0.032022</td>\n",
              "      <td>1951304.0</td>\n",
              "    </tr>\n",
              "    <tr>\n",
              "      <th>0</th>\n",
              "      <td>LGBMClassifier</td>\n",
              "      <td>Typo_Raw</td>\n",
              "      <td>4.0</td>\n",
              "      <td>0.922473</td>\n",
              "      <td>0.946553</td>\n",
              "      <td>0.792173</td>\n",
              "      <td>0.920055</td>\n",
              "      <td>0.940287</td>\n",
              "      <td>0.785410</td>\n",
              "      <td>0.032892</td>\n",
              "      <td>1941812.0</td>\n",
              "    </tr>\n",
              "    <tr>\n",
              "      <th>0</th>\n",
              "      <td>LGBMClassifier</td>\n",
              "      <td>Typo_Raw</td>\n",
              "      <td>5.0</td>\n",
              "      <td>0.922298</td>\n",
              "      <td>0.946870</td>\n",
              "      <td>0.791979</td>\n",
              "      <td>0.920101</td>\n",
              "      <td>0.940651</td>\n",
              "      <td>0.785866</td>\n",
              "      <td>0.033204</td>\n",
              "      <td>1935521.0</td>\n",
              "    </tr>\n",
              "    <tr>\n",
              "      <th>0</th>\n",
              "      <td>LGBMClassifier</td>\n",
              "      <td>Typo_Stopword</td>\n",
              "      <td>1.0</td>\n",
              "      <td>0.922185</td>\n",
              "      <td>0.946507</td>\n",
              "      <td>0.791523</td>\n",
              "      <td>0.920414</td>\n",
              "      <td>0.941623</td>\n",
              "      <td>0.785322</td>\n",
              "      <td>0.032793</td>\n",
              "      <td>1955231.0</td>\n",
              "    </tr>\n",
              "    <tr>\n",
              "      <th>0</th>\n",
              "      <td>LGBMClassifier</td>\n",
              "      <td>Typo_Stopword</td>\n",
              "      <td>2.0</td>\n",
              "      <td>0.922239</td>\n",
              "      <td>0.945742</td>\n",
              "      <td>0.791304</td>\n",
              "      <td>0.919977</td>\n",
              "      <td>0.942238</td>\n",
              "      <td>0.785390</td>\n",
              "      <td>0.032120</td>\n",
              "      <td>1939953.0</td>\n",
              "    </tr>\n",
              "    <tr>\n",
              "      <th>0</th>\n",
              "      <td>LGBMClassifier</td>\n",
              "      <td>Typo_Stopword</td>\n",
              "      <td>3.0</td>\n",
              "      <td>0.922679</td>\n",
              "      <td>0.946599</td>\n",
              "      <td>0.792995</td>\n",
              "      <td>0.919759</td>\n",
              "      <td>0.939211</td>\n",
              "      <td>0.785984</td>\n",
              "      <td>0.032804</td>\n",
              "      <td>1951304.0</td>\n",
              "    </tr>\n",
              "    <tr>\n",
              "      <th>0</th>\n",
              "      <td>LGBMClassifier</td>\n",
              "      <td>Typo_Stopword</td>\n",
              "      <td>4.0</td>\n",
              "      <td>0.922500</td>\n",
              "      <td>0.946402</td>\n",
              "      <td>0.792300</td>\n",
              "      <td>0.919728</td>\n",
              "      <td>0.940497</td>\n",
              "      <td>0.784561</td>\n",
              "      <td>0.032422</td>\n",
              "      <td>1941812.0</td>\n",
              "    </tr>\n",
              "    <tr>\n",
              "      <th>0</th>\n",
              "      <td>LGBMClassifier</td>\n",
              "      <td>Typo_Stopword</td>\n",
              "      <td>5.0</td>\n",
              "      <td>0.922512</td>\n",
              "      <td>0.946690</td>\n",
              "      <td>0.792377</td>\n",
              "      <td>0.919837</td>\n",
              "      <td>0.940899</td>\n",
              "      <td>0.785292</td>\n",
              "      <td>0.033042</td>\n",
              "      <td>1935521.0</td>\n",
              "    </tr>\n",
              "    <tr>\n",
              "      <th>0</th>\n",
              "      <td>LGBMClassifier</td>\n",
              "      <td>Typo_Stemming</td>\n",
              "      <td>1.0</td>\n",
              "      <td>0.923977</td>\n",
              "      <td>0.950413</td>\n",
              "      <td>0.798728</td>\n",
              "      <td>0.921424</td>\n",
              "      <td>0.944597</td>\n",
              "      <td>0.790690</td>\n",
              "      <td>0.033847</td>\n",
              "      <td>1955231.0</td>\n",
              "    </tr>\n",
              "    <tr>\n",
              "      <th>0</th>\n",
              "      <td>LGBMClassifier</td>\n",
              "      <td>Typo_Stemming</td>\n",
              "      <td>2.0</td>\n",
              "      <td>0.923573</td>\n",
              "      <td>0.949722</td>\n",
              "      <td>0.797190</td>\n",
              "      <td>0.921641</td>\n",
              "      <td>0.945756</td>\n",
              "      <td>0.792165</td>\n",
              "      <td>0.032601</td>\n",
              "      <td>1939953.0</td>\n",
              "    </tr>\n",
              "    <tr>\n",
              "      <th>0</th>\n",
              "      <td>LGBMClassifier</td>\n",
              "      <td>Typo_Stemming</td>\n",
              "      <td>3.0</td>\n",
              "      <td>0.924051</td>\n",
              "      <td>0.950430</td>\n",
              "      <td>0.798528</td>\n",
              "      <td>0.920770</td>\n",
              "      <td>0.943551</td>\n",
              "      <td>0.790323</td>\n",
              "      <td>0.033016</td>\n",
              "      <td>1951304.0</td>\n",
              "    </tr>\n",
              "    <tr>\n",
              "      <th>0</th>\n",
              "      <td>LGBMClassifier</td>\n",
              "      <td>Typo_Stemming</td>\n",
              "      <td>4.0</td>\n",
              "      <td>0.923926</td>\n",
              "      <td>0.950212</td>\n",
              "      <td>0.798293</td>\n",
              "      <td>0.921454</td>\n",
              "      <td>0.943629</td>\n",
              "      <td>0.791395</td>\n",
              "      <td>0.032421</td>\n",
              "      <td>1941812.0</td>\n",
              "    </tr>\n",
              "    <tr>\n",
              "      <th>0</th>\n",
              "      <td>LGBMClassifier</td>\n",
              "      <td>Typo_Stemming</td>\n",
              "      <td>5.0</td>\n",
              "      <td>0.923954</td>\n",
              "      <td>0.950652</td>\n",
              "      <td>0.798741</td>\n",
              "      <td>0.920941</td>\n",
              "      <td>0.945170</td>\n",
              "      <td>0.790921</td>\n",
              "      <td>0.032886</td>\n",
              "      <td>1935521.0</td>\n",
              "    </tr>\n",
              "  </tbody>\n",
              "</table>\n",
              "</div>"
            ],
            "text/plain": [
              "            Model         Dataset  ...  Inference_Time  words_nums\n",
              "0  LGBMClassifier       Clean_Raw  ...        0.031773   1955231.0\n",
              "0  LGBMClassifier       Clean_Raw  ...        0.033280   1939953.0\n",
              "0  LGBMClassifier       Clean_Raw  ...        0.031659   1951304.0\n",
              "0  LGBMClassifier       Clean_Raw  ...        0.033559   1941812.0\n",
              "0  LGBMClassifier       Clean_Raw  ...        0.032745   1935521.0\n",
              "0  LGBMClassifier  Clean_Stopword  ...        0.033673   1955231.0\n",
              "0  LGBMClassifier  Clean_Stopword  ...        0.033997   1939953.0\n",
              "0  LGBMClassifier  Clean_Stopword  ...        0.045657   1951304.0\n",
              "0  LGBMClassifier  Clean_Stopword  ...        0.032788   1941812.0\n",
              "0  LGBMClassifier  Clean_Stopword  ...        0.041351   1935521.0\n",
              "0  LGBMClassifier  Clean_Stemming  ...        0.032856   1955231.0\n",
              "0  LGBMClassifier  Clean_Stemming  ...        0.032417   1939953.0\n",
              "0  LGBMClassifier  Clean_Stemming  ...        0.032691   1951304.0\n",
              "0  LGBMClassifier  Clean_Stemming  ...        0.032378   1941812.0\n",
              "0  LGBMClassifier  Clean_Stemming  ...        0.034047   1935521.0\n",
              "0  LGBMClassifier        Typo_Raw  ...        0.032414   1955231.0\n",
              "0  LGBMClassifier        Typo_Raw  ...        0.032118   1939953.0\n",
              "0  LGBMClassifier        Typo_Raw  ...        0.032022   1951304.0\n",
              "0  LGBMClassifier        Typo_Raw  ...        0.032892   1941812.0\n",
              "0  LGBMClassifier        Typo_Raw  ...        0.033204   1935521.0\n",
              "0  LGBMClassifier   Typo_Stopword  ...        0.032793   1955231.0\n",
              "0  LGBMClassifier   Typo_Stopword  ...        0.032120   1939953.0\n",
              "0  LGBMClassifier   Typo_Stopword  ...        0.032804   1951304.0\n",
              "0  LGBMClassifier   Typo_Stopword  ...        0.032422   1941812.0\n",
              "0  LGBMClassifier   Typo_Stopword  ...        0.033042   1935521.0\n",
              "0  LGBMClassifier   Typo_Stemming  ...        0.033847   1955231.0\n",
              "0  LGBMClassifier   Typo_Stemming  ...        0.032601   1939953.0\n",
              "0  LGBMClassifier   Typo_Stemming  ...        0.033016   1951304.0\n",
              "0  LGBMClassifier   Typo_Stemming  ...        0.032421   1941812.0\n",
              "0  LGBMClassifier   Typo_Stemming  ...        0.032886   1935521.0\n",
              "\n",
              "[30 rows x 11 columns]"
            ]
          },
          "metadata": {
            "tags": []
          },
          "execution_count": 14
        }
      ]
    },
    {
      "cell_type": "code",
      "metadata": {
        "id": "l2NQLZmed4OA"
      },
      "source": [
        "eval.to_csv(\"/content/drive/MyDrive/HateSpeech/PERFORMANCE/lgbm_performance.csv\")"
      ],
      "execution_count": null,
      "outputs": []
    },
    {
      "cell_type": "markdown",
      "metadata": {
        "id": "Go5fP-H5oHhj"
      },
      "source": [
        "## LSTM"
      ]
    },
    {
      "cell_type": "code",
      "metadata": {
        "id": "ULQ5xFh-oIKy"
      },
      "source": [
        "import tensorflow as tf\n",
        "\n",
        "for data_name in dataset_name:\n",
        "\n",
        "  # Performance Base DataFrame\n",
        "  LR_list_base = ['BiLSTM']\n",
        "  LR_list_base.append(data_name)\n",
        "\n",
        "  # Load Data\n",
        "  X = dataset[data_name]\n",
        "  y = df_cleaned['class']\n",
        "\n",
        "  # K_Fold Cross Validation\n",
        "  for train_index, test_index, k, word_nums in K_FOLD_LIST:\n",
        "    # Get Train, Test\n",
        "    X_train, X_test = X[train_index], X[test_index]\n",
        "    y_train, y_test = y.iloc[train_index], y.iloc[test_index]\n",
        "\n",
        "    X_train = X_train.toarray().reshape(X_train.shape[0],1,X_train.shape[-1])\n",
        "    X_test = X_test.toarray().reshape(X_test.shape[0],1,X_test.shape[-1])\n",
        "\n",
        "    LR = tf.keras.Sequential([\n",
        "      tf.keras.layers.Bidirectional(tf.keras.layers.LSTM(64,  return_sequences=True)),\n",
        "      tf.keras.layers.Bidirectional(tf.keras.layers.LSTM(32)),\n",
        "      tf.keras.layers.Dense(64, activation='relu'),\n",
        "      tf.keras.layers.Dense(1)\n",
        "      ])\n",
        "\n",
        "    LR.compile(loss=tf.keras.losses.BinaryCrossentropy(from_logits=True),\n",
        "                optimizer=tf.keras.optimizers.Adam(1e-4),\n",
        "                metrics=['accuracy'])\n",
        "\n",
        "    # Fit and Inference\n",
        "    LR.fit(X_train,y_train,epochs=20,batchsize=2)\n",
        "    print(f\"{data_name} - {k} Trained\")\n",
        "    fitted = LR.predict(X_train)\n",
        "    fitted_proba = LR.predict_proba(X_train)\n",
        "    start = time.time()\n",
        "    pred = LR.predict(X_test)\n",
        "    inference_time = time.time()-start\n",
        "    pred_proba = LR.predict_proba(X_test)\n",
        "    print(f\"{data_name} - {k} Inferenced : {inference_time}s\",end='\\t')\n",
        "    # Evaluate\n",
        "    train_acc = accuracy_score(y_train,fitted)\n",
        "    train_auc = roc_auc_score(y_train,fitted_proba[:,1])\n",
        "    test_acc = accuracy_score(y_test,pred)\n",
        "    test_auc = roc_auc_score(y_test,pred_proba[:,1])\n",
        "    print(f\"train ACC : {train_acc} test ACC : {test_acc}\")\n",
        "\n",
        "    LR_list = LR_list_base.copy()\n",
        "    LR_list.append(k)\n",
        "    LR_list.append(train_acc)\n",
        "    LR_list.append(train_auc)\n",
        "    LR_list.append(test_acc)\n",
        "    LR_list.append(test_auc)\n",
        "    LR_list.append(inference_time)\n",
        "    LR_list.append(word_nums)\n",
        "\n",
        "    eval = eval.append(pd.DataFrame([LR_list],columns=eval.columns))\n",
        "eval"
      ],
      "execution_count": null,
      "outputs": []
    }
  ]
}