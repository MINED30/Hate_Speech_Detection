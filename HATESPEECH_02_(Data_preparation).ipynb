{
  "nbformat": 4,
  "nbformat_minor": 0,
  "metadata": {
    "colab": {
      "name": "HATESPEECH_02_(Data_preparation).ipynb",
      "provenance": [],
      "collapsed_sections": [
        "cIwxhkWJrOuB",
        "aPGrTpXYCZHE",
        "GNrbE410Cg6y",
        "_iLC63XA86mF"
      ],
      "toc_visible": true
    },
    "kernelspec": {
      "name": "python3",
      "display_name": "Python 3"
    },
    "language_info": {
      "name": "python"
    }
  },
  "cells": [
    {
      "cell_type": "markdown",
      "metadata": {
        "id": "cIwxhkWJrOuB"
      },
      "source": [
        "# Load Data"
      ]
    },
    {
      "cell_type": "markdown",
      "metadata": {
        "id": "F6JB9v3NE6sP"
      },
      "source": [
        "## Import"
      ]
    },
    {
      "cell_type": "code",
      "metadata": {
        "id": "taZNaGTEDkPw"
      },
      "source": [
        "import pandas as pd\n",
        "import re\n",
        "import spacy\n",
        "from spacy.tokenizer import Tokenizer\n",
        "from nltk.stem import PorterStemmer"
      ],
      "execution_count": null,
      "outputs": []
    },
    {
      "cell_type": "code",
      "metadata": {
        "id": "hjtjeSoPEdu-"
      },
      "source": [
        "!python -m spacy download en_core_web_sm"
      ],
      "execution_count": null,
      "outputs": []
    },
    {
      "cell_type": "code",
      "metadata": {
        "id": "4Fr0IqkCks1r"
      },
      "source": [
        "# CLEANED\n",
        "df_cleaned = pd.read_csv(\"/content/drive/MyDrive/HateSpeech/TODA/TODA_cleand.csv\").iloc[:,2:]\n",
        "# # CLEANED\n",
        "df_typo = pd.read_csv(\"/content/drive/MyDrive/HateSpeech/TODA/TODA_typo.csv\").iloc[:,1:]"
      ],
      "execution_count": null,
      "outputs": []
    },
    {
      "cell_type": "code",
      "metadata": {
        "id": "6rllY8mo6hxn"
      },
      "source": [
        "df_cleaned = df_cleaned[df_cleaned['cleaned'].apply(len)<1000].reset_index(drop=True)[['text','cleaned','class']]\n",
        "df_typo = df_typo[['text','cleaned','jspell','class']]"
      ],
      "execution_count": null,
      "outputs": []
    },
    {
      "cell_type": "code",
      "metadata": {
        "colab": {
          "base_uri": "https://localhost:8080/"
        },
        "id": "HXIkBm-l7rXR",
        "outputId": "0e725d5f-2b6d-42b5-ac57-a32546944bc7"
      },
      "source": [
        "df_cleaned.shape,df_typo.shape"
      ],
      "execution_count": null,
      "outputs": [
        {
          "output_type": "execute_result",
          "data": {
            "text/plain": [
              "((321716, 3), (321716, 4))"
            ]
          },
          "metadata": {
            "tags": []
          },
          "execution_count": 16
        }
      ]
    },
    {
      "cell_type": "code",
      "metadata": {
        "colab": {
          "base_uri": "https://localhost:8080/",
          "height": 355
        },
        "id": "RiuAHC5QQuGU",
        "outputId": "e4c6233c-f69a-4677-dfd8-81c1361ced42"
      },
      "source": [
        "pd.concat([df_cleaned.head(),df_typo.head()])"
      ],
      "execution_count": null,
      "outputs": [
        {
          "output_type": "execute_result",
          "data": {
            "text/html": [
              "<div>\n",
              "<style scoped>\n",
              "    .dataframe tbody tr th:only-of-type {\n",
              "        vertical-align: middle;\n",
              "    }\n",
              "\n",
              "    .dataframe tbody tr th {\n",
              "        vertical-align: top;\n",
              "    }\n",
              "\n",
              "    .dataframe thead th {\n",
              "        text-align: right;\n",
              "    }\n",
              "</style>\n",
              "<table border=\"1\" class=\"dataframe\">\n",
              "  <thead>\n",
              "    <tr style=\"text-align: right;\">\n",
              "      <th></th>\n",
              "      <th>text</th>\n",
              "      <th>cleaned</th>\n",
              "      <th>class</th>\n",
              "      <th>jspell</th>\n",
              "    </tr>\n",
              "  </thead>\n",
              "  <tbody>\n",
              "    <tr>\n",
              "      <th>0</th>\n",
              "      <td>This is what the left is really scared of.    ...</td>\n",
              "      <td>This is what the left is really scared of</td>\n",
              "      <td>0</td>\n",
              "      <td>NaN</td>\n",
              "    </tr>\n",
              "    <tr>\n",
              "      <th>1</th>\n",
              "      <td>That literally looks like a monkey. Why are we...</td>\n",
              "      <td>That literally looks like a monkey Why are we ...</td>\n",
              "      <td>0</td>\n",
              "      <td>NaN</td>\n",
              "    </tr>\n",
              "    <tr>\n",
              "      <th>2</th>\n",
              "      <td>It makes you an asshole.</td>\n",
              "      <td>It makes you an asshole</td>\n",
              "      <td>0</td>\n",
              "      <td>NaN</td>\n",
              "    </tr>\n",
              "    <tr>\n",
              "      <th>3</th>\n",
              "      <td>So they manage to provide a whole lot of data,...</td>\n",
              "      <td>So they manage to provide a whole lot of data ...</td>\n",
              "      <td>0</td>\n",
              "      <td>NaN</td>\n",
              "    </tr>\n",
              "    <tr>\n",
              "      <th>4</th>\n",
              "      <td>Hi there, i,m Keith, i hope you are doing well...</td>\n",
              "      <td>Hi there im Keith i hope you are doing well i ...</td>\n",
              "      <td>0</td>\n",
              "      <td>NaN</td>\n",
              "    </tr>\n",
              "    <tr>\n",
              "      <th>0</th>\n",
              "      <td>This is what the left is really scared of.    ...</td>\n",
              "      <td>This is what the left is really scared of</td>\n",
              "      <td>0</td>\n",
              "      <td>This is what the left is really scared of</td>\n",
              "    </tr>\n",
              "    <tr>\n",
              "      <th>1</th>\n",
              "      <td>That literally looks like a monkey. Why are we...</td>\n",
              "      <td>That literally looks like a monkey Why are we ...</td>\n",
              "      <td>0</td>\n",
              "      <td>That literally looks like a monkey Why are we ...</td>\n",
              "    </tr>\n",
              "    <tr>\n",
              "      <th>2</th>\n",
              "      <td>It makes you an asshole.</td>\n",
              "      <td>It makes you an asshole</td>\n",
              "      <td>0</td>\n",
              "      <td>It makes you an asshole</td>\n",
              "    </tr>\n",
              "    <tr>\n",
              "      <th>3</th>\n",
              "      <td>So they manage to provide a whole lot of data,...</td>\n",
              "      <td>So they manage to provide a whole lot of data ...</td>\n",
              "      <td>0</td>\n",
              "      <td>So they manage to provide a whole lot of data ...</td>\n",
              "    </tr>\n",
              "    <tr>\n",
              "      <th>4</th>\n",
              "      <td>Hi there, i,m Keith, i hope you are doing well...</td>\n",
              "      <td>Hi there im Keith i hope you are doing well i ...</td>\n",
              "      <td>0</td>\n",
              "      <td>Hi there is Keith i hope you are doing well i ...</td>\n",
              "    </tr>\n",
              "  </tbody>\n",
              "</table>\n",
              "</div>"
            ],
            "text/plain": [
              "                                                text  ...                                             jspell\n",
              "0  This is what the left is really scared of.    ...  ...                                                NaN\n",
              "1  That literally looks like a monkey. Why are we...  ...                                                NaN\n",
              "2                           It makes you an asshole.  ...                                                NaN\n",
              "3  So they manage to provide a whole lot of data,...  ...                                                NaN\n",
              "4  Hi there, i,m Keith, i hope you are doing well...  ...                                                NaN\n",
              "0  This is what the left is really scared of.    ...  ...      This is what the left is really scared of    \n",
              "1  That literally looks like a monkey. Why are we...  ...  That literally looks like a monkey Why are we ...\n",
              "2                           It makes you an asshole.  ...                            It makes you an asshole\n",
              "3  So they manage to provide a whole lot of data,...  ...  So they manage to provide a whole lot of data ...\n",
              "4  Hi there, i,m Keith, i hope you are doing well...  ...  Hi there is Keith i hope you are doing well i ...\n",
              "\n",
              "[10 rows x 4 columns]"
            ]
          },
          "metadata": {
            "tags": []
          },
          "execution_count": 17
        }
      ]
    },
    {
      "cell_type": "markdown",
      "metadata": {
        "id": "QivxXkCzRGdg"
      },
      "source": [
        "## Preprocess"
      ]
    },
    {
      "cell_type": "code",
      "metadata": {
        "id": "VxFZekWyQWVs"
      },
      "source": [
        "from sklearn.utils import shuffle\n",
        "df_cleaned = shuffle(df_cleaned,random_state=42).reset_index(drop=True)\n",
        "df_typo = shuffle(df_typo,random_state=42).reset_index(drop=True)"
      ],
      "execution_count": null,
      "outputs": []
    },
    {
      "cell_type": "code",
      "metadata": {
        "colab": {
          "base_uri": "https://localhost:8080/",
          "height": 355
        },
        "id": "1K-942FMQ3wY",
        "outputId": "c69c22b5-eef6-402d-8d16-d28531e59d0b"
      },
      "source": [
        "pd.concat([df_cleaned.head(),df_typo.head()])"
      ],
      "execution_count": null,
      "outputs": [
        {
          "output_type": "execute_result",
          "data": {
            "text/html": [
              "<div>\n",
              "<style scoped>\n",
              "    .dataframe tbody tr th:only-of-type {\n",
              "        vertical-align: middle;\n",
              "    }\n",
              "\n",
              "    .dataframe tbody tr th {\n",
              "        vertical-align: top;\n",
              "    }\n",
              "\n",
              "    .dataframe thead th {\n",
              "        text-align: right;\n",
              "    }\n",
              "</style>\n",
              "<table border=\"1\" class=\"dataframe\">\n",
              "  <thead>\n",
              "    <tr style=\"text-align: right;\">\n",
              "      <th></th>\n",
              "      <th>text</th>\n",
              "      <th>cleaned</th>\n",
              "      <th>class</th>\n",
              "      <th>jspell</th>\n",
              "    </tr>\n",
              "  </thead>\n",
              "  <tbody>\n",
              "    <tr>\n",
              "      <th>0</th>\n",
              "      <td>@BreitbartNews Idiots seem to come out of the ...</td>\n",
              "      <td>@BreitbartNews Idiots seem to come out of the ...</td>\n",
              "      <td>1</td>\n",
              "      <td>NaN</td>\n",
              "    </tr>\n",
              "    <tr>\n",
              "      <th>1</th>\n",
              "      <td>russia as a huge black hole where everything d...</td>\n",
              "      <td>russia as a huge black hole where everything d...</td>\n",
              "      <td>0</td>\n",
              "      <td>NaN</td>\n",
              "    </tr>\n",
              "    <tr>\n",
              "      <th>2</th>\n",
              "      <td>@user so much stuff happening in florida! firs...</td>\n",
              "      <td>@user so much stuff happening in florida! firs...</td>\n",
              "      <td>0</td>\n",
              "      <td>NaN</td>\n",
              "    </tr>\n",
              "    <tr>\n",
              "      <th>3</th>\n",
              "      <td>@user #pennydreadful a long, dark love poem ð...</td>\n",
              "      <td>@user #pennydreadful a long dark love poem  i...</td>\n",
              "      <td>0</td>\n",
              "      <td>NaN</td>\n",
              "    </tr>\n",
              "    <tr>\n",
              "      <th>4</th>\n",
              "      <td>@user @user @user this is how i wanted to spnd...</td>\n",
              "      <td>@user @user @user this is how i wanted to spnd...</td>\n",
              "      <td>0</td>\n",
              "      <td>NaN</td>\n",
              "    </tr>\n",
              "    <tr>\n",
              "      <th>0</th>\n",
              "      <td>@BreitbartNews Idiots seem to come out of the ...</td>\n",
              "      <td>@BreitbartNews Idiots seem to come out of the ...</td>\n",
              "      <td>1</td>\n",
              "      <td>@BreitbartNews Idiots seem to come out of the ...</td>\n",
              "    </tr>\n",
              "    <tr>\n",
              "      <th>1</th>\n",
              "      <td>russia as a huge black hole where everything d...</td>\n",
              "      <td>russia as a huge black hole where everything d...</td>\n",
              "      <td>0</td>\n",
              "      <td>russia as a huge black hole where everything d...</td>\n",
              "    </tr>\n",
              "    <tr>\n",
              "      <th>2</th>\n",
              "      <td>@user so much stuff happening in florida! firs...</td>\n",
              "      <td>@user so much stuff happening in florida! firs...</td>\n",
              "      <td>0</td>\n",
              "      <td>@user so much stuff happening in florida! firs...</td>\n",
              "    </tr>\n",
              "    <tr>\n",
              "      <th>3</th>\n",
              "      <td>@user #pennydreadful a long, dark love poem ð...</td>\n",
              "      <td>@user #pennydreadful a long dark love poem  i...</td>\n",
              "      <td>0</td>\n",
              "      <td>@user #pennydreadful a long dark love poem  i...</td>\n",
              "    </tr>\n",
              "    <tr>\n",
              "      <th>4</th>\n",
              "      <td>@user @user @user this is how i wanted to spnd...</td>\n",
              "      <td>@user @user @user this is how i wanted to spnd...</td>\n",
              "      <td>0</td>\n",
              "      <td>@user @user @user this is how i wanted to send...</td>\n",
              "    </tr>\n",
              "  </tbody>\n",
              "</table>\n",
              "</div>"
            ],
            "text/plain": [
              "                                                text  ...                                             jspell\n",
              "0  @BreitbartNews Idiots seem to come out of the ...  ...                                                NaN\n",
              "1  russia as a huge black hole where everything d...  ...                                                NaN\n",
              "2  @user so much stuff happening in florida! firs...  ...                                                NaN\n",
              "3   @user #pennydreadful a long, dark love poem ð...  ...                                                NaN\n",
              "4  @user @user @user this is how i wanted to spnd...  ...                                                NaN\n",
              "0  @BreitbartNews Idiots seem to come out of the ...  ...  @BreitbartNews Idiots seem to come out of the ...\n",
              "1  russia as a huge black hole where everything d...  ...  russia as a huge black hole where everything d...\n",
              "2  @user so much stuff happening in florida! firs...  ...  @user so much stuff happening in florida! firs...\n",
              "3   @user #pennydreadful a long, dark love poem ð...  ...   @user #pennydreadful a long dark love poem  i...\n",
              "4  @user @user @user this is how i wanted to spnd...  ...  @user @user @user this is how i wanted to send...\n",
              "\n",
              "[10 rows x 4 columns]"
            ]
          },
          "metadata": {
            "tags": []
          },
          "execution_count": 19
        }
      ]
    },
    {
      "cell_type": "code",
      "metadata": {
        "id": "q6YdRPgcQMHV"
      },
      "source": [
        "from sklearn.utils import shuffle\n",
        "\n",
        "def preprocess(text):\n",
        "  # URL 제거\n",
        "  text = re.sub('http\\S+', '', text)\n",
        "  # 멘션 제거\n",
        "  text = re.sub('@\\S+', '', text)\n",
        "  # 해쉬 및 특수문자 제거\n",
        "  delete_e = re.compile(\"[^a-zA-Z0-9\\!\\?\\$\\%\\' ]\")\n",
        "  text = delete_e.sub(\"\",text)\n",
        "  text = text.lower()\n",
        "  return text"
      ],
      "execution_count": null,
      "outputs": []
    },
    {
      "cell_type": "code",
      "metadata": {
        "id": "Nyy48Z1fRSnZ"
      },
      "source": [
        "df_cleaned['cleaned'] = df_cleaned['cleaned'].apply(preprocess)\n",
        "df_typo['cleaned'] = df_typo['cleaned'].apply(preprocess)\n",
        "df_typo['jspell'] = df_typo['jspell'].apply(preprocess)"
      ],
      "execution_count": null,
      "outputs": []
    },
    {
      "cell_type": "code",
      "metadata": {
        "colab": {
          "base_uri": "https://localhost:8080/",
          "height": 355
        },
        "id": "DIQ8aoUFRkET",
        "outputId": "6ffad6ec-88f2-441d-ce87-cb377708ef86"
      },
      "source": [
        "pd.concat([df_cleaned.head(),df_typo.head()])"
      ],
      "execution_count": null,
      "outputs": [
        {
          "output_type": "execute_result",
          "data": {
            "text/html": [
              "<div>\n",
              "<style scoped>\n",
              "    .dataframe tbody tr th:only-of-type {\n",
              "        vertical-align: middle;\n",
              "    }\n",
              "\n",
              "    .dataframe tbody tr th {\n",
              "        vertical-align: top;\n",
              "    }\n",
              "\n",
              "    .dataframe thead th {\n",
              "        text-align: right;\n",
              "    }\n",
              "</style>\n",
              "<table border=\"1\" class=\"dataframe\">\n",
              "  <thead>\n",
              "    <tr style=\"text-align: right;\">\n",
              "      <th></th>\n",
              "      <th>text</th>\n",
              "      <th>cleaned</th>\n",
              "      <th>class</th>\n",
              "      <th>jspell</th>\n",
              "    </tr>\n",
              "  </thead>\n",
              "  <tbody>\n",
              "    <tr>\n",
              "      <th>0</th>\n",
              "      <td>@BreitbartNews Idiots seem to come out of the ...</td>\n",
              "      <td>idiots seem to come out of the woodwork  it h...</td>\n",
              "      <td>1</td>\n",
              "      <td>NaN</td>\n",
              "    </tr>\n",
              "    <tr>\n",
              "      <th>1</th>\n",
              "      <td>russia as a huge black hole where everything d...</td>\n",
              "      <td>russia as a huge black hole where everything d...</td>\n",
              "      <td>0</td>\n",
              "      <td>NaN</td>\n",
              "    </tr>\n",
              "    <tr>\n",
              "      <th>2</th>\n",
              "      <td>@user so much stuff happening in florida! firs...</td>\n",
              "      <td>so much stuff happening in florida! first orl...</td>\n",
              "      <td>0</td>\n",
              "      <td>NaN</td>\n",
              "    </tr>\n",
              "    <tr>\n",
              "      <th>3</th>\n",
              "      <td>@user #pennydreadful a long, dark love poem ð...</td>\n",
              "      <td>pennydreadful a long dark love poem  i agree...</td>\n",
              "      <td>0</td>\n",
              "      <td>NaN</td>\n",
              "    </tr>\n",
              "    <tr>\n",
              "      <th>4</th>\n",
              "      <td>@user @user @user this is how i wanted to spnd...</td>\n",
              "      <td>this is how i wanted to spnd father's day w...</td>\n",
              "      <td>0</td>\n",
              "      <td>NaN</td>\n",
              "    </tr>\n",
              "    <tr>\n",
              "      <th>0</th>\n",
              "      <td>@BreitbartNews Idiots seem to come out of the ...</td>\n",
              "      <td>idiots seem to come out of the woodwork  it h...</td>\n",
              "      <td>1</td>\n",
              "      <td>idiots seem to come out of the woodwork  it h...</td>\n",
              "    </tr>\n",
              "    <tr>\n",
              "      <th>1</th>\n",
              "      <td>russia as a huge black hole where everything d...</td>\n",
              "      <td>russia as a huge black hole where everything d...</td>\n",
              "      <td>0</td>\n",
              "      <td>russia as a huge black hole where everything d...</td>\n",
              "    </tr>\n",
              "    <tr>\n",
              "      <th>2</th>\n",
              "      <td>@user so much stuff happening in florida! firs...</td>\n",
              "      <td>so much stuff happening in florida! first orl...</td>\n",
              "      <td>0</td>\n",
              "      <td>so much stuff happening in florida! first orl...</td>\n",
              "    </tr>\n",
              "    <tr>\n",
              "      <th>3</th>\n",
              "      <td>@user #pennydreadful a long, dark love poem ð...</td>\n",
              "      <td>pennydreadful a long dark love poem  i agree...</td>\n",
              "      <td>0</td>\n",
              "      <td>pennydreadful a long dark love poem  i agree...</td>\n",
              "    </tr>\n",
              "    <tr>\n",
              "      <th>4</th>\n",
              "      <td>@user @user @user this is how i wanted to spnd...</td>\n",
              "      <td>this is how i wanted to spnd father's day w...</td>\n",
              "      <td>0</td>\n",
              "      <td>this is how i wanted to send father's day w...</td>\n",
              "    </tr>\n",
              "  </tbody>\n",
              "</table>\n",
              "</div>"
            ],
            "text/plain": [
              "                                                text  ...                                             jspell\n",
              "0  @BreitbartNews Idiots seem to come out of the ...  ...                                                NaN\n",
              "1  russia as a huge black hole where everything d...  ...                                                NaN\n",
              "2  @user so much stuff happening in florida! firs...  ...                                                NaN\n",
              "3   @user #pennydreadful a long, dark love poem ð...  ...                                                NaN\n",
              "4  @user @user @user this is how i wanted to spnd...  ...                                                NaN\n",
              "0  @BreitbartNews Idiots seem to come out of the ...  ...   idiots seem to come out of the woodwork  it h...\n",
              "1  russia as a huge black hole where everything d...  ...  russia as a huge black hole where everything d...\n",
              "2  @user so much stuff happening in florida! firs...  ...   so much stuff happening in florida! first orl...\n",
              "3   @user #pennydreadful a long, dark love poem ð...  ...    pennydreadful a long dark love poem  i agree...\n",
              "4  @user @user @user this is how i wanted to spnd...  ...     this is how i wanted to send father's day w...\n",
              "\n",
              "[10 rows x 4 columns]"
            ]
          },
          "metadata": {
            "tags": []
          },
          "execution_count": 22
        }
      ]
    },
    {
      "cell_type": "markdown",
      "metadata": {
        "id": "iDyueTBSE6TP"
      },
      "source": [
        "## Tokenizing"
      ]
    },
    {
      "cell_type": "code",
      "metadata": {
        "id": "RxxSLd96E5z1"
      },
      "source": [
        "nlp = spacy.load('en_core_web_sm')\n",
        "tokenizer = Tokenizer(nlp.vocab)\n",
        "\n",
        "df_cleaned['Tokens'] = df_cleaned['cleaned'].apply(lambda x: [ token.text for token in tokenizer(x)])\n",
        "df_typo['Tokens'] = df_typo['jspell'].apply(lambda x: [ token.text for token in tokenizer(x)])"
      ],
      "execution_count": null,
      "outputs": []
    },
    {
      "cell_type": "code",
      "metadata": {
        "colab": {
          "base_uri": "https://localhost:8080/",
          "height": 527
        },
        "id": "Du4iO45xScqj",
        "outputId": "048c58b3-104b-46b9-84a0-f6b71c1f3e9c"
      },
      "source": [
        "pd.concat([df_cleaned.head(),df_typo.head()])"
      ],
      "execution_count": null,
      "outputs": [
        {
          "output_type": "execute_result",
          "data": {
            "text/html": [
              "<div>\n",
              "<style scoped>\n",
              "    .dataframe tbody tr th:only-of-type {\n",
              "        vertical-align: middle;\n",
              "    }\n",
              "\n",
              "    .dataframe tbody tr th {\n",
              "        vertical-align: top;\n",
              "    }\n",
              "\n",
              "    .dataframe thead th {\n",
              "        text-align: right;\n",
              "    }\n",
              "</style>\n",
              "<table border=\"1\" class=\"dataframe\">\n",
              "  <thead>\n",
              "    <tr style=\"text-align: right;\">\n",
              "      <th></th>\n",
              "      <th>text</th>\n",
              "      <th>cleaned</th>\n",
              "      <th>class</th>\n",
              "      <th>Tokens</th>\n",
              "      <th>jspell</th>\n",
              "    </tr>\n",
              "  </thead>\n",
              "  <tbody>\n",
              "    <tr>\n",
              "      <th>0</th>\n",
              "      <td>@BreitbartNews Idiots seem to come out of the ...</td>\n",
              "      <td>idiots seem to come out of the woodwork  it h...</td>\n",
              "      <td>1</td>\n",
              "      <td>[ , idiots, seem, to, come, out, of, the, wood...</td>\n",
              "      <td>NaN</td>\n",
              "    </tr>\n",
              "    <tr>\n",
              "      <th>1</th>\n",
              "      <td>russia as a huge black hole where everything d...</td>\n",
              "      <td>russia as a huge black hole where everything d...</td>\n",
              "      <td>0</td>\n",
              "      <td>[russia, as, a, huge, black, hole, where, ever...</td>\n",
              "      <td>NaN</td>\n",
              "    </tr>\n",
              "    <tr>\n",
              "      <th>2</th>\n",
              "      <td>@user so much stuff happening in florida! firs...</td>\n",
              "      <td>so much stuff happening in florida! first orl...</td>\n",
              "      <td>0</td>\n",
              "      <td>[ , so, much, stuff, happening, in, florida!, ...</td>\n",
              "      <td>NaN</td>\n",
              "    </tr>\n",
              "    <tr>\n",
              "      <th>3</th>\n",
              "      <td>@user #pennydreadful a long, dark love poem ð...</td>\n",
              "      <td>pennydreadful a long dark love poem  i agree...</td>\n",
              "      <td>0</td>\n",
              "      <td>[  , pennydreadful, a, long, dark, love, poem,...</td>\n",
              "      <td>NaN</td>\n",
              "    </tr>\n",
              "    <tr>\n",
              "      <th>4</th>\n",
              "      <td>@user @user @user this is how i wanted to spnd...</td>\n",
              "      <td>this is how i wanted to spnd father's day w...</td>\n",
              "      <td>0</td>\n",
              "      <td>[   , this, is, how, i, wanted, to, spnd, fath...</td>\n",
              "      <td>NaN</td>\n",
              "    </tr>\n",
              "    <tr>\n",
              "      <th>0</th>\n",
              "      <td>@BreitbartNews Idiots seem to come out of the ...</td>\n",
              "      <td>idiots seem to come out of the woodwork  it h...</td>\n",
              "      <td>1</td>\n",
              "      <td>[ , idiots, seem, to, come, out, of, the, wood...</td>\n",
              "      <td>idiots seem to come out of the woodwork  it h...</td>\n",
              "    </tr>\n",
              "    <tr>\n",
              "      <th>1</th>\n",
              "      <td>russia as a huge black hole where everything d...</td>\n",
              "      <td>russia as a huge black hole where everything d...</td>\n",
              "      <td>0</td>\n",
              "      <td>[russia, as, a, huge, black, hole, where, ever...</td>\n",
              "      <td>russia as a huge black hole where everything d...</td>\n",
              "    </tr>\n",
              "    <tr>\n",
              "      <th>2</th>\n",
              "      <td>@user so much stuff happening in florida! firs...</td>\n",
              "      <td>so much stuff happening in florida! first orl...</td>\n",
              "      <td>0</td>\n",
              "      <td>[ , so, much, stuff, happening, in, florida!, ...</td>\n",
              "      <td>so much stuff happening in florida! first orl...</td>\n",
              "    </tr>\n",
              "    <tr>\n",
              "      <th>3</th>\n",
              "      <td>@user #pennydreadful a long, dark love poem ð...</td>\n",
              "      <td>pennydreadful a long dark love poem  i agree...</td>\n",
              "      <td>0</td>\n",
              "      <td>[  , pennydreadful, a, long, dark, love, poem,...</td>\n",
              "      <td>pennydreadful a long dark love poem  i agree...</td>\n",
              "    </tr>\n",
              "    <tr>\n",
              "      <th>4</th>\n",
              "      <td>@user @user @user this is how i wanted to spnd...</td>\n",
              "      <td>this is how i wanted to spnd father's day w...</td>\n",
              "      <td>0</td>\n",
              "      <td>[   , this, is, how, i, wanted, to, send, fath...</td>\n",
              "      <td>this is how i wanted to send father's day w...</td>\n",
              "    </tr>\n",
              "  </tbody>\n",
              "</table>\n",
              "</div>"
            ],
            "text/plain": [
              "                                                text  ...                                             jspell\n",
              "0  @BreitbartNews Idiots seem to come out of the ...  ...                                                NaN\n",
              "1  russia as a huge black hole where everything d...  ...                                                NaN\n",
              "2  @user so much stuff happening in florida! firs...  ...                                                NaN\n",
              "3   @user #pennydreadful a long, dark love poem ð...  ...                                                NaN\n",
              "4  @user @user @user this is how i wanted to spnd...  ...                                                NaN\n",
              "0  @BreitbartNews Idiots seem to come out of the ...  ...   idiots seem to come out of the woodwork  it h...\n",
              "1  russia as a huge black hole where everything d...  ...  russia as a huge black hole where everything d...\n",
              "2  @user so much stuff happening in florida! firs...  ...   so much stuff happening in florida! first orl...\n",
              "3   @user #pennydreadful a long, dark love poem ð...  ...    pennydreadful a long dark love poem  i agree...\n",
              "4  @user @user @user this is how i wanted to spnd...  ...     this is how i wanted to send father's day w...\n",
              "\n",
              "[10 rows x 5 columns]"
            ]
          },
          "metadata": {
            "tags": []
          },
          "execution_count": 24
        }
      ]
    },
    {
      "cell_type": "markdown",
      "metadata": {
        "id": "aPGrTpXYCZHE"
      },
      "source": [
        "# STOPWORD"
      ]
    },
    {
      "cell_type": "code",
      "metadata": {
        "colab": {
          "base_uri": "https://localhost:8080/"
        },
        "id": "X_ZUhZuoR1xw",
        "outputId": "f3b4bf1c-5fea-4c1e-ffac-1174e5388c74"
      },
      "source": [
        "STOP_WORDS = nlp.Defaults.stop_words\n",
        "\n",
        "# CLEANED DATA\n",
        "i=0\n",
        "tokens = []\n",
        "for doc in nlp.pipe(df_cleaned['cleaned']):\n",
        "  doc_tokens = []\n",
        "  for token in doc:\n",
        "    if (token.text not in STOP_WORDS)&(token.is_punct==False)&(token.is_space==False):\n",
        "      doc_tokens.append(token.text)\n",
        "  i+=1\n",
        "  if i%100000==0:print(i)\n",
        "  tokens.append(doc_tokens)\n",
        "df_cleaned['Not Stopwords'] = tokens\n",
        "print('Cleaned Data Tokenized!!!')\n",
        "\n",
        "# TYPO DATA\n",
        "i=0\n",
        "tokens = []\n",
        "for doc in nlp.pipe(df_typo['jspell']):\n",
        "  doc_tokens = []\n",
        "  for token in doc:\n",
        "    if (token.text not in STOP_WORDS)&(token.is_punct==False)&(token.is_space==False):\n",
        "      doc_tokens.append(token.text)\n",
        "  i+=1\n",
        "  if i%100000==0:print(i)\n",
        "  tokens.append(doc_tokens)\n",
        "df_typo['Not Stopwords'] = tokens\n",
        "print('Typo Data Tokenized!!!')"
      ],
      "execution_count": null,
      "outputs": [
        {
          "output_type": "stream",
          "text": [
            "100000\n",
            "200000\n",
            "300000\n",
            "Cleaned Data Tokenized!!!\n",
            "100000\n",
            "200000\n",
            "300000\n",
            "Typo Data Tokenized!!!\n"
          ],
          "name": "stdout"
        }
      ]
    },
    {
      "cell_type": "code",
      "metadata": {
        "colab": {
          "base_uri": "https://localhost:8080/"
        },
        "id": "CJFU5DWtSiIV",
        "outputId": "971a5e6d-40d7-41c3-d306-214f29a36977"
      },
      "source": [
        "pd.concat([df_cleaned.head(),df_typo.head()])"
      ],
      "execution_count": null,
      "outputs": [
        {
          "output_type": "execute_result",
          "data": {
            "text/html": [
              "<div>\n",
              "<style scoped>\n",
              "    .dataframe tbody tr th:only-of-type {\n",
              "        vertical-align: middle;\n",
              "    }\n",
              "\n",
              "    .dataframe tbody tr th {\n",
              "        vertical-align: top;\n",
              "    }\n",
              "\n",
              "    .dataframe thead th {\n",
              "        text-align: right;\n",
              "    }\n",
              "</style>\n",
              "<table border=\"1\" class=\"dataframe\">\n",
              "  <thead>\n",
              "    <tr style=\"text-align: right;\">\n",
              "      <th></th>\n",
              "      <th>text</th>\n",
              "      <th>cleaned</th>\n",
              "      <th>class</th>\n",
              "      <th>Tokens</th>\n",
              "      <th>Not Stopwords</th>\n",
              "      <th>jspell</th>\n",
              "    </tr>\n",
              "  </thead>\n",
              "  <tbody>\n",
              "    <tr>\n",
              "      <th>0</th>\n",
              "      <td>@BreitbartNews Idiots seem to come out of the ...</td>\n",
              "      <td>idiots seem to come out of the woodwork  it h...</td>\n",
              "      <td>1</td>\n",
              "      <td>[ , idiots, seem, to, come, out, of, the, wood...</td>\n",
              "      <td>[idiots, come, woodwork, threatens, president,...</td>\n",
              "      <td>NaN</td>\n",
              "    </tr>\n",
              "    <tr>\n",
              "      <th>1</th>\n",
              "      <td>russia as a huge black hole where everything d...</td>\n",
              "      <td>russia as a huge black hole where everything d...</td>\n",
              "      <td>0</td>\n",
              "      <td>[russia, as, a, huge, black, hole, where, ever...</td>\n",
              "      <td>[russia, huge, black, hole, disappears, goes, ...</td>\n",
              "      <td>NaN</td>\n",
              "    </tr>\n",
              "    <tr>\n",
              "      <th>2</th>\n",
              "      <td>@user so much stuff happening in florida! firs...</td>\n",
              "      <td>so much stuff happening in florida! first orl...</td>\n",
              "      <td>0</td>\n",
              "      <td>[ , so, much, stuff, happening, in, florida!, ...</td>\n",
              "      <td>[stuff, happening, florida, orlando, shooting,...</td>\n",
              "      <td>NaN</td>\n",
              "    </tr>\n",
              "    <tr>\n",
              "      <th>3</th>\n",
              "      <td>@user #pennydreadful a long, dark love poem ð...</td>\n",
              "      <td>pennydreadful a long dark love poem  i agree...</td>\n",
              "      <td>0</td>\n",
              "      <td>[  , pennydreadful, a, long, dark, love, poem,...</td>\n",
              "      <td>[pennydreadful, long, dark, love, poem, agree]</td>\n",
              "      <td>NaN</td>\n",
              "    </tr>\n",
              "    <tr>\n",
              "      <th>4</th>\n",
              "      <td>@user @user @user this is how i wanted to spnd...</td>\n",
              "      <td>this is how i wanted to spnd father's day w...</td>\n",
              "      <td>0</td>\n",
              "      <td>[   , this, is, how, i, wanted, to, spnd, fath...</td>\n",
              "      <td>[wanted, spnd, father, day, wknd, wboy, grilln...</td>\n",
              "      <td>NaN</td>\n",
              "    </tr>\n",
              "    <tr>\n",
              "      <th>0</th>\n",
              "      <td>@BreitbartNews Idiots seem to come out of the ...</td>\n",
              "      <td>idiots seem to come out of the woodwork  it h...</td>\n",
              "      <td>1</td>\n",
              "      <td>[ , idiots, seem, to, come, out, of, the, wood...</td>\n",
              "      <td>[idiots, come, woodwork, threatens, president,...</td>\n",
              "      <td>idiots seem to come out of the woodwork  it h...</td>\n",
              "    </tr>\n",
              "    <tr>\n",
              "      <th>1</th>\n",
              "      <td>russia as a huge black hole where everything d...</td>\n",
              "      <td>russia as a huge black hole where everything d...</td>\n",
              "      <td>0</td>\n",
              "      <td>[russia, as, a, huge, black, hole, where, ever...</td>\n",
              "      <td>[russia, huge, black, hole, disappears, goes, ...</td>\n",
              "      <td>russia as a huge black hole where everything d...</td>\n",
              "    </tr>\n",
              "    <tr>\n",
              "      <th>2</th>\n",
              "      <td>@user so much stuff happening in florida! firs...</td>\n",
              "      <td>so much stuff happening in florida! first orl...</td>\n",
              "      <td>0</td>\n",
              "      <td>[ , so, much, stuff, happening, in, florida!, ...</td>\n",
              "      <td>[stuff, happening, florida, orlando, shooting,...</td>\n",
              "      <td>so much stuff happening in florida! first orl...</td>\n",
              "    </tr>\n",
              "    <tr>\n",
              "      <th>3</th>\n",
              "      <td>@user #pennydreadful a long, dark love poem ð...</td>\n",
              "      <td>pennydreadful a long dark love poem  i agree...</td>\n",
              "      <td>0</td>\n",
              "      <td>[  , pennydreadful, a, long, dark, love, poem,...</td>\n",
              "      <td>[pennydreadful, long, dark, love, poem, agree]</td>\n",
              "      <td>pennydreadful a long dark love poem  i agree...</td>\n",
              "    </tr>\n",
              "    <tr>\n",
              "      <th>4</th>\n",
              "      <td>@user @user @user this is how i wanted to spnd...</td>\n",
              "      <td>this is how i wanted to spnd father's day w...</td>\n",
              "      <td>0</td>\n",
              "      <td>[   , this, is, how, i, wanted, to, send, fath...</td>\n",
              "      <td>[wanted, send, father, day, wind, boy, grill, ...</td>\n",
              "      <td>this is how i wanted to send father's day w...</td>\n",
              "    </tr>\n",
              "  </tbody>\n",
              "</table>\n",
              "</div>"
            ],
            "text/plain": [
              "                                                text  ...                                             jspell\n",
              "0  @BreitbartNews Idiots seem to come out of the ...  ...                                                NaN\n",
              "1  russia as a huge black hole where everything d...  ...                                                NaN\n",
              "2  @user so much stuff happening in florida! firs...  ...                                                NaN\n",
              "3   @user #pennydreadful a long, dark love poem ð...  ...                                                NaN\n",
              "4  @user @user @user this is how i wanted to spnd...  ...                                                NaN\n",
              "0  @BreitbartNews Idiots seem to come out of the ...  ...   idiots seem to come out of the woodwork  it h...\n",
              "1  russia as a huge black hole where everything d...  ...  russia as a huge black hole where everything d...\n",
              "2  @user so much stuff happening in florida! firs...  ...   so much stuff happening in florida! first orl...\n",
              "3   @user #pennydreadful a long, dark love poem ð...  ...    pennydreadful a long dark love poem  i agree...\n",
              "4  @user @user @user this is how i wanted to spnd...  ...     this is how i wanted to send father's day w...\n",
              "\n",
              "[10 rows x 6 columns]"
            ]
          },
          "metadata": {
            "tags": []
          },
          "execution_count": 26
        }
      ]
    },
    {
      "cell_type": "markdown",
      "metadata": {
        "id": "GNrbE410Cg6y"
      },
      "source": [
        "# STEMMING"
      ]
    },
    {
      "cell_type": "code",
      "metadata": {
        "colab": {
          "base_uri": "https://localhost:8080/"
        },
        "id": "8ze1fKjwS5jb",
        "outputId": "16ff84f1-2cb9-498c-d20e-ca14639cf074"
      },
      "source": [
        "ps = PorterStemmer()\n",
        "\n",
        "# CLEANED DATA\n",
        "i=0\n",
        "tokens = []\n",
        "for doc in df_cleaned['Not Stopwords']:\n",
        "  doc_tokens = []\n",
        "  for token in doc:\n",
        "    try:\n",
        "      doc_tokens.append(ps.stem(token))\n",
        "    except:\n",
        "      print(token)\n",
        "      doc_tokens.append(token)\n",
        "  tokens.append(doc_tokens)\n",
        "  i+=1\n",
        "  if i%100000==0:print(i)\n",
        "df_cleaned['stems'] = tokens\n",
        "print('Cleaned Data Stemmed!!!')\n",
        "\n",
        "# TYPO DATA\n",
        "i=0\n",
        "tokens = []\n",
        "for doc in df_typo['Not Stopwords']:\n",
        "  doc_tokens = []\n",
        "  for token in doc:\n",
        "    try:\n",
        "      doc_tokens.append(ps.stem(token))\n",
        "    except:\n",
        "      print(token)\n",
        "      doc_tokens.append(token)\n",
        "  tokens.append(doc_tokens)\n",
        "  i+=1\n",
        "  if i%100000==0:print(i)\n",
        "df_typo['stems'] = tokens\n",
        "print('Typo Data Stemmed!!!')"
      ],
      "execution_count": null,
      "outputs": [
        {
          "output_type": "stream",
          "text": [
            "100000\n",
            "200000\n",
            "300000\n",
            "Cleaned Data Stemmed!!!\n",
            "100000\n",
            "200000\n",
            "300000\n",
            "Typo Data Stemmed!!!\n"
          ],
          "name": "stdout"
        }
      ]
    },
    {
      "cell_type": "code",
      "metadata": {
        "colab": {
          "base_uri": "https://localhost:8080/"
        },
        "id": "ZX4Hgow8TfMP",
        "outputId": "8deb7694-dd1a-452b-8516-6027b8e371e0"
      },
      "source": [
        "pd.concat([df_cleaned.head(),df_typo.head()])"
      ],
      "execution_count": null,
      "outputs": [
        {
          "output_type": "execute_result",
          "data": {
            "text/html": [
              "<div>\n",
              "<style scoped>\n",
              "    .dataframe tbody tr th:only-of-type {\n",
              "        vertical-align: middle;\n",
              "    }\n",
              "\n",
              "    .dataframe tbody tr th {\n",
              "        vertical-align: top;\n",
              "    }\n",
              "\n",
              "    .dataframe thead th {\n",
              "        text-align: right;\n",
              "    }\n",
              "</style>\n",
              "<table border=\"1\" class=\"dataframe\">\n",
              "  <thead>\n",
              "    <tr style=\"text-align: right;\">\n",
              "      <th></th>\n",
              "      <th>text</th>\n",
              "      <th>cleaned</th>\n",
              "      <th>class</th>\n",
              "      <th>Tokens</th>\n",
              "      <th>Not Stopwords</th>\n",
              "      <th>stems</th>\n",
              "      <th>jspell</th>\n",
              "    </tr>\n",
              "  </thead>\n",
              "  <tbody>\n",
              "    <tr>\n",
              "      <th>0</th>\n",
              "      <td>@BreitbartNews Idiots seem to come out of the ...</td>\n",
              "      <td>idiots seem to come out of the woodwork  it h...</td>\n",
              "      <td>1</td>\n",
              "      <td>[ , idiots, seem, to, come, out, of, the, wood...</td>\n",
              "      <td>[idiots, come, woodwork, threatens, president,...</td>\n",
              "      <td>[idiot, come, woodwork, threaten, presid, jail]</td>\n",
              "      <td>NaN</td>\n",
              "    </tr>\n",
              "    <tr>\n",
              "      <th>1</th>\n",
              "      <td>russia as a huge black hole where everything d...</td>\n",
              "      <td>russia as a huge black hole where everything d...</td>\n",
              "      <td>0</td>\n",
              "      <td>[russia, as, a, huge, black, hole, where, ever...</td>\n",
              "      <td>[russia, huge, black, hole, disappears, goes, ...</td>\n",
              "      <td>[russia, huge, black, hole, disappear, goe, wh...</td>\n",
              "      <td>NaN</td>\n",
              "    </tr>\n",
              "    <tr>\n",
              "      <th>2</th>\n",
              "      <td>@user so much stuff happening in florida! firs...</td>\n",
              "      <td>so much stuff happening in florida! first orl...</td>\n",
              "      <td>0</td>\n",
              "      <td>[ , so, much, stuff, happening, in, florida!, ...</td>\n",
              "      <td>[stuff, happening, florida, orlando, shooting,...</td>\n",
              "      <td>[stuff, happen, florida, orlando, shoot, disne...</td>\n",
              "      <td>NaN</td>\n",
              "    </tr>\n",
              "    <tr>\n",
              "      <th>3</th>\n",
              "      <td>@user #pennydreadful a long, dark love poem ð...</td>\n",
              "      <td>pennydreadful a long dark love poem  i agree...</td>\n",
              "      <td>0</td>\n",
              "      <td>[  , pennydreadful, a, long, dark, love, poem,...</td>\n",
              "      <td>[pennydreadful, long, dark, love, poem, agree]</td>\n",
              "      <td>[pennydread, long, dark, love, poem, agre]</td>\n",
              "      <td>NaN</td>\n",
              "    </tr>\n",
              "    <tr>\n",
              "      <th>4</th>\n",
              "      <td>@user @user @user this is how i wanted to spnd...</td>\n",
              "      <td>this is how i wanted to spnd father's day w...</td>\n",
              "      <td>0</td>\n",
              "      <td>[   , this, is, how, i, wanted, to, spnd, fath...</td>\n",
              "      <td>[wanted, spnd, father, day, wknd, wboy, grilln...</td>\n",
              "      <td>[want, spnd, father, day, wknd, wboy, grilln, ...</td>\n",
              "      <td>NaN</td>\n",
              "    </tr>\n",
              "    <tr>\n",
              "      <th>0</th>\n",
              "      <td>@BreitbartNews Idiots seem to come out of the ...</td>\n",
              "      <td>idiots seem to come out of the woodwork  it h...</td>\n",
              "      <td>1</td>\n",
              "      <td>[ , idiots, seem, to, come, out, of, the, wood...</td>\n",
              "      <td>[idiots, come, woodwork, threatens, president,...</td>\n",
              "      <td>[idiot, come, woodwork, threaten, presid, jail]</td>\n",
              "      <td>idiots seem to come out of the woodwork  it h...</td>\n",
              "    </tr>\n",
              "    <tr>\n",
              "      <th>1</th>\n",
              "      <td>russia as a huge black hole where everything d...</td>\n",
              "      <td>russia as a huge black hole where everything d...</td>\n",
              "      <td>0</td>\n",
              "      <td>[russia, as, a, huge, black, hole, where, ever...</td>\n",
              "      <td>[russia, huge, black, hole, disappears, goes, ...</td>\n",
              "      <td>[russia, huge, black, hole, disappear, goe, wh...</td>\n",
              "      <td>russia as a huge black hole where everything d...</td>\n",
              "    </tr>\n",
              "    <tr>\n",
              "      <th>2</th>\n",
              "      <td>@user so much stuff happening in florida! firs...</td>\n",
              "      <td>so much stuff happening in florida! first orl...</td>\n",
              "      <td>0</td>\n",
              "      <td>[ , so, much, stuff, happening, in, florida!, ...</td>\n",
              "      <td>[stuff, happening, florida, orlando, shooting,...</td>\n",
              "      <td>[stuff, happen, florida, orlando, shoot, disne...</td>\n",
              "      <td>so much stuff happening in florida! first orl...</td>\n",
              "    </tr>\n",
              "    <tr>\n",
              "      <th>3</th>\n",
              "      <td>@user #pennydreadful a long, dark love poem ð...</td>\n",
              "      <td>pennydreadful a long dark love poem  i agree...</td>\n",
              "      <td>0</td>\n",
              "      <td>[  , pennydreadful, a, long, dark, love, poem,...</td>\n",
              "      <td>[pennydreadful, long, dark, love, poem, agree]</td>\n",
              "      <td>[pennydread, long, dark, love, poem, agre]</td>\n",
              "      <td>pennydreadful a long dark love poem  i agree...</td>\n",
              "    </tr>\n",
              "    <tr>\n",
              "      <th>4</th>\n",
              "      <td>@user @user @user this is how i wanted to spnd...</td>\n",
              "      <td>this is how i wanted to spnd father's day w...</td>\n",
              "      <td>0</td>\n",
              "      <td>[   , this, is, how, i, wanted, to, send, fath...</td>\n",
              "      <td>[wanted, send, father, day, wind, boy, grill, ...</td>\n",
              "      <td>[want, send, father, day, wind, boy, grill, n,...</td>\n",
              "      <td>this is how i wanted to send father's day w...</td>\n",
              "    </tr>\n",
              "  </tbody>\n",
              "</table>\n",
              "</div>"
            ],
            "text/plain": [
              "                                                text  ...                                             jspell\n",
              "0  @BreitbartNews Idiots seem to come out of the ...  ...                                                NaN\n",
              "1  russia as a huge black hole where everything d...  ...                                                NaN\n",
              "2  @user so much stuff happening in florida! firs...  ...                                                NaN\n",
              "3   @user #pennydreadful a long, dark love poem ð...  ...                                                NaN\n",
              "4  @user @user @user this is how i wanted to spnd...  ...                                                NaN\n",
              "0  @BreitbartNews Idiots seem to come out of the ...  ...   idiots seem to come out of the woodwork  it h...\n",
              "1  russia as a huge black hole where everything d...  ...  russia as a huge black hole where everything d...\n",
              "2  @user so much stuff happening in florida! firs...  ...   so much stuff happening in florida! first orl...\n",
              "3   @user #pennydreadful a long, dark love poem ð...  ...    pennydreadful a long dark love poem  i agree...\n",
              "4  @user @user @user this is how i wanted to spnd...  ...     this is how i wanted to send father's day w...\n",
              "\n",
              "[10 rows x 7 columns]"
            ]
          },
          "metadata": {
            "tags": []
          },
          "execution_count": 28
        }
      ]
    },
    {
      "cell_type": "markdown",
      "metadata": {
        "id": "_iLC63XA86mF"
      },
      "source": [
        "# SAVE DATA"
      ]
    },
    {
      "cell_type": "code",
      "metadata": {
        "id": "vPuJlV7OTvSi"
      },
      "source": [
        "# CLEANED DATA\n",
        "df_cleaned_s = df_cleaned[['text','cleaned','Tokens','Not Stopwords','stems','class']]\n",
        "df_cleaned_s.columns = ['text_raw','text_cleaned','tokens_raw','tokens_stop','tokens_stems','class']\n",
        "# TYPO DATA\n",
        "df_typo_s = df_typo[['text','cleaned','jspell','Tokens','Not Stopwords','stems','class']]\n",
        "df_typo_s.columns = ['text_raw','text_cleaned','typo_corrected','tokens_raw','tokens_stop','tokens_stems','class']"
      ],
      "execution_count": null,
      "outputs": []
    },
    {
      "cell_type": "code",
      "metadata": {
        "colab": {
          "base_uri": "https://localhost:8080/"
        },
        "id": "RLcfv-Khdde6",
        "outputId": "34ebbdd1-dd87-476d-83e8-8db5cc9d9964"
      },
      "source": [
        "pd.concat([df_typo_s.head(),df_cleaned_s.head()])"
      ],
      "execution_count": null,
      "outputs": [
        {
          "output_type": "execute_result",
          "data": {
            "text/html": [
              "<div>\n",
              "<style scoped>\n",
              "    .dataframe tbody tr th:only-of-type {\n",
              "        vertical-align: middle;\n",
              "    }\n",
              "\n",
              "    .dataframe tbody tr th {\n",
              "        vertical-align: top;\n",
              "    }\n",
              "\n",
              "    .dataframe thead th {\n",
              "        text-align: right;\n",
              "    }\n",
              "</style>\n",
              "<table border=\"1\" class=\"dataframe\">\n",
              "  <thead>\n",
              "    <tr style=\"text-align: right;\">\n",
              "      <th></th>\n",
              "      <th>text_raw</th>\n",
              "      <th>text_cleaned</th>\n",
              "      <th>typo_corrected</th>\n",
              "      <th>tokens_raw</th>\n",
              "      <th>tokens_stop</th>\n",
              "      <th>tokens_stems</th>\n",
              "      <th>class</th>\n",
              "    </tr>\n",
              "  </thead>\n",
              "  <tbody>\n",
              "    <tr>\n",
              "      <th>0</th>\n",
              "      <td>@BreitbartNews Idiots seem to come out of the ...</td>\n",
              "      <td>idiots seem to come out of the woodwork  it h...</td>\n",
              "      <td>idiots seem to come out of the woodwork  it h...</td>\n",
              "      <td>[ , idiots, seem, to, come, out, of, the, wood...</td>\n",
              "      <td>[idiots, come, woodwork, threatens, president,...</td>\n",
              "      <td>[idiot, come, woodwork, threaten, presid, jail]</td>\n",
              "      <td>1</td>\n",
              "    </tr>\n",
              "    <tr>\n",
              "      <th>1</th>\n",
              "      <td>russia as a huge black hole where everything d...</td>\n",
              "      <td>russia as a huge black hole where everything d...</td>\n",
              "      <td>russia as a huge black hole where everything d...</td>\n",
              "      <td>[russia, as, a, huge, black, hole, where, ever...</td>\n",
              "      <td>[russia, huge, black, hole, disappears, goes, ...</td>\n",
              "      <td>[russia, huge, black, hole, disappear, goe, wh...</td>\n",
              "      <td>0</td>\n",
              "    </tr>\n",
              "    <tr>\n",
              "      <th>2</th>\n",
              "      <td>@user so much stuff happening in florida! firs...</td>\n",
              "      <td>so much stuff happening in florida! first orl...</td>\n",
              "      <td>so much stuff happening in florida! first orl...</td>\n",
              "      <td>[ , so, much, stuff, happening, in, florida!, ...</td>\n",
              "      <td>[stuff, happening, florida, orlando, shooting,...</td>\n",
              "      <td>[stuff, happen, florida, orlando, shoot, disne...</td>\n",
              "      <td>0</td>\n",
              "    </tr>\n",
              "    <tr>\n",
              "      <th>3</th>\n",
              "      <td>@user #pennydreadful a long, dark love poem ð...</td>\n",
              "      <td>pennydreadful a long dark love poem  i agree...</td>\n",
              "      <td>pennydreadful a long dark love poem  i agree...</td>\n",
              "      <td>[  , pennydreadful, a, long, dark, love, poem,...</td>\n",
              "      <td>[pennydreadful, long, dark, love, poem, agree]</td>\n",
              "      <td>[pennydread, long, dark, love, poem, agre]</td>\n",
              "      <td>0</td>\n",
              "    </tr>\n",
              "    <tr>\n",
              "      <th>4</th>\n",
              "      <td>@user @user @user this is how i wanted to spnd...</td>\n",
              "      <td>this is how i wanted to spnd father's day w...</td>\n",
              "      <td>this is how i wanted to send father's day w...</td>\n",
              "      <td>[   , this, is, how, i, wanted, to, send, fath...</td>\n",
              "      <td>[wanted, send, father, day, wind, boy, grill, ...</td>\n",
              "      <td>[want, send, father, day, wind, boy, grill, n,...</td>\n",
              "      <td>0</td>\n",
              "    </tr>\n",
              "    <tr>\n",
              "      <th>0</th>\n",
              "      <td>@BreitbartNews Idiots seem to come out of the ...</td>\n",
              "      <td>idiots seem to come out of the woodwork  it h...</td>\n",
              "      <td>NaN</td>\n",
              "      <td>[ , idiots, seem, to, come, out, of, the, wood...</td>\n",
              "      <td>[idiots, come, woodwork, threatens, president,...</td>\n",
              "      <td>[idiot, come, woodwork, threaten, presid, jail]</td>\n",
              "      <td>1</td>\n",
              "    </tr>\n",
              "    <tr>\n",
              "      <th>1</th>\n",
              "      <td>russia as a huge black hole where everything d...</td>\n",
              "      <td>russia as a huge black hole where everything d...</td>\n",
              "      <td>NaN</td>\n",
              "      <td>[russia, as, a, huge, black, hole, where, ever...</td>\n",
              "      <td>[russia, huge, black, hole, disappears, goes, ...</td>\n",
              "      <td>[russia, huge, black, hole, disappear, goe, wh...</td>\n",
              "      <td>0</td>\n",
              "    </tr>\n",
              "    <tr>\n",
              "      <th>2</th>\n",
              "      <td>@user so much stuff happening in florida! firs...</td>\n",
              "      <td>so much stuff happening in florida! first orl...</td>\n",
              "      <td>NaN</td>\n",
              "      <td>[ , so, much, stuff, happening, in, florida!, ...</td>\n",
              "      <td>[stuff, happening, florida, orlando, shooting,...</td>\n",
              "      <td>[stuff, happen, florida, orlando, shoot, disne...</td>\n",
              "      <td>0</td>\n",
              "    </tr>\n",
              "    <tr>\n",
              "      <th>3</th>\n",
              "      <td>@user #pennydreadful a long, dark love poem ð...</td>\n",
              "      <td>pennydreadful a long dark love poem  i agree...</td>\n",
              "      <td>NaN</td>\n",
              "      <td>[  , pennydreadful, a, long, dark, love, poem,...</td>\n",
              "      <td>[pennydreadful, long, dark, love, poem, agree]</td>\n",
              "      <td>[pennydread, long, dark, love, poem, agre]</td>\n",
              "      <td>0</td>\n",
              "    </tr>\n",
              "    <tr>\n",
              "      <th>4</th>\n",
              "      <td>@user @user @user this is how i wanted to spnd...</td>\n",
              "      <td>this is how i wanted to spnd father's day w...</td>\n",
              "      <td>NaN</td>\n",
              "      <td>[   , this, is, how, i, wanted, to, spnd, fath...</td>\n",
              "      <td>[wanted, spnd, father, day, wknd, wboy, grilln...</td>\n",
              "      <td>[want, spnd, father, day, wknd, wboy, grilln, ...</td>\n",
              "      <td>0</td>\n",
              "    </tr>\n",
              "  </tbody>\n",
              "</table>\n",
              "</div>"
            ],
            "text/plain": [
              "                                            text_raw  ... class\n",
              "0  @BreitbartNews Idiots seem to come out of the ...  ...     1\n",
              "1  russia as a huge black hole where everything d...  ...     0\n",
              "2  @user so much stuff happening in florida! firs...  ...     0\n",
              "3   @user #pennydreadful a long, dark love poem ð...  ...     0\n",
              "4  @user @user @user this is how i wanted to spnd...  ...     0\n",
              "0  @BreitbartNews Idiots seem to come out of the ...  ...     1\n",
              "1  russia as a huge black hole where everything d...  ...     0\n",
              "2  @user so much stuff happening in florida! firs...  ...     0\n",
              "3   @user #pennydreadful a long, dark love poem ð...  ...     0\n",
              "4  @user @user @user this is how i wanted to spnd...  ...     0\n",
              "\n",
              "[10 rows x 7 columns]"
            ]
          },
          "metadata": {
            "tags": []
          },
          "execution_count": 30
        }
      ]
    },
    {
      "cell_type": "code",
      "metadata": {
        "id": "Fon0iAGJL1oL"
      },
      "source": [
        "df_cleaned_s.to_csv(\"/content/drive/MyDrive/HateSpeech/TODA(CLEANED)/BERT/TODA_CLEANED_01.csv\")\n",
        "df_typo_s.to_csv(\"/content/drive/MyDrive/HateSpeech/TODA(CLEANED)/BERT/TODA_TYPO_01.csv\")"
      ],
      "execution_count": null,
      "outputs": []
    }
  ]
}